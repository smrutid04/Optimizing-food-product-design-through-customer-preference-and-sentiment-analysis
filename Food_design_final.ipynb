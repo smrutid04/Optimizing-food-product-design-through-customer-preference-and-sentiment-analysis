{
  "cells": [
    {
      "cell_type": "markdown",
      "metadata": {
        "id": "B5vF-KtbAD40"
      },
      "source": [
        "## Read the file"
      ]
    },
    {
      "cell_type": "code",
      "execution_count": null,
      "metadata": {
        "id": "UdqmN6EXA-1t"
      },
      "outputs": [],
      "source": [
        "import pandas as pd\n",
        "import matplotlib.pyplot as plt\n",
        "import seaborn as sns"
      ]
    },
    {
      "cell_type": "code",
      "execution_count": null,
      "metadata": {
        "id": "wIZ6kiiEBIUm"
      },
      "outputs": [],
      "source": [
        "df=pd.read_csv('refer for analysis-final- Form responses 1.csv.csv')"
      ]
    },
    {
      "cell_type": "code",
      "execution_count": null,
      "metadata": {
        "colab": {
          "base_uri": "https://localhost:8080/",
          "height": 1000
        },
        "id": "qvnFCYq4DP_Z",
        "outputId": "20da68e3-a4be-4d0c-b386-e3151dd38b95"
      },
      "outputs": [
        {
          "output_type": "execute_result",
          "data": {
            "text/plain": [
              "            Timestamp           Age    Location    Taste  Savoury_pref  \\\n",
              "0    17-06-2024 21:16         18-25        Pune    Sweet             3   \n",
              "1    17-06-2024 21:29         18-25        Pune    Sweet             1   \n",
              "2    17-06-2024 21:56         18-25  Trivandrum    Sweet             2   \n",
              "3    17-06-2024 22:46         18-25     Kolkata  Savoury             3   \n",
              "4    17-06-2024 22:48         18-25     Kolkata    Sweet             3   \n",
              "..                ...           ...         ...      ...           ...   \n",
              "520               NaN      Under 18       Surat    Sweet             5   \n",
              "521               NaN  56 and above      Nagpur  Savoury             8   \n",
              "522               NaN      Under 18     Jodhpur    Sweet             8   \n",
              "523               NaN         18-25  Chandigarh  Savoury             8   \n",
              "524               NaN      Under 18      Mumbai  Savoury             2   \n",
              "\n",
              "     Sweetness  Spicy  Texture  \\\n",
              "0            6      1   Smooth   \n",
              "1            5      1    Thick   \n",
              "2            5      5   Smooth   \n",
              "3            2      1   Smooth   \n",
              "4            7      3   Smooth   \n",
              "..         ...    ...      ...   \n",
              "520          6      5    Thick   \n",
              "521          8      5   Smooth   \n",
              "522          8      4   Smooth   \n",
              "523          3      2    Thick   \n",
              "524          9      2   Grainy   \n",
              "\n",
              "                                             Viscosity  \\\n",
              "0                               4: Thick (like yogurt)   \n",
              "1                         3: Medium (like a milkshake)   \n",
              "2                         3: Medium (like a milkshake)   \n",
              "3                           2: Thin (like fruit juice)   \n",
              "4                           2: Thin (like fruit juice)   \n",
              "..                                                 ...   \n",
              "520                             4: Thick (like yogurt)   \n",
              "521  5: Very thick (like a frozen smoothie you eat ...   \n",
              "522  5: Very thick (like a frozen smoothie you eat ...   \n",
              "523                             4: Thick (like yogurt)   \n",
              "524  5: Very thick (like a frozen smoothie you eat ...   \n",
              "\n",
              "                                                Flavor     Price  \\\n",
              "0    Fruity, Berries, Chocolate, Pina Colada, Green...  200-250    \n",
              "1                           Fruity, Berries, Chocolate  200-250    \n",
              "2                      Berries, Chocolate, Pina Colada  150-200    \n",
              "3                                    Fruity, Chocolate  200-250    \n",
              "4              Fruity, Berries, Chocolate, Pina Colada  150-200    \n",
              "..                                                 ...       ...   \n",
              "520  Berries, Dryfruits, Mango, Oregano, Green veggies  300-350    \n",
              "521  Green veggies, Oregano, Coffee, Berries, Banan...  300-350    \n",
              "522  Oregano, Berries, Coffee, Fruity, Dryfruits, C...  150-200    \n",
              "523  Oregano, Pina Colada, Green veggies, Coffee, B...  300-350    \n",
              "524          Berries, Fruity, Chocolate, Coffee, Mango  200-250    \n",
              "\n",
              "    New_likelihood  \n",
              "0           Likely  \n",
              "1          Neutral  \n",
              "2           Likely  \n",
              "3          Neutral  \n",
              "4          Neutral  \n",
              "..             ...  \n",
              "520  Very Unlikely  \n",
              "521    Very Likely  \n",
              "522        Neutral  \n",
              "523         Likely  \n",
              "524       Unlikely  \n",
              "\n",
              "[525 rows x 12 columns]"
            ],
            "text/html": [
              "\n",
              "  <div id=\"df-ef8b39bf-2d6d-4ca8-a5a1-02b746f7789b\" class=\"colab-df-container\">\n",
              "    <div>\n",
              "<style scoped>\n",
              "    .dataframe tbody tr th:only-of-type {\n",
              "        vertical-align: middle;\n",
              "    }\n",
              "\n",
              "    .dataframe tbody tr th {\n",
              "        vertical-align: top;\n",
              "    }\n",
              "\n",
              "    .dataframe thead th {\n",
              "        text-align: right;\n",
              "    }\n",
              "</style>\n",
              "<table border=\"1\" class=\"dataframe\">\n",
              "  <thead>\n",
              "    <tr style=\"text-align: right;\">\n",
              "      <th></th>\n",
              "      <th>Timestamp</th>\n",
              "      <th>Age</th>\n",
              "      <th>Location</th>\n",
              "      <th>Taste</th>\n",
              "      <th>Savoury_pref</th>\n",
              "      <th>Sweetness</th>\n",
              "      <th>Spicy</th>\n",
              "      <th>Texture</th>\n",
              "      <th>Viscosity</th>\n",
              "      <th>Flavor</th>\n",
              "      <th>Price</th>\n",
              "      <th>New_likelihood</th>\n",
              "    </tr>\n",
              "  </thead>\n",
              "  <tbody>\n",
              "    <tr>\n",
              "      <th>0</th>\n",
              "      <td>17-06-2024 21:16</td>\n",
              "      <td>18-25</td>\n",
              "      <td>Pune</td>\n",
              "      <td>Sweet</td>\n",
              "      <td>3</td>\n",
              "      <td>6</td>\n",
              "      <td>1</td>\n",
              "      <td>Smooth</td>\n",
              "      <td>4: Thick (like yogurt)</td>\n",
              "      <td>Fruity, Berries, Chocolate, Pina Colada, Green...</td>\n",
              "      <td>200-250</td>\n",
              "      <td>Likely</td>\n",
              "    </tr>\n",
              "    <tr>\n",
              "      <th>1</th>\n",
              "      <td>17-06-2024 21:29</td>\n",
              "      <td>18-25</td>\n",
              "      <td>Pune</td>\n",
              "      <td>Sweet</td>\n",
              "      <td>1</td>\n",
              "      <td>5</td>\n",
              "      <td>1</td>\n",
              "      <td>Thick</td>\n",
              "      <td>3: Medium (like a milkshake)</td>\n",
              "      <td>Fruity, Berries, Chocolate</td>\n",
              "      <td>200-250</td>\n",
              "      <td>Neutral</td>\n",
              "    </tr>\n",
              "    <tr>\n",
              "      <th>2</th>\n",
              "      <td>17-06-2024 21:56</td>\n",
              "      <td>18-25</td>\n",
              "      <td>Trivandrum</td>\n",
              "      <td>Sweet</td>\n",
              "      <td>2</td>\n",
              "      <td>5</td>\n",
              "      <td>5</td>\n",
              "      <td>Smooth</td>\n",
              "      <td>3: Medium (like a milkshake)</td>\n",
              "      <td>Berries, Chocolate, Pina Colada</td>\n",
              "      <td>150-200</td>\n",
              "      <td>Likely</td>\n",
              "    </tr>\n",
              "    <tr>\n",
              "      <th>3</th>\n",
              "      <td>17-06-2024 22:46</td>\n",
              "      <td>18-25</td>\n",
              "      <td>Kolkata</td>\n",
              "      <td>Savoury</td>\n",
              "      <td>3</td>\n",
              "      <td>2</td>\n",
              "      <td>1</td>\n",
              "      <td>Smooth</td>\n",
              "      <td>2: Thin (like fruit juice)</td>\n",
              "      <td>Fruity, Chocolate</td>\n",
              "      <td>200-250</td>\n",
              "      <td>Neutral</td>\n",
              "    </tr>\n",
              "    <tr>\n",
              "      <th>4</th>\n",
              "      <td>17-06-2024 22:48</td>\n",
              "      <td>18-25</td>\n",
              "      <td>Kolkata</td>\n",
              "      <td>Sweet</td>\n",
              "      <td>3</td>\n",
              "      <td>7</td>\n",
              "      <td>3</td>\n",
              "      <td>Smooth</td>\n",
              "      <td>2: Thin (like fruit juice)</td>\n",
              "      <td>Fruity, Berries, Chocolate, Pina Colada</td>\n",
              "      <td>150-200</td>\n",
              "      <td>Neutral</td>\n",
              "    </tr>\n",
              "    <tr>\n",
              "      <th>...</th>\n",
              "      <td>...</td>\n",
              "      <td>...</td>\n",
              "      <td>...</td>\n",
              "      <td>...</td>\n",
              "      <td>...</td>\n",
              "      <td>...</td>\n",
              "      <td>...</td>\n",
              "      <td>...</td>\n",
              "      <td>...</td>\n",
              "      <td>...</td>\n",
              "      <td>...</td>\n",
              "      <td>...</td>\n",
              "    </tr>\n",
              "    <tr>\n",
              "      <th>520</th>\n",
              "      <td>NaN</td>\n",
              "      <td>Under 18</td>\n",
              "      <td>Surat</td>\n",
              "      <td>Sweet</td>\n",
              "      <td>5</td>\n",
              "      <td>6</td>\n",
              "      <td>5</td>\n",
              "      <td>Thick</td>\n",
              "      <td>4: Thick (like yogurt)</td>\n",
              "      <td>Berries, Dryfruits, Mango, Oregano, Green veggies</td>\n",
              "      <td>300-350</td>\n",
              "      <td>Very Unlikely</td>\n",
              "    </tr>\n",
              "    <tr>\n",
              "      <th>521</th>\n",
              "      <td>NaN</td>\n",
              "      <td>56 and above</td>\n",
              "      <td>Nagpur</td>\n",
              "      <td>Savoury</td>\n",
              "      <td>8</td>\n",
              "      <td>8</td>\n",
              "      <td>5</td>\n",
              "      <td>Smooth</td>\n",
              "      <td>5: Very thick (like a frozen smoothie you eat ...</td>\n",
              "      <td>Green veggies, Oregano, Coffee, Berries, Banan...</td>\n",
              "      <td>300-350</td>\n",
              "      <td>Very Likely</td>\n",
              "    </tr>\n",
              "    <tr>\n",
              "      <th>522</th>\n",
              "      <td>NaN</td>\n",
              "      <td>Under 18</td>\n",
              "      <td>Jodhpur</td>\n",
              "      <td>Sweet</td>\n",
              "      <td>8</td>\n",
              "      <td>8</td>\n",
              "      <td>4</td>\n",
              "      <td>Smooth</td>\n",
              "      <td>5: Very thick (like a frozen smoothie you eat ...</td>\n",
              "      <td>Oregano, Berries, Coffee, Fruity, Dryfruits, C...</td>\n",
              "      <td>150-200</td>\n",
              "      <td>Neutral</td>\n",
              "    </tr>\n",
              "    <tr>\n",
              "      <th>523</th>\n",
              "      <td>NaN</td>\n",
              "      <td>18-25</td>\n",
              "      <td>Chandigarh</td>\n",
              "      <td>Savoury</td>\n",
              "      <td>8</td>\n",
              "      <td>3</td>\n",
              "      <td>2</td>\n",
              "      <td>Thick</td>\n",
              "      <td>4: Thick (like yogurt)</td>\n",
              "      <td>Oregano, Pina Colada, Green veggies, Coffee, B...</td>\n",
              "      <td>300-350</td>\n",
              "      <td>Likely</td>\n",
              "    </tr>\n",
              "    <tr>\n",
              "      <th>524</th>\n",
              "      <td>NaN</td>\n",
              "      <td>Under 18</td>\n",
              "      <td>Mumbai</td>\n",
              "      <td>Savoury</td>\n",
              "      <td>2</td>\n",
              "      <td>9</td>\n",
              "      <td>2</td>\n",
              "      <td>Grainy</td>\n",
              "      <td>5: Very thick (like a frozen smoothie you eat ...</td>\n",
              "      <td>Berries, Fruity, Chocolate, Coffee, Mango</td>\n",
              "      <td>200-250</td>\n",
              "      <td>Unlikely</td>\n",
              "    </tr>\n",
              "  </tbody>\n",
              "</table>\n",
              "<p>525 rows × 12 columns</p>\n",
              "</div>\n",
              "    <div class=\"colab-df-buttons\">\n",
              "\n",
              "  <div class=\"colab-df-container\">\n",
              "    <button class=\"colab-df-convert\" onclick=\"convertToInteractive('df-ef8b39bf-2d6d-4ca8-a5a1-02b746f7789b')\"\n",
              "            title=\"Convert this dataframe to an interactive table.\"\n",
              "            style=\"display:none;\">\n",
              "\n",
              "  <svg xmlns=\"http://www.w3.org/2000/svg\" height=\"24px\" viewBox=\"0 -960 960 960\">\n",
              "    <path d=\"M120-120v-720h720v720H120Zm60-500h600v-160H180v160Zm220 220h160v-160H400v160Zm0 220h160v-160H400v160ZM180-400h160v-160H180v160Zm440 0h160v-160H620v160ZM180-180h160v-160H180v160Zm440 0h160v-160H620v160Z\"/>\n",
              "  </svg>\n",
              "    </button>\n",
              "\n",
              "  <style>\n",
              "    .colab-df-container {\n",
              "      display:flex;\n",
              "      gap: 12px;\n",
              "    }\n",
              "\n",
              "    .colab-df-convert {\n",
              "      background-color: #E8F0FE;\n",
              "      border: none;\n",
              "      border-radius: 50%;\n",
              "      cursor: pointer;\n",
              "      display: none;\n",
              "      fill: #1967D2;\n",
              "      height: 32px;\n",
              "      padding: 0 0 0 0;\n",
              "      width: 32px;\n",
              "    }\n",
              "\n",
              "    .colab-df-convert:hover {\n",
              "      background-color: #E2EBFA;\n",
              "      box-shadow: 0px 1px 2px rgba(60, 64, 67, 0.3), 0px 1px 3px 1px rgba(60, 64, 67, 0.15);\n",
              "      fill: #174EA6;\n",
              "    }\n",
              "\n",
              "    .colab-df-buttons div {\n",
              "      margin-bottom: 4px;\n",
              "    }\n",
              "\n",
              "    [theme=dark] .colab-df-convert {\n",
              "      background-color: #3B4455;\n",
              "      fill: #D2E3FC;\n",
              "    }\n",
              "\n",
              "    [theme=dark] .colab-df-convert:hover {\n",
              "      background-color: #434B5C;\n",
              "      box-shadow: 0px 1px 3px 1px rgba(0, 0, 0, 0.15);\n",
              "      filter: drop-shadow(0px 1px 2px rgba(0, 0, 0, 0.3));\n",
              "      fill: #FFFFFF;\n",
              "    }\n",
              "  </style>\n",
              "\n",
              "    <script>\n",
              "      const buttonEl =\n",
              "        document.querySelector('#df-ef8b39bf-2d6d-4ca8-a5a1-02b746f7789b button.colab-df-convert');\n",
              "      buttonEl.style.display =\n",
              "        google.colab.kernel.accessAllowed ? 'block' : 'none';\n",
              "\n",
              "      async function convertToInteractive(key) {\n",
              "        const element = document.querySelector('#df-ef8b39bf-2d6d-4ca8-a5a1-02b746f7789b');\n",
              "        const dataTable =\n",
              "          await google.colab.kernel.invokeFunction('convertToInteractive',\n",
              "                                                    [key], {});\n",
              "        if (!dataTable) return;\n",
              "\n",
              "        const docLinkHtml = 'Like what you see? Visit the ' +\n",
              "          '<a target=\"_blank\" href=https://colab.research.google.com/notebooks/data_table.ipynb>data table notebook</a>'\n",
              "          + ' to learn more about interactive tables.';\n",
              "        element.innerHTML = '';\n",
              "        dataTable['output_type'] = 'display_data';\n",
              "        await google.colab.output.renderOutput(dataTable, element);\n",
              "        const docLink = document.createElement('div');\n",
              "        docLink.innerHTML = docLinkHtml;\n",
              "        element.appendChild(docLink);\n",
              "      }\n",
              "    </script>\n",
              "  </div>\n",
              "\n",
              "\n",
              "<div id=\"df-07efb5df-6b26-475c-946c-6b3ae2caa566\">\n",
              "  <button class=\"colab-df-quickchart\" onclick=\"quickchart('df-07efb5df-6b26-475c-946c-6b3ae2caa566')\"\n",
              "            title=\"Suggest charts\"\n",
              "            style=\"display:none;\">\n",
              "\n",
              "<svg xmlns=\"http://www.w3.org/2000/svg\" height=\"24px\"viewBox=\"0 0 24 24\"\n",
              "     width=\"24px\">\n",
              "    <g>\n",
              "        <path d=\"M19 3H5c-1.1 0-2 .9-2 2v14c0 1.1.9 2 2 2h14c1.1 0 2-.9 2-2V5c0-1.1-.9-2-2-2zM9 17H7v-7h2v7zm4 0h-2V7h2v10zm4 0h-2v-4h2v4z\"/>\n",
              "    </g>\n",
              "</svg>\n",
              "  </button>\n",
              "\n",
              "<style>\n",
              "  .colab-df-quickchart {\n",
              "      --bg-color: #E8F0FE;\n",
              "      --fill-color: #1967D2;\n",
              "      --hover-bg-color: #E2EBFA;\n",
              "      --hover-fill-color: #174EA6;\n",
              "      --disabled-fill-color: #AAA;\n",
              "      --disabled-bg-color: #DDD;\n",
              "  }\n",
              "\n",
              "  [theme=dark] .colab-df-quickchart {\n",
              "      --bg-color: #3B4455;\n",
              "      --fill-color: #D2E3FC;\n",
              "      --hover-bg-color: #434B5C;\n",
              "      --hover-fill-color: #FFFFFF;\n",
              "      --disabled-bg-color: #3B4455;\n",
              "      --disabled-fill-color: #666;\n",
              "  }\n",
              "\n",
              "  .colab-df-quickchart {\n",
              "    background-color: var(--bg-color);\n",
              "    border: none;\n",
              "    border-radius: 50%;\n",
              "    cursor: pointer;\n",
              "    display: none;\n",
              "    fill: var(--fill-color);\n",
              "    height: 32px;\n",
              "    padding: 0;\n",
              "    width: 32px;\n",
              "  }\n",
              "\n",
              "  .colab-df-quickchart:hover {\n",
              "    background-color: var(--hover-bg-color);\n",
              "    box-shadow: 0 1px 2px rgba(60, 64, 67, 0.3), 0 1px 3px 1px rgba(60, 64, 67, 0.15);\n",
              "    fill: var(--button-hover-fill-color);\n",
              "  }\n",
              "\n",
              "  .colab-df-quickchart-complete:disabled,\n",
              "  .colab-df-quickchart-complete:disabled:hover {\n",
              "    background-color: var(--disabled-bg-color);\n",
              "    fill: var(--disabled-fill-color);\n",
              "    box-shadow: none;\n",
              "  }\n",
              "\n",
              "  .colab-df-spinner {\n",
              "    border: 2px solid var(--fill-color);\n",
              "    border-color: transparent;\n",
              "    border-bottom-color: var(--fill-color);\n",
              "    animation:\n",
              "      spin 1s steps(1) infinite;\n",
              "  }\n",
              "\n",
              "  @keyframes spin {\n",
              "    0% {\n",
              "      border-color: transparent;\n",
              "      border-bottom-color: var(--fill-color);\n",
              "      border-left-color: var(--fill-color);\n",
              "    }\n",
              "    20% {\n",
              "      border-color: transparent;\n",
              "      border-left-color: var(--fill-color);\n",
              "      border-top-color: var(--fill-color);\n",
              "    }\n",
              "    30% {\n",
              "      border-color: transparent;\n",
              "      border-left-color: var(--fill-color);\n",
              "      border-top-color: var(--fill-color);\n",
              "      border-right-color: var(--fill-color);\n",
              "    }\n",
              "    40% {\n",
              "      border-color: transparent;\n",
              "      border-right-color: var(--fill-color);\n",
              "      border-top-color: var(--fill-color);\n",
              "    }\n",
              "    60% {\n",
              "      border-color: transparent;\n",
              "      border-right-color: var(--fill-color);\n",
              "    }\n",
              "    80% {\n",
              "      border-color: transparent;\n",
              "      border-right-color: var(--fill-color);\n",
              "      border-bottom-color: var(--fill-color);\n",
              "    }\n",
              "    90% {\n",
              "      border-color: transparent;\n",
              "      border-bottom-color: var(--fill-color);\n",
              "    }\n",
              "  }\n",
              "</style>\n",
              "\n",
              "  <script>\n",
              "    async function quickchart(key) {\n",
              "      const quickchartButtonEl =\n",
              "        document.querySelector('#' + key + ' button');\n",
              "      quickchartButtonEl.disabled = true;  // To prevent multiple clicks.\n",
              "      quickchartButtonEl.classList.add('colab-df-spinner');\n",
              "      try {\n",
              "        const charts = await google.colab.kernel.invokeFunction(\n",
              "            'suggestCharts', [key], {});\n",
              "      } catch (error) {\n",
              "        console.error('Error during call to suggestCharts:', error);\n",
              "      }\n",
              "      quickchartButtonEl.classList.remove('colab-df-spinner');\n",
              "      quickchartButtonEl.classList.add('colab-df-quickchart-complete');\n",
              "    }\n",
              "    (() => {\n",
              "      let quickchartButtonEl =\n",
              "        document.querySelector('#df-07efb5df-6b26-475c-946c-6b3ae2caa566 button');\n",
              "      quickchartButtonEl.style.display =\n",
              "        google.colab.kernel.accessAllowed ? 'block' : 'none';\n",
              "    })();\n",
              "  </script>\n",
              "</div>\n",
              "\n",
              "  <div id=\"id_9dd91f68-3b6a-43b5-b57d-9545a8a70892\">\n",
              "    <style>\n",
              "      .colab-df-generate {\n",
              "        background-color: #E8F0FE;\n",
              "        border: none;\n",
              "        border-radius: 50%;\n",
              "        cursor: pointer;\n",
              "        display: none;\n",
              "        fill: #1967D2;\n",
              "        height: 32px;\n",
              "        padding: 0 0 0 0;\n",
              "        width: 32px;\n",
              "      }\n",
              "\n",
              "      .colab-df-generate:hover {\n",
              "        background-color: #E2EBFA;\n",
              "        box-shadow: 0px 1px 2px rgba(60, 64, 67, 0.3), 0px 1px 3px 1px rgba(60, 64, 67, 0.15);\n",
              "        fill: #174EA6;\n",
              "      }\n",
              "\n",
              "      [theme=dark] .colab-df-generate {\n",
              "        background-color: #3B4455;\n",
              "        fill: #D2E3FC;\n",
              "      }\n",
              "\n",
              "      [theme=dark] .colab-df-generate:hover {\n",
              "        background-color: #434B5C;\n",
              "        box-shadow: 0px 1px 3px 1px rgba(0, 0, 0, 0.15);\n",
              "        filter: drop-shadow(0px 1px 2px rgba(0, 0, 0, 0.3));\n",
              "        fill: #FFFFFF;\n",
              "      }\n",
              "    </style>\n",
              "    <button class=\"colab-df-generate\" onclick=\"generateWithVariable('df')\"\n",
              "            title=\"Generate code using this dataframe.\"\n",
              "            style=\"display:none;\">\n",
              "\n",
              "  <svg xmlns=\"http://www.w3.org/2000/svg\" height=\"24px\"viewBox=\"0 0 24 24\"\n",
              "       width=\"24px\">\n",
              "    <path d=\"M7,19H8.4L18.45,9,17,7.55,7,17.6ZM5,21V16.75L18.45,3.32a2,2,0,0,1,2.83,0l1.4,1.43a1.91,1.91,0,0,1,.58,1.4,1.91,1.91,0,0,1-.58,1.4L9.25,21ZM18.45,9,17,7.55Zm-12,3A5.31,5.31,0,0,0,4.9,8.1,5.31,5.31,0,0,0,1,6.5,5.31,5.31,0,0,0,4.9,4.9,5.31,5.31,0,0,0,6.5,1,5.31,5.31,0,0,0,8.1,4.9,5.31,5.31,0,0,0,12,6.5,5.46,5.46,0,0,0,6.5,12Z\"/>\n",
              "  </svg>\n",
              "    </button>\n",
              "    <script>\n",
              "      (() => {\n",
              "      const buttonEl =\n",
              "        document.querySelector('#id_9dd91f68-3b6a-43b5-b57d-9545a8a70892 button.colab-df-generate');\n",
              "      buttonEl.style.display =\n",
              "        google.colab.kernel.accessAllowed ? 'block' : 'none';\n",
              "\n",
              "      buttonEl.onclick = () => {\n",
              "        google.colab.notebook.generateWithVariable('df');\n",
              "      }\n",
              "      })();\n",
              "    </script>\n",
              "  </div>\n",
              "\n",
              "    </div>\n",
              "  </div>\n"
            ],
            "application/vnd.google.colaboratory.intrinsic+json": {
              "type": "dataframe",
              "variable_name": "df",
              "summary": "{\n  \"name\": \"df\",\n  \"rows\": 525,\n  \"fields\": [\n    {\n      \"column\": \"Timestamp\",\n      \"properties\": {\n        \"dtype\": \"object\",\n        \"num_unique_values\": 29,\n        \"samples\": [\n          \"26-06-2024 18:47\",\n          \"25-06-2024 20:07\",\n          \"25-06-2024 17:46\"\n        ],\n        \"semantic_type\": \"\",\n        \"description\": \"\"\n      }\n    },\n    {\n      \"column\": \"Age\",\n      \"properties\": {\n        \"dtype\": \"category\",\n        \"num_unique_values\": 6,\n        \"samples\": [\n          \"18-25\",\n          \"36-45\",\n          \"46-55\"\n        ],\n        \"semantic_type\": \"\",\n        \"description\": \"\"\n      }\n    },\n    {\n      \"column\": \"Location\",\n      \"properties\": {\n        \"dtype\": \"category\",\n        \"num_unique_values\": 25,\n        \"samples\": [\n          \"Bhopal\",\n          \"Chandigarh\",\n          \"Pune\"\n        ],\n        \"semantic_type\": \"\",\n        \"description\": \"\"\n      }\n    },\n    {\n      \"column\": \"Taste\",\n      \"properties\": {\n        \"dtype\": \"category\",\n        \"num_unique_values\": 2,\n        \"samples\": [\n          \"Savoury\",\n          \"Sweet\"\n        ],\n        \"semantic_type\": \"\",\n        \"description\": \"\"\n      }\n    },\n    {\n      \"column\": \"Savoury_pref\",\n      \"properties\": {\n        \"dtype\": \"number\",\n        \"std\": 2,\n        \"min\": 1,\n        \"max\": 10,\n        \"num_unique_values\": 10,\n        \"samples\": [\n          6,\n          1\n        ],\n        \"semantic_type\": \"\",\n        \"description\": \"\"\n      }\n    },\n    {\n      \"column\": \"Sweetness\",\n      \"properties\": {\n        \"dtype\": \"number\",\n        \"std\": 2,\n        \"min\": 1,\n        \"max\": 10,\n        \"num_unique_values\": 10,\n        \"samples\": [\n          1,\n          5\n        ],\n        \"semantic_type\": \"\",\n        \"description\": \"\"\n      }\n    },\n    {\n      \"column\": \"Spicy\",\n      \"properties\": {\n        \"dtype\": \"number\",\n        \"std\": 1,\n        \"min\": 1,\n        \"max\": 7,\n        \"num_unique_values\": 6,\n        \"samples\": [\n          1,\n          5\n        ],\n        \"semantic_type\": \"\",\n        \"description\": \"\"\n      }\n    },\n    {\n      \"column\": \"Texture\",\n      \"properties\": {\n        \"dtype\": \"category\",\n        \"num_unique_values\": 7,\n        \"samples\": [\n          \" Smooth\",\n          \"Thick\"\n        ],\n        \"semantic_type\": \"\",\n        \"description\": \"\"\n      }\n    },\n    {\n      \"column\": \"Viscosity\",\n      \"properties\": {\n        \"dtype\": \"category\",\n        \"num_unique_values\": 5,\n        \"samples\": [\n          \"3: Medium (like a milkshake)\",\n          \"1: Very thin (like water)\"\n        ],\n        \"semantic_type\": \"\",\n        \"description\": \"\"\n      }\n    },\n    {\n      \"column\": \"Flavor\",\n      \"properties\": {\n        \"dtype\": \"string\",\n        \"num_unique_values\": 472,\n        \"samples\": [\n          \"Fruity, Oats, Dryfruits, Chocolate, Green veggies, Banana, Mango, Pina Colada\",\n          \"Pina Colada, Oats, Dryfruits, Mango, Coffee, Fruity, Green veggies, Chocolate, Berries\"\n        ],\n        \"semantic_type\": \"\",\n        \"description\": \"\"\n      }\n    },\n    {\n      \"column\": \"Price\",\n      \"properties\": {\n        \"dtype\": \"category\",\n        \"num_unique_values\": 6,\n        \"samples\": [\n          \"200-250 \",\n          \"150-200 \"\n        ],\n        \"semantic_type\": \"\",\n        \"description\": \"\"\n      }\n    },\n    {\n      \"column\": \"New_likelihood\",\n      \"properties\": {\n        \"dtype\": \"category\",\n        \"num_unique_values\": 5,\n        \"samples\": [\n          \"Neutral\",\n          \"Very Unlikely\"\n        ],\n        \"semantic_type\": \"\",\n        \"description\": \"\"\n      }\n    }\n  ]\n}"
            }
          },
          "metadata": {},
          "execution_count": 3
        }
      ],
      "source": [
        "df"
      ]
    },
    {
      "cell_type": "code",
      "execution_count": null,
      "metadata": {
        "colab": {
          "base_uri": "https://localhost:8080/",
          "height": 460
        },
        "id": "j7SAwuKdu_Z4",
        "outputId": "a17e8a37-7c85-4fbf-8f49-ce56d324d09d"
      },
      "outputs": [
        {
          "data": {
            "text/plain": [
              "Timestamp          29\n",
              "Age               525\n",
              "Location          525\n",
              "Taste             525\n",
              "Savoury_pref      525\n",
              "Sweetness         525\n",
              "Spicy             525\n",
              "Texture           525\n",
              "Viscosity         525\n",
              "Flavor            525\n",
              "Price             525\n",
              "New_likelihood    525\n",
              "dtype: int64"
            ]
          },
          "execution_count": 4,
          "metadata": {},
          "output_type": "execute_result"
        }
      ],
      "source": [
        "df.count()"
      ]
    },
    {
      "cell_type": "code",
      "execution_count": null,
      "metadata": {
        "colab": {
          "base_uri": "https://localhost:8080/",
          "height": 423
        },
        "id": "5LHmaSc6ElHS",
        "outputId": "5ebe7cbd-03c3-4210-b084-aa0190b44fd8"
      },
      "outputs": [
        {
          "data": {
            "text/html": [
              "<div>\n",
              "<style scoped>\n",
              "    .dataframe tbody tr th:only-of-type {\n",
              "        vertical-align: middle;\n",
              "    }\n",
              "\n",
              "    .dataframe tbody tr th {\n",
              "        vertical-align: top;\n",
              "    }\n",
              "\n",
              "    .dataframe thead th {\n",
              "        text-align: right;\n",
              "    }\n",
              "</style>\n",
              "<table border=\"1\" class=\"dataframe\">\n",
              "  <thead>\n",
              "    <tr style=\"text-align: right;\">\n",
              "      <th></th>\n",
              "      <th>Timestamp</th>\n",
              "      <th>Age</th>\n",
              "      <th>Location</th>\n",
              "      <th>Taste</th>\n",
              "      <th>Savoury_pref</th>\n",
              "      <th>Sweetness</th>\n",
              "      <th>Spicy</th>\n",
              "      <th>Texture</th>\n",
              "      <th>Viscosity</th>\n",
              "      <th>Flavor</th>\n",
              "      <th>Price</th>\n",
              "      <th>New_likelihood</th>\n",
              "    </tr>\n",
              "  </thead>\n",
              "  <tbody>\n",
              "    <tr>\n",
              "      <th>0</th>\n",
              "      <td>False</td>\n",
              "      <td>False</td>\n",
              "      <td>False</td>\n",
              "      <td>False</td>\n",
              "      <td>False</td>\n",
              "      <td>False</td>\n",
              "      <td>False</td>\n",
              "      <td>False</td>\n",
              "      <td>False</td>\n",
              "      <td>False</td>\n",
              "      <td>False</td>\n",
              "      <td>False</td>\n",
              "    </tr>\n",
              "    <tr>\n",
              "      <th>1</th>\n",
              "      <td>False</td>\n",
              "      <td>False</td>\n",
              "      <td>False</td>\n",
              "      <td>False</td>\n",
              "      <td>False</td>\n",
              "      <td>False</td>\n",
              "      <td>False</td>\n",
              "      <td>False</td>\n",
              "      <td>False</td>\n",
              "      <td>False</td>\n",
              "      <td>False</td>\n",
              "      <td>False</td>\n",
              "    </tr>\n",
              "    <tr>\n",
              "      <th>2</th>\n",
              "      <td>False</td>\n",
              "      <td>False</td>\n",
              "      <td>False</td>\n",
              "      <td>False</td>\n",
              "      <td>False</td>\n",
              "      <td>False</td>\n",
              "      <td>False</td>\n",
              "      <td>False</td>\n",
              "      <td>False</td>\n",
              "      <td>False</td>\n",
              "      <td>False</td>\n",
              "      <td>False</td>\n",
              "    </tr>\n",
              "    <tr>\n",
              "      <th>3</th>\n",
              "      <td>False</td>\n",
              "      <td>False</td>\n",
              "      <td>False</td>\n",
              "      <td>False</td>\n",
              "      <td>False</td>\n",
              "      <td>False</td>\n",
              "      <td>False</td>\n",
              "      <td>False</td>\n",
              "      <td>False</td>\n",
              "      <td>False</td>\n",
              "      <td>False</td>\n",
              "      <td>False</td>\n",
              "    </tr>\n",
              "    <tr>\n",
              "      <th>4</th>\n",
              "      <td>False</td>\n",
              "      <td>False</td>\n",
              "      <td>False</td>\n",
              "      <td>False</td>\n",
              "      <td>False</td>\n",
              "      <td>False</td>\n",
              "      <td>False</td>\n",
              "      <td>False</td>\n",
              "      <td>False</td>\n",
              "      <td>False</td>\n",
              "      <td>False</td>\n",
              "      <td>False</td>\n",
              "    </tr>\n",
              "    <tr>\n",
              "      <th>...</th>\n",
              "      <td>...</td>\n",
              "      <td>...</td>\n",
              "      <td>...</td>\n",
              "      <td>...</td>\n",
              "      <td>...</td>\n",
              "      <td>...</td>\n",
              "      <td>...</td>\n",
              "      <td>...</td>\n",
              "      <td>...</td>\n",
              "      <td>...</td>\n",
              "      <td>...</td>\n",
              "      <td>...</td>\n",
              "    </tr>\n",
              "    <tr>\n",
              "      <th>520</th>\n",
              "      <td>True</td>\n",
              "      <td>False</td>\n",
              "      <td>False</td>\n",
              "      <td>False</td>\n",
              "      <td>False</td>\n",
              "      <td>False</td>\n",
              "      <td>False</td>\n",
              "      <td>False</td>\n",
              "      <td>False</td>\n",
              "      <td>False</td>\n",
              "      <td>False</td>\n",
              "      <td>False</td>\n",
              "    </tr>\n",
              "    <tr>\n",
              "      <th>521</th>\n",
              "      <td>True</td>\n",
              "      <td>False</td>\n",
              "      <td>False</td>\n",
              "      <td>False</td>\n",
              "      <td>False</td>\n",
              "      <td>False</td>\n",
              "      <td>False</td>\n",
              "      <td>False</td>\n",
              "      <td>False</td>\n",
              "      <td>False</td>\n",
              "      <td>False</td>\n",
              "      <td>False</td>\n",
              "    </tr>\n",
              "    <tr>\n",
              "      <th>522</th>\n",
              "      <td>True</td>\n",
              "      <td>False</td>\n",
              "      <td>False</td>\n",
              "      <td>False</td>\n",
              "      <td>False</td>\n",
              "      <td>False</td>\n",
              "      <td>False</td>\n",
              "      <td>False</td>\n",
              "      <td>False</td>\n",
              "      <td>False</td>\n",
              "      <td>False</td>\n",
              "      <td>False</td>\n",
              "    </tr>\n",
              "    <tr>\n",
              "      <th>523</th>\n",
              "      <td>True</td>\n",
              "      <td>False</td>\n",
              "      <td>False</td>\n",
              "      <td>False</td>\n",
              "      <td>False</td>\n",
              "      <td>False</td>\n",
              "      <td>False</td>\n",
              "      <td>False</td>\n",
              "      <td>False</td>\n",
              "      <td>False</td>\n",
              "      <td>False</td>\n",
              "      <td>False</td>\n",
              "    </tr>\n",
              "    <tr>\n",
              "      <th>524</th>\n",
              "      <td>True</td>\n",
              "      <td>False</td>\n",
              "      <td>False</td>\n",
              "      <td>False</td>\n",
              "      <td>False</td>\n",
              "      <td>False</td>\n",
              "      <td>False</td>\n",
              "      <td>False</td>\n",
              "      <td>False</td>\n",
              "      <td>False</td>\n",
              "      <td>False</td>\n",
              "      <td>False</td>\n",
              "    </tr>\n",
              "  </tbody>\n",
              "</table>\n",
              "<p>525 rows × 12 columns</p>\n",
              "</div>"
            ],
            "text/plain": [
              "     Timestamp    Age  Location  Taste  Savoury_pref  Sweetness  Spicy  \\\n",
              "0        False  False     False  False         False      False  False   \n",
              "1        False  False     False  False         False      False  False   \n",
              "2        False  False     False  False         False      False  False   \n",
              "3        False  False     False  False         False      False  False   \n",
              "4        False  False     False  False         False      False  False   \n",
              "..         ...    ...       ...    ...           ...        ...    ...   \n",
              "520       True  False     False  False         False      False  False   \n",
              "521       True  False     False  False         False      False  False   \n",
              "522       True  False     False  False         False      False  False   \n",
              "523       True  False     False  False         False      False  False   \n",
              "524       True  False     False  False         False      False  False   \n",
              "\n",
              "     Texture  Viscosity  Flavor  Price  New_likelihood  \n",
              "0      False      False   False  False           False  \n",
              "1      False      False   False  False           False  \n",
              "2      False      False   False  False           False  \n",
              "3      False      False   False  False           False  \n",
              "4      False      False   False  False           False  \n",
              "..       ...        ...     ...    ...             ...  \n",
              "520    False      False   False  False           False  \n",
              "521    False      False   False  False           False  \n",
              "522    False      False   False  False           False  \n",
              "523    False      False   False  False           False  \n",
              "524    False      False   False  False           False  \n",
              "\n",
              "[525 rows x 12 columns]"
            ]
          },
          "execution_count": 5,
          "metadata": {},
          "output_type": "execute_result"
        }
      ],
      "source": [
        "df.isnull()"
      ]
    },
    {
      "cell_type": "markdown",
      "metadata": {
        "id": "1FmQd_0TApIM"
      },
      "source": [
        "## Preprocessing and EDA\n"
      ]
    },
    {
      "cell_type": "code",
      "execution_count": null,
      "metadata": {
        "colab": {
          "base_uri": "https://localhost:8080/",
          "height": 1000
        },
        "id": "7UjSsUimQePm",
        "outputId": "13ef3e34-1353-46ff-e6ad-afcf7b27f0cd",
        "scrolled": true
      },
      "outputs": [
        {
          "output_type": "execute_result",
          "data": {
            "text/plain": [
              "              Age    Location    Taste  Savoury_pref  Sweetness  Spicy  \\\n",
              "0           18-25        Pune    Sweet             3          6      1   \n",
              "1           18-25        Pune    Sweet             1          5      1   \n",
              "2           18-25  Trivandrum    Sweet             2          5      5   \n",
              "3           18-25     Kolkata  Savoury             3          2      1   \n",
              "4           18-25     Kolkata    Sweet             3          7      3   \n",
              "..            ...         ...      ...           ...        ...    ...   \n",
              "520      Under 18       Surat    Sweet             5          6      5   \n",
              "521  56 and above      Nagpur  Savoury             8          8      5   \n",
              "522      Under 18     Jodhpur    Sweet             8          8      4   \n",
              "523         18-25  Chandigarh  Savoury             8          3      2   \n",
              "524      Under 18      Mumbai  Savoury             2          9      2   \n",
              "\n",
              "     Texture                                          Viscosity  \\\n",
              "0     Smooth                             4: Thick (like yogurt)   \n",
              "1      Thick                       3: Medium (like a milkshake)   \n",
              "2     Smooth                       3: Medium (like a milkshake)   \n",
              "3     Smooth                         2: Thin (like fruit juice)   \n",
              "4     Smooth                         2: Thin (like fruit juice)   \n",
              "..       ...                                                ...   \n",
              "520    Thick                             4: Thick (like yogurt)   \n",
              "521   Smooth  5: Very thick (like a frozen smoothie you eat ...   \n",
              "522   Smooth  5: Very thick (like a frozen smoothie you eat ...   \n",
              "523    Thick                             4: Thick (like yogurt)   \n",
              "524   Grainy  5: Very thick (like a frozen smoothie you eat ...   \n",
              "\n",
              "                                                Flavor     Price  \\\n",
              "0    Fruity, Berries, Chocolate, Pina Colada, Green...  200-250    \n",
              "1                           Fruity, Berries, Chocolate  200-250    \n",
              "2                      Berries, Chocolate, Pina Colada  150-200    \n",
              "3                                    Fruity, Chocolate  200-250    \n",
              "4              Fruity, Berries, Chocolate, Pina Colada  150-200    \n",
              "..                                                 ...       ...   \n",
              "520  Berries, Dryfruits, Mango, Oregano, Green veggies  300-350    \n",
              "521  Green veggies, Oregano, Coffee, Berries, Banan...  300-350    \n",
              "522  Oregano, Berries, Coffee, Fruity, Dryfruits, C...  150-200    \n",
              "523  Oregano, Pina Colada, Green veggies, Coffee, B...  300-350    \n",
              "524          Berries, Fruity, Chocolate, Coffee, Mango  200-250    \n",
              "\n",
              "    New_likelihood  \n",
              "0           Likely  \n",
              "1          Neutral  \n",
              "2           Likely  \n",
              "3          Neutral  \n",
              "4          Neutral  \n",
              "..             ...  \n",
              "520  Very Unlikely  \n",
              "521    Very Likely  \n",
              "522        Neutral  \n",
              "523         Likely  \n",
              "524       Unlikely  \n",
              "\n",
              "[525 rows x 11 columns]"
            ],
            "text/html": [
              "\n",
              "  <div id=\"df-7a708a6e-ce5e-4399-a395-1d5aa2023d47\" class=\"colab-df-container\">\n",
              "    <div>\n",
              "<style scoped>\n",
              "    .dataframe tbody tr th:only-of-type {\n",
              "        vertical-align: middle;\n",
              "    }\n",
              "\n",
              "    .dataframe tbody tr th {\n",
              "        vertical-align: top;\n",
              "    }\n",
              "\n",
              "    .dataframe thead th {\n",
              "        text-align: right;\n",
              "    }\n",
              "</style>\n",
              "<table border=\"1\" class=\"dataframe\">\n",
              "  <thead>\n",
              "    <tr style=\"text-align: right;\">\n",
              "      <th></th>\n",
              "      <th>Age</th>\n",
              "      <th>Location</th>\n",
              "      <th>Taste</th>\n",
              "      <th>Savoury_pref</th>\n",
              "      <th>Sweetness</th>\n",
              "      <th>Spicy</th>\n",
              "      <th>Texture</th>\n",
              "      <th>Viscosity</th>\n",
              "      <th>Flavor</th>\n",
              "      <th>Price</th>\n",
              "      <th>New_likelihood</th>\n",
              "    </tr>\n",
              "  </thead>\n",
              "  <tbody>\n",
              "    <tr>\n",
              "      <th>0</th>\n",
              "      <td>18-25</td>\n",
              "      <td>Pune</td>\n",
              "      <td>Sweet</td>\n",
              "      <td>3</td>\n",
              "      <td>6</td>\n",
              "      <td>1</td>\n",
              "      <td>Smooth</td>\n",
              "      <td>4: Thick (like yogurt)</td>\n",
              "      <td>Fruity, Berries, Chocolate, Pina Colada, Green...</td>\n",
              "      <td>200-250</td>\n",
              "      <td>Likely</td>\n",
              "    </tr>\n",
              "    <tr>\n",
              "      <th>1</th>\n",
              "      <td>18-25</td>\n",
              "      <td>Pune</td>\n",
              "      <td>Sweet</td>\n",
              "      <td>1</td>\n",
              "      <td>5</td>\n",
              "      <td>1</td>\n",
              "      <td>Thick</td>\n",
              "      <td>3: Medium (like a milkshake)</td>\n",
              "      <td>Fruity, Berries, Chocolate</td>\n",
              "      <td>200-250</td>\n",
              "      <td>Neutral</td>\n",
              "    </tr>\n",
              "    <tr>\n",
              "      <th>2</th>\n",
              "      <td>18-25</td>\n",
              "      <td>Trivandrum</td>\n",
              "      <td>Sweet</td>\n",
              "      <td>2</td>\n",
              "      <td>5</td>\n",
              "      <td>5</td>\n",
              "      <td>Smooth</td>\n",
              "      <td>3: Medium (like a milkshake)</td>\n",
              "      <td>Berries, Chocolate, Pina Colada</td>\n",
              "      <td>150-200</td>\n",
              "      <td>Likely</td>\n",
              "    </tr>\n",
              "    <tr>\n",
              "      <th>3</th>\n",
              "      <td>18-25</td>\n",
              "      <td>Kolkata</td>\n",
              "      <td>Savoury</td>\n",
              "      <td>3</td>\n",
              "      <td>2</td>\n",
              "      <td>1</td>\n",
              "      <td>Smooth</td>\n",
              "      <td>2: Thin (like fruit juice)</td>\n",
              "      <td>Fruity, Chocolate</td>\n",
              "      <td>200-250</td>\n",
              "      <td>Neutral</td>\n",
              "    </tr>\n",
              "    <tr>\n",
              "      <th>4</th>\n",
              "      <td>18-25</td>\n",
              "      <td>Kolkata</td>\n",
              "      <td>Sweet</td>\n",
              "      <td>3</td>\n",
              "      <td>7</td>\n",
              "      <td>3</td>\n",
              "      <td>Smooth</td>\n",
              "      <td>2: Thin (like fruit juice)</td>\n",
              "      <td>Fruity, Berries, Chocolate, Pina Colada</td>\n",
              "      <td>150-200</td>\n",
              "      <td>Neutral</td>\n",
              "    </tr>\n",
              "    <tr>\n",
              "      <th>...</th>\n",
              "      <td>...</td>\n",
              "      <td>...</td>\n",
              "      <td>...</td>\n",
              "      <td>...</td>\n",
              "      <td>...</td>\n",
              "      <td>...</td>\n",
              "      <td>...</td>\n",
              "      <td>...</td>\n",
              "      <td>...</td>\n",
              "      <td>...</td>\n",
              "      <td>...</td>\n",
              "    </tr>\n",
              "    <tr>\n",
              "      <th>520</th>\n",
              "      <td>Under 18</td>\n",
              "      <td>Surat</td>\n",
              "      <td>Sweet</td>\n",
              "      <td>5</td>\n",
              "      <td>6</td>\n",
              "      <td>5</td>\n",
              "      <td>Thick</td>\n",
              "      <td>4: Thick (like yogurt)</td>\n",
              "      <td>Berries, Dryfruits, Mango, Oregano, Green veggies</td>\n",
              "      <td>300-350</td>\n",
              "      <td>Very Unlikely</td>\n",
              "    </tr>\n",
              "    <tr>\n",
              "      <th>521</th>\n",
              "      <td>56 and above</td>\n",
              "      <td>Nagpur</td>\n",
              "      <td>Savoury</td>\n",
              "      <td>8</td>\n",
              "      <td>8</td>\n",
              "      <td>5</td>\n",
              "      <td>Smooth</td>\n",
              "      <td>5: Very thick (like a frozen smoothie you eat ...</td>\n",
              "      <td>Green veggies, Oregano, Coffee, Berries, Banan...</td>\n",
              "      <td>300-350</td>\n",
              "      <td>Very Likely</td>\n",
              "    </tr>\n",
              "    <tr>\n",
              "      <th>522</th>\n",
              "      <td>Under 18</td>\n",
              "      <td>Jodhpur</td>\n",
              "      <td>Sweet</td>\n",
              "      <td>8</td>\n",
              "      <td>8</td>\n",
              "      <td>4</td>\n",
              "      <td>Smooth</td>\n",
              "      <td>5: Very thick (like a frozen smoothie you eat ...</td>\n",
              "      <td>Oregano, Berries, Coffee, Fruity, Dryfruits, C...</td>\n",
              "      <td>150-200</td>\n",
              "      <td>Neutral</td>\n",
              "    </tr>\n",
              "    <tr>\n",
              "      <th>523</th>\n",
              "      <td>18-25</td>\n",
              "      <td>Chandigarh</td>\n",
              "      <td>Savoury</td>\n",
              "      <td>8</td>\n",
              "      <td>3</td>\n",
              "      <td>2</td>\n",
              "      <td>Thick</td>\n",
              "      <td>4: Thick (like yogurt)</td>\n",
              "      <td>Oregano, Pina Colada, Green veggies, Coffee, B...</td>\n",
              "      <td>300-350</td>\n",
              "      <td>Likely</td>\n",
              "    </tr>\n",
              "    <tr>\n",
              "      <th>524</th>\n",
              "      <td>Under 18</td>\n",
              "      <td>Mumbai</td>\n",
              "      <td>Savoury</td>\n",
              "      <td>2</td>\n",
              "      <td>9</td>\n",
              "      <td>2</td>\n",
              "      <td>Grainy</td>\n",
              "      <td>5: Very thick (like a frozen smoothie you eat ...</td>\n",
              "      <td>Berries, Fruity, Chocolate, Coffee, Mango</td>\n",
              "      <td>200-250</td>\n",
              "      <td>Unlikely</td>\n",
              "    </tr>\n",
              "  </tbody>\n",
              "</table>\n",
              "<p>525 rows × 11 columns</p>\n",
              "</div>\n",
              "    <div class=\"colab-df-buttons\">\n",
              "\n",
              "  <div class=\"colab-df-container\">\n",
              "    <button class=\"colab-df-convert\" onclick=\"convertToInteractive('df-7a708a6e-ce5e-4399-a395-1d5aa2023d47')\"\n",
              "            title=\"Convert this dataframe to an interactive table.\"\n",
              "            style=\"display:none;\">\n",
              "\n",
              "  <svg xmlns=\"http://www.w3.org/2000/svg\" height=\"24px\" viewBox=\"0 -960 960 960\">\n",
              "    <path d=\"M120-120v-720h720v720H120Zm60-500h600v-160H180v160Zm220 220h160v-160H400v160Zm0 220h160v-160H400v160ZM180-400h160v-160H180v160Zm440 0h160v-160H620v160ZM180-180h160v-160H180v160Zm440 0h160v-160H620v160Z\"/>\n",
              "  </svg>\n",
              "    </button>\n",
              "\n",
              "  <style>\n",
              "    .colab-df-container {\n",
              "      display:flex;\n",
              "      gap: 12px;\n",
              "    }\n",
              "\n",
              "    .colab-df-convert {\n",
              "      background-color: #E8F0FE;\n",
              "      border: none;\n",
              "      border-radius: 50%;\n",
              "      cursor: pointer;\n",
              "      display: none;\n",
              "      fill: #1967D2;\n",
              "      height: 32px;\n",
              "      padding: 0 0 0 0;\n",
              "      width: 32px;\n",
              "    }\n",
              "\n",
              "    .colab-df-convert:hover {\n",
              "      background-color: #E2EBFA;\n",
              "      box-shadow: 0px 1px 2px rgba(60, 64, 67, 0.3), 0px 1px 3px 1px rgba(60, 64, 67, 0.15);\n",
              "      fill: #174EA6;\n",
              "    }\n",
              "\n",
              "    .colab-df-buttons div {\n",
              "      margin-bottom: 4px;\n",
              "    }\n",
              "\n",
              "    [theme=dark] .colab-df-convert {\n",
              "      background-color: #3B4455;\n",
              "      fill: #D2E3FC;\n",
              "    }\n",
              "\n",
              "    [theme=dark] .colab-df-convert:hover {\n",
              "      background-color: #434B5C;\n",
              "      box-shadow: 0px 1px 3px 1px rgba(0, 0, 0, 0.15);\n",
              "      filter: drop-shadow(0px 1px 2px rgba(0, 0, 0, 0.3));\n",
              "      fill: #FFFFFF;\n",
              "    }\n",
              "  </style>\n",
              "\n",
              "    <script>\n",
              "      const buttonEl =\n",
              "        document.querySelector('#df-7a708a6e-ce5e-4399-a395-1d5aa2023d47 button.colab-df-convert');\n",
              "      buttonEl.style.display =\n",
              "        google.colab.kernel.accessAllowed ? 'block' : 'none';\n",
              "\n",
              "      async function convertToInteractive(key) {\n",
              "        const element = document.querySelector('#df-7a708a6e-ce5e-4399-a395-1d5aa2023d47');\n",
              "        const dataTable =\n",
              "          await google.colab.kernel.invokeFunction('convertToInteractive',\n",
              "                                                    [key], {});\n",
              "        if (!dataTable) return;\n",
              "\n",
              "        const docLinkHtml = 'Like what you see? Visit the ' +\n",
              "          '<a target=\"_blank\" href=https://colab.research.google.com/notebooks/data_table.ipynb>data table notebook</a>'\n",
              "          + ' to learn more about interactive tables.';\n",
              "        element.innerHTML = '';\n",
              "        dataTable['output_type'] = 'display_data';\n",
              "        await google.colab.output.renderOutput(dataTable, element);\n",
              "        const docLink = document.createElement('div');\n",
              "        docLink.innerHTML = docLinkHtml;\n",
              "        element.appendChild(docLink);\n",
              "      }\n",
              "    </script>\n",
              "  </div>\n",
              "\n",
              "\n",
              "<div id=\"df-804488d0-3804-49ad-9b9a-afb3dd816d1b\">\n",
              "  <button class=\"colab-df-quickchart\" onclick=\"quickchart('df-804488d0-3804-49ad-9b9a-afb3dd816d1b')\"\n",
              "            title=\"Suggest charts\"\n",
              "            style=\"display:none;\">\n",
              "\n",
              "<svg xmlns=\"http://www.w3.org/2000/svg\" height=\"24px\"viewBox=\"0 0 24 24\"\n",
              "     width=\"24px\">\n",
              "    <g>\n",
              "        <path d=\"M19 3H5c-1.1 0-2 .9-2 2v14c0 1.1.9 2 2 2h14c1.1 0 2-.9 2-2V5c0-1.1-.9-2-2-2zM9 17H7v-7h2v7zm4 0h-2V7h2v10zm4 0h-2v-4h2v4z\"/>\n",
              "    </g>\n",
              "</svg>\n",
              "  </button>\n",
              "\n",
              "<style>\n",
              "  .colab-df-quickchart {\n",
              "      --bg-color: #E8F0FE;\n",
              "      --fill-color: #1967D2;\n",
              "      --hover-bg-color: #E2EBFA;\n",
              "      --hover-fill-color: #174EA6;\n",
              "      --disabled-fill-color: #AAA;\n",
              "      --disabled-bg-color: #DDD;\n",
              "  }\n",
              "\n",
              "  [theme=dark] .colab-df-quickchart {\n",
              "      --bg-color: #3B4455;\n",
              "      --fill-color: #D2E3FC;\n",
              "      --hover-bg-color: #434B5C;\n",
              "      --hover-fill-color: #FFFFFF;\n",
              "      --disabled-bg-color: #3B4455;\n",
              "      --disabled-fill-color: #666;\n",
              "  }\n",
              "\n",
              "  .colab-df-quickchart {\n",
              "    background-color: var(--bg-color);\n",
              "    border: none;\n",
              "    border-radius: 50%;\n",
              "    cursor: pointer;\n",
              "    display: none;\n",
              "    fill: var(--fill-color);\n",
              "    height: 32px;\n",
              "    padding: 0;\n",
              "    width: 32px;\n",
              "  }\n",
              "\n",
              "  .colab-df-quickchart:hover {\n",
              "    background-color: var(--hover-bg-color);\n",
              "    box-shadow: 0 1px 2px rgba(60, 64, 67, 0.3), 0 1px 3px 1px rgba(60, 64, 67, 0.15);\n",
              "    fill: var(--button-hover-fill-color);\n",
              "  }\n",
              "\n",
              "  .colab-df-quickchart-complete:disabled,\n",
              "  .colab-df-quickchart-complete:disabled:hover {\n",
              "    background-color: var(--disabled-bg-color);\n",
              "    fill: var(--disabled-fill-color);\n",
              "    box-shadow: none;\n",
              "  }\n",
              "\n",
              "  .colab-df-spinner {\n",
              "    border: 2px solid var(--fill-color);\n",
              "    border-color: transparent;\n",
              "    border-bottom-color: var(--fill-color);\n",
              "    animation:\n",
              "      spin 1s steps(1) infinite;\n",
              "  }\n",
              "\n",
              "  @keyframes spin {\n",
              "    0% {\n",
              "      border-color: transparent;\n",
              "      border-bottom-color: var(--fill-color);\n",
              "      border-left-color: var(--fill-color);\n",
              "    }\n",
              "    20% {\n",
              "      border-color: transparent;\n",
              "      border-left-color: var(--fill-color);\n",
              "      border-top-color: var(--fill-color);\n",
              "    }\n",
              "    30% {\n",
              "      border-color: transparent;\n",
              "      border-left-color: var(--fill-color);\n",
              "      border-top-color: var(--fill-color);\n",
              "      border-right-color: var(--fill-color);\n",
              "    }\n",
              "    40% {\n",
              "      border-color: transparent;\n",
              "      border-right-color: var(--fill-color);\n",
              "      border-top-color: var(--fill-color);\n",
              "    }\n",
              "    60% {\n",
              "      border-color: transparent;\n",
              "      border-right-color: var(--fill-color);\n",
              "    }\n",
              "    80% {\n",
              "      border-color: transparent;\n",
              "      border-right-color: var(--fill-color);\n",
              "      border-bottom-color: var(--fill-color);\n",
              "    }\n",
              "    90% {\n",
              "      border-color: transparent;\n",
              "      border-bottom-color: var(--fill-color);\n",
              "    }\n",
              "  }\n",
              "</style>\n",
              "\n",
              "  <script>\n",
              "    async function quickchart(key) {\n",
              "      const quickchartButtonEl =\n",
              "        document.querySelector('#' + key + ' button');\n",
              "      quickchartButtonEl.disabled = true;  // To prevent multiple clicks.\n",
              "      quickchartButtonEl.classList.add('colab-df-spinner');\n",
              "      try {\n",
              "        const charts = await google.colab.kernel.invokeFunction(\n",
              "            'suggestCharts', [key], {});\n",
              "      } catch (error) {\n",
              "        console.error('Error during call to suggestCharts:', error);\n",
              "      }\n",
              "      quickchartButtonEl.classList.remove('colab-df-spinner');\n",
              "      quickchartButtonEl.classList.add('colab-df-quickchart-complete');\n",
              "    }\n",
              "    (() => {\n",
              "      let quickchartButtonEl =\n",
              "        document.querySelector('#df-804488d0-3804-49ad-9b9a-afb3dd816d1b button');\n",
              "      quickchartButtonEl.style.display =\n",
              "        google.colab.kernel.accessAllowed ? 'block' : 'none';\n",
              "    })();\n",
              "  </script>\n",
              "</div>\n",
              "\n",
              "  <div id=\"id_7e252e62-eaf7-4474-adf7-218a2bb66979\">\n",
              "    <style>\n",
              "      .colab-df-generate {\n",
              "        background-color: #E8F0FE;\n",
              "        border: none;\n",
              "        border-radius: 50%;\n",
              "        cursor: pointer;\n",
              "        display: none;\n",
              "        fill: #1967D2;\n",
              "        height: 32px;\n",
              "        padding: 0 0 0 0;\n",
              "        width: 32px;\n",
              "      }\n",
              "\n",
              "      .colab-df-generate:hover {\n",
              "        background-color: #E2EBFA;\n",
              "        box-shadow: 0px 1px 2px rgba(60, 64, 67, 0.3), 0px 1px 3px 1px rgba(60, 64, 67, 0.15);\n",
              "        fill: #174EA6;\n",
              "      }\n",
              "\n",
              "      [theme=dark] .colab-df-generate {\n",
              "        background-color: #3B4455;\n",
              "        fill: #D2E3FC;\n",
              "      }\n",
              "\n",
              "      [theme=dark] .colab-df-generate:hover {\n",
              "        background-color: #434B5C;\n",
              "        box-shadow: 0px 1px 3px 1px rgba(0, 0, 0, 0.15);\n",
              "        filter: drop-shadow(0px 1px 2px rgba(0, 0, 0, 0.3));\n",
              "        fill: #FFFFFF;\n",
              "      }\n",
              "    </style>\n",
              "    <button class=\"colab-df-generate\" onclick=\"generateWithVariable('df')\"\n",
              "            title=\"Generate code using this dataframe.\"\n",
              "            style=\"display:none;\">\n",
              "\n",
              "  <svg xmlns=\"http://www.w3.org/2000/svg\" height=\"24px\"viewBox=\"0 0 24 24\"\n",
              "       width=\"24px\">\n",
              "    <path d=\"M7,19H8.4L18.45,9,17,7.55,7,17.6ZM5,21V16.75L18.45,3.32a2,2,0,0,1,2.83,0l1.4,1.43a1.91,1.91,0,0,1,.58,1.4,1.91,1.91,0,0,1-.58,1.4L9.25,21ZM18.45,9,17,7.55Zm-12,3A5.31,5.31,0,0,0,4.9,8.1,5.31,5.31,0,0,0,1,6.5,5.31,5.31,0,0,0,4.9,4.9,5.31,5.31,0,0,0,6.5,1,5.31,5.31,0,0,0,8.1,4.9,5.31,5.31,0,0,0,12,6.5,5.46,5.46,0,0,0,6.5,12Z\"/>\n",
              "  </svg>\n",
              "    </button>\n",
              "    <script>\n",
              "      (() => {\n",
              "      const buttonEl =\n",
              "        document.querySelector('#id_7e252e62-eaf7-4474-adf7-218a2bb66979 button.colab-df-generate');\n",
              "      buttonEl.style.display =\n",
              "        google.colab.kernel.accessAllowed ? 'block' : 'none';\n",
              "\n",
              "      buttonEl.onclick = () => {\n",
              "        google.colab.notebook.generateWithVariable('df');\n",
              "      }\n",
              "      })();\n",
              "    </script>\n",
              "  </div>\n",
              "\n",
              "    </div>\n",
              "  </div>\n"
            ],
            "application/vnd.google.colaboratory.intrinsic+json": {
              "type": "dataframe",
              "variable_name": "df",
              "summary": "{\n  \"name\": \"df\",\n  \"rows\": 525,\n  \"fields\": [\n    {\n      \"column\": \"Age\",\n      \"properties\": {\n        \"dtype\": \"category\",\n        \"num_unique_values\": 6,\n        \"samples\": [\n          \"18-25\",\n          \"36-45\",\n          \"46-55\"\n        ],\n        \"semantic_type\": \"\",\n        \"description\": \"\"\n      }\n    },\n    {\n      \"column\": \"Location\",\n      \"properties\": {\n        \"dtype\": \"category\",\n        \"num_unique_values\": 25,\n        \"samples\": [\n          \"Bhopal\",\n          \"Chandigarh\",\n          \"Pune\"\n        ],\n        \"semantic_type\": \"\",\n        \"description\": \"\"\n      }\n    },\n    {\n      \"column\": \"Taste\",\n      \"properties\": {\n        \"dtype\": \"category\",\n        \"num_unique_values\": 2,\n        \"samples\": [\n          \"Savoury\",\n          \"Sweet\"\n        ],\n        \"semantic_type\": \"\",\n        \"description\": \"\"\n      }\n    },\n    {\n      \"column\": \"Savoury_pref\",\n      \"properties\": {\n        \"dtype\": \"number\",\n        \"std\": 2,\n        \"min\": 1,\n        \"max\": 10,\n        \"num_unique_values\": 10,\n        \"samples\": [\n          6,\n          1\n        ],\n        \"semantic_type\": \"\",\n        \"description\": \"\"\n      }\n    },\n    {\n      \"column\": \"Sweetness\",\n      \"properties\": {\n        \"dtype\": \"number\",\n        \"std\": 2,\n        \"min\": 1,\n        \"max\": 10,\n        \"num_unique_values\": 10,\n        \"samples\": [\n          1,\n          5\n        ],\n        \"semantic_type\": \"\",\n        \"description\": \"\"\n      }\n    },\n    {\n      \"column\": \"Spicy\",\n      \"properties\": {\n        \"dtype\": \"number\",\n        \"std\": 1,\n        \"min\": 1,\n        \"max\": 7,\n        \"num_unique_values\": 6,\n        \"samples\": [\n          1,\n          5\n        ],\n        \"semantic_type\": \"\",\n        \"description\": \"\"\n      }\n    },\n    {\n      \"column\": \"Texture\",\n      \"properties\": {\n        \"dtype\": \"category\",\n        \"num_unique_values\": 7,\n        \"samples\": [\n          \" Smooth\",\n          \"Thick\"\n        ],\n        \"semantic_type\": \"\",\n        \"description\": \"\"\n      }\n    },\n    {\n      \"column\": \"Viscosity\",\n      \"properties\": {\n        \"dtype\": \"category\",\n        \"num_unique_values\": 5,\n        \"samples\": [\n          \"3: Medium (like a milkshake)\",\n          \"1: Very thin (like water)\"\n        ],\n        \"semantic_type\": \"\",\n        \"description\": \"\"\n      }\n    },\n    {\n      \"column\": \"Flavor\",\n      \"properties\": {\n        \"dtype\": \"string\",\n        \"num_unique_values\": 472,\n        \"samples\": [\n          \"Fruity, Oats, Dryfruits, Chocolate, Green veggies, Banana, Mango, Pina Colada\",\n          \"Pina Colada, Oats, Dryfruits, Mango, Coffee, Fruity, Green veggies, Chocolate, Berries\"\n        ],\n        \"semantic_type\": \"\",\n        \"description\": \"\"\n      }\n    },\n    {\n      \"column\": \"Price\",\n      \"properties\": {\n        \"dtype\": \"category\",\n        \"num_unique_values\": 6,\n        \"samples\": [\n          \"200-250 \",\n          \"150-200 \"\n        ],\n        \"semantic_type\": \"\",\n        \"description\": \"\"\n      }\n    },\n    {\n      \"column\": \"New_likelihood\",\n      \"properties\": {\n        \"dtype\": \"category\",\n        \"num_unique_values\": 5,\n        \"samples\": [\n          \"Neutral\",\n          \"Very Unlikely\"\n        ],\n        \"semantic_type\": \"\",\n        \"description\": \"\"\n      }\n    }\n  ]\n}"
            }
          },
          "metadata": {},
          "execution_count": 4
        }
      ],
      "source": [
        "df=df.drop('Timestamp', axis=1)\n",
        "df"
      ]
    },
    {
      "cell_type": "code",
      "execution_count": null,
      "metadata": {
        "colab": {
          "base_uri": "https://localhost:8080/",
          "height": 211
        },
        "id": "_XkUGoGRx7RV",
        "outputId": "f2ce3268-0092-4821-a10b-298b5fcc3405"
      },
      "outputs": [
        {
          "data": {
            "image/png": "[encoded data removed]",
            "text/plain": [
              "<Figure size 432x288 with 1 Axes>"
            ]
          },
          "metadata": {
            "needs_background": "light"
          },
          "output_type": "display_data"
        }
      ],
      "source": [
        "import matplotlib.pyplot as plt\n",
        "import seaborn as sns\n",
        "\n",
        "# Group by 'Taste' and get the size of each group\n",
        "taste_counts = df.groupby('Taste').size()\n",
        "\n",
        "# Create a horizontal bar plot\n",
        "ax = taste_counts.plot(kind='barh', color=sns.color_palette('Dark2'))\n",
        "\n",
        "# Add exact count labels to each bar\n",
        "for index, value in enumerate(taste_counts):\n",
        "    plt.text(value, index, str(value))\n",
        "\n",
        "# Customize the plot\n",
        "plt.gca().spines[['top', 'right']].set_visible(False)\n",
        "plt.xlabel('Count')\n",
        "plt.ylabel('Taste')\n",
        "plt.title('Distribution of Taste Counts')\n",
        "\n",
        "# Show the plot\n",
        "plt.show()\n"
      ]
    },
    {
      "cell_type": "code",
      "execution_count": null,
      "metadata": {
        "id": "igT2Ux4gx1dD",
        "outputId": "5e4b1b6f-6c65-4741-f327-296a73ea4ce4"
      },
      "outputs": [
        {
          "data": {
            "image/png": "[encoded data removed]",
            "text/plain": [
              "<Figure size 432x288 with 1 Axes>"
            ]
          },
          "metadata": {
            "needs_background": "light"
          },
          "output_type": "display_data"
        }
      ],
      "source": [
        "from matplotlib import pyplot as plt\n",
        "df['Savoury_pref'].plot(kind='hist', bins=20, title='Savoury_pref')\n",
        "plt.gca().spines[['top', 'right',]].set_visible(False)"
      ]
    },
    {
      "cell_type": "code",
      "execution_count": null,
      "metadata": {
        "id": "0D_uZzbluAkn",
        "outputId": "68606a08-6a64-4359-b738-a36c0dd47d42"
      },
      "outputs": [
        {
          "data": {
            "image/png": "[encoded data removed]",
            "text/plain": [
              "<Figure size 432x288 with 1 Axes>"
            ]
          },
          "metadata": {
            "needs_background": "light"
          },
          "output_type": "display_data"
        }
      ],
      "source": [
        "# @title Viscosity Preference by Location\n",
        "\n",
        "import matplotlib.pyplot as plt\n",
        "\n",
        "location_viscosity = df.groupby(['Location', 'Viscosity'])['Viscosity'].count().unstack()\n",
        "location_viscosity.plot(kind='bar', stacked=True)\n",
        "plt.xlabel('Location')\n",
        "plt.ylabel('Count')\n",
        "_ = plt.title('Viscosity Preference by Location')"
      ]
    },
    {
      "cell_type": "code",
      "execution_count": null,
      "metadata": {
        "id": "WlND16swuJmJ",
        "outputId": "b0d1e775-d156-4fb0-a9fa-7bed9cc2dfae"
      },
      "outputs": [
        {
          "data": {
            "image/png": "[encoded data removed]",
            "text/plain": [
              "<Figure size 432x288 with 1 Axes>"
            ]
          },
          "metadata": {
            "needs_background": "light"
          },
          "output_type": "display_data"
        }
      ],
      "source": [
        "# @title Viscosity Preference by Location\n",
        "\n",
        "import matplotlib.pyplot as plt\n",
        "\n",
        "location_viscosity = df.groupby(['Location', 'Age'])['Age'].count().unstack()\n",
        "location_viscosity.plot(kind='bar', stacked=True)\n",
        "plt.xlabel('Location')\n",
        "plt.ylabel('Count')\n",
        "_ = plt.title('Viscosity Preference by Age')"
      ]
    },
    {
      "cell_type": "markdown",
      "metadata": {
        "id": "OQQq-jk-I4fF"
      },
      "source": [
        "Top Flavors( city wise)"
      ]
    },
    {
      "cell_type": "code",
      "execution_count": null,
      "metadata": {
        "id": "p42TQbITvtso",
        "colab": {
          "base_uri": "https://localhost:8080/",
          "height": 859
        },
        "outputId": "34fa6f80-6745-4ff4-960d-3f1524b8268d"
      },
      "outputs": [
        {
          "output_type": "stream",
          "name": "stdout",
          "text": [
            "       Location         Flavor  count\n",
            "3     Ahmedabad         Coffee     20\n",
            "18    Bangalore          Mango     17\n",
            "22   Bangladesh         Fruity      1\n",
            "33       Baroda    Pina Colada     16\n",
            "34       Bhopal        Berries      1\n",
            "38   Chandigarh         Banana     16\n",
            "49      Chennai         Banana     23\n",
            "65        Delhi         Fruity     15\n",
            "71    Hyderabad         Banana     17\n",
            "85       Indore         Coffee     16\n",
            "100      Jaipur          Mango     14\n",
            "113     Jodhpur        Oregano     21\n",
            "123      Kanpur           Oats     19\n",
            "126       Kochi         Banana     12\n",
            "147     Kolkata    Pina Colada     17\n",
            "148     Lucknow         Banana     20\n",
            "160      Mumbai        Berries     14\n",
            "172      Nagpur      Chocolate     11\n",
            "183      Nashik      Chocolate     16\n",
            "192       Nasik        Berries      1\n",
            "201       Patna  Green veggies     21\n",
            "208        Pune      Chocolate     25\n",
            "217   Sangamner      Chocolate      1\n",
            "223       Surat         Fruity     17\n",
            "229  Trivandrum        Berries      1\n"
          ]
        },
        {
          "output_type": "display_data",
          "data": {
            "text/plain": [
              "<Figure size 1000x600 with 1 Axes>"
            ],
            "image/png": "[encoded data removed]"
          },
          "metadata": {}
        }
      ],
      "source": [
        "import pandas as pd\n",
        "import matplotlib.pyplot as plt\n",
        "\n",
        "\n",
        "# Split 'flavors' column and explode the DataFrame\n",
        "df['Flavor'] = df['Flavor'].str.split(', ')\n",
        "df = df.explode('Flavor')\n",
        "\n",
        "# Group by location and flavor, then count the occurrences\n",
        "flavor_counts = df.groupby(['Location', 'Flavor']).size().reset_index(name='count')\n",
        "\n",
        "# Find the top flavor for each location\n",
        "top_flavors = flavor_counts.loc[flavor_counts.groupby('Location')['count'].idxmax()]\n",
        "\n",
        "# Print the results\n",
        "print(top_flavors)\n",
        "\n",
        "# Optionally, visualize the results\n",
        "plt.figure(figsize=(10, 6))\n",
        "for location in top_flavors['Location'].unique():\n",
        "    subset = top_flavors[top_flavors['Location'] == location]\n",
        "    plt.bar(location, subset['count'].values[0], label=f\"{subset['Flavor'].values[0]} ({subset['count'].values[0]})\")\n",
        "\n",
        "plt.title('Top Picked Flavor by Location')\n",
        "plt.xlabel('Location')\n",
        "plt.xticks(rotation=90)\n",
        "plt.ylabel('Count')\n",
        "plt.legend(title='Top Flavor (Count)', bbox_to_anchor=(1.05, 1), loc='upper left')\n",
        "plt.grid(True)\n",
        "plt.tight_layout()\n",
        "\n",
        "# Show plot\n",
        "plt.show()\n"
      ]
    },
    {
      "cell_type": "code",
      "execution_count": null,
      "metadata": {
        "id": "WKHc8RY8xpFl",
        "outputId": "90f79929-3719-4de6-9f3c-6b858cab4a15"
      },
      "outputs": [
        {
          "name": "stdout",
          "output_type": "stream",
          "text": [
            "             Age       Flavor  count\n",
            "2          18-25    Chocolate     66\n",
            "11         26-35       Banana     51\n",
            "22         36-45       Banana     56\n",
            "38         46-55       Fruity     51\n",
            "54  56 and above  Pina Colada     48\n",
            "59      Under 18    Dryfruits     47\n"
          ]
        },
        {
          "data": {
            "image/png": "[encoded data removed]",
            "text/plain": [
              "<Figure size 720x432 with 1 Axes>"
            ]
          },
          "metadata": {
            "needs_background": "light"
          },
          "output_type": "display_data"
        }
      ],
      "source": [
        "import pandas as pd\n",
        "import matplotlib.pyplot as plt\n",
        "# Split 'flavors' column and explode the DataFrame\n",
        "df['Flavor'] = df['Flavor'].str.split(', ')\n",
        "df = df.explode('Flavor')\n",
        "\n",
        "# Group by age and flavor, then count the occurrences\n",
        "flavor_counts_by_age = df.groupby(['Age', 'Flavor']).size().reset_index(name='count')\n",
        "\n",
        "# Find the top flavor for each age group\n",
        "top_flavors_by_age = flavor_counts_by_age.loc[flavor_counts_by_age.groupby('Age')['count'].idxmax()]\n",
        "\n",
        "# Print the results\n",
        "print(top_flavors_by_age)\n",
        "\n",
        "# Optionally, visualize the results\n",
        "plt.figure(figsize=(10, 6))\n",
        "for age in top_flavors_by_age['Age'].unique():\n",
        "    subset = top_flavors_by_age[top_flavors_by_age['Age'] == age]\n",
        "    plt.bar(age, subset['count'].values[0], label=f\"{subset['Flavor'].values[0]} ({subset['count'].values[0]})\")\n",
        "\n",
        "plt.title('Top Picked Flavor by Age')\n",
        "plt.xlabel('Age')\n",
        "plt.ylabel('Count')\n",
        "plt.legend(title='Top Flavor (Count)', bbox_to_anchor=(1.05, 1), loc='upper left')\n",
        "plt.grid(True)\n",
        "plt.tight_layout()\n",
        "\n",
        "# Show plot\n",
        "plt.show()\n"
      ]
    },
    {
      "cell_type": "code",
      "execution_count": null,
      "metadata": {
        "id": "VRIWUxaYXj_C",
        "outputId": "3fcf54f8-5068-4e28-d7c8-f1c7fb1c1efa"
      },
      "outputs": [
        {
          "name": "stdout",
          "output_type": "stream",
          "text": [
            "       Location           Age  count\n",
            "0     Ahmedabad         18-25     29\n",
            "1     Ahmedabad         26-35     28\n",
            "2     Ahmedabad         36-45     25\n",
            "3     Ahmedabad         46-55     43\n",
            "4     Ahmedabad  56 and above     27\n",
            "..          ...           ...    ...\n",
            "119       Surat         36-45     46\n",
            "120       Surat         46-55     18\n",
            "121       Surat  56 and above     17\n",
            "122       Surat      Under 18     24\n",
            "123  Trivandrum         18-25      3\n",
            "\n",
            "[124 rows x 3 columns]\n"
          ]
        },
        {
          "data": {
            "image/png": "[encoded data removed]",
            "text/plain": [
              "<Figure size 864x576 with 1 Axes>"
            ]
          },
          "metadata": {
            "needs_background": "light"
          },
          "output_type": "display_data"
        }
      ],
      "source": [
        "age_distribution = df.groupby(['Location', 'Age']).size().reset_index(name='count')\n",
        "\n",
        "print(age_distribution)\n",
        "plt.figure(figsize=(12, 8))\n",
        "\n",
        "# Loop through each age group and plot it for every location\n",
        "for age in age_distribution['Age'].unique():\n",
        "    subset = age_distribution[age_distribution['Age'] == age]\n",
        "    plt.bar(subset['Location'], subset['count'], label=age, alpha=0.7)\n",
        "\n",
        "plt.title('Location Distribution by Age Group')\n",
        "plt.xlabel('Location')\n",
        "plt.ylabel('Count')\n",
        "plt.legend(title='Age Group')\n",
        "plt.xticks(rotation=90)\n",
        "plt.grid(True)\n",
        "plt.tight_layout()\n",
        "plt.show()\n"
      ]
    },
    {
      "cell_type": "code",
      "execution_count": null,
      "metadata": {
        "id": "clnVWlopzWM8",
        "outputId": "b9639798-4436-4bfc-ada8-76ed6bb6a6ca"
      },
      "outputs": [
        {
          "data": {
            "text/html": [
              "<div>\n",
              "<style scoped>\n",
              "    .dataframe tbody tr th:only-of-type {\n",
              "        vertical-align: middle;\n",
              "    }\n",
              "\n",
              "    .dataframe tbody tr th {\n",
              "        vertical-align: top;\n",
              "    }\n",
              "\n",
              "    .dataframe thead th {\n",
              "        text-align: right;\n",
              "    }\n",
              "</style>\n",
              "<table border=\"1\" class=\"dataframe\">\n",
              "  <thead>\n",
              "    <tr style=\"text-align: right;\">\n",
              "      <th></th>\n",
              "      <th>Location</th>\n",
              "      <th>Age</th>\n",
              "      <th>count</th>\n",
              "    </tr>\n",
              "  </thead>\n",
              "  <tbody>\n",
              "    <tr>\n",
              "      <th>0</th>\n",
              "      <td>Ahmedabad</td>\n",
              "      <td>18-25</td>\n",
              "      <td>29</td>\n",
              "    </tr>\n",
              "    <tr>\n",
              "      <th>1</th>\n",
              "      <td>Ahmedabad</td>\n",
              "      <td>26-35</td>\n",
              "      <td>28</td>\n",
              "    </tr>\n",
              "    <tr>\n",
              "      <th>2</th>\n",
              "      <td>Ahmedabad</td>\n",
              "      <td>36-45</td>\n",
              "      <td>25</td>\n",
              "    </tr>\n",
              "    <tr>\n",
              "      <th>3</th>\n",
              "      <td>Ahmedabad</td>\n",
              "      <td>46-55</td>\n",
              "      <td>43</td>\n",
              "    </tr>\n",
              "    <tr>\n",
              "      <th>4</th>\n",
              "      <td>Ahmedabad</td>\n",
              "      <td>56 and above</td>\n",
              "      <td>27</td>\n",
              "    </tr>\n",
              "    <tr>\n",
              "      <th>...</th>\n",
              "      <td>...</td>\n",
              "      <td>...</td>\n",
              "      <td>...</td>\n",
              "    </tr>\n",
              "    <tr>\n",
              "      <th>119</th>\n",
              "      <td>Surat</td>\n",
              "      <td>36-45</td>\n",
              "      <td>46</td>\n",
              "    </tr>\n",
              "    <tr>\n",
              "      <th>120</th>\n",
              "      <td>Surat</td>\n",
              "      <td>46-55</td>\n",
              "      <td>18</td>\n",
              "    </tr>\n",
              "    <tr>\n",
              "      <th>121</th>\n",
              "      <td>Surat</td>\n",
              "      <td>56 and above</td>\n",
              "      <td>17</td>\n",
              "    </tr>\n",
              "    <tr>\n",
              "      <th>122</th>\n",
              "      <td>Surat</td>\n",
              "      <td>Under 18</td>\n",
              "      <td>24</td>\n",
              "    </tr>\n",
              "    <tr>\n",
              "      <th>123</th>\n",
              "      <td>Trivandrum</td>\n",
              "      <td>18-25</td>\n",
              "      <td>3</td>\n",
              "    </tr>\n",
              "  </tbody>\n",
              "</table>\n",
              "<p>124 rows × 3 columns</p>\n",
              "</div>"
            ],
            "text/plain": [
              "       Location           Age  count\n",
              "0     Ahmedabad         18-25     29\n",
              "1     Ahmedabad         26-35     28\n",
              "2     Ahmedabad         36-45     25\n",
              "3     Ahmedabad         46-55     43\n",
              "4     Ahmedabad  56 and above     27\n",
              "..          ...           ...    ...\n",
              "119       Surat         36-45     46\n",
              "120       Surat         46-55     18\n",
              "121       Surat  56 and above     17\n",
              "122       Surat      Under 18     24\n",
              "123  Trivandrum         18-25      3\n",
              "\n",
              "[124 rows x 3 columns]"
            ]
          },
          "execution_count": 14,
          "metadata": {},
          "output_type": "execute_result"
        }
      ],
      "source": [
        "age_distribution"
      ]
    },
    {
      "cell_type": "code",
      "execution_count": null,
      "metadata": {
        "colab": {
          "base_uri": "https://localhost:8080/",
          "height": 662
        },
        "id": "7vgnz0zZbxJ9",
        "outputId": "c0c8727c-6943-4a29-b17b-0f34e83a0ede"
      },
      "outputs": [
        {
          "data": {
            "image/png": "[encoded data removed]",
            "text/plain": [
              "<Figure size 720x432 with 1 Axes>"
            ]
          },
          "metadata": {
            "needs_background": "light"
          },
          "output_type": "display_data"
        }
      ],
      "source": [
        "import numpy as np\n",
        "\n",
        "\n",
        "grouped = df.groupby('Age')['Viscosity'].value_counts().reset_index(name='count')\n",
        "\n",
        "\n",
        "idx = grouped.groupby('Age')['count'].transform(max) == grouped['count']\n",
        "highest_occurrence = grouped[idx]\n",
        "\n",
        "# Plotting a bar plot\n",
        "plt.figure(figsize=(10, 6))\n",
        "for key, grp in highest_occurrence.groupby('Age'):\n",
        "    plt.bar(grp['Viscosity'], grp['count'], label=key, alpha=0.7)\n",
        "\n",
        "plt.title('Highest Occurrence of Viscosity by Age (Bar Plot)')\n",
        "plt.xlabel('Viscosity')\n",
        "plt.ylabel('Count')\n",
        "plt.legend(title='Age')\n",
        "\n",
        "plt.grid(True)\n",
        "plt.tight_layout()\n",
        "plt.show()"
      ]
    },
    {
      "cell_type": "code",
      "execution_count": null,
      "metadata": {
        "colab": {
          "base_uri": "https://localhost:8080/",
          "height": 833
        },
        "id": "Ax_6VkI3XxEs",
        "outputId": "18dfa25e-84ee-4483-ab9d-01d50e559881"
      },
      "outputs": [
        {
          "data": {
            "text/html": [
              "<div>\n",
              "<style scoped>\n",
              "    .dataframe tbody tr th:only-of-type {\n",
              "        vertical-align: middle;\n",
              "    }\n",
              "\n",
              "    .dataframe tbody tr th {\n",
              "        vertical-align: top;\n",
              "    }\n",
              "\n",
              "    .dataframe thead th {\n",
              "        text-align: right;\n",
              "    }\n",
              "</style>\n",
              "<table border=\"1\" class=\"dataframe\">\n",
              "  <thead>\n",
              "    <tr style=\"text-align: right;\">\n",
              "      <th></th>\n",
              "      <th>Location</th>\n",
              "      <th>Flavor</th>\n",
              "      <th>count</th>\n",
              "    </tr>\n",
              "  </thead>\n",
              "  <tbody>\n",
              "    <tr>\n",
              "      <th>3</th>\n",
              "      <td>Ahmedabad</td>\n",
              "      <td>Coffee</td>\n",
              "      <td>20</td>\n",
              "    </tr>\n",
              "    <tr>\n",
              "      <th>18</th>\n",
              "      <td>Bangalore</td>\n",
              "      <td>Mango</td>\n",
              "      <td>17</td>\n",
              "    </tr>\n",
              "    <tr>\n",
              "      <th>22</th>\n",
              "      <td>Bangladesh</td>\n",
              "      <td>Fruity</td>\n",
              "      <td>1</td>\n",
              "    </tr>\n",
              "    <tr>\n",
              "      <th>33</th>\n",
              "      <td>Baroda</td>\n",
              "      <td>Pina Colada</td>\n",
              "      <td>16</td>\n",
              "    </tr>\n",
              "    <tr>\n",
              "      <th>34</th>\n",
              "      <td>Bhopal</td>\n",
              "      <td>Berries</td>\n",
              "      <td>1</td>\n",
              "    </tr>\n",
              "    <tr>\n",
              "      <th>38</th>\n",
              "      <td>Chandigarh</td>\n",
              "      <td>Banana</td>\n",
              "      <td>16</td>\n",
              "    </tr>\n",
              "    <tr>\n",
              "      <th>49</th>\n",
              "      <td>Chennai</td>\n",
              "      <td>Banana</td>\n",
              "      <td>23</td>\n",
              "    </tr>\n",
              "    <tr>\n",
              "      <th>65</th>\n",
              "      <td>Delhi</td>\n",
              "      <td>Fruity</td>\n",
              "      <td>15</td>\n",
              "    </tr>\n",
              "    <tr>\n",
              "      <th>71</th>\n",
              "      <td>Hyderabad</td>\n",
              "      <td>Banana</td>\n",
              "      <td>17</td>\n",
              "    </tr>\n",
              "    <tr>\n",
              "      <th>85</th>\n",
              "      <td>Indore</td>\n",
              "      <td>Coffee</td>\n",
              "      <td>16</td>\n",
              "    </tr>\n",
              "    <tr>\n",
              "      <th>100</th>\n",
              "      <td>Jaipur</td>\n",
              "      <td>Mango</td>\n",
              "      <td>14</td>\n",
              "    </tr>\n",
              "    <tr>\n",
              "      <th>113</th>\n",
              "      <td>Jodhpur</td>\n",
              "      <td>Oregano</td>\n",
              "      <td>21</td>\n",
              "    </tr>\n",
              "    <tr>\n",
              "      <th>123</th>\n",
              "      <td>Kanpur</td>\n",
              "      <td>Oats</td>\n",
              "      <td>19</td>\n",
              "    </tr>\n",
              "    <tr>\n",
              "      <th>126</th>\n",
              "      <td>Kochi</td>\n",
              "      <td>Banana</td>\n",
              "      <td>12</td>\n",
              "    </tr>\n",
              "    <tr>\n",
              "      <th>147</th>\n",
              "      <td>Kolkata</td>\n",
              "      <td>Pina Colada</td>\n",
              "      <td>17</td>\n",
              "    </tr>\n",
              "    <tr>\n",
              "      <th>148</th>\n",
              "      <td>Lucknow</td>\n",
              "      <td>Banana</td>\n",
              "      <td>20</td>\n",
              "    </tr>\n",
              "    <tr>\n",
              "      <th>160</th>\n",
              "      <td>Mumbai</td>\n",
              "      <td>Berries</td>\n",
              "      <td>14</td>\n",
              "    </tr>\n",
              "    <tr>\n",
              "      <th>172</th>\n",
              "      <td>Nagpur</td>\n",
              "      <td>Chocolate</td>\n",
              "      <td>11</td>\n",
              "    </tr>\n",
              "    <tr>\n",
              "      <th>183</th>\n",
              "      <td>Nashik</td>\n",
              "      <td>Chocolate</td>\n",
              "      <td>16</td>\n",
              "    </tr>\n",
              "    <tr>\n",
              "      <th>192</th>\n",
              "      <td>Nasik</td>\n",
              "      <td>Berries</td>\n",
              "      <td>1</td>\n",
              "    </tr>\n",
              "    <tr>\n",
              "      <th>201</th>\n",
              "      <td>Patna</td>\n",
              "      <td>Green veggies</td>\n",
              "      <td>21</td>\n",
              "    </tr>\n",
              "    <tr>\n",
              "      <th>208</th>\n",
              "      <td>Pune</td>\n",
              "      <td>Chocolate</td>\n",
              "      <td>25</td>\n",
              "    </tr>\n",
              "    <tr>\n",
              "      <th>217</th>\n",
              "      <td>Sangamner</td>\n",
              "      <td>Chocolate</td>\n",
              "      <td>1</td>\n",
              "    </tr>\n",
              "    <tr>\n",
              "      <th>223</th>\n",
              "      <td>Surat</td>\n",
              "      <td>Fruity</td>\n",
              "      <td>17</td>\n",
              "    </tr>\n",
              "    <tr>\n",
              "      <th>229</th>\n",
              "      <td>Trivandrum</td>\n",
              "      <td>Berries</td>\n",
              "      <td>1</td>\n",
              "    </tr>\n",
              "  </tbody>\n",
              "</table>\n",
              "</div>"
            ],
            "text/plain": [
              "       Location         Flavor  count\n",
              "3     Ahmedabad         Coffee     20\n",
              "18    Bangalore          Mango     17\n",
              "22   Bangladesh         Fruity      1\n",
              "33       Baroda    Pina Colada     16\n",
              "34       Bhopal        Berries      1\n",
              "38   Chandigarh         Banana     16\n",
              "49      Chennai         Banana     23\n",
              "65        Delhi         Fruity     15\n",
              "71    Hyderabad         Banana     17\n",
              "85       Indore         Coffee     16\n",
              "100      Jaipur          Mango     14\n",
              "113     Jodhpur        Oregano     21\n",
              "123      Kanpur           Oats     19\n",
              "126       Kochi         Banana     12\n",
              "147     Kolkata    Pina Colada     17\n",
              "148     Lucknow         Banana     20\n",
              "160      Mumbai        Berries     14\n",
              "172      Nagpur      Chocolate     11\n",
              "183      Nashik      Chocolate     16\n",
              "192       Nasik        Berries      1\n",
              "201       Patna  Green veggies     21\n",
              "208        Pune      Chocolate     25\n",
              "217   Sangamner      Chocolate      1\n",
              "223       Surat         Fruity     17\n",
              "229  Trivandrum        Berries      1"
            ]
          },
          "execution_count": 4,
          "metadata": {},
          "output_type": "execute_result"
        }
      ],
      "source": [
        "# Split 'flavors' column and explode the DataFrame\n",
        "df['Flavor'] = df['Flavor'].str.split(', ')\n",
        "df = df.explode('Flavor')\n",
        "\n",
        "# Group by location and flavor\n",
        "flavor_counts = df.groupby(['Location', 'Flavor']).size().reset_index(name='count')\n",
        "\n",
        "# Find the top flavor for each location\n",
        "top_flavors = flavor_counts.loc[flavor_counts.groupby('Location')['count'].idxmax()]\n",
        "top_flavors\n"
      ]
    },
    {
      "cell_type": "code",
      "execution_count": null,
      "metadata": {
        "colab": {
          "base_uri": "https://localhost:8080/",
          "height": 269
        },
        "id": "KNUJ8U_hI1Of",
        "outputId": "45f70266-e482-4c27-86b4-87b6873033f2"
      },
      "outputs": [
        {
          "data": {
            "text/html": [
              "<div>\n",
              "<style scoped>\n",
              "    .dataframe tbody tr th:only-of-type {\n",
              "        vertical-align: middle;\n",
              "    }\n",
              "\n",
              "    .dataframe tbody tr th {\n",
              "        vertical-align: top;\n",
              "    }\n",
              "\n",
              "    .dataframe thead th {\n",
              "        text-align: right;\n",
              "    }\n",
              "</style>\n",
              "<table border=\"1\" class=\"dataframe\">\n",
              "  <thead>\n",
              "    <tr style=\"text-align: right;\">\n",
              "      <th></th>\n",
              "      <th>Flavor</th>\n",
              "      <th>Texture</th>\n",
              "      <th>count</th>\n",
              "    </tr>\n",
              "  </thead>\n",
              "  <tbody>\n",
              "    <tr>\n",
              "      <th>4</th>\n",
              "      <td>Berries</td>\n",
              "      <td>Smooth</td>\n",
              "      <td>1</td>\n",
              "    </tr>\n",
              "    <tr>\n",
              "      <th>5</th>\n",
              "      <td>Berries</td>\n",
              "      <td>Thick</td>\n",
              "      <td>1</td>\n",
              "    </tr>\n",
              "    <tr>\n",
              "      <th>18</th>\n",
              "      <td>Coffee</td>\n",
              "      <td>Grainy</td>\n",
              "      <td>73</td>\n",
              "    </tr>\n",
              "    <tr>\n",
              "      <th>7</th>\n",
              "      <td>Berries</td>\n",
              "      <td>Grainy, Thick</td>\n",
              "      <td>1</td>\n",
              "    </tr>\n",
              "    <tr>\n",
              "      <th>52</th>\n",
              "      <td>Pina Colada</td>\n",
              "      <td>Gummy</td>\n",
              "      <td>76</td>\n",
              "    </tr>\n",
              "    <tr>\n",
              "      <th>30</th>\n",
              "      <td>Fruity</td>\n",
              "      <td>Smooth</td>\n",
              "      <td>87</td>\n",
              "    </tr>\n",
              "    <tr>\n",
              "      <th>10</th>\n",
              "      <td>Berries</td>\n",
              "      <td>Thick</td>\n",
              "      <td>81</td>\n",
              "    </tr>\n",
              "  </tbody>\n",
              "</table>\n",
              "</div>"
            ],
            "text/plain": [
              "         Flavor        Texture  count\n",
              "4       Berries         Smooth      1\n",
              "5       Berries          Thick      1\n",
              "18       Coffee         Grainy     73\n",
              "7       Berries  Grainy, Thick      1\n",
              "52  Pina Colada          Gummy     76\n",
              "30       Fruity         Smooth     87\n",
              "10      Berries          Thick     81"
            ]
          },
          "execution_count": 17,
          "metadata": {},
          "output_type": "execute_result"
        }
      ],
      "source": [
        "df['Flavor'] = df['Flavor'].str.split(', ')\n",
        "df = df.explode('Flavor')\n",
        "texture_counts = df.groupby(['Flavor', 'Texture']).size().reset_index(name='count')\n",
        "# Find the top flavor for each location\n",
        "top_texture = texture_counts.loc[texture_counts.groupby('Texture')['count'].idxmax()]\n",
        "top_texture"
      ]
    },
    {
      "cell_type": "markdown",
      "metadata": {
        "id": "HljnwYIOKPdJ"
      },
      "source": [
        "### Label Encoding was done for Viscosity as it was easier to predict\n",
        "1.   Very Thin (Water):0\n",
        "2.   Thin ( Fruit Juice):1\n",
        "3.   Medium (Milkshake):2\n",
        "4.   Thick (Yoghurt):3\n",
        "5.   Very Thick (Frozen Smoothie):4\n",
        "\n"
      ]
    },
    {
      "cell_type": "code",
      "execution_count": null,
      "metadata": {
        "id": "qWFg3VMDIKNf"
      },
      "outputs": [],
      "source": [
        "#Apply LabelEncoder to the 'Viscosity' column\n",
        "from sklearn.preprocessing import LabelEncoder\n",
        "label_encoder = LabelEncoder()\n",
        "df['Viscosity'] = label_encoder.fit_transform(df['Viscosity'])"
      ]
    },
    {
      "cell_type": "code",
      "execution_count": null,
      "metadata": {
        "colab": {
          "base_uri": "https://localhost:8080/",
          "height": 1000
        },
        "id": "y463EdRGISsj",
        "outputId": "955f4164-3721-4836-e7fc-fcb905399796",
        "scrolled": false
      },
      "outputs": [
        {
          "data": {
            "text/html": [
              "<div>\n",
              "<style scoped>\n",
              "    .dataframe tbody tr th:only-of-type {\n",
              "        vertical-align: middle;\n",
              "    }\n",
              "\n",
              "    .dataframe tbody tr th {\n",
              "        vertical-align: top;\n",
              "    }\n",
              "\n",
              "    .dataframe thead th {\n",
              "        text-align: right;\n",
              "    }\n",
              "</style>\n",
              "<table border=\"1\" class=\"dataframe\">\n",
              "  <thead>\n",
              "    <tr style=\"text-align: right;\">\n",
              "      <th></th>\n",
              "      <th>Age</th>\n",
              "      <th>Location</th>\n",
              "      <th>Taste</th>\n",
              "      <th>Savoury_pref</th>\n",
              "      <th>Sweetness</th>\n",
              "      <th>Spicy</th>\n",
              "      <th>Texture</th>\n",
              "      <th>Viscosity</th>\n",
              "      <th>Flavor</th>\n",
              "      <th>Price</th>\n",
              "      <th>New_likelihood</th>\n",
              "    </tr>\n",
              "  </thead>\n",
              "  <tbody>\n",
              "    <tr>\n",
              "      <th>0</th>\n",
              "      <td>18-25</td>\n",
              "      <td>Pune</td>\n",
              "      <td>Sweet</td>\n",
              "      <td>3</td>\n",
              "      <td>6</td>\n",
              "      <td>1</td>\n",
              "      <td>Smooth</td>\n",
              "      <td>3</td>\n",
              "      <td>Fruity</td>\n",
              "      <td>200-250</td>\n",
              "      <td>Likely</td>\n",
              "    </tr>\n",
              "    <tr>\n",
              "      <th>0</th>\n",
              "      <td>18-25</td>\n",
              "      <td>Pune</td>\n",
              "      <td>Sweet</td>\n",
              "      <td>3</td>\n",
              "      <td>6</td>\n",
              "      <td>1</td>\n",
              "      <td>Smooth</td>\n",
              "      <td>3</td>\n",
              "      <td>Berries</td>\n",
              "      <td>200-250</td>\n",
              "      <td>Likely</td>\n",
              "    </tr>\n",
              "    <tr>\n",
              "      <th>0</th>\n",
              "      <td>18-25</td>\n",
              "      <td>Pune</td>\n",
              "      <td>Sweet</td>\n",
              "      <td>3</td>\n",
              "      <td>6</td>\n",
              "      <td>1</td>\n",
              "      <td>Smooth</td>\n",
              "      <td>3</td>\n",
              "      <td>Chocolate</td>\n",
              "      <td>200-250</td>\n",
              "      <td>Likely</td>\n",
              "    </tr>\n",
              "    <tr>\n",
              "      <th>0</th>\n",
              "      <td>18-25</td>\n",
              "      <td>Pune</td>\n",
              "      <td>Sweet</td>\n",
              "      <td>3</td>\n",
              "      <td>6</td>\n",
              "      <td>1</td>\n",
              "      <td>Smooth</td>\n",
              "      <td>3</td>\n",
              "      <td>Pina Colada</td>\n",
              "      <td>200-250</td>\n",
              "      <td>Likely</td>\n",
              "    </tr>\n",
              "    <tr>\n",
              "      <th>0</th>\n",
              "      <td>18-25</td>\n",
              "      <td>Pune</td>\n",
              "      <td>Sweet</td>\n",
              "      <td>3</td>\n",
              "      <td>6</td>\n",
              "      <td>1</td>\n",
              "      <td>Smooth</td>\n",
              "      <td>3</td>\n",
              "      <td>Green veggies</td>\n",
              "      <td>200-250</td>\n",
              "      <td>Likely</td>\n",
              "    </tr>\n",
              "  </tbody>\n",
              "</table>\n",
              "</div>"
            ],
            "text/plain": [
              "     Age Location  Taste  Savoury_pref  Sweetness  Spicy  Texture  Viscosity  \\\n",
              "0  18-25     Pune  Sweet             3          6      1   Smooth          3   \n",
              "0  18-25     Pune  Sweet             3          6      1   Smooth          3   \n",
              "0  18-25     Pune  Sweet             3          6      1   Smooth          3   \n",
              "0  18-25     Pune  Sweet             3          6      1   Smooth          3   \n",
              "0  18-25     Pune  Sweet             3          6      1   Smooth          3   \n",
              "\n",
              "          Flavor     Price New_likelihood  \n",
              "0         Fruity  200-250          Likely  \n",
              "0        Berries  200-250          Likely  \n",
              "0      Chocolate  200-250          Likely  \n",
              "0    Pina Colada  200-250          Likely  \n",
              "0  Green veggies  200-250          Likely  "
            ]
          },
          "execution_count": 19,
          "metadata": {},
          "output_type": "execute_result"
        }
      ],
      "source": [
        "df.head()"
      ]
    },
    {
      "cell_type": "code",
      "execution_count": null,
      "metadata": {
        "colab": {
          "base_uri": "https://localhost:8080/"
        },
        "id": "T16fTyWM1D6J",
        "outputId": "b8d020f9-f30c-4654-af87-4f73657e52ef"
      },
      "outputs": [
        {
          "name": "stdout",
          "output_type": "stream",
          "text": [
            "Number of NaN values in 'Texture' column: 0\n"
          ]
        }
      ],
      "source": [
        "# Check for NaN values in the 'Texture' column\n",
        "nan_count = df['Texture'].isnull().sum()\n",
        "print(f\"Number of NaN values in 'Texture' column: {nan_count}\")\n",
        "\n",
        "# Drop rows with NaN values in the 'Texture' column\n",
        "df.dropna(subset=['Texture'], inplace=True)\n"
      ]
    },
    {
      "cell_type": "markdown",
      "metadata": {
        "id": "02jz_OsgzQeQ"
      },
      "source": [
        "### **RandomForestRegressor and RandomForestClassiier**\n",
        "Using the groupby method only since Mode is showing NaN. This method is helpful."
      ]
    },
    {
      "cell_type": "code",
      "execution_count": null,
      "metadata": {
        "colab": {
          "base_uri": "https://localhost:8080/"
        },
        "id": "8pY-42KA6SwZ",
        "outputId": "2afa072a-a72d-402d-d66e-71c4af137aa9",
        "scrolled": true
      },
      "outputs": [
        {
          "output_type": "stream",
          "name": "stdout",
          "text": [
            "Location: ['Indore', 'Pune', 'Kochi', 'Surat', 'Chandigarh']\n",
            "Flavor: ['Coffee', 'Chocolate', 'Banana', 'Fruity', 'Banana']\n",
            "Predicted Sweetness Levels: [5. 5. 5. 5. 5.]\n",
            "Predicted Viscosity Levels: [0 1 0 1 1]\n",
            "Predicted Preferred Prices: [275. 275. 275. 275. 275.]\n",
            "Predicted Texture Levels: ['Gummy' 'Thick' 'Gummy' 'Thick' 'Thick']\n",
            "Sweetness Level Accuracy: 1.0\n",
            "Viscosity Level Accuracy: 0.996742671009772\n",
            "Preferred Price Mean Squared Error: 0.0\n",
            "Texture Level Accuracy: 1.0\n"
          ]
        }
      ],
      "source": [
        "import pandas as pd\n",
        "from sklearn.model_selection import train_test_split\n",
        "#!pip install --upgrade scikit-learn\n",
        "from sklearn.ensemble import RandomForestClassifier, RandomForestRegressor\n",
        "from sklearn.preprocessing import OneHotEncoder\n",
        "from sklearn.metrics import accuracy_score, mean_squared_error\n",
        "\n",
        "# Assuming 'df' is your DataFrame\n",
        "# Preprocess the data\n",
        "categorical_features = ['Location', 'Flavor','Texture']\n",
        "numerical_features = ['Sweetness', 'Price','Viscosity']\n",
        "\n",
        "# Clean and convert the 'Price' column to numeric\n",
        "def convert_price(price):\n",
        "    if isinstance(price, str):\n",
        "        if '-' in price:\n",
        "            prices = price.split('-')\n",
        "            return (float(prices[0]) + float(prices[1])) / 2\n",
        "        else:\n",
        "            return float(price)\n",
        "    return price\n",
        "\n",
        "df['Price'] = df['Price'].apply(convert_price)\n",
        "\n",
        "# One-hot encode categorical features\n",
        "encoder = OneHotEncoder(handle_unknown='ignore')\n",
        "encoded_categorical = encoder.fit_transform(df[categorical_features]).toarray()\n",
        "\n",
        "# Combine encoded categorical features with numerical features\n",
        "encoded_categorical_df = pd.DataFrame(encoded_categorical, columns=encoder.get_feature_names_out(categorical_features))\n",
        "X = pd.concat([encoded_categorical_df, df[numerical_features].reset_index(drop=True)], axis=1)\n",
        "\n",
        "# Convert all feature names to strings\n",
        "X.columns = X.columns.astype(str)\n",
        "\n",
        "# Split the data into training and test sets\n",
        "X_train, X_test, y_train_sweetness, y_test_sweetness = train_test_split(X, df['Sweetness'], test_size=0.2, random_state=42)\n",
        "X_train, X_test, y_train_viscosity, y_test_viscosity = train_test_split(X, df['Viscosity'], test_size=0.2, random_state=42)\n",
        "X_train, X_test, y_train_price, y_test_price = train_test_split(X, df['Price'], test_size=0.2, random_state=42)\n",
        "X_train, X_test, y_train_texture, y_test_texture = train_test_split(X, df['Texture'], test_size=0.2, random_state=42)\n",
        "\n",
        "# Train models\n",
        "sweetness_model = RandomForestRegressor()\n",
        "sweetness_model.fit(X_train, y_train_sweetness)\n",
        "\n",
        "viscosity_model = RandomForestClassifier()\n",
        "viscosity_model.fit(X_train, y_train_viscosity)\n",
        "\n",
        "price_model = RandomForestRegressor()\n",
        "price_model.fit(X_train, y_train_price)\n",
        "\n",
        "texture_model = RandomForestClassifier()\n",
        "texture_model.fit(X_train, y_train_texture)\n",
        "\n",
        "# Making predictions for new data\n",
        "new_data = pd.DataFrame({\n",
        "    'Location': ['Indore', 'Pune', 'Kochi','Surat','Chandigarh'],\n",
        "    'Flavor': ['Coffee', 'Chocolate', 'Banana','Fruity','Banana'],\n",
        "    'Viscosity': ['NewViscosity1', 'NewViscosity2', 'NewViscosity3','NewViscosity4','NewViscosity5'],\n",
        "    'Texture': ['Texture1', 'Texture2', 'Texture3','Texture4','Texture5']\n",
        "})\n",
        "\n",
        "# Applying one-hot encoding to new data\n",
        "encoded_new_data = encoder.transform(new_data[categorical_features]).toarray()\n",
        "\n",
        "encoded_new_data_df = pd.DataFrame(encoded_new_data, columns=encoder.get_feature_names_out(categorical_features))\n",
        "\n",
        "# Add numerical placeholders for 'Sweetness' and 'Price'\n",
        "new_numerical_data = pd.DataFrame({\n",
        "    'Sweetness': [df['Sweetness'].mean()] * len(new_data),\n",
        "    'Price': [df['Price'].mean()] * len(new_data)\n",
        "})\n",
        "\n",
        "# Combine encoded categorical data with numerical data\n",
        "new_data_combined = pd.concat([encoded_new_data_df, new_numerical_data], axis=1)\n",
        "\n",
        "# Ensure new data has the same columns as the training data\n",
        "missing_cols = set(X.columns) - set(new_data_combined.columns)\n",
        "for col in missing_cols:\n",
        "    new_data_combined[col] = 0\n",
        "new_data_combined = new_data_combined[X.columns]\n",
        "\n",
        "# New data prediction\n",
        "new_sweetness_predictions = sweetness_model.predict(new_data_combined)\n",
        "new_viscosity_predictions = viscosity_model.predict(new_data_combined)\n",
        "new_price_predictions = price_model.predict(new_data_combined)\n",
        "new_texture_predictions = texture_model.predict(new_data_combined)\n",
        "\n",
        "\n",
        "print(\"Location:\", new_data['Location'].tolist())\n",
        "print(\"Flavor:\", new_data['Flavor'].tolist())\n",
        "print(\"Predicted Sweetness Levels:\", new_sweetness_predictions)\n",
        "print(\"Predicted Viscosity Levels:\", new_viscosity_predictions)\n",
        "print(\"Predicted Preferred Prices:\", new_price_predictions)\n",
        "print(\"Predicted Texture Levels:\", new_texture_predictions)\n",
        "\n",
        "# Evaluate models\n",
        "# Sweetness level\n",
        "sweetness_predictions = sweetness_model.predict(X_test)\n",
        "print(\"Sweetness Level Accuracy:\", accuracy_score(y_test_sweetness, sweetness_predictions))\n",
        "\n",
        "# Viscosity level\n",
        "viscosity_predictions = viscosity_model.predict(X_test)\n",
        "print(\"Viscosity Level Accuracy:\", accuracy_score(y_test_viscosity, viscosity_predictions))\n",
        "\n",
        "# Preferred price\n",
        "price_predictions = price_model.predict(X_test)\n",
        "print(\"Preferred Price Mean Squared Error:\", mean_squared_error(y_test_price, price_predictions))\n",
        "\n",
        "# Texture level\n",
        "texture_predictions = texture_model.predict(X_test)\n",
        "print(\"Texture Level Accuracy:\", accuracy_score(y_test_texture, texture_predictions))\n"
      ]
    },
    {
      "cell_type": "markdown",
      "metadata": {
        "id": "Pke_e2DJXj_F"
      },
      "source": [
        "### Evaluation metrics for RF"
      ]
    },
    {
      "cell_type": "code",
      "execution_count": null,
      "metadata": {
        "colab": {
          "base_uri": "https://localhost:8080/",
          "height": 611
        },
        "id": "T7iGHWl5Xj_F",
        "outputId": "3944db4a-7d62-4ec2-d31a-ee24b35a900a"
      },
      "outputs": [
        {
          "output_type": "stream",
          "name": "stdout",
          "text": [
            "RF Accuracy: 0.9967\n",
            "RF Precision: 0.9983\n",
            "RF Recall: 0.9714\n",
            "RF F1 Score: 0.9838\n"
          ]
        },
        {
          "output_type": "display_data",
          "data": {
            "text/html": [
              "<html>\n",
              "<head><meta charset=\"utf-8\" /></head>\n",
              "<body>\n",
              "    <div>            <script src=\"https://cdnjs.cloudflare.com/ajax/libs/mathjax/2.7.5/MathJax.js?config=TeX-AMS-MML_SVG\"></script><script type=\"text/javascript\">if (window.MathJax && window.MathJax.Hub && window.MathJax.Hub.Config) {window.MathJax.Hub.Config({SVG: {font: \"STIX-Web\"}});}</script>                <script type=\"text/javascript\">window.PlotlyConfig = {MathJaxConfig: 'local'};</script>\n",
              "        <script charset=\"utf-8\" src=\"https://cdn.plot.ly/plotly-2.24.1.min.js\"></script>                <div id=\"3550425d-6551-43c5-89ee-52ac00f8ddba\" class=\"plotly-graph-div\" style=\"height:525px; width:100%;\"></div>            <script type=\"text/javascript\">                                    window.PLOTLYENV=window.PLOTLYENV || {};                                    if (document.getElementById(\"3550425d-6551-43c5-89ee-52ac00f8ddba\")) {                    Plotly.newPlot(                        \"3550425d-6551-43c5-89ee-52ac00f8ddba\",                        [{\"marker\":{\"color\":\"royalblue\"},\"text\":[0.9967,0.9983,0.9714,0.9838],\"textposition\":\"auto\",\"x\":[\"Accuracy\",\"Precision\",\"Recall\",\"F1-Score\"],\"y\":[0.996742671009772,0.9983193277310924,0.9714285714285715,0.9837715027588445],\"type\":\"bar\"}],                        {\"template\":{\"data\":{\"histogram2dcontour\":[{\"type\":\"histogram2dcontour\",\"colorbar\":{\"outlinewidth\":0,\"ticks\":\"\"},\"colorscale\":[[0.0,\"#0d0887\"],[0.1111111111111111,\"#46039f\"],[0.2222222222222222,\"#7201a8\"],[0.3333333333333333,\"#9c179e\"],[0.4444444444444444,\"#bd3786\"],[0.5555555555555556,\"#d8576b\"],[0.6666666666666666,\"#ed7953\"],[0.7777777777777778,\"#fb9f3a\"],[0.8888888888888888,\"#fdca26\"],[1.0,\"#f0f921\"]]}],\"choropleth\":[{\"type\":\"choropleth\",\"colorbar\":{\"outlinewidth\":0,\"ticks\":\"\"}}],\"histogram2d\":[{\"type\":\"histogram2d\",\"colorbar\":{\"outlinewidth\":0,\"ticks\":\"\"},\"colorscale\":[[0.0,\"#0d0887\"],[0.1111111111111111,\"#46039f\"],[0.2222222222222222,\"#7201a8\"],[0.3333333333333333,\"#9c179e\"],[0.4444444444444444,\"#bd3786\"],[0.5555555555555556,\"#d8576b\"],[0.6666666666666666,\"#ed7953\"],[0.7777777777777778,\"#fb9f3a\"],[0.8888888888888888,\"#fdca26\"],[1.0,\"#f0f921\"]]}],\"heatmap\":[{\"type\":\"heatmap\",\"colorbar\":{\"outlinewidth\":0,\"ticks\":\"\"},\"colorscale\":[[0.0,\"#0d0887\"],[0.1111111111111111,\"#46039f\"],[0.2222222222222222,\"#7201a8\"],[0.3333333333333333,\"#9c179e\"],[0.4444444444444444,\"#bd3786\"],[0.5555555555555556,\"#d8576b\"],[0.6666666666666666,\"#ed7953\"],[0.7777777777777778,\"#fb9f3a\"],[0.8888888888888888,\"#fdca26\"],[1.0,\"#f0f921\"]]}],\"heatmapgl\":[{\"type\":\"heatmapgl\",\"colorbar\":{\"outlinewidth\":0,\"ticks\":\"\"},\"colorscale\":[[0.0,\"#0d0887\"],[0.1111111111111111,\"#46039f\"],[0.2222222222222222,\"#7201a8\"],[0.3333333333333333,\"#9c179e\"],[0.4444444444444444,\"#bd3786\"],[0.5555555555555556,\"#d8576b\"],[0.6666666666666666,\"#ed7953\"],[0.7777777777777778,\"#fb9f3a\"],[0.8888888888888888,\"#fdca26\"],[1.0,\"#f0f921\"]]}],\"contourcarpet\":[{\"type\":\"contourcarpet\",\"colorbar\":{\"outlinewidth\":0,\"ticks\":\"\"}}],\"contour\":[{\"type\":\"contour\",\"colorbar\":{\"outlinewidth\":0,\"ticks\":\"\"},\"colorscale\":[[0.0,\"#0d0887\"],[0.1111111111111111,\"#46039f\"],[0.2222222222222222,\"#7201a8\"],[0.3333333333333333,\"#9c179e\"],[0.4444444444444444,\"#bd3786\"],[0.5555555555555556,\"#d8576b\"],[0.6666666666666666,\"#ed7953\"],[0.7777777777777778,\"#fb9f3a\"],[0.8888888888888888,\"#fdca26\"],[1.0,\"#f0f921\"]]}],\"surface\":[{\"type\":\"surface\",\"colorbar\":{\"outlinewidth\":0,\"ticks\":\"\"},\"colorscale\":[[0.0,\"#0d0887\"],[0.1111111111111111,\"#46039f\"],[0.2222222222222222,\"#7201a8\"],[0.3333333333333333,\"#9c179e\"],[0.4444444444444444,\"#bd3786\"],[0.5555555555555556,\"#d8576b\"],[0.6666666666666666,\"#ed7953\"],[0.7777777777777778,\"#fb9f3a\"],[0.8888888888888888,\"#fdca26\"],[1.0,\"#f0f921\"]]}],\"mesh3d\":[{\"type\":\"mesh3d\",\"colorbar\":{\"outlinewidth\":0,\"ticks\":\"\"}}],\"scatter\":[{\"fillpattern\":{\"fillmode\":\"overlay\",\"size\":10,\"solidity\":0.2},\"type\":\"scatter\"}],\"parcoords\":[{\"type\":\"parcoords\",\"line\":{\"colorbar\":{\"outlinewidth\":0,\"ticks\":\"\"}}}],\"scatterpolargl\":[{\"type\":\"scatterpolargl\",\"marker\":{\"colorbar\":{\"outlinewidth\":0,\"ticks\":\"\"}}}],\"bar\":[{\"error_x\":{\"color\":\"#2a3f5f\"},\"error_y\":{\"color\":\"#2a3f5f\"},\"marker\":{\"line\":{\"color\":\"#E5ECF6\",\"width\":0.5},\"pattern\":{\"fillmode\":\"overlay\",\"size\":10,\"solidity\":0.2}},\"type\":\"bar\"}],\"scattergeo\":[{\"type\":\"scattergeo\",\"marker\":{\"colorbar\":{\"outlinewidth\":0,\"ticks\":\"\"}}}],\"scatterpolar\":[{\"type\":\"scatterpolar\",\"marker\":{\"colorbar\":{\"outlinewidth\":0,\"ticks\":\"\"}}}],\"histogram\":[{\"marker\":{\"pattern\":{\"fillmode\":\"overlay\",\"size\":10,\"solidity\":0.2}},\"type\":\"histogram\"}],\"scattergl\":[{\"type\":\"scattergl\",\"marker\":{\"colorbar\":{\"outlinewidth\":0,\"ticks\":\"\"}}}],\"scatter3d\":[{\"type\":\"scatter3d\",\"line\":{\"colorbar\":{\"outlinewidth\":0,\"ticks\":\"\"}},\"marker\":{\"colorbar\":{\"outlinewidth\":0,\"ticks\":\"\"}}}],\"scattermapbox\":[{\"type\":\"scattermapbox\",\"marker\":{\"colorbar\":{\"outlinewidth\":0,\"ticks\":\"\"}}}],\"scatterternary\":[{\"type\":\"scatterternary\",\"marker\":{\"colorbar\":{\"outlinewidth\":0,\"ticks\":\"\"}}}],\"scattercarpet\":[{\"type\":\"scattercarpet\",\"marker\":{\"colorbar\":{\"outlinewidth\":0,\"ticks\":\"\"}}}],\"carpet\":[{\"aaxis\":{\"endlinecolor\":\"#2a3f5f\",\"gridcolor\":\"white\",\"linecolor\":\"white\",\"minorgridcolor\":\"white\",\"startlinecolor\":\"#2a3f5f\"},\"baxis\":{\"endlinecolor\":\"#2a3f5f\",\"gridcolor\":\"white\",\"linecolor\":\"white\",\"minorgridcolor\":\"white\",\"startlinecolor\":\"#2a3f5f\"},\"type\":\"carpet\"}],\"table\":[{\"cells\":{\"fill\":{\"color\":\"#EBF0F8\"},\"line\":{\"color\":\"white\"}},\"header\":{\"fill\":{\"color\":\"#C8D4E3\"},\"line\":{\"color\":\"white\"}},\"type\":\"table\"}],\"barpolar\":[{\"marker\":{\"line\":{\"color\":\"#E5ECF6\",\"width\":0.5},\"pattern\":{\"fillmode\":\"overlay\",\"size\":10,\"solidity\":0.2}},\"type\":\"barpolar\"}],\"pie\":[{\"automargin\":true,\"type\":\"pie\"}]},\"layout\":{\"autotypenumbers\":\"strict\",\"colorway\":[\"#636efa\",\"#EF553B\",\"#00cc96\",\"#ab63fa\",\"#FFA15A\",\"#19d3f3\",\"#FF6692\",\"#B6E880\",\"#FF97FF\",\"#FECB52\"],\"font\":{\"color\":\"#2a3f5f\"},\"hovermode\":\"closest\",\"hoverlabel\":{\"align\":\"left\"},\"paper_bgcolor\":\"white\",\"plot_bgcolor\":\"#E5ECF6\",\"polar\":{\"bgcolor\":\"#E5ECF6\",\"angularaxis\":{\"gridcolor\":\"white\",\"linecolor\":\"white\",\"ticks\":\"\"},\"radialaxis\":{\"gridcolor\":\"white\",\"linecolor\":\"white\",\"ticks\":\"\"}},\"ternary\":{\"bgcolor\":\"#E5ECF6\",\"aaxis\":{\"gridcolor\":\"white\",\"linecolor\":\"white\",\"ticks\":\"\"},\"baxis\":{\"gridcolor\":\"white\",\"linecolor\":\"white\",\"ticks\":\"\"},\"caxis\":{\"gridcolor\":\"white\",\"linecolor\":\"white\",\"ticks\":\"\"}},\"coloraxis\":{\"colorbar\":{\"outlinewidth\":0,\"ticks\":\"\"}},\"colorscale\":{\"sequential\":[[0.0,\"#0d0887\"],[0.1111111111111111,\"#46039f\"],[0.2222222222222222,\"#7201a8\"],[0.3333333333333333,\"#9c179e\"],[0.4444444444444444,\"#bd3786\"],[0.5555555555555556,\"#d8576b\"],[0.6666666666666666,\"#ed7953\"],[0.7777777777777778,\"#fb9f3a\"],[0.8888888888888888,\"#fdca26\"],[1.0,\"#f0f921\"]],\"sequentialminus\":[[0.0,\"#0d0887\"],[0.1111111111111111,\"#46039f\"],[0.2222222222222222,\"#7201a8\"],[0.3333333333333333,\"#9c179e\"],[0.4444444444444444,\"#bd3786\"],[0.5555555555555556,\"#d8576b\"],[0.6666666666666666,\"#ed7953\"],[0.7777777777777778,\"#fb9f3a\"],[0.8888888888888888,\"#fdca26\"],[1.0,\"#f0f921\"]],\"diverging\":[[0,\"#8e0152\"],[0.1,\"#c51b7d\"],[0.2,\"#de77ae\"],[0.3,\"#f1b6da\"],[0.4,\"#fde0ef\"],[0.5,\"#f7f7f7\"],[0.6,\"#e6f5d0\"],[0.7,\"#b8e186\"],[0.8,\"#7fbc41\"],[0.9,\"#4d9221\"],[1,\"#276419\"]]},\"xaxis\":{\"gridcolor\":\"white\",\"linecolor\":\"white\",\"ticks\":\"\",\"title\":{\"standoff\":15},\"zerolinecolor\":\"white\",\"automargin\":true,\"zerolinewidth\":2},\"yaxis\":{\"gridcolor\":\"white\",\"linecolor\":\"white\",\"ticks\":\"\",\"title\":{\"standoff\":15},\"zerolinecolor\":\"white\",\"automargin\":true,\"zerolinewidth\":2},\"scene\":{\"xaxis\":{\"backgroundcolor\":\"#E5ECF6\",\"gridcolor\":\"white\",\"linecolor\":\"white\",\"showbackground\":true,\"ticks\":\"\",\"zerolinecolor\":\"white\",\"gridwidth\":2},\"yaxis\":{\"backgroundcolor\":\"#E5ECF6\",\"gridcolor\":\"white\",\"linecolor\":\"white\",\"showbackground\":true,\"ticks\":\"\",\"zerolinecolor\":\"white\",\"gridwidth\":2},\"zaxis\":{\"backgroundcolor\":\"#E5ECF6\",\"gridcolor\":\"white\",\"linecolor\":\"white\",\"showbackground\":true,\"ticks\":\"\",\"zerolinecolor\":\"white\",\"gridwidth\":2}},\"shapedefaults\":{\"line\":{\"color\":\"#2a3f5f\"}},\"annotationdefaults\":{\"arrowcolor\":\"#2a3f5f\",\"arrowhead\":0,\"arrowwidth\":1},\"geo\":{\"bgcolor\":\"white\",\"landcolor\":\"#E5ECF6\",\"subunitcolor\":\"white\",\"showland\":true,\"showlakes\":true,\"lakecolor\":\"white\"},\"title\":{\"x\":0.05},\"mapbox\":{\"style\":\"light\"}}},\"yaxis\":{\"title\":{\"text\":\"Scores\"},\"range\":[0,1]},\"title\":{\"text\":\"Evaluation Metrics for Viscosity using RF\"},\"xaxis\":{\"title\":{\"text\":\"Metrics\"}},\"bargap\":0.2},                        {\"responsive\": true}                    ).then(function(){\n",
              "                            \n",
              "var gd = document.getElementById('3550425d-6551-43c5-89ee-52ac00f8ddba');\n",
              "var x = new MutationObserver(function (mutations, observer) {{\n",
              "        var display = window.getComputedStyle(gd).display;\n",
              "        if (!display || display === 'none') {{\n",
              "            console.log([gd, 'removed!']);\n",
              "            Plotly.purge(gd);\n",
              "            observer.disconnect();\n",
              "        }}\n",
              "}});\n",
              "\n",
              "// Listen for the removal of the full notebook cells\n",
              "var notebookContainer = gd.closest('#notebook-container');\n",
              "if (notebookContainer) {{\n",
              "    x.observe(notebookContainer, {childList: true});\n",
              "}}\n",
              "\n",
              "// Listen for the clearing of the current output cell\n",
              "var outputEl = gd.closest('.output');\n",
              "if (outputEl) {{\n",
              "    x.observe(outputEl, {childList: true});\n",
              "}}\n",
              "\n",
              "                        })                };                            </script>        </div>\n",
              "</body>\n",
              "</html>"
            ]
          },
          "metadata": {}
        }
      ],
      "source": [
        "import plotly.graph_objects as go\n",
        "import pandas as pd\n",
        "from sklearn.metrics import accuracy_score, precision_score, recall_score, f1_score\n",
        "\n",
        "# Calculate the metrics\n",
        "accuracy = accuracy_score(y_test_viscosity, viscosity_predictions)\n",
        "print(f\"RF Accuracy: {accuracy:.4f}\")\n",
        "precision = precision_score(y_test_viscosity, viscosity_predictions, average='macro')\n",
        "print(f\"RF Precision: {precision:.4f}\")\n",
        "recall = recall_score(y_test_viscosity, viscosity_predictions, average='macro')\n",
        "print(f\"RF Recall: {recall:.4f}\")\n",
        "f1 = f1_score(y_test_viscosity, viscosity_predictions, average='macro')\n",
        "print(f\"RF F1 Score: {f1:.4f}\")\n",
        "\n",
        "# Create a DataFrame to hold the metrics\n",
        "metrics = {\n",
        "    'Metric': ['Accuracy', 'Precision', 'Recall', 'F1-Score'],\n",
        "    'Score': [accuracy, precision, recall, f1]\n",
        "}\n",
        "metrics_df = pd.DataFrame(metrics)\n",
        "\n",
        "# Create a bar graph using Plotly\n",
        "fig = go.Figure()\n",
        "fig.add_trace(go.Bar(\n",
        "    x=metrics_df['Metric'],\n",
        "    y=metrics_df['Score'],\n",
        "    text=metrics_df['Score'].round(4),\n",
        "    textposition='auto',\n",
        "    marker=dict(color='royalblue'),\n",
        "))\n",
        "\n",
        "# Customize layout\n",
        "fig.update_layout(\n",
        "    title='Evaluation Metrics for Viscosity using RF',\n",
        "    xaxis_title='Metrics',\n",
        "    yaxis_title='Scores',\n",
        "    yaxis_range=[0, 1],  # Set y-axis limits from 0 to 1\n",
        "    bargap=0.2)\n",
        "fig.show()\n"
      ]
    },
    {
      "cell_type": "code",
      "execution_count": null,
      "metadata": {
        "id": "2THqPfwtXj_G",
        "outputId": "b13c71d0-b413-4c07-f6a3-c0f43a1e3e17"
      },
      "outputs": [
        {
          "name": "stdout",
          "output_type": "stream",
          "text": [
            "RF Accuracy: 1.0000\n",
            "RF Precision: 1.0000\n",
            "RF Recall: 1.0000\n",
            "RF F1 Score: 1.0000\n"
          ]
        },
        {
          "data": {
            "application/vnd.plotly.v1+json": {
              "config": {
                "plotlyServerURL": "https://plot.ly"
              },
              "data": [
                {
                  "marker": {
                    "color": "pink"
                  },
                  "text": [
                    1,
                    1,
                    1,
                    1
                  ],
                  "textposition": "auto",
                  "type": "bar",
                  "x": [
                    "Accuracy",
                    "Precision",
                    "Recall",
                    "F1-Score"
                  ],
                  "y": [
                    1,
                    1,
                    1,
                    1
                  ]
                }
              ],
              "layout": {
                "bargap": 0.2,
                "template": {
                  "data": {
                    "bar": [
                      {
                        "error_x": {
                          "color": "#2a3f5f"
                        },
                        "error_y": {
                          "color": "#2a3f5f"
                        },
                        "marker": {
                          "line": {
                            "color": "#E5ECF6",
                            "width": 0.5
                          },
                          "pattern": {
                            "fillmode": "overlay",
                            "size": 10,
                            "solidity": 0.2
                          }
                        },
                        "type": "bar"
                      }
                    ],
                    "barpolar": [
                      {
                        "marker": {
                          "line": {
                            "color": "#E5ECF6",
                            "width": 0.5
                          },
                          "pattern": {
                            "fillmode": "overlay",
                            "size": 10,
                            "solidity": 0.2
                          }
                        },
                        "type": "barpolar"
                      }
                    ],
                    "carpet": [
                      {
                        "aaxis": {
                          "endlinecolor": "#2a3f5f",
                          "gridcolor": "white",
                          "linecolor": "white",
                          "minorgridcolor": "white",
                          "startlinecolor": "#2a3f5f"
                        },
                        "baxis": {
                          "endlinecolor": "#2a3f5f",
                          "gridcolor": "white",
                          "linecolor": "white",
                          "minorgridcolor": "white",
                          "startlinecolor": "#2a3f5f"
                        },
                        "type": "carpet"
                      }
                    ],
                    "choropleth": [
                      {
                        "colorbar": {
                          "outlinewidth": 0,
                          "ticks": ""
                        },
                        "type": "choropleth"
                      }
                    ],
                    "contour": [
                      {
                        "colorbar": {
                          "outlinewidth": 0,
                          "ticks": ""
                        },
                        "colorscale": [
                          [
                            0,
                            "#0d0887"
                          ],
                          [
                            0.1111111111111111,
                            "#46039f"
                          ],
                          [
                            0.2222222222222222,
                            "#7201a8"
                          ],
                          [
                            0.3333333333333333,
                            "#9c179e"
                          ],
                          [
                            0.4444444444444444,
                            "#bd3786"
                          ],
                          [
                            0.5555555555555556,
                            "#d8576b"
                          ],
                          [
                            0.6666666666666666,
                            "#ed7953"
                          ],
                          [
                            0.7777777777777778,
                            "#fb9f3a"
                          ],
                          [
                            0.8888888888888888,
                            "#fdca26"
                          ],
                          [
                            1,
                            "#f0f921"
                          ]
                        ],
                        "type": "contour"
                      }
                    ],
                    "contourcarpet": [
                      {
                        "colorbar": {
                          "outlinewidth": 0,
                          "ticks": ""
                        },
                        "type": "contourcarpet"
                      }
                    ],
                    "heatmap": [
                      {
                        "colorbar": {
                          "outlinewidth": 0,
                          "ticks": ""
                        },
                        "colorscale": [
                          [
                            0,
                            "#0d0887"
                          ],
                          [
                            0.1111111111111111,
                            "#46039f"
                          ],
                          [
                            0.2222222222222222,
                            "#7201a8"
                          ],
                          [
                            0.3333333333333333,
                            "#9c179e"
                          ],
                          [
                            0.4444444444444444,
                            "#bd3786"
                          ],
                          [
                            0.5555555555555556,
                            "#d8576b"
                          ],
                          [
                            0.6666666666666666,
                            "#ed7953"
                          ],
                          [
                            0.7777777777777778,
                            "#fb9f3a"
                          ],
                          [
                            0.8888888888888888,
                            "#fdca26"
                          ],
                          [
                            1,
                            "#f0f921"
                          ]
                        ],
                        "type": "heatmap"
                      }
                    ],
                    "heatmapgl": [
                      {
                        "colorbar": {
                          "outlinewidth": 0,
                          "ticks": ""
                        },
                        "colorscale": [
                          [
                            0,
                            "#0d0887"
                          ],
                          [
                            0.1111111111111111,
                            "#46039f"
                          ],
                          [
                            0.2222222222222222,
                            "#7201a8"
                          ],
                          [
                            0.3333333333333333,
                            "#9c179e"
                          ],
                          [
                            0.4444444444444444,
                            "#bd3786"
                          ],
                          [
                            0.5555555555555556,
                            "#d8576b"
                          ],
                          [
                            0.6666666666666666,
                            "#ed7953"
                          ],
                          [
                            0.7777777777777778,
                            "#fb9f3a"
                          ],
                          [
                            0.8888888888888888,
                            "#fdca26"
                          ],
                          [
                            1,
                            "#f0f921"
                          ]
                        ],
                        "type": "heatmapgl"
                      }
                    ],
                    "histogram": [
                      {
                        "marker": {
                          "pattern": {
                            "fillmode": "overlay",
                            "size": 10,
                            "solidity": 0.2
                          }
                        },
                        "type": "histogram"
                      }
                    ],
                    "histogram2d": [
                      {
                        "colorbar": {
                          "outlinewidth": 0,
                          "ticks": ""
                        },
                        "colorscale": [
                          [
                            0,
                            "#0d0887"
                          ],
                          [
                            0.1111111111111111,
                            "#46039f"
                          ],
                          [
                            0.2222222222222222,
                            "#7201a8"
                          ],
                          [
                            0.3333333333333333,
                            "#9c179e"
                          ],
                          [
                            0.4444444444444444,
                            "#bd3786"
                          ],
                          [
                            0.5555555555555556,
                            "#d8576b"
                          ],
                          [
                            0.6666666666666666,
                            "#ed7953"
                          ],
                          [
                            0.7777777777777778,
                            "#fb9f3a"
                          ],
                          [
                            0.8888888888888888,
                            "#fdca26"
                          ],
                          [
                            1,
                            "#f0f921"
                          ]
                        ],
                        "type": "histogram2d"
                      }
                    ],
                    "histogram2dcontour": [
                      {
                        "colorbar": {
                          "outlinewidth": 0,
                          "ticks": ""
                        },
                        "colorscale": [
                          [
                            0,
                            "#0d0887"
                          ],
                          [
                            0.1111111111111111,
                            "#46039f"
                          ],
                          [
                            0.2222222222222222,
                            "#7201a8"
                          ],
                          [
                            0.3333333333333333,
                            "#9c179e"
                          ],
                          [
                            0.4444444444444444,
                            "#bd3786"
                          ],
                          [
                            0.5555555555555556,
                            "#d8576b"
                          ],
                          [
                            0.6666666666666666,
                            "#ed7953"
                          ],
                          [
                            0.7777777777777778,
                            "#fb9f3a"
                          ],
                          [
                            0.8888888888888888,
                            "#fdca26"
                          ],
                          [
                            1,
                            "#f0f921"
                          ]
                        ],
                        "type": "histogram2dcontour"
                      }
                    ],
                    "mesh3d": [
                      {
                        "colorbar": {
                          "outlinewidth": 0,
                          "ticks": ""
                        },
                        "type": "mesh3d"
                      }
                    ],
                    "parcoords": [
                      {
                        "line": {
                          "colorbar": {
                            "outlinewidth": 0,
                            "ticks": ""
                          }
                        },
                        "type": "parcoords"
                      }
                    ],
                    "pie": [
                      {
                        "automargin": true,
                        "type": "pie"
                      }
                    ],
                    "scatter": [
                      {
                        "marker": {
                          "colorbar": {
                            "outlinewidth": 0,
                            "ticks": ""
                          }
                        },
                        "type": "scatter"
                      }
                    ],
                    "scatter3d": [
                      {
                        "line": {
                          "colorbar": {
                            "outlinewidth": 0,
                            "ticks": ""
                          }
                        },
                        "marker": {
                          "colorbar": {
                            "outlinewidth": 0,
                            "ticks": ""
                          }
                        },
                        "type": "scatter3d"
                      }
                    ],
                    "scattercarpet": [
                      {
                        "marker": {
                          "colorbar": {
                            "outlinewidth": 0,
                            "ticks": ""
                          }
                        },
                        "type": "scattercarpet"
                      }
                    ],
                    "scattergeo": [
                      {
                        "marker": {
                          "colorbar": {
                            "outlinewidth": 0,
                            "ticks": ""
                          }
                        },
                        "type": "scattergeo"
                      }
                    ],
                    "scattergl": [
                      {
                        "marker": {
                          "colorbar": {
                            "outlinewidth": 0,
                            "ticks": ""
                          }
                        },
                        "type": "scattergl"
                      }
                    ],
                    "scattermapbox": [
                      {
                        "marker": {
                          "colorbar": {
                            "outlinewidth": 0,
                            "ticks": ""
                          }
                        },
                        "type": "scattermapbox"
                      }
                    ],
                    "scatterpolar": [
                      {
                        "marker": {
                          "colorbar": {
                            "outlinewidth": 0,
                            "ticks": ""
                          }
                        },
                        "type": "scatterpolar"
                      }
                    ],
                    "scatterpolargl": [
                      {
                        "marker": {
                          "colorbar": {
                            "outlinewidth": 0,
                            "ticks": ""
                          }
                        },
                        "type": "scatterpolargl"
                      }
                    ],
                    "scatterternary": [
                      {
                        "marker": {
                          "colorbar": {
                            "outlinewidth": 0,
                            "ticks": ""
                          }
                        },
                        "type": "scatterternary"
                      }
                    ],
                    "surface": [
                      {
                        "colorbar": {
                          "outlinewidth": 0,
                          "ticks": ""
                        },
                        "colorscale": [
                          [
                            0,
                            "#0d0887"
                          ],
                          [
                            0.1111111111111111,
                            "#46039f"
                          ],
                          [
                            0.2222222222222222,
                            "#7201a8"
                          ],
                          [
                            0.3333333333333333,
                            "#9c179e"
                          ],
                          [
                            0.4444444444444444,
                            "#bd3786"
                          ],
                          [
                            0.5555555555555556,
                            "#d8576b"
                          ],
                          [
                            0.6666666666666666,
                            "#ed7953"
                          ],
                          [
                            0.7777777777777778,
                            "#fb9f3a"
                          ],
                          [
                            0.8888888888888888,
                            "#fdca26"
                          ],
                          [
                            1,
                            "#f0f921"
                          ]
                        ],
                        "type": "surface"
                      }
                    ],
                    "table": [
                      {
                        "cells": {
                          "fill": {
                            "color": "#EBF0F8"
                          },
                          "line": {
                            "color": "white"
                          }
                        },
                        "header": {
                          "fill": {
                            "color": "#C8D4E3"
                          },
                          "line": {
                            "color": "white"
                          }
                        },
                        "type": "table"
                      }
                    ]
                  },
                  "layout": {
                    "annotationdefaults": {
                      "arrowcolor": "#2a3f5f",
                      "arrowhead": 0,
                      "arrowwidth": 1
                    },
                    "autotypenumbers": "strict",
                    "coloraxis": {
                      "colorbar": {
                        "outlinewidth": 0,
                        "ticks": ""
                      }
                    },
                    "colorscale": {
                      "diverging": [
                        [
                          0,
                          "#8e0152"
                        ],
                        [
                          0.1,
                          "#c51b7d"
                        ],
                        [
                          0.2,
                          "#de77ae"
                        ],
                        [
                          0.3,
                          "#f1b6da"
                        ],
                        [
                          0.4,
                          "#fde0ef"
                        ],
                        [
                          0.5,
                          "#f7f7f7"
                        ],
                        [
                          0.6,
                          "#e6f5d0"
                        ],
                        [
                          0.7,
                          "#b8e186"
                        ],
                        [
                          0.8,
                          "#7fbc41"
                        ],
                        [
                          0.9,
                          "#4d9221"
                        ],
                        [
                          1,
                          "#276419"
                        ]
                      ],
                      "sequential": [
                        [
                          0,
                          "#0d0887"
                        ],
                        [
                          0.1111111111111111,
                          "#46039f"
                        ],
                        [
                          0.2222222222222222,
                          "#7201a8"
                        ],
                        [
                          0.3333333333333333,
                          "#9c179e"
                        ],
                        [
                          0.4444444444444444,
                          "#bd3786"
                        ],
                        [
                          0.5555555555555556,
                          "#d8576b"
                        ],
                        [
                          0.6666666666666666,
                          "#ed7953"
                        ],
                        [
                          0.7777777777777778,
                          "#fb9f3a"
                        ],
                        [
                          0.8888888888888888,
                          "#fdca26"
                        ],
                        [
                          1,
                          "#f0f921"
                        ]
                      ],
                      "sequentialminus": [
                        [
                          0,
                          "#0d0887"
                        ],
                        [
                          0.1111111111111111,
                          "#46039f"
                        ],
                        [
                          0.2222222222222222,
                          "#7201a8"
                        ],
                        [
                          0.3333333333333333,
                          "#9c179e"
                        ],
                        [
                          0.4444444444444444,
                          "#bd3786"
                        ],
                        [
                          0.5555555555555556,
                          "#d8576b"
                        ],
                        [
                          0.6666666666666666,
                          "#ed7953"
                        ],
                        [
                          0.7777777777777778,
                          "#fb9f3a"
                        ],
                        [
                          0.8888888888888888,
                          "#fdca26"
                        ],
                        [
                          1,
                          "#f0f921"
                        ]
                      ]
                    },
                    "colorway": [
                      "#636efa",
                      "#EF553B",
                      "#00cc96",
                      "#ab63fa",
                      "#FFA15A",
                      "#19d3f3",
                      "#FF6692",
                      "#B6E880",
                      "#FF97FF",
                      "#FECB52"
                    ],
                    "font": {
                      "color": "#2a3f5f"
                    },
                    "geo": {
                      "bgcolor": "white",
                      "lakecolor": "white",
                      "landcolor": "#E5ECF6",
                      "showlakes": true,
                      "showland": true,
                      "subunitcolor": "white"
                    },
                    "hoverlabel": {
                      "align": "left"
                    },
                    "hovermode": "closest",
                    "mapbox": {
                      "style": "light"
                    },
                    "paper_bgcolor": "white",
                    "plot_bgcolor": "#E5ECF6",
                    "polar": {
                      "angularaxis": {
                        "gridcolor": "white",
                        "linecolor": "white",
                        "ticks": ""
                      },
                      "bgcolor": "#E5ECF6",
                      "radialaxis": {
                        "gridcolor": "white",
                        "linecolor": "white",
                        "ticks": ""
                      }
                    },
                    "scene": {
                      "xaxis": {
                        "backgroundcolor": "#E5ECF6",
                        "gridcolor": "white",
                        "gridwidth": 2,
                        "linecolor": "white",
                        "showbackground": true,
                        "ticks": "",
                        "zerolinecolor": "white"
                      },
                      "yaxis": {
                        "backgroundcolor": "#E5ECF6",
                        "gridcolor": "white",
                        "gridwidth": 2,
                        "linecolor": "white",
                        "showbackground": true,
                        "ticks": "",
                        "zerolinecolor": "white"
                      },
                      "zaxis": {
                        "backgroundcolor": "#E5ECF6",
                        "gridcolor": "white",
                        "gridwidth": 2,
                        "linecolor": "white",
                        "showbackground": true,
                        "ticks": "",
                        "zerolinecolor": "white"
                      }
                    },
                    "shapedefaults": {
                      "line": {
                        "color": "#2a3f5f"
                      }
                    },
                    "ternary": {
                      "aaxis": {
                        "gridcolor": "white",
                        "linecolor": "white",
                        "ticks": ""
                      },
                      "baxis": {
                        "gridcolor": "white",
                        "linecolor": "white",
                        "ticks": ""
                      },
                      "bgcolor": "#E5ECF6",
                      "caxis": {
                        "gridcolor": "white",
                        "linecolor": "white",
                        "ticks": ""
                      }
                    },
                    "title": {
                      "x": 0.05
                    },
                    "xaxis": {
                      "automargin": true,
                      "gridcolor": "white",
                      "linecolor": "white",
                      "ticks": "",
                      "title": {
                        "standoff": 15
                      },
                      "zerolinecolor": "white",
                      "zerolinewidth": 2
                    },
                    "yaxis": {
                      "automargin": true,
                      "gridcolor": "white",
                      "linecolor": "white",
                      "ticks": "",
                      "title": {
                        "standoff": 15
                      },
                      "zerolinecolor": "white",
                      "zerolinewidth": 2
                    }
                  }
                },
                "title": {
                  "text": "Evaluation Metrics for Viscosity using RF"
                },
                "xaxis": {
                  "title": {
                    "text": "Metrics"
                  }
                },
                "yaxis": {
                  "range": [
                    0,
                    1
                  ],
                  "title": {
                    "text": "Scores"
                  }
                }
              }
            },
            "text/html": [
              "<div>                            <div id=\"5b7fbf10-bf67-46fd-a426-59638f6bd9e0\" class=\"plotly-graph-div\" style=\"height:525px; width:100%;\"></div>            <script type=\"text/javascript\">                require([\"plotly\"], function(Plotly) {                    window.PLOTLYENV=window.PLOTLYENV || {};                                    if (document.getElementById(\"5b7fbf10-bf67-46fd-a426-59638f6bd9e0\")) {                    Plotly.newPlot(                        \"5b7fbf10-bf67-46fd-a426-59638f6bd9e0\",                        [{\"marker\":{\"color\":\"pink\"},\"text\":[1.0,1.0,1.0,1.0],\"textposition\":\"auto\",\"x\":[\"Accuracy\",\"Precision\",\"Recall\",\"F1-Score\"],\"y\":[1.0,1.0,1.0,1.0],\"type\":\"bar\"}],                        {\"template\":{\"data\":{\"bar\":[{\"error_x\":{\"color\":\"#2a3f5f\"},\"error_y\":{\"color\":\"#2a3f5f\"},\"marker\":{\"line\":{\"color\":\"#E5ECF6\",\"width\":0.5},\"pattern\":{\"fillmode\":\"overlay\",\"size\":10,\"solidity\":0.2}},\"type\":\"bar\"}],\"barpolar\":[{\"marker\":{\"line\":{\"color\":\"#E5ECF6\",\"width\":0.5},\"pattern\":{\"fillmode\":\"overlay\",\"size\":10,\"solidity\":0.2}},\"type\":\"barpolar\"}],\"carpet\":[{\"aaxis\":{\"endlinecolor\":\"#2a3f5f\",\"gridcolor\":\"white\",\"linecolor\":\"white\",\"minorgridcolor\":\"white\",\"startlinecolor\":\"#2a3f5f\"},\"baxis\":{\"endlinecolor\":\"#2a3f5f\",\"gridcolor\":\"white\",\"linecolor\":\"white\",\"minorgridcolor\":\"white\",\"startlinecolor\":\"#2a3f5f\"},\"type\":\"carpet\"}],\"choropleth\":[{\"colorbar\":{\"outlinewidth\":0,\"ticks\":\"\"},\"type\":\"choropleth\"}],\"contour\":[{\"colorbar\":{\"outlinewidth\":0,\"ticks\":\"\"},\"colorscale\":[[0.0,\"#0d0887\"],[0.1111111111111111,\"#46039f\"],[0.2222222222222222,\"#7201a8\"],[0.3333333333333333,\"#9c179e\"],[0.4444444444444444,\"#bd3786\"],[0.5555555555555556,\"#d8576b\"],[0.6666666666666666,\"#ed7953\"],[0.7777777777777778,\"#fb9f3a\"],[0.8888888888888888,\"#fdca26\"],[1.0,\"#f0f921\"]],\"type\":\"contour\"}],\"contourcarpet\":[{\"colorbar\":{\"outlinewidth\":0,\"ticks\":\"\"},\"type\":\"contourcarpet\"}],\"heatmap\":[{\"colorbar\":{\"outlinewidth\":0,\"ticks\":\"\"},\"colorscale\":[[0.0,\"#0d0887\"],[0.1111111111111111,\"#46039f\"],[0.2222222222222222,\"#7201a8\"],[0.3333333333333333,\"#9c179e\"],[0.4444444444444444,\"#bd3786\"],[0.5555555555555556,\"#d8576b\"],[0.6666666666666666,\"#ed7953\"],[0.7777777777777778,\"#fb9f3a\"],[0.8888888888888888,\"#fdca26\"],[1.0,\"#f0f921\"]],\"type\":\"heatmap\"}],\"heatmapgl\":[{\"colorbar\":{\"outlinewidth\":0,\"ticks\":\"\"},\"colorscale\":[[0.0,\"#0d0887\"],[0.1111111111111111,\"#46039f\"],[0.2222222222222222,\"#7201a8\"],[0.3333333333333333,\"#9c179e\"],[0.4444444444444444,\"#bd3786\"],[0.5555555555555556,\"#d8576b\"],[0.6666666666666666,\"#ed7953\"],[0.7777777777777778,\"#fb9f3a\"],[0.8888888888888888,\"#fdca26\"],[1.0,\"#f0f921\"]],\"type\":\"heatmapgl\"}],\"histogram\":[{\"marker\":{\"pattern\":{\"fillmode\":\"overlay\",\"size\":10,\"solidity\":0.2}},\"type\":\"histogram\"}],\"histogram2d\":[{\"colorbar\":{\"outlinewidth\":0,\"ticks\":\"\"},\"colorscale\":[[0.0,\"#0d0887\"],[0.1111111111111111,\"#46039f\"],[0.2222222222222222,\"#7201a8\"],[0.3333333333333333,\"#9c179e\"],[0.4444444444444444,\"#bd3786\"],[0.5555555555555556,\"#d8576b\"],[0.6666666666666666,\"#ed7953\"],[0.7777777777777778,\"#fb9f3a\"],[0.8888888888888888,\"#fdca26\"],[1.0,\"#f0f921\"]],\"type\":\"histogram2d\"}],\"histogram2dcontour\":[{\"colorbar\":{\"outlinewidth\":0,\"ticks\":\"\"},\"colorscale\":[[0.0,\"#0d0887\"],[0.1111111111111111,\"#46039f\"],[0.2222222222222222,\"#7201a8\"],[0.3333333333333333,\"#9c179e\"],[0.4444444444444444,\"#bd3786\"],[0.5555555555555556,\"#d8576b\"],[0.6666666666666666,\"#ed7953\"],[0.7777777777777778,\"#fb9f3a\"],[0.8888888888888888,\"#fdca26\"],[1.0,\"#f0f921\"]],\"type\":\"histogram2dcontour\"}],\"mesh3d\":[{\"colorbar\":{\"outlinewidth\":0,\"ticks\":\"\"},\"type\":\"mesh3d\"}],\"parcoords\":[{\"line\":{\"colorbar\":{\"outlinewidth\":0,\"ticks\":\"\"}},\"type\":\"parcoords\"}],\"pie\":[{\"automargin\":true,\"type\":\"pie\"}],\"scatter\":[{\"marker\":{\"colorbar\":{\"outlinewidth\":0,\"ticks\":\"\"}},\"type\":\"scatter\"}],\"scatter3d\":[{\"line\":{\"colorbar\":{\"outlinewidth\":0,\"ticks\":\"\"}},\"marker\":{\"colorbar\":{\"outlinewidth\":0,\"ticks\":\"\"}},\"type\":\"scatter3d\"}],\"scattercarpet\":[{\"marker\":{\"colorbar\":{\"outlinewidth\":0,\"ticks\":\"\"}},\"type\":\"scattercarpet\"}],\"scattergeo\":[{\"marker\":{\"colorbar\":{\"outlinewidth\":0,\"ticks\":\"\"}},\"type\":\"scattergeo\"}],\"scattergl\":[{\"marker\":{\"colorbar\":{\"outlinewidth\":0,\"ticks\":\"\"}},\"type\":\"scattergl\"}],\"scattermapbox\":[{\"marker\":{\"colorbar\":{\"outlinewidth\":0,\"ticks\":\"\"}},\"type\":\"scattermapbox\"}],\"scatterpolar\":[{\"marker\":{\"colorbar\":{\"outlinewidth\":0,\"ticks\":\"\"}},\"type\":\"scatterpolar\"}],\"scatterpolargl\":[{\"marker\":{\"colorbar\":{\"outlinewidth\":0,\"ticks\":\"\"}},\"type\":\"scatterpolargl\"}],\"scatterternary\":[{\"marker\":{\"colorbar\":{\"outlinewidth\":0,\"ticks\":\"\"}},\"type\":\"scatterternary\"}],\"surface\":[{\"colorbar\":{\"outlinewidth\":0,\"ticks\":\"\"},\"colorscale\":[[0.0,\"#0d0887\"],[0.1111111111111111,\"#46039f\"],[0.2222222222222222,\"#7201a8\"],[0.3333333333333333,\"#9c179e\"],[0.4444444444444444,\"#bd3786\"],[0.5555555555555556,\"#d8576b\"],[0.6666666666666666,\"#ed7953\"],[0.7777777777777778,\"#fb9f3a\"],[0.8888888888888888,\"#fdca26\"],[1.0,\"#f0f921\"]],\"type\":\"surface\"}],\"table\":[{\"cells\":{\"fill\":{\"color\":\"#EBF0F8\"},\"line\":{\"color\":\"white\"}},\"header\":{\"fill\":{\"color\":\"#C8D4E3\"},\"line\":{\"color\":\"white\"}},\"type\":\"table\"}]},\"layout\":{\"annotationdefaults\":{\"arrowcolor\":\"#2a3f5f\",\"arrowhead\":0,\"arrowwidth\":1},\"autotypenumbers\":\"strict\",\"coloraxis\":{\"colorbar\":{\"outlinewidth\":0,\"ticks\":\"\"}},\"colorscale\":{\"diverging\":[[0,\"#8e0152\"],[0.1,\"#c51b7d\"],[0.2,\"#de77ae\"],[0.3,\"#f1b6da\"],[0.4,\"#fde0ef\"],[0.5,\"#f7f7f7\"],[0.6,\"#e6f5d0\"],[0.7,\"#b8e186\"],[0.8,\"#7fbc41\"],[0.9,\"#4d9221\"],[1,\"#276419\"]],\"sequential\":[[0.0,\"#0d0887\"],[0.1111111111111111,\"#46039f\"],[0.2222222222222222,\"#7201a8\"],[0.3333333333333333,\"#9c179e\"],[0.4444444444444444,\"#bd3786\"],[0.5555555555555556,\"#d8576b\"],[0.6666666666666666,\"#ed7953\"],[0.7777777777777778,\"#fb9f3a\"],[0.8888888888888888,\"#fdca26\"],[1.0,\"#f0f921\"]],\"sequentialminus\":[[0.0,\"#0d0887\"],[0.1111111111111111,\"#46039f\"],[0.2222222222222222,\"#7201a8\"],[0.3333333333333333,\"#9c179e\"],[0.4444444444444444,\"#bd3786\"],[0.5555555555555556,\"#d8576b\"],[0.6666666666666666,\"#ed7953\"],[0.7777777777777778,\"#fb9f3a\"],[0.8888888888888888,\"#fdca26\"],[1.0,\"#f0f921\"]]},\"colorway\":[\"#636efa\",\"#EF553B\",\"#00cc96\",\"#ab63fa\",\"#FFA15A\",\"#19d3f3\",\"#FF6692\",\"#B6E880\",\"#FF97FF\",\"#FECB52\"],\"font\":{\"color\":\"#2a3f5f\"},\"geo\":{\"bgcolor\":\"white\",\"lakecolor\":\"white\",\"landcolor\":\"#E5ECF6\",\"showlakes\":true,\"showland\":true,\"subunitcolor\":\"white\"},\"hoverlabel\":{\"align\":\"left\"},\"hovermode\":\"closest\",\"mapbox\":{\"style\":\"light\"},\"paper_bgcolor\":\"white\",\"plot_bgcolor\":\"#E5ECF6\",\"polar\":{\"angularaxis\":{\"gridcolor\":\"white\",\"linecolor\":\"white\",\"ticks\":\"\"},\"bgcolor\":\"#E5ECF6\",\"radialaxis\":{\"gridcolor\":\"white\",\"linecolor\":\"white\",\"ticks\":\"\"}},\"scene\":{\"xaxis\":{\"backgroundcolor\":\"#E5ECF6\",\"gridcolor\":\"white\",\"gridwidth\":2,\"linecolor\":\"white\",\"showbackground\":true,\"ticks\":\"\",\"zerolinecolor\":\"white\"},\"yaxis\":{\"backgroundcolor\":\"#E5ECF6\",\"gridcolor\":\"white\",\"gridwidth\":2,\"linecolor\":\"white\",\"showbackground\":true,\"ticks\":\"\",\"zerolinecolor\":\"white\"},\"zaxis\":{\"backgroundcolor\":\"#E5ECF6\",\"gridcolor\":\"white\",\"gridwidth\":2,\"linecolor\":\"white\",\"showbackground\":true,\"ticks\":\"\",\"zerolinecolor\":\"white\"}},\"shapedefaults\":{\"line\":{\"color\":\"#2a3f5f\"}},\"ternary\":{\"aaxis\":{\"gridcolor\":\"white\",\"linecolor\":\"white\",\"ticks\":\"\"},\"baxis\":{\"gridcolor\":\"white\",\"linecolor\":\"white\",\"ticks\":\"\"},\"bgcolor\":\"#E5ECF6\",\"caxis\":{\"gridcolor\":\"white\",\"linecolor\":\"white\",\"ticks\":\"\"}},\"title\":{\"x\":0.05},\"xaxis\":{\"automargin\":true,\"gridcolor\":\"white\",\"linecolor\":\"white\",\"ticks\":\"\",\"title\":{\"standoff\":15},\"zerolinecolor\":\"white\",\"zerolinewidth\":2},\"yaxis\":{\"automargin\":true,\"gridcolor\":\"white\",\"linecolor\":\"white\",\"ticks\":\"\",\"title\":{\"standoff\":15},\"zerolinecolor\":\"white\",\"zerolinewidth\":2}}},\"yaxis\":{\"title\":{\"text\":\"Scores\"},\"range\":[0,1]},\"title\":{\"text\":\"Evaluation Metrics for Viscosity using RF\"},\"xaxis\":{\"title\":{\"text\":\"Metrics\"}},\"bargap\":0.2},                        {\"responsive\": true}                    ).then(function(){\n",
              "                            \n",
              "var gd = document.getElementById('5b7fbf10-bf67-46fd-a426-59638f6bd9e0');\n",
              "var x = new MutationObserver(function (mutations, observer) {{\n",
              "        var display = window.getComputedStyle(gd).display;\n",
              "        if (!display || display === 'none') {{\n",
              "            console.log([gd, 'removed!']);\n",
              "            Plotly.purge(gd);\n",
              "            observer.disconnect();\n",
              "        }}\n",
              "}});\n",
              "\n",
              "// Listen for the removal of the full notebook cells\n",
              "var notebookContainer = gd.closest('#notebook-container');\n",
              "if (notebookContainer) {{\n",
              "    x.observe(notebookContainer, {childList: true});\n",
              "}}\n",
              "\n",
              "// Listen for the clearing of the current output cell\n",
              "var outputEl = gd.closest('.output');\n",
              "if (outputEl) {{\n",
              "    x.observe(outputEl, {childList: true});\n",
              "}}\n",
              "\n",
              "                        })                };                });            </script>        </div>"
            ]
          },
          "metadata": {},
          "output_type": "display_data"
        }
      ],
      "source": [
        "import plotly.graph_objects as go\n",
        "import pandas as pd\n",
        "from sklearn.metrics import accuracy_score, precision_score, recall_score, f1_score\n",
        "\n",
        "# Calculate the metrics\n",
        "accuracy = accuracy_score(y_test_sweetness, sweetness_predictions)\n",
        "print(f\"RF Accuracy: {accuracy:.4f}\")\n",
        "precision = precision_score(y_test_sweetness, sweetness_predictions, average='macro')\n",
        "print(f\"RF Precision: {precision:.4f}\")\n",
        "recall = recall_score(y_test_sweetness, sweetness_predictions, average='macro')\n",
        "print(f\"RF Recall: {recall:.4f}\")\n",
        "f1 = f1_score(y_test_sweetness, sweetness_predictions, average='macro')\n",
        "print(f\"RF F1 Score: {f1:.4f}\")\n",
        "\n",
        "# Create a DataFrame to hold the metrics\n",
        "metrics = {\n",
        "    'Metric': ['Accuracy', 'Precision', 'Recall', 'F1-Score'],\n",
        "    'Score': [accuracy, precision, recall, f1]\n",
        "}\n",
        "metrics_df = pd.DataFrame(metrics)\n",
        "\n",
        "# Create a bar graph using Plotly\n",
        "fig = go.Figure()\n",
        "fig.add_trace(go.Bar(\n",
        "    x=metrics_df['Metric'],\n",
        "    y=metrics_df['Score'],\n",
        "    text=metrics_df['Score'].round(4),\n",
        "    textposition='auto',\n",
        "    marker=dict(color='pink'),\n",
        "))\n",
        "\n",
        "# Customize layout\n",
        "fig.update_layout(\n",
        "    title='Evaluation Metrics for Viscosity using RF',\n",
        "    xaxis_title='Metrics',\n",
        "    yaxis_title='Scores',\n",
        "    yaxis_range=[0, 1],  # Set y-axis limits from 0 to 1\n",
        "    bargap=0.2)\n",
        "fig.show()\n"
      ]
    },
    {
      "cell_type": "code",
      "execution_count": null,
      "metadata": {
        "scrolled": true,
        "id": "30hR37jyXj_G",
        "outputId": "d913dce7-3798-4c47-9a69-d40c56a37820"
      },
      "outputs": [
        {
          "name": "stdout",
          "output_type": "stream",
          "text": [
            "RF Accuracy: 1.0000\n",
            "RF Precision: 1.0000\n",
            "RF Recall: 1.0000\n",
            "RF F1 Score: 1.0000\n"
          ]
        },
        {
          "data": {
            "application/vnd.plotly.v1+json": {
              "config": {
                "plotlyServerURL": "https://plot.ly"
              },
              "data": [
                {
                  "marker": {
                    "color": "yellow"
                  },
                  "text": [
                    1,
                    1,
                    1,
                    1
                  ],
                  "textposition": "auto",
                  "type": "bar",
                  "x": [
                    "Accuracy",
                    "Precision",
                    "Recall",
                    "F1-Score"
                  ],
                  "y": [
                    1,
                    1,
                    1,
                    1
                  ]
                }
              ],
              "layout": {
                "bargap": 0.2,
                "template": {
                  "data": {
                    "bar": [
                      {
                        "error_x": {
                          "color": "#2a3f5f"
                        },
                        "error_y": {
                          "color": "#2a3f5f"
                        },
                        "marker": {
                          "line": {
                            "color": "#E5ECF6",
                            "width": 0.5
                          },
                          "pattern": {
                            "fillmode": "overlay",
                            "size": 10,
                            "solidity": 0.2
                          }
                        },
                        "type": "bar"
                      }
                    ],
                    "barpolar": [
                      {
                        "marker": {
                          "line": {
                            "color": "#E5ECF6",
                            "width": 0.5
                          },
                          "pattern": {
                            "fillmode": "overlay",
                            "size": 10,
                            "solidity": 0.2
                          }
                        },
                        "type": "barpolar"
                      }
                    ],
                    "carpet": [
                      {
                        "aaxis": {
                          "endlinecolor": "#2a3f5f",
                          "gridcolor": "white",
                          "linecolor": "white",
                          "minorgridcolor": "white",
                          "startlinecolor": "#2a3f5f"
                        },
                        "baxis": {
                          "endlinecolor": "#2a3f5f",
                          "gridcolor": "white",
                          "linecolor": "white",
                          "minorgridcolor": "white",
                          "startlinecolor": "#2a3f5f"
                        },
                        "type": "carpet"
                      }
                    ],
                    "choropleth": [
                      {
                        "colorbar": {
                          "outlinewidth": 0,
                          "ticks": ""
                        },
                        "type": "choropleth"
                      }
                    ],
                    "contour": [
                      {
                        "colorbar": {
                          "outlinewidth": 0,
                          "ticks": ""
                        },
                        "colorscale": [
                          [
                            0,
                            "#0d0887"
                          ],
                          [
                            0.1111111111111111,
                            "#46039f"
                          ],
                          [
                            0.2222222222222222,
                            "#7201a8"
                          ],
                          [
                            0.3333333333333333,
                            "#9c179e"
                          ],
                          [
                            0.4444444444444444,
                            "#bd3786"
                          ],
                          [
                            0.5555555555555556,
                            "#d8576b"
                          ],
                          [
                            0.6666666666666666,
                            "#ed7953"
                          ],
                          [
                            0.7777777777777778,
                            "#fb9f3a"
                          ],
                          [
                            0.8888888888888888,
                            "#fdca26"
                          ],
                          [
                            1,
                            "#f0f921"
                          ]
                        ],
                        "type": "contour"
                      }
                    ],
                    "contourcarpet": [
                      {
                        "colorbar": {
                          "outlinewidth": 0,
                          "ticks": ""
                        },
                        "type": "contourcarpet"
                      }
                    ],
                    "heatmap": [
                      {
                        "colorbar": {
                          "outlinewidth": 0,
                          "ticks": ""
                        },
                        "colorscale": [
                          [
                            0,
                            "#0d0887"
                          ],
                          [
                            0.1111111111111111,
                            "#46039f"
                          ],
                          [
                            0.2222222222222222,
                            "#7201a8"
                          ],
                          [
                            0.3333333333333333,
                            "#9c179e"
                          ],
                          [
                            0.4444444444444444,
                            "#bd3786"
                          ],
                          [
                            0.5555555555555556,
                            "#d8576b"
                          ],
                          [
                            0.6666666666666666,
                            "#ed7953"
                          ],
                          [
                            0.7777777777777778,
                            "#fb9f3a"
                          ],
                          [
                            0.8888888888888888,
                            "#fdca26"
                          ],
                          [
                            1,
                            "#f0f921"
                          ]
                        ],
                        "type": "heatmap"
                      }
                    ],
                    "heatmapgl": [
                      {
                        "colorbar": {
                          "outlinewidth": 0,
                          "ticks": ""
                        },
                        "colorscale": [
                          [
                            0,
                            "#0d0887"
                          ],
                          [
                            0.1111111111111111,
                            "#46039f"
                          ],
                          [
                            0.2222222222222222,
                            "#7201a8"
                          ],
                          [
                            0.3333333333333333,
                            "#9c179e"
                          ],
                          [
                            0.4444444444444444,
                            "#bd3786"
                          ],
                          [
                            0.5555555555555556,
                            "#d8576b"
                          ],
                          [
                            0.6666666666666666,
                            "#ed7953"
                          ],
                          [
                            0.7777777777777778,
                            "#fb9f3a"
                          ],
                          [
                            0.8888888888888888,
                            "#fdca26"
                          ],
                          [
                            1,
                            "#f0f921"
                          ]
                        ],
                        "type": "heatmapgl"
                      }
                    ],
                    "histogram": [
                      {
                        "marker": {
                          "pattern": {
                            "fillmode": "overlay",
                            "size": 10,
                            "solidity": 0.2
                          }
                        },
                        "type": "histogram"
                      }
                    ],
                    "histogram2d": [
                      {
                        "colorbar": {
                          "outlinewidth": 0,
                          "ticks": ""
                        },
                        "colorscale": [
                          [
                            0,
                            "#0d0887"
                          ],
                          [
                            0.1111111111111111,
                            "#46039f"
                          ],
                          [
                            0.2222222222222222,
                            "#7201a8"
                          ],
                          [
                            0.3333333333333333,
                            "#9c179e"
                          ],
                          [
                            0.4444444444444444,
                            "#bd3786"
                          ],
                          [
                            0.5555555555555556,
                            "#d8576b"
                          ],
                          [
                            0.6666666666666666,
                            "#ed7953"
                          ],
                          [
                            0.7777777777777778,
                            "#fb9f3a"
                          ],
                          [
                            0.8888888888888888,
                            "#fdca26"
                          ],
                          [
                            1,
                            "#f0f921"
                          ]
                        ],
                        "type": "histogram2d"
                      }
                    ],
                    "histogram2dcontour": [
                      {
                        "colorbar": {
                          "outlinewidth": 0,
                          "ticks": ""
                        },
                        "colorscale": [
                          [
                            0,
                            "#0d0887"
                          ],
                          [
                            0.1111111111111111,
                            "#46039f"
                          ],
                          [
                            0.2222222222222222,
                            "#7201a8"
                          ],
                          [
                            0.3333333333333333,
                            "#9c179e"
                          ],
                          [
                            0.4444444444444444,
                            "#bd3786"
                          ],
                          [
                            0.5555555555555556,
                            "#d8576b"
                          ],
                          [
                            0.6666666666666666,
                            "#ed7953"
                          ],
                          [
                            0.7777777777777778,
                            "#fb9f3a"
                          ],
                          [
                            0.8888888888888888,
                            "#fdca26"
                          ],
                          [
                            1,
                            "#f0f921"
                          ]
                        ],
                        "type": "histogram2dcontour"
                      }
                    ],
                    "mesh3d": [
                      {
                        "colorbar": {
                          "outlinewidth": 0,
                          "ticks": ""
                        },
                        "type": "mesh3d"
                      }
                    ],
                    "parcoords": [
                      {
                        "line": {
                          "colorbar": {
                            "outlinewidth": 0,
                            "ticks": ""
                          }
                        },
                        "type": "parcoords"
                      }
                    ],
                    "pie": [
                      {
                        "automargin": true,
                        "type": "pie"
                      }
                    ],
                    "scatter": [
                      {
                        "marker": {
                          "colorbar": {
                            "outlinewidth": 0,
                            "ticks": ""
                          }
                        },
                        "type": "scatter"
                      }
                    ],
                    "scatter3d": [
                      {
                        "line": {
                          "colorbar": {
                            "outlinewidth": 0,
                            "ticks": ""
                          }
                        },
                        "marker": {
                          "colorbar": {
                            "outlinewidth": 0,
                            "ticks": ""
                          }
                        },
                        "type": "scatter3d"
                      }
                    ],
                    "scattercarpet": [
                      {
                        "marker": {
                          "colorbar": {
                            "outlinewidth": 0,
                            "ticks": ""
                          }
                        },
                        "type": "scattercarpet"
                      }
                    ],
                    "scattergeo": [
                      {
                        "marker": {
                          "colorbar": {
                            "outlinewidth": 0,
                            "ticks": ""
                          }
                        },
                        "type": "scattergeo"
                      }
                    ],
                    "scattergl": [
                      {
                        "marker": {
                          "colorbar": {
                            "outlinewidth": 0,
                            "ticks": ""
                          }
                        },
                        "type": "scattergl"
                      }
                    ],
                    "scattermapbox": [
                      {
                        "marker": {
                          "colorbar": {
                            "outlinewidth": 0,
                            "ticks": ""
                          }
                        },
                        "type": "scattermapbox"
                      }
                    ],
                    "scatterpolar": [
                      {
                        "marker": {
                          "colorbar": {
                            "outlinewidth": 0,
                            "ticks": ""
                          }
                        },
                        "type": "scatterpolar"
                      }
                    ],
                    "scatterpolargl": [
                      {
                        "marker": {
                          "colorbar": {
                            "outlinewidth": 0,
                            "ticks": ""
                          }
                        },
                        "type": "scatterpolargl"
                      }
                    ],
                    "scatterternary": [
                      {
                        "marker": {
                          "colorbar": {
                            "outlinewidth": 0,
                            "ticks": ""
                          }
                        },
                        "type": "scatterternary"
                      }
                    ],
                    "surface": [
                      {
                        "colorbar": {
                          "outlinewidth": 0,
                          "ticks": ""
                        },
                        "colorscale": [
                          [
                            0,
                            "#0d0887"
                          ],
                          [
                            0.1111111111111111,
                            "#46039f"
                          ],
                          [
                            0.2222222222222222,
                            "#7201a8"
                          ],
                          [
                            0.3333333333333333,
                            "#9c179e"
                          ],
                          [
                            0.4444444444444444,
                            "#bd3786"
                          ],
                          [
                            0.5555555555555556,
                            "#d8576b"
                          ],
                          [
                            0.6666666666666666,
                            "#ed7953"
                          ],
                          [
                            0.7777777777777778,
                            "#fb9f3a"
                          ],
                          [
                            0.8888888888888888,
                            "#fdca26"
                          ],
                          [
                            1,
                            "#f0f921"
                          ]
                        ],
                        "type": "surface"
                      }
                    ],
                    "table": [
                      {
                        "cells": {
                          "fill": {
                            "color": "#EBF0F8"
                          },
                          "line": {
                            "color": "white"
                          }
                        },
                        "header": {
                          "fill": {
                            "color": "#C8D4E3"
                          },
                          "line": {
                            "color": "white"
                          }
                        },
                        "type": "table"
                      }
                    ]
                  },
                  "layout": {
                    "annotationdefaults": {
                      "arrowcolor": "#2a3f5f",
                      "arrowhead": 0,
                      "arrowwidth": 1
                    },
                    "autotypenumbers": "strict",
                    "coloraxis": {
                      "colorbar": {
                        "outlinewidth": 0,
                        "ticks": ""
                      }
                    },
                    "colorscale": {
                      "diverging": [
                        [
                          0,
                          "#8e0152"
                        ],
                        [
                          0.1,
                          "#c51b7d"
                        ],
                        [
                          0.2,
                          "#de77ae"
                        ],
                        [
                          0.3,
                          "#f1b6da"
                        ],
                        [
                          0.4,
                          "#fde0ef"
                        ],
                        [
                          0.5,
                          "#f7f7f7"
                        ],
                        [
                          0.6,
                          "#e6f5d0"
                        ],
                        [
                          0.7,
                          "#b8e186"
                        ],
                        [
                          0.8,
                          "#7fbc41"
                        ],
                        [
                          0.9,
                          "#4d9221"
                        ],
                        [
                          1,
                          "#276419"
                        ]
                      ],
                      "sequential": [
                        [
                          0,
                          "#0d0887"
                        ],
                        [
                          0.1111111111111111,
                          "#46039f"
                        ],
                        [
                          0.2222222222222222,
                          "#7201a8"
                        ],
                        [
                          0.3333333333333333,
                          "#9c179e"
                        ],
                        [
                          0.4444444444444444,
                          "#bd3786"
                        ],
                        [
                          0.5555555555555556,
                          "#d8576b"
                        ],
                        [
                          0.6666666666666666,
                          "#ed7953"
                        ],
                        [
                          0.7777777777777778,
                          "#fb9f3a"
                        ],
                        [
                          0.8888888888888888,
                          "#fdca26"
                        ],
                        [
                          1,
                          "#f0f921"
                        ]
                      ],
                      "sequentialminus": [
                        [
                          0,
                          "#0d0887"
                        ],
                        [
                          0.1111111111111111,
                          "#46039f"
                        ],
                        [
                          0.2222222222222222,
                          "#7201a8"
                        ],
                        [
                          0.3333333333333333,
                          "#9c179e"
                        ],
                        [
                          0.4444444444444444,
                          "#bd3786"
                        ],
                        [
                          0.5555555555555556,
                          "#d8576b"
                        ],
                        [
                          0.6666666666666666,
                          "#ed7953"
                        ],
                        [
                          0.7777777777777778,
                          "#fb9f3a"
                        ],
                        [
                          0.8888888888888888,
                          "#fdca26"
                        ],
                        [
                          1,
                          "#f0f921"
                        ]
                      ]
                    },
                    "colorway": [
                      "#636efa",
                      "#EF553B",
                      "#00cc96",
                      "#ab63fa",
                      "#FFA15A",
                      "#19d3f3",
                      "#FF6692",
                      "#B6E880",
                      "#FF97FF",
                      "#FECB52"
                    ],
                    "font": {
                      "color": "#2a3f5f"
                    },
                    "geo": {
                      "bgcolor": "white",
                      "lakecolor": "white",
                      "landcolor": "#E5ECF6",
                      "showlakes": true,
                      "showland": true,
                      "subunitcolor": "white"
                    },
                    "hoverlabel": {
                      "align": "left"
                    },
                    "hovermode": "closest",
                    "mapbox": {
                      "style": "light"
                    },
                    "paper_bgcolor": "white",
                    "plot_bgcolor": "#E5ECF6",
                    "polar": {
                      "angularaxis": {
                        "gridcolor": "white",
                        "linecolor": "white",
                        "ticks": ""
                      },
                      "bgcolor": "#E5ECF6",
                      "radialaxis": {
                        "gridcolor": "white",
                        "linecolor": "white",
                        "ticks": ""
                      }
                    },
                    "scene": {
                      "xaxis": {
                        "backgroundcolor": "#E5ECF6",
                        "gridcolor": "white",
                        "gridwidth": 2,
                        "linecolor": "white",
                        "showbackground": true,
                        "ticks": "",
                        "zerolinecolor": "white"
                      },
                      "yaxis": {
                        "backgroundcolor": "#E5ECF6",
                        "gridcolor": "white",
                        "gridwidth": 2,
                        "linecolor": "white",
                        "showbackground": true,
                        "ticks": "",
                        "zerolinecolor": "white"
                      },
                      "zaxis": {
                        "backgroundcolor": "#E5ECF6",
                        "gridcolor": "white",
                        "gridwidth": 2,
                        "linecolor": "white",
                        "showbackground": true,
                        "ticks": "",
                        "zerolinecolor": "white"
                      }
                    },
                    "shapedefaults": {
                      "line": {
                        "color": "#2a3f5f"
                      }
                    },
                    "ternary": {
                      "aaxis": {
                        "gridcolor": "white",
                        "linecolor": "white",
                        "ticks": ""
                      },
                      "baxis": {
                        "gridcolor": "white",
                        "linecolor": "white",
                        "ticks": ""
                      },
                      "bgcolor": "#E5ECF6",
                      "caxis": {
                        "gridcolor": "white",
                        "linecolor": "white",
                        "ticks": ""
                      }
                    },
                    "title": {
                      "x": 0.05
                    },
                    "xaxis": {
                      "automargin": true,
                      "gridcolor": "white",
                      "linecolor": "white",
                      "ticks": "",
                      "title": {
                        "standoff": 15
                      },
                      "zerolinecolor": "white",
                      "zerolinewidth": 2
                    },
                    "yaxis": {
                      "automargin": true,
                      "gridcolor": "white",
                      "linecolor": "white",
                      "ticks": "",
                      "title": {
                        "standoff": 15
                      },
                      "zerolinecolor": "white",
                      "zerolinewidth": 2
                    }
                  }
                },
                "title": {
                  "text": "Evaluation Metrics for Viscosity using RF"
                },
                "xaxis": {
                  "title": {
                    "text": "Metrics"
                  }
                },
                "yaxis": {
                  "range": [
                    0,
                    1
                  ],
                  "title": {
                    "text": "Scores"
                  }
                }
              }
            },
            "text/html": [
              "<div>                            <div id=\"7e64092e-8d44-4b80-b9d6-1e9d0c9a9878\" class=\"plotly-graph-div\" style=\"height:525px; width:100%;\"></div>            <script type=\"text/javascript\">                require([\"plotly\"], function(Plotly) {                    window.PLOTLYENV=window.PLOTLYENV || {};                                    if (document.getElementById(\"7e64092e-8d44-4b80-b9d6-1e9d0c9a9878\")) {                    Plotly.newPlot(                        \"7e64092e-8d44-4b80-b9d6-1e9d0c9a9878\",                        [{\"marker\":{\"color\":\"yellow\"},\"text\":[1.0,1.0,1.0,1.0],\"textposition\":\"auto\",\"x\":[\"Accuracy\",\"Precision\",\"Recall\",\"F1-Score\"],\"y\":[1.0,1.0,1.0,1.0],\"type\":\"bar\"}],                        {\"template\":{\"data\":{\"bar\":[{\"error_x\":{\"color\":\"#2a3f5f\"},\"error_y\":{\"color\":\"#2a3f5f\"},\"marker\":{\"line\":{\"color\":\"#E5ECF6\",\"width\":0.5},\"pattern\":{\"fillmode\":\"overlay\",\"size\":10,\"solidity\":0.2}},\"type\":\"bar\"}],\"barpolar\":[{\"marker\":{\"line\":{\"color\":\"#E5ECF6\",\"width\":0.5},\"pattern\":{\"fillmode\":\"overlay\",\"size\":10,\"solidity\":0.2}},\"type\":\"barpolar\"}],\"carpet\":[{\"aaxis\":{\"endlinecolor\":\"#2a3f5f\",\"gridcolor\":\"white\",\"linecolor\":\"white\",\"minorgridcolor\":\"white\",\"startlinecolor\":\"#2a3f5f\"},\"baxis\":{\"endlinecolor\":\"#2a3f5f\",\"gridcolor\":\"white\",\"linecolor\":\"white\",\"minorgridcolor\":\"white\",\"startlinecolor\":\"#2a3f5f\"},\"type\":\"carpet\"}],\"choropleth\":[{\"colorbar\":{\"outlinewidth\":0,\"ticks\":\"\"},\"type\":\"choropleth\"}],\"contour\":[{\"colorbar\":{\"outlinewidth\":0,\"ticks\":\"\"},\"colorscale\":[[0.0,\"#0d0887\"],[0.1111111111111111,\"#46039f\"],[0.2222222222222222,\"#7201a8\"],[0.3333333333333333,\"#9c179e\"],[0.4444444444444444,\"#bd3786\"],[0.5555555555555556,\"#d8576b\"],[0.6666666666666666,\"#ed7953\"],[0.7777777777777778,\"#fb9f3a\"],[0.8888888888888888,\"#fdca26\"],[1.0,\"#f0f921\"]],\"type\":\"contour\"}],\"contourcarpet\":[{\"colorbar\":{\"outlinewidth\":0,\"ticks\":\"\"},\"type\":\"contourcarpet\"}],\"heatmap\":[{\"colorbar\":{\"outlinewidth\":0,\"ticks\":\"\"},\"colorscale\":[[0.0,\"#0d0887\"],[0.1111111111111111,\"#46039f\"],[0.2222222222222222,\"#7201a8\"],[0.3333333333333333,\"#9c179e\"],[0.4444444444444444,\"#bd3786\"],[0.5555555555555556,\"#d8576b\"],[0.6666666666666666,\"#ed7953\"],[0.7777777777777778,\"#fb9f3a\"],[0.8888888888888888,\"#fdca26\"],[1.0,\"#f0f921\"]],\"type\":\"heatmap\"}],\"heatmapgl\":[{\"colorbar\":{\"outlinewidth\":0,\"ticks\":\"\"},\"colorscale\":[[0.0,\"#0d0887\"],[0.1111111111111111,\"#46039f\"],[0.2222222222222222,\"#7201a8\"],[0.3333333333333333,\"#9c179e\"],[0.4444444444444444,\"#bd3786\"],[0.5555555555555556,\"#d8576b\"],[0.6666666666666666,\"#ed7953\"],[0.7777777777777778,\"#fb9f3a\"],[0.8888888888888888,\"#fdca26\"],[1.0,\"#f0f921\"]],\"type\":\"heatmapgl\"}],\"histogram\":[{\"marker\":{\"pattern\":{\"fillmode\":\"overlay\",\"size\":10,\"solidity\":0.2}},\"type\":\"histogram\"}],\"histogram2d\":[{\"colorbar\":{\"outlinewidth\":0,\"ticks\":\"\"},\"colorscale\":[[0.0,\"#0d0887\"],[0.1111111111111111,\"#46039f\"],[0.2222222222222222,\"#7201a8\"],[0.3333333333333333,\"#9c179e\"],[0.4444444444444444,\"#bd3786\"],[0.5555555555555556,\"#d8576b\"],[0.6666666666666666,\"#ed7953\"],[0.7777777777777778,\"#fb9f3a\"],[0.8888888888888888,\"#fdca26\"],[1.0,\"#f0f921\"]],\"type\":\"histogram2d\"}],\"histogram2dcontour\":[{\"colorbar\":{\"outlinewidth\":0,\"ticks\":\"\"},\"colorscale\":[[0.0,\"#0d0887\"],[0.1111111111111111,\"#46039f\"],[0.2222222222222222,\"#7201a8\"],[0.3333333333333333,\"#9c179e\"],[0.4444444444444444,\"#bd3786\"],[0.5555555555555556,\"#d8576b\"],[0.6666666666666666,\"#ed7953\"],[0.7777777777777778,\"#fb9f3a\"],[0.8888888888888888,\"#fdca26\"],[1.0,\"#f0f921\"]],\"type\":\"histogram2dcontour\"}],\"mesh3d\":[{\"colorbar\":{\"outlinewidth\":0,\"ticks\":\"\"},\"type\":\"mesh3d\"}],\"parcoords\":[{\"line\":{\"colorbar\":{\"outlinewidth\":0,\"ticks\":\"\"}},\"type\":\"parcoords\"}],\"pie\":[{\"automargin\":true,\"type\":\"pie\"}],\"scatter\":[{\"marker\":{\"colorbar\":{\"outlinewidth\":0,\"ticks\":\"\"}},\"type\":\"scatter\"}],\"scatter3d\":[{\"line\":{\"colorbar\":{\"outlinewidth\":0,\"ticks\":\"\"}},\"marker\":{\"colorbar\":{\"outlinewidth\":0,\"ticks\":\"\"}},\"type\":\"scatter3d\"}],\"scattercarpet\":[{\"marker\":{\"colorbar\":{\"outlinewidth\":0,\"ticks\":\"\"}},\"type\":\"scattercarpet\"}],\"scattergeo\":[{\"marker\":{\"colorbar\":{\"outlinewidth\":0,\"ticks\":\"\"}},\"type\":\"scattergeo\"}],\"scattergl\":[{\"marker\":{\"colorbar\":{\"outlinewidth\":0,\"ticks\":\"\"}},\"type\":\"scattergl\"}],\"scattermapbox\":[{\"marker\":{\"colorbar\":{\"outlinewidth\":0,\"ticks\":\"\"}},\"type\":\"scattermapbox\"}],\"scatterpolar\":[{\"marker\":{\"colorbar\":{\"outlinewidth\":0,\"ticks\":\"\"}},\"type\":\"scatterpolar\"}],\"scatterpolargl\":[{\"marker\":{\"colorbar\":{\"outlinewidth\":0,\"ticks\":\"\"}},\"type\":\"scatterpolargl\"}],\"scatterternary\":[{\"marker\":{\"colorbar\":{\"outlinewidth\":0,\"ticks\":\"\"}},\"type\":\"scatterternary\"}],\"surface\":[{\"colorbar\":{\"outlinewidth\":0,\"ticks\":\"\"},\"colorscale\":[[0.0,\"#0d0887\"],[0.1111111111111111,\"#46039f\"],[0.2222222222222222,\"#7201a8\"],[0.3333333333333333,\"#9c179e\"],[0.4444444444444444,\"#bd3786\"],[0.5555555555555556,\"#d8576b\"],[0.6666666666666666,\"#ed7953\"],[0.7777777777777778,\"#fb9f3a\"],[0.8888888888888888,\"#fdca26\"],[1.0,\"#f0f921\"]],\"type\":\"surface\"}],\"table\":[{\"cells\":{\"fill\":{\"color\":\"#EBF0F8\"},\"line\":{\"color\":\"white\"}},\"header\":{\"fill\":{\"color\":\"#C8D4E3\"},\"line\":{\"color\":\"white\"}},\"type\":\"table\"}]},\"layout\":{\"annotationdefaults\":{\"arrowcolor\":\"#2a3f5f\",\"arrowhead\":0,\"arrowwidth\":1},\"autotypenumbers\":\"strict\",\"coloraxis\":{\"colorbar\":{\"outlinewidth\":0,\"ticks\":\"\"}},\"colorscale\":{\"diverging\":[[0,\"#8e0152\"],[0.1,\"#c51b7d\"],[0.2,\"#de77ae\"],[0.3,\"#f1b6da\"],[0.4,\"#fde0ef\"],[0.5,\"#f7f7f7\"],[0.6,\"#e6f5d0\"],[0.7,\"#b8e186\"],[0.8,\"#7fbc41\"],[0.9,\"#4d9221\"],[1,\"#276419\"]],\"sequential\":[[0.0,\"#0d0887\"],[0.1111111111111111,\"#46039f\"],[0.2222222222222222,\"#7201a8\"],[0.3333333333333333,\"#9c179e\"],[0.4444444444444444,\"#bd3786\"],[0.5555555555555556,\"#d8576b\"],[0.6666666666666666,\"#ed7953\"],[0.7777777777777778,\"#fb9f3a\"],[0.8888888888888888,\"#fdca26\"],[1.0,\"#f0f921\"]],\"sequentialminus\":[[0.0,\"#0d0887\"],[0.1111111111111111,\"#46039f\"],[0.2222222222222222,\"#7201a8\"],[0.3333333333333333,\"#9c179e\"],[0.4444444444444444,\"#bd3786\"],[0.5555555555555556,\"#d8576b\"],[0.6666666666666666,\"#ed7953\"],[0.7777777777777778,\"#fb9f3a\"],[0.8888888888888888,\"#fdca26\"],[1.0,\"#f0f921\"]]},\"colorway\":[\"#636efa\",\"#EF553B\",\"#00cc96\",\"#ab63fa\",\"#FFA15A\",\"#19d3f3\",\"#FF6692\",\"#B6E880\",\"#FF97FF\",\"#FECB52\"],\"font\":{\"color\":\"#2a3f5f\"},\"geo\":{\"bgcolor\":\"white\",\"lakecolor\":\"white\",\"landcolor\":\"#E5ECF6\",\"showlakes\":true,\"showland\":true,\"subunitcolor\":\"white\"},\"hoverlabel\":{\"align\":\"left\"},\"hovermode\":\"closest\",\"mapbox\":{\"style\":\"light\"},\"paper_bgcolor\":\"white\",\"plot_bgcolor\":\"#E5ECF6\",\"polar\":{\"angularaxis\":{\"gridcolor\":\"white\",\"linecolor\":\"white\",\"ticks\":\"\"},\"bgcolor\":\"#E5ECF6\",\"radialaxis\":{\"gridcolor\":\"white\",\"linecolor\":\"white\",\"ticks\":\"\"}},\"scene\":{\"xaxis\":{\"backgroundcolor\":\"#E5ECF6\",\"gridcolor\":\"white\",\"gridwidth\":2,\"linecolor\":\"white\",\"showbackground\":true,\"ticks\":\"\",\"zerolinecolor\":\"white\"},\"yaxis\":{\"backgroundcolor\":\"#E5ECF6\",\"gridcolor\":\"white\",\"gridwidth\":2,\"linecolor\":\"white\",\"showbackground\":true,\"ticks\":\"\",\"zerolinecolor\":\"white\"},\"zaxis\":{\"backgroundcolor\":\"#E5ECF6\",\"gridcolor\":\"white\",\"gridwidth\":2,\"linecolor\":\"white\",\"showbackground\":true,\"ticks\":\"\",\"zerolinecolor\":\"white\"}},\"shapedefaults\":{\"line\":{\"color\":\"#2a3f5f\"}},\"ternary\":{\"aaxis\":{\"gridcolor\":\"white\",\"linecolor\":\"white\",\"ticks\":\"\"},\"baxis\":{\"gridcolor\":\"white\",\"linecolor\":\"white\",\"ticks\":\"\"},\"bgcolor\":\"#E5ECF6\",\"caxis\":{\"gridcolor\":\"white\",\"linecolor\":\"white\",\"ticks\":\"\"}},\"title\":{\"x\":0.05},\"xaxis\":{\"automargin\":true,\"gridcolor\":\"white\",\"linecolor\":\"white\",\"ticks\":\"\",\"title\":{\"standoff\":15},\"zerolinecolor\":\"white\",\"zerolinewidth\":2},\"yaxis\":{\"automargin\":true,\"gridcolor\":\"white\",\"linecolor\":\"white\",\"ticks\":\"\",\"title\":{\"standoff\":15},\"zerolinecolor\":\"white\",\"zerolinewidth\":2}}},\"yaxis\":{\"title\":{\"text\":\"Scores\"},\"range\":[0,1]},\"title\":{\"text\":\"Evaluation Metrics for Viscosity using RF\"},\"xaxis\":{\"title\":{\"text\":\"Metrics\"}},\"bargap\":0.2},                        {\"responsive\": true}                    ).then(function(){\n",
              "                            \n",
              "var gd = document.getElementById('7e64092e-8d44-4b80-b9d6-1e9d0c9a9878');\n",
              "var x = new MutationObserver(function (mutations, observer) {{\n",
              "        var display = window.getComputedStyle(gd).display;\n",
              "        if (!display || display === 'none') {{\n",
              "            console.log([gd, 'removed!']);\n",
              "            Plotly.purge(gd);\n",
              "            observer.disconnect();\n",
              "        }}\n",
              "}});\n",
              "\n",
              "// Listen for the removal of the full notebook cells\n",
              "var notebookContainer = gd.closest('#notebook-container');\n",
              "if (notebookContainer) {{\n",
              "    x.observe(notebookContainer, {childList: true});\n",
              "}}\n",
              "\n",
              "// Listen for the clearing of the current output cell\n",
              "var outputEl = gd.closest('.output');\n",
              "if (outputEl) {{\n",
              "    x.observe(outputEl, {childList: true});\n",
              "}}\n",
              "\n",
              "                        })                };                });            </script>        </div>"
            ]
          },
          "metadata": {},
          "output_type": "display_data"
        }
      ],
      "source": [
        "import plotly.graph_objects as go\n",
        "import pandas as pd\n",
        "from sklearn.metrics import accuracy_score, precision_score, recall_score, f1_score\n",
        "\n",
        "# Calculate the metrics\n",
        "accuracy = accuracy_score(y_test_texture, texture_predictions)\n",
        "print(f\"RF Accuracy: {accuracy:.4f}\")\n",
        "precision = precision_score(y_test_texture, texture_predictions, average='macro')\n",
        "print(f\"RF Precision: {precision:.4f}\")\n",
        "recall = recall_score(y_test_texture, texture_predictions, average='macro')\n",
        "print(f\"RF Recall: {recall:.4f}\")\n",
        "f1 = f1_score(y_test_texture, texture_predictions, average='macro')\n",
        "print(f\"RF F1 Score: {f1:.4f}\")\n",
        "\n",
        "# Create a DataFrame to hold the metrics\n",
        "metrics = {\n",
        "    'Metric': ['Accuracy', 'Precision', 'Recall', 'F1-Score'],\n",
        "    'Score': [accuracy, precision, recall, f1]\n",
        "}\n",
        "metrics_df = pd.DataFrame(metrics)\n",
        "\n",
        "# Create a bar graph using Plotly\n",
        "fig = go.Figure()\n",
        "fig.add_trace(go.Bar(\n",
        "    x=metrics_df['Metric'],\n",
        "    y=metrics_df['Score'],\n",
        "    text=metrics_df['Score'].round(4),\n",
        "    textposition='auto',\n",
        "    marker=dict(color='yellow'),\n",
        "))\n",
        "\n",
        "# Customize layout\n",
        "fig.update_layout(\n",
        "    title='Evaluation Metrics for Viscosity using RF',\n",
        "    xaxis_title='Metrics',\n",
        "    yaxis_title='Scores',\n",
        "    yaxis_range=[0, 1],  # Set y-axis limits from 0 to 1\n",
        "    bargap=0.2)\n",
        "fig.show()\n"
      ]
    },
    {
      "cell_type": "code",
      "execution_count": null,
      "metadata": {
        "scrolled": true,
        "id": "5QitV1EfXj_H",
        "outputId": "1a75807d-555f-4a03-aca6-5369dc1f2d7e"
      },
      "outputs": [
        {
          "name": "stdout",
          "output_type": "stream",
          "text": [
            "MSE: 0.0\n"
          ]
        },
        {
          "data": {
            "image/png": "[encoded data removed]",
            "text/plain": [
              "<Figure size 432x288 with 1 Axes>"
            ]
          },
          "metadata": {
            "needs_background": "light"
          },
          "output_type": "display_data"
        }
      ],
      "source": [
        "from sklearn.metrics import mean_squared_error\n",
        "# Assuming y_true are the actual prices and y_pred are the predicted prices\n",
        "mse = mean_squared_error(y_test_price,price_predictions)\n",
        "print(f'MSE: {mse}')\n",
        "\n",
        "\n",
        "plt.scatter(y_test_price,price_predictions, alpha=0.5)\n",
        "plt.xlabel(\"Actual Prices\")\n",
        "plt.ylabel(\"Predicted Prices\")\n",
        "plt.title(\"Actual vs Predicted Prices\")\n",
        "plt.show()"
      ]
    },
    {
      "cell_type": "code",
      "execution_count": null,
      "metadata": {
        "id": "y_OERt9WXj_H",
        "outputId": "3579b285-bfd2-4483-813f-cccf8fb7541b"
      },
      "outputs": [
        {
          "name": "stdout",
          "output_type": "stream",
          "text": [
            "Requirement already satisfied: geopy in c:\\users\\smruti dighe\\documents\\anaconda\\lib\\site-packages (2.4.1)\n",
            "Requirement already satisfied: geographiclib<3,>=1.52 in c:\\users\\smruti dighe\\documents\\anaconda\\lib\\site-packages (from geopy) (2.0)\n"
          ]
        }
      ],
      "source": [
        "!pip install geopy\n"
      ]
    },
    {
      "cell_type": "code",
      "execution_count": null,
      "metadata": {
        "id": "qJWOAZ68Xj_I",
        "outputId": "d4a73bdf-8385-4749-daeb-89099bc0a335"
      },
      "outputs": [
        {
          "name": "stdout",
          "output_type": "stream",
          "text": [
            "          City         Flavor        Lat        Lon\n",
            "0         Pune      Chocolate  18.521374  73.854507\n",
            "1   Trivandrum        Berries   8.488227  76.947551\n",
            "2      Kolkata    Pina Colada  22.572646  88.363895\n",
            "3        Surat         Fruity  21.209489  72.831706\n",
            "4    Sangamner      Chocolate  19.566337  74.211265\n",
            "5        Nasik        Berries  19.961559  73.831694\n",
            "6       Mumbai        Berries  19.081577  72.886628\n",
            "7       Bhopal        Berries  23.258486  77.401989\n",
            "8       Kanpur           Oats  26.460914  80.321759\n",
            "9      Jodhpur        Oregano  26.296772  73.035143\n",
            "10     Chennai         Banana  13.083694  80.270186\n",
            "11      Nagpur      Chocolate  21.149813  79.082056\n",
            "12     Lucknow         Banana  26.838100  80.934600\n",
            "13      Indore         Coffee  22.720362  75.868200\n",
            "14   Ahmedabad         Coffee  23.021537  72.580057\n",
            "15  Chandigarh         Banana  30.729844  76.784146\n",
            "16      Nashik      Chocolate  20.011247  73.790236\n",
            "17      Baroda    Pina Colada  22.297314  73.194257\n",
            "18       Patna  Green veggies  25.609324  85.123525\n",
            "19   Bangalore          Mango  12.988157  77.622600\n",
            "20       Delhi         Frutiy  28.627393  77.171695\n",
            "21      Jaipur          Mango  26.915458  75.818982\n",
            "22       Kochi         Banana   9.967428  76.245444\n",
            "23   Hyderabad         Banana  17.360589  78.474061\n"
          ]
        }
      ],
      "source": [
        "import pandas as pd\n",
        "from geopy.geocoders import Nominatim\n",
        "import time\n",
        "\n",
        "# Example data (replace with your actual data)\n",
        "data = pd.DataFrame({\n",
        "    'City': ['Pune', 'Trivandrum', 'Kolkata', 'Surat', 'Sangamner',\n",
        "        'Nasik', 'Mumbai', 'Bhopal', 'Kanpur', 'Jodhpur',\n",
        "       'Chennai', 'Nagpur', 'Lucknow', 'Indore', 'Ahmedabad',\n",
        "       'Chandigarh', 'Nashik', 'Baroda', 'Patna', 'Bangalore', 'Delhi',\n",
        "       'Jaipur', 'Kochi', 'Hyderabad'],\n",
        "    'Flavor': ['Chocolate', 'Berries', 'Pina Colada', 'Fruity', 'Chocolate',\n",
        "       'Berries', 'Berries', 'Berries', 'Oats', 'Oregano', 'Banana','Chocolate','Banana','Coffee','Coffee','Banana','Chocolate'\n",
        "               ,'Pina Colada','Green veggies','Mango','Frutiy','Mango','Banana','Banana']\n",
        "})\n",
        "\n",
        "# Initialize geolocator\n",
        "geolocator = Nominatim(user_agent=\"geoapiExercises\")\n",
        "\n",
        "# Function to get latitude and longitude\n",
        "def get_lat_long(city):\n",
        "    try:\n",
        "        location = geolocator.geocode(city + \", India\")\n",
        "        if location:\n",
        "            return location.latitude, location.longitude\n",
        "        else:\n",
        "            return None, None\n",
        "    except Exception as e:\n",
        "        return None, None\n",
        "\n",
        "# Create columns for Latitude and Longitude\n",
        "data['Lat'], data['Lon'] = zip(*data['City'].apply(get_lat_long))\n",
        "\n",
        "# Display the data with Lat and Lon\n",
        "print(data)\n",
        "\n",
        "# Sleep between requests to avoid overloading the service\n",
        "time.sleep(1)\n"
      ]
    },
    {
      "cell_type": "markdown",
      "metadata": {
        "id": "GUk2zzHTXj_I"
      },
      "source": [
        "#### Confusion metrics for the attributes"
      ]
    },
    {
      "cell_type": "code",
      "execution_count": null,
      "metadata": {
        "scrolled": true,
        "id": "IcptNpMiXj_I",
        "outputId": "48442ad2-49af-4f75-e0d0-e1a9e948fdd8"
      },
      "outputs": [
        {
          "data": {
            "image/png": "[encoded data removed]",
            "text/plain": [
              "<Figure size 576x432 with 2 Axes>"
            ]
          },
          "metadata": {
            "needs_background": "light"
          },
          "output_type": "display_data"
        },
        {
          "data": {
            "image/png": "[encoded data removed]",
            "text/plain": [
              "<Figure size 576x432 with 2 Axes>"
            ]
          },
          "metadata": {
            "needs_background": "light"
          },
          "output_type": "display_data"
        },
        {
          "data": {
            "image/png": "[encoded data removed]",
            "text/plain": [
              "<Figure size 576x432 with 1 Axes>"
            ]
          },
          "metadata": {
            "needs_background": "light"
          },
          "output_type": "display_data"
        }
      ],
      "source": [
        "# Plotting Confusion Matrix\n",
        "from sklearn.metrics import confusion_matrix\n",
        "import seaborn as sns\n",
        "\n",
        "#Viscosity\n",
        "conf_matrix = confusion_matrix(y_test_viscosity, viscosity_predictions)\n",
        "plt.figure(figsize=(8, 6))\n",
        "sns.heatmap(conf_matrix, annot=True, fmt='d', cmap='Blues')\n",
        "plt.xlabel('Predicted Labels')\n",
        "plt.ylabel('True Labels')\n",
        "plt.title('Confusion Matrix for Viscosity Prediction using RF')\n",
        "plt.show()\n",
        "\n",
        "#Sweetness\n",
        "conf_matrix = confusion_matrix(y_test_sweetness, sweetness_predictions)\n",
        "plt.figure(figsize=(8, 6))\n",
        "sns.heatmap(conf_matrix, annot=True, fmt='d', cmap='Reds')\n",
        "plt.xlabel('Predicted Labels')\n",
        "plt.ylabel('True Labels')\n",
        "plt.title('Confusion Matrix for Sweetness Prediction using RF')\n",
        "plt.show()\n",
        "\n",
        "#Texture\n",
        "conf_matrix = confusion_matrix(y_test_texture, texture_predictions)\n",
        "plt.figure(figsize=(8, 6))\n",
        "sns.heatmap(conf_matrix, annot=True, fmt='d', cmap='Greens', cbar=False)\n",
        "plt.xlabel('Predicted Labels')\n",
        "plt.ylabel('True Labels')\n",
        "plt.title('Confusion Matrix for Texture Prediction using RF')\n",
        "plt.show()"
      ]
    },
    {
      "cell_type": "markdown",
      "metadata": {
        "id": "MaAis8sISKQE"
      },
      "source": [
        "Created a dataframe called df_predictions to link with total_avg_sentiments for final result analysis\n"
      ]
    },
    {
      "cell_type": "code",
      "execution_count": null,
      "metadata": {
        "id": "l7ohTIwnRrmE",
        "scrolled": true,
        "outputId": "7e04d506-65c7-4e7d-cb29-859f15389ff1"
      },
      "outputs": [
        {
          "data": {
            "text/html": [
              "<div>\n",
              "<style scoped>\n",
              "    .dataframe tbody tr th:only-of-type {\n",
              "        vertical-align: middle;\n",
              "    }\n",
              "\n",
              "    .dataframe tbody tr th {\n",
              "        vertical-align: top;\n",
              "    }\n",
              "\n",
              "    .dataframe thead th {\n",
              "        text-align: right;\n",
              "    }\n",
              "</style>\n",
              "<table border=\"1\" class=\"dataframe\">\n",
              "  <thead>\n",
              "    <tr style=\"text-align: right;\">\n",
              "      <th></th>\n",
              "      <th>Location</th>\n",
              "      <th>Flavor</th>\n",
              "      <th>Predicted_Sweetness</th>\n",
              "      <th>Predicted_Viscosity</th>\n",
              "      <th>Predicted_Price</th>\n",
              "      <th>Predicted_Texture</th>\n",
              "    </tr>\n",
              "  </thead>\n",
              "  <tbody>\n",
              "    <tr>\n",
              "      <th>0</th>\n",
              "      <td>Indore</td>\n",
              "      <td>Coffee</td>\n",
              "      <td>5.0</td>\n",
              "      <td>1</td>\n",
              "      <td>275.0</td>\n",
              "      <td>Grainy</td>\n",
              "    </tr>\n",
              "    <tr>\n",
              "      <th>1</th>\n",
              "      <td>Pune</td>\n",
              "      <td>Chocolate</td>\n",
              "      <td>5.0</td>\n",
              "      <td>2</td>\n",
              "      <td>275.0</td>\n",
              "      <td>Smooth</td>\n",
              "    </tr>\n",
              "    <tr>\n",
              "      <th>2</th>\n",
              "      <td>Kochi</td>\n",
              "      <td>Banana</td>\n",
              "      <td>5.0</td>\n",
              "      <td>1</td>\n",
              "      <td>275.0</td>\n",
              "      <td>Grainy</td>\n",
              "    </tr>\n",
              "    <tr>\n",
              "      <th>3</th>\n",
              "      <td>Surat</td>\n",
              "      <td>Fruity</td>\n",
              "      <td>5.0</td>\n",
              "      <td>1</td>\n",
              "      <td>275.0</td>\n",
              "      <td>Grainy</td>\n",
              "    </tr>\n",
              "    <tr>\n",
              "      <th>4</th>\n",
              "      <td>Chandigarh</td>\n",
              "      <td>Banana</td>\n",
              "      <td>5.0</td>\n",
              "      <td>1</td>\n",
              "      <td>275.0</td>\n",
              "      <td>Grainy</td>\n",
              "    </tr>\n",
              "  </tbody>\n",
              "</table>\n",
              "</div>"
            ],
            "text/plain": [
              "     Location     Flavor  Predicted_Sweetness  Predicted_Viscosity  \\\n",
              "0      Indore     Coffee                  5.0                    1   \n",
              "1        Pune  Chocolate                  5.0                    2   \n",
              "2       Kochi     Banana                  5.0                    1   \n",
              "3       Surat     Fruity                  5.0                    1   \n",
              "4  Chandigarh     Banana                  5.0                    1   \n",
              "\n",
              "   Predicted_Price Predicted_Texture  \n",
              "0            275.0            Grainy  \n",
              "1            275.0            Smooth  \n",
              "2            275.0            Grainy  \n",
              "3            275.0            Grainy  \n",
              "4            275.0            Grainy  "
            ]
          },
          "execution_count": 13,
          "metadata": {},
          "output_type": "execute_result"
        }
      ],
      "source": [
        "df_predictions = pd.DataFrame({\n",
        "    'Location': new_data['Location'],\n",
        "    'Flavor': new_data['Flavor'],\n",
        "    'Predicted_Sweetness': new_sweetness_predictions,\n",
        "    'Predicted_Viscosity': new_viscosity_predictions,\n",
        "    'Predicted_Price': new_price_predictions,\n",
        "    'Predicted_Texture': new_texture_predictions\n",
        "})\n",
        "\n",
        "df_predictions"
      ]
    },
    {
      "cell_type": "markdown",
      "metadata": {
        "id": "-i080bpnIurD"
      },
      "source": [
        "## Sentiment Analysis of Reviews\n"
      ]
    },
    {
      "cell_type": "code",
      "execution_count": null,
      "metadata": {
        "id": "zLhLEuHqS0QE",
        "outputId": "f22069f7-9615-4741-d6a6-425225112ac9"
      },
      "outputs": [
        {
          "name": "stdout",
          "output_type": "stream",
          "text": [
            "Requirement already satisfied: stanza in c:\\users\\smruti dighe\\documents\\anaconda\\lib\\site-packages (1.8.2)\n",
            "Requirement already satisfied: emoji in c:\\users\\smruti dighe\\documents\\anaconda\\lib\\site-packages (from stanza) (2.12.1)\n",
            "Requirement already satisfied: tqdm in c:\\users\\smruti dighe\\documents\\anaconda\\lib\\site-packages (from stanza) (4.64.0)\n",
            "Requirement already satisfied: toml in c:\\users\\smruti dighe\\documents\\anaconda\\lib\\site-packages (from stanza) (0.10.2)\n",
            "Requirement already satisfied: torch>=1.3.0 in c:\\users\\smruti dighe\\documents\\anaconda\\lib\\site-packages (from stanza) (2.4.1)\n",
            "Requirement already satisfied: networkx in c:\\users\\smruti dighe\\documents\\anaconda\\lib\\site-packages (from stanza) (2.7.1)\n",
            "Requirement already satisfied: numpy in c:\\users\\smruti dighe\\documents\\anaconda\\lib\\site-packages (from stanza) (1.22.4)\n",
            "Requirement already satisfied: requests in c:\\users\\smruti dighe\\documents\\anaconda\\lib\\site-packages (from stanza) (2.32.3)\n",
            "Requirement already satisfied: protobuf>=3.15.0 in c:\\users\\smruti dighe\\documents\\anaconda\\lib\\site-packages (from stanza) (4.25.4)\n",
            "Requirement already satisfied: typing-extensions>=4.8.0 in c:\\users\\smruti dighe\\documents\\anaconda\\lib\\site-packages (from torch>=1.3.0->stanza) (4.11.0)\n",
            "Requirement already satisfied: filelock in c:\\users\\smruti dighe\\documents\\anaconda\\lib\\site-packages (from torch>=1.3.0->stanza) (3.6.0)\n",
            "Requirement already satisfied: jinja2 in c:\\users\\smruti dighe\\documents\\anaconda\\lib\\site-packages (from torch>=1.3.0->stanza) (2.11.3)\n",
            "Requirement already satisfied: fsspec in c:\\users\\smruti dighe\\documents\\anaconda\\lib\\site-packages (from torch>=1.3.0->stanza) (2022.2.0)\n",
            "Requirement already satisfied: sympy in c:\\users\\smruti dighe\\documents\\anaconda\\lib\\site-packages (from torch>=1.3.0->stanza) (1.10.1)\n",
            "Requirement already satisfied: MarkupSafe>=0.23 in c:\\users\\smruti dighe\\documents\\anaconda\\lib\\site-packages (from jinja2->torch>=1.3.0->stanza) (2.0.1)\n",
            "Requirement already satisfied: charset-normalizer<4,>=2 in c:\\users\\smruti dighe\\documents\\anaconda\\lib\\site-packages (from requests->stanza) (2.0.4)\n",
            "Requirement already satisfied: idna<4,>=2.5 in c:\\users\\smruti dighe\\documents\\anaconda\\lib\\site-packages (from requests->stanza) (3.3)\n",
            "Requirement already satisfied: certifi>=2017.4.17 in c:\\users\\smruti dighe\\documents\\anaconda\\lib\\site-packages (from requests->stanza) (2021.10.8)\n",
            "Requirement already satisfied: urllib3<3,>=1.21.1 in c:\\users\\smruti dighe\\documents\\anaconda\\lib\\site-packages (from requests->stanza) (1.26.9)\n",
            "Requirement already satisfied: mpmath>=0.19 in c:\\users\\smruti dighe\\documents\\anaconda\\lib\\site-packages (from sympy->torch>=1.3.0->stanza) (1.2.1)\n",
            "Requirement already satisfied: colorama in c:\\users\\smruti dighe\\documents\\anaconda\\lib\\site-packages (from tqdm->stanza) (0.4.4)\n"
          ]
        }
      ],
      "source": [
        "!pip install stanza"
      ]
    },
    {
      "cell_type": "code",
      "execution_count": null,
      "metadata": {
        "id": "5cjx4ZjeTXn4",
        "colab": {
          "referenced_widgets": [
            "6427cf01ee1444599cb574047b0897fa"
          ]
        },
        "outputId": "72a86d02-bd2b-4c86-928c-046cf0fccd0f"
      },
      "outputs": [
        {
          "data": {
            "application/vnd.jupyter.widget-view+json": {
              "model_id": "6427cf01ee1444599cb574047b0897fa",
              "version_major": 2,
              "version_minor": 0
            },
            "text/plain": [
              "Downloading https://raw.githubusercontent.com/stanfordnlp/stanza-resources/main/resources_1.8.0.json:   0%|   …"
            ]
          },
          "metadata": {},
          "output_type": "display_data"
        },
        {
          "name": "stderr",
          "output_type": "stream",
          "text": [
            "2024-09-08 20:09:22 INFO: Downloaded file to C:\\Users\\smruti dighe\\stanza_resources\\resources.json\n",
            "2024-09-08 20:09:22 INFO: Downloading default packages for language: en (English) ...\n",
            "2024-09-08 20:09:24 INFO: File exists: C:\\Users\\smruti dighe\\stanza_resources\\en\\default.zip\n",
            "2024-09-08 20:09:30 INFO: Finished downloading models and saved to C:\\Users\\smruti dighe\\stanza_resources\n"
          ]
        }
      ],
      "source": [
        "import stanza\n",
        "stanza.download('en')\n"
      ]
    },
    {
      "cell_type": "code",
      "execution_count": null,
      "metadata": {
        "id": "Ht2xtHN3UtUy",
        "colab": {
          "referenced_widgets": [
            "f545a41789484bff93f52a68919e519a"
          ]
        },
        "outputId": "51e7cb53-748d-41da-ae82-5fc22f21311a"
      },
      "outputs": [
        {
          "name": "stderr",
          "output_type": "stream",
          "text": [
            "2024-09-08 20:09:30 INFO: Checking for updates to resources.json in case models have been updated.  Note: this behavior can be turned off with download_method=None or download_method=DownloadMethod.REUSE_RESOURCES\n"
          ]
        },
        {
          "data": {
            "application/vnd.jupyter.widget-view+json": {
              "model_id": "f545a41789484bff93f52a68919e519a",
              "version_major": 2,
              "version_minor": 0
            },
            "text/plain": [
              "Downloading https://raw.githubusercontent.com/stanfordnlp/stanza-resources/main/resources_1.8.0.json:   0%|   …"
            ]
          },
          "metadata": {},
          "output_type": "display_data"
        },
        {
          "name": "stderr",
          "output_type": "stream",
          "text": [
            "2024-09-08 20:09:30 INFO: Downloaded file to C:\\Users\\smruti dighe\\stanza_resources\\resources.json\n",
            "2024-09-08 20:09:30 WARNING: Language en package default expects mwt, which has been added\n",
            "2024-09-08 20:09:31 INFO: Loading these models for language: en (English):\n",
            "==============================\n",
            "| Processor | Package        |\n",
            "------------------------------\n",
            "| tokenize  | combined       |\n",
            "| mwt       | combined       |\n",
            "| sentiment | sstplus_charlm |\n",
            "==============================\n",
            "\n",
            "2024-09-08 20:09:31 INFO: Using device: cpu\n",
            "2024-09-08 20:09:31 INFO: Loading: tokenize\n",
            "C:\\Users\\smruti dighe\\Documents\\Anaconda\\lib\\site-packages\\stanza\\models\\tokenization\\trainer.py:82: FutureWarning: You are using `torch.load` with `weights_only=False` (the current default value), which uses the default pickle module implicitly. It is possible to construct malicious pickle data which will execute arbitrary code during unpickling (See https://github.com/pytorch/pytorch/blob/main/SECURITY.md#untrusted-models for more details). In a future release, the default value for `weights_only` will be flipped to `True`. This limits the functions that could be executed during unpickling. Arbitrary objects will no longer be allowed to be loaded via this mode unless they are explicitly allowlisted by the user via `torch.serialization.add_safe_globals`. We recommend you start setting `weights_only=True` for any use case where you don't have full control of the loaded file. Please open an issue on GitHub for any issues related to this experimental feature.\n",
            "  checkpoint = torch.load(filename, lambda storage, loc: storage)\n",
            "2024-09-08 20:09:33 INFO: Loading: mwt\n",
            "C:\\Users\\smruti dighe\\Documents\\Anaconda\\lib\\site-packages\\stanza\\models\\mwt\\trainer.py:170: FutureWarning: You are using `torch.load` with `weights_only=False` (the current default value), which uses the default pickle module implicitly. It is possible to construct malicious pickle data which will execute arbitrary code during unpickling (See https://github.com/pytorch/pytorch/blob/main/SECURITY.md#untrusted-models for more details). In a future release, the default value for `weights_only` will be flipped to `True`. This limits the functions that could be executed during unpickling. Arbitrary objects will no longer be allowed to be loaded via this mode unless they are explicitly allowlisted by the user via `torch.serialization.add_safe_globals`. We recommend you start setting `weights_only=True` for any use case where you don't have full control of the loaded file. Please open an issue on GitHub for any issues related to this experimental feature.\n",
            "  checkpoint = torch.load(filename, lambda storage, loc: storage)\n",
            "2024-09-08 20:09:33 INFO: Loading: sentiment\n",
            "C:\\Users\\smruti dighe\\Documents\\Anaconda\\lib\\site-packages\\stanza\\models\\classifiers\\trainer.py:72: FutureWarning: You are using `torch.load` with `weights_only=False` (the current default value), which uses the default pickle module implicitly. It is possible to construct malicious pickle data which will execute arbitrary code during unpickling (See https://github.com/pytorch/pytorch/blob/main/SECURITY.md#untrusted-models for more details). In a future release, the default value for `weights_only` will be flipped to `True`. This limits the functions that could be executed during unpickling. Arbitrary objects will no longer be allowed to be loaded via this mode unless they are explicitly allowlisted by the user via `torch.serialization.add_safe_globals`. We recommend you start setting `weights_only=True` for any use case where you don't have full control of the loaded file. Please open an issue on GitHub for any issues related to this experimental feature.\n",
            "  checkpoint = torch.load(filename, lambda storage, loc: storage)\n",
            "C:\\Users\\smruti dighe\\Documents\\Anaconda\\lib\\site-packages\\stanza\\models\\common\\char_model.py:271: FutureWarning: You are using `torch.load` with `weights_only=False` (the current default value), which uses the default pickle module implicitly. It is possible to construct malicious pickle data which will execute arbitrary code during unpickling (See https://github.com/pytorch/pytorch/blob/main/SECURITY.md#untrusted-models for more details). In a future release, the default value for `weights_only` will be flipped to `True`. This limits the functions that could be executed during unpickling. Arbitrary objects will no longer be allowed to be loaded via this mode unless they are explicitly allowlisted by the user via `torch.serialization.add_safe_globals`. We recommend you start setting `weights_only=True` for any use case where you don't have full control of the loaded file. Please open an issue on GitHub for any issues related to this experimental feature.\n",
            "  state = torch.load(filename, lambda storage, loc: storage)\n",
            "C:\\Users\\smruti dighe\\Documents\\Anaconda\\lib\\site-packages\\stanza\\models\\common\\pretrain.py:56: FutureWarning: You are using `torch.load` with `weights_only=False` (the current default value), which uses the default pickle module implicitly. It is possible to construct malicious pickle data which will execute arbitrary code during unpickling (See https://github.com/pytorch/pytorch/blob/main/SECURITY.md#untrusted-models for more details). In a future release, the default value for `weights_only` will be flipped to `True`. This limits the functions that could be executed during unpickling. Arbitrary objects will no longer be allowed to be loaded via this mode unless they are explicitly allowlisted by the user via `torch.serialization.add_safe_globals`. We recommend you start setting `weights_only=True` for any use case where you don't have full control of the loaded file. Please open an issue on GitHub for any issues related to this experimental feature.\n",
            "  data = torch.load(self.filename, lambda storage, loc: storage)\n",
            "2024-09-08 20:09:34 INFO: Done loading processors!\n"
          ]
        },
        {
          "name": "stdout",
          "output_type": "stream",
          "text": [
            "                                                Review  numerical_sentiment  \\\n",
            "0    I'm so glad I ordered these. They taste great!...                    2   \n",
            "1                       Nice flavour & easy to prepare                    2   \n",
            "2    Very nice product. Easy to make. Healthy and t...                    2   \n",
            "3    My rating would be -\\nBerry>Orange>chocolate>i...                    1   \n",
            "4    I found them on Instagram and had a chat but I...                    1   \n",
            "..                                                 ...                  ...   \n",
            "231                                               Good                    2   \n",
            "232                                         Good taste                    2   \n",
            "233  I don't know why all Hershey's chocolate produ...                    0   \n",
            "234                     I received a duplicate product                    1   \n",
            "235                    Should be 6 and received only 5                    1   \n",
            "\n",
            "    sentiment_label  \n",
            "0          Positive  \n",
            "1          Positive  \n",
            "2          Positive  \n",
            "3           Neutral  \n",
            "4           Neutral  \n",
            "..              ...  \n",
            "231        Positive  \n",
            "232        Positive  \n",
            "233        Negative  \n",
            "234         Neutral  \n",
            "235         Neutral  \n",
            "\n",
            "[236 rows x 3 columns]\n"
          ]
        }
      ],
      "source": [
        "import pandas as pd\n",
        "import stanza\n",
        "\n",
        "# Initialize the Stanza pipeline for English, including the sentiment module\n",
        "nlp = stanza.Pipeline('en', processors='tokenize,sentiment')\n",
        "\n",
        "\n",
        "df1 = pd.read_csv('smoothie_reviews_final - combined.csv')\n",
        "\n",
        "\n",
        "def analyze_sentiment(review):\n",
        "    doc = nlp(review)\n",
        "    # Stanza returns sentiment score: 0 for negative, 1 for neutral, 2 for positive\n",
        "    sentiments = [sentence.sentiment for sentence in doc.sentences]\n",
        "    return sentiments\n",
        "\n",
        "# Apply the sentiment analysis to the reviews\n",
        "df1['sentiments'] = df1['Review'].apply(analyze_sentiment)\n",
        "\n",
        "# average sentiment score across all sentences in the review\n",
        "df1['average_sentiment'] = df1['sentiments'].apply(lambda sentiments: sum(sentiments) / len(sentiments) if sentiments else None)\n",
        "\n",
        "df1['numerical_sentiment'] = df1['average_sentiment'].apply(lambda x: round(x) if x is not None else None)\n",
        "\n",
        "# Convert numerical sentiment score to a label\n",
        "def sentiment_label(score):\n",
        "    if score == 0:\n",
        "        return 'Negative'\n",
        "    elif score == 1:\n",
        "        return 'Neutral'\n",
        "    elif score == 2:\n",
        "        return 'Positive'\n",
        "    else:\n",
        "        return 'Unknown'\n",
        "\n",
        "df1['sentiment_label'] = df1['numerical_sentiment'].apply(lambda score: sentiment_label(score) if score is not None else 'Unknown')\n",
        "\n",
        "print(df1[['Review', 'numerical_sentiment', 'sentiment_label']])\n"
      ]
    },
    {
      "cell_type": "code",
      "execution_count": null,
      "metadata": {
        "id": "uPGsKH2vU7zG",
        "scrolled": false,
        "outputId": "375b9dd2-5fa1-47ac-d49c-5bf959160db4"
      },
      "outputs": [
        {
          "data": {
            "text/html": [
              "<div>\n",
              "<style scoped>\n",
              "    .dataframe tbody tr th:only-of-type {\n",
              "        vertical-align: middle;\n",
              "    }\n",
              "\n",
              "    .dataframe tbody tr th {\n",
              "        vertical-align: top;\n",
              "    }\n",
              "\n",
              "    .dataframe thead th {\n",
              "        text-align: right;\n",
              "    }\n",
              "</style>\n",
              "<table border=\"1\" class=\"dataframe\">\n",
              "  <thead>\n",
              "    <tr style=\"text-align: right;\">\n",
              "      <th></th>\n",
              "      <th>Location</th>\n",
              "      <th>Review</th>\n",
              "      <th>Flavor</th>\n",
              "      <th>sentiments</th>\n",
              "      <th>average_sentiment</th>\n",
              "      <th>numerical_sentiment</th>\n",
              "      <th>sentiment_label</th>\n",
              "    </tr>\n",
              "  </thead>\n",
              "  <tbody>\n",
              "    <tr>\n",
              "      <th>0</th>\n",
              "      <td>India</td>\n",
              "      <td>I'm so glad I ordered these. They taste great!...</td>\n",
              "      <td>Berries</td>\n",
              "      <td>[2, 2, 2, 2, 1, 2, 1, 1, 2]</td>\n",
              "      <td>1.666667</td>\n",
              "      <td>2</td>\n",
              "      <td>Positive</td>\n",
              "    </tr>\n",
              "    <tr>\n",
              "      <th>1</th>\n",
              "      <td>India</td>\n",
              "      <td>Nice flavour &amp; easy to prepare</td>\n",
              "      <td>Berries</td>\n",
              "      <td>[2]</td>\n",
              "      <td>2.000000</td>\n",
              "      <td>2</td>\n",
              "      <td>Positive</td>\n",
              "    </tr>\n",
              "    <tr>\n",
              "      <th>2</th>\n",
              "      <td>India</td>\n",
              "      <td>Very nice product. Easy to make. Healthy and t...</td>\n",
              "      <td>Berries</td>\n",
              "      <td>[2, 1, 2, 2, 2, 1]</td>\n",
              "      <td>1.666667</td>\n",
              "      <td>2</td>\n",
              "      <td>Positive</td>\n",
              "    </tr>\n",
              "    <tr>\n",
              "      <th>3</th>\n",
              "      <td>India</td>\n",
              "      <td>My rating would be -\\nBerry&gt;Orange&gt;chocolate&gt;i...</td>\n",
              "      <td>Berries</td>\n",
              "      <td>[1, 2, 2, 1, 1, 1]</td>\n",
              "      <td>1.333333</td>\n",
              "      <td>1</td>\n",
              "      <td>Neutral</td>\n",
              "    </tr>\n",
              "    <tr>\n",
              "      <th>4</th>\n",
              "      <td>India</td>\n",
              "      <td>I found them on Instagram and had a chat but I...</td>\n",
              "      <td>Berries</td>\n",
              "      <td>[0, 1, 0, 2, 2, 1, 1, 2]</td>\n",
              "      <td>1.125000</td>\n",
              "      <td>1</td>\n",
              "      <td>Neutral</td>\n",
              "    </tr>\n",
              "    <tr>\n",
              "      <th>5</th>\n",
              "      <td>India</td>\n",
              "      <td>Oats are raw, taste is not good</td>\n",
              "      <td>Berries</td>\n",
              "      <td>[0]</td>\n",
              "      <td>0.000000</td>\n",
              "      <td>0</td>\n",
              "      <td>Negative</td>\n",
              "    </tr>\n",
              "    <tr>\n",
              "      <th>6</th>\n",
              "      <td>India</td>\n",
              "      <td>My first time trying Smart'O bite smoothie mix...</td>\n",
              "      <td>Berries</td>\n",
              "      <td>[2, 2, 1]</td>\n",
              "      <td>1.666667</td>\n",
              "      <td>2</td>\n",
              "      <td>Positive</td>\n",
              "    </tr>\n",
              "    <tr>\n",
              "      <th>7</th>\n",
              "      <td>India</td>\n",
              "      <td>I liked the taste, but when gone through ingre...</td>\n",
              "      <td>Berries</td>\n",
              "      <td>[2, 0]</td>\n",
              "      <td>1.000000</td>\n",
              "      <td>1</td>\n",
              "      <td>Neutral</td>\n",
              "    </tr>\n",
              "    <tr>\n",
              "      <th>8</th>\n",
              "      <td>India</td>\n",
              "      <td>They are quite perfect and I love them...</td>\n",
              "      <td>Berries</td>\n",
              "      <td>[2]</td>\n",
              "      <td>2.000000</td>\n",
              "      <td>2</td>\n",
              "      <td>Positive</td>\n",
              "    </tr>\n",
              "    <tr>\n",
              "      <th>9</th>\n",
              "      <td>India</td>\n",
              "      <td>Very good flavours are usually mix this with m...</td>\n",
              "      <td>Berries</td>\n",
              "      <td>[2]</td>\n",
              "      <td>2.000000</td>\n",
              "      <td>2</td>\n",
              "      <td>Positive</td>\n",
              "    </tr>\n",
              "    <tr>\n",
              "      <th>10</th>\n",
              "      <td>India</td>\n",
              "      <td>I was looking for a healthy breakfast and snac...</td>\n",
              "      <td>Berries</td>\n",
              "      <td>[1, 2, 2]</td>\n",
              "      <td>1.666667</td>\n",
              "      <td>2</td>\n",
              "      <td>Positive</td>\n",
              "    </tr>\n",
              "    <tr>\n",
              "      <th>11</th>\n",
              "      <td>India</td>\n",
              "      <td>I personally liked the berries and basil flavo...</td>\n",
              "      <td>Berries</td>\n",
              "      <td>[2, 1]</td>\n",
              "      <td>1.500000</td>\n",
              "      <td>2</td>\n",
              "      <td>Positive</td>\n",
              "    </tr>\n",
              "    <tr>\n",
              "      <th>12</th>\n",
              "      <td>India</td>\n",
              "      <td>The Smoothies are great. They taste excellent ...</td>\n",
              "      <td>Berries</td>\n",
              "      <td>[2, 2, 1, 2, 2, 2]</td>\n",
              "      <td>1.833333</td>\n",
              "      <td>2</td>\n",
              "      <td>Positive</td>\n",
              "    </tr>\n",
              "    <tr>\n",
              "      <th>13</th>\n",
              "      <td>India</td>\n",
              "      <td>Tried for first time on a recommendation from ...</td>\n",
              "      <td>Berries</td>\n",
              "      <td>[2, 2, 0, 1, 2]</td>\n",
              "      <td>1.400000</td>\n",
              "      <td>1</td>\n",
              "      <td>Neutral</td>\n",
              "    </tr>\n",
              "    <tr>\n",
              "      <th>14</th>\n",
              "      <td>India</td>\n",
              "      <td>Tasty concept of oats smoothie. It's quite hea...</td>\n",
              "      <td>Berries</td>\n",
              "      <td>[2, 0, 2, 0]</td>\n",
              "      <td>1.000000</td>\n",
              "      <td>1</td>\n",
              "      <td>Neutral</td>\n",
              "    </tr>\n",
              "    <tr>\n",
              "      <th>15</th>\n",
              "      <td>India</td>\n",
              "      <td>Worth it! Keeps your stomach full. Reduces ur ...</td>\n",
              "      <td>Berries</td>\n",
              "      <td>[2, 1, 1, 1, 1]</td>\n",
              "      <td>1.200000</td>\n",
              "      <td>1</td>\n",
              "      <td>Neutral</td>\n",
              "    </tr>\n",
              "    <tr>\n",
              "      <th>16</th>\n",
              "      <td>India</td>\n",
              "      <td>A good late night healthy drink for student. E...</td>\n",
              "      <td>Berries</td>\n",
              "      <td>[2, 2, 1]</td>\n",
              "      <td>1.666667</td>\n",
              "      <td>2</td>\n",
              "      <td>Positive</td>\n",
              "    </tr>\n",
              "    <tr>\n",
              "      <th>17</th>\n",
              "      <td>India</td>\n",
              "      <td>As much as the packaging is cute, the taste is...</td>\n",
              "      <td>Berries</td>\n",
              "      <td>[2, 1, 2]</td>\n",
              "      <td>1.666667</td>\n",
              "      <td>2</td>\n",
              "      <td>Positive</td>\n",
              "    </tr>\n",
              "    <tr>\n",
              "      <th>18</th>\n",
              "      <td>India</td>\n",
              "      <td>Very delicious recipe for instant smoothie!\\nI...</td>\n",
              "      <td>Berries</td>\n",
              "      <td>[2, 2]</td>\n",
              "      <td>2.000000</td>\n",
              "      <td>2</td>\n",
              "      <td>Positive</td>\n",
              "    </tr>\n",
              "    <tr>\n",
              "      <th>19</th>\n",
              "      <td>India</td>\n",
              "      <td>It tastes really good and Best for breakfast o...</td>\n",
              "      <td>Berries</td>\n",
              "      <td>[2]</td>\n",
              "      <td>2.000000</td>\n",
              "      <td>2</td>\n",
              "      <td>Positive</td>\n",
              "    </tr>\n",
              "  </tbody>\n",
              "</table>\n",
              "</div>"
            ],
            "text/plain": [
              "   Location                                             Review   Flavor  \\\n",
              "0     India  I'm so glad I ordered these. They taste great!...  Berries   \n",
              "1     India                     Nice flavour & easy to prepare  Berries   \n",
              "2     India  Very nice product. Easy to make. Healthy and t...  Berries   \n",
              "3     India  My rating would be -\\nBerry>Orange>chocolate>i...  Berries   \n",
              "4     India  I found them on Instagram and had a chat but I...  Berries   \n",
              "5     India                    Oats are raw, taste is not good  Berries   \n",
              "6     India  My first time trying Smart'O bite smoothie mix...  Berries   \n",
              "7     India  I liked the taste, but when gone through ingre...  Berries   \n",
              "8     India          They are quite perfect and I love them...  Berries   \n",
              "9     India  Very good flavours are usually mix this with m...  Berries   \n",
              "10    India  I was looking for a healthy breakfast and snac...  Berries   \n",
              "11    India  I personally liked the berries and basil flavo...  Berries   \n",
              "12    India  The Smoothies are great. They taste excellent ...  Berries   \n",
              "13    India  Tried for first time on a recommendation from ...  Berries   \n",
              "14    India  Tasty concept of oats smoothie. It's quite hea...  Berries   \n",
              "15    India  Worth it! Keeps your stomach full. Reduces ur ...  Berries   \n",
              "16    India  A good late night healthy drink for student. E...  Berries   \n",
              "17    India  As much as the packaging is cute, the taste is...  Berries   \n",
              "18    India  Very delicious recipe for instant smoothie!\\nI...  Berries   \n",
              "19    India  It tastes really good and Best for breakfast o...  Berries   \n",
              "\n",
              "                     sentiments  average_sentiment  numerical_sentiment  \\\n",
              "0   [2, 2, 2, 2, 1, 2, 1, 1, 2]           1.666667                    2   \n",
              "1                           [2]           2.000000                    2   \n",
              "2            [2, 1, 2, 2, 2, 1]           1.666667                    2   \n",
              "3            [1, 2, 2, 1, 1, 1]           1.333333                    1   \n",
              "4      [0, 1, 0, 2, 2, 1, 1, 2]           1.125000                    1   \n",
              "5                           [0]           0.000000                    0   \n",
              "6                     [2, 2, 1]           1.666667                    2   \n",
              "7                        [2, 0]           1.000000                    1   \n",
              "8                           [2]           2.000000                    2   \n",
              "9                           [2]           2.000000                    2   \n",
              "10                    [1, 2, 2]           1.666667                    2   \n",
              "11                       [2, 1]           1.500000                    2   \n",
              "12           [2, 2, 1, 2, 2, 2]           1.833333                    2   \n",
              "13              [2, 2, 0, 1, 2]           1.400000                    1   \n",
              "14                 [2, 0, 2, 0]           1.000000                    1   \n",
              "15              [2, 1, 1, 1, 1]           1.200000                    1   \n",
              "16                    [2, 2, 1]           1.666667                    2   \n",
              "17                    [2, 1, 2]           1.666667                    2   \n",
              "18                       [2, 2]           2.000000                    2   \n",
              "19                          [2]           2.000000                    2   \n",
              "\n",
              "   sentiment_label  \n",
              "0         Positive  \n",
              "1         Positive  \n",
              "2         Positive  \n",
              "3          Neutral  \n",
              "4          Neutral  \n",
              "5         Negative  \n",
              "6         Positive  \n",
              "7          Neutral  \n",
              "8         Positive  \n",
              "9         Positive  \n",
              "10        Positive  \n",
              "11        Positive  \n",
              "12        Positive  \n",
              "13         Neutral  \n",
              "14         Neutral  \n",
              "15         Neutral  \n",
              "16        Positive  \n",
              "17        Positive  \n",
              "18        Positive  \n",
              "19        Positive  "
            ]
          },
          "execution_count": 35,
          "metadata": {},
          "output_type": "execute_result"
        }
      ],
      "source": [
        "df1.head(20)"
      ]
    },
    {
      "cell_type": "code",
      "execution_count": null,
      "metadata": {
        "id": "iOKNpMWLXj_P",
        "outputId": "d9faf360-3308-4d79-ef37-72de073afc7d"
      },
      "outputs": [
        {
          "data": {
            "image/png": "[encoded data removed]",
            "text/plain": [
              "<Figure size 576x360 with 1 Axes>"
            ]
          },
          "metadata": {
            "needs_background": "light"
          },
          "output_type": "display_data"
        }
      ],
      "source": [
        "sentiment_counts = df1['sentiment_label'].value_counts()\n",
        "plt.figure(figsize=(8, 5))\n",
        "sns.barplot(x=sentiment_counts.index, y=sentiment_counts.values, palette=\"viridis\")\n",
        "\n",
        "# Add labels and title\n",
        "plt.title('Count of Sentiment Labels', fontsize=16)\n",
        "plt.xlabel('Sentiment', fontsize=12)\n",
        "plt.ylabel('Count', fontsize=12)\n",
        "\n",
        "# Display the plot\n",
        "plt.show()"
      ]
    },
    {
      "cell_type": "markdown",
      "metadata": {
        "id": "39SO6ZhWKKru"
      },
      "source": [
        "### Calculating the most commonly occuring sentiment for each flavor\n"
      ]
    },
    {
      "cell_type": "code",
      "execution_count": null,
      "metadata": {
        "id": "Y9XsaFIML2Og",
        "outputId": "b474f248-aeb2-4b10-a078-b81def084a1c"
      },
      "outputs": [
        {
          "data": {
            "text/html": [
              "<div>\n",
              "<style scoped>\n",
              "    .dataframe tbody tr th:only-of-type {\n",
              "        vertical-align: middle;\n",
              "    }\n",
              "\n",
              "    .dataframe tbody tr th {\n",
              "        vertical-align: top;\n",
              "    }\n",
              "\n",
              "    .dataframe thead th {\n",
              "        text-align: right;\n",
              "    }\n",
              "</style>\n",
              "<table border=\"1\" class=\"dataframe\">\n",
              "  <thead>\n",
              "    <tr style=\"text-align: right;\">\n",
              "      <th></th>\n",
              "      <th>Flavor</th>\n",
              "      <th>average_sentiment</th>\n",
              "    </tr>\n",
              "  </thead>\n",
              "  <tbody>\n",
              "    <tr>\n",
              "      <th>0</th>\n",
              "      <td>Banana</td>\n",
              "      <td>1.300000</td>\n",
              "    </tr>\n",
              "    <tr>\n",
              "      <th>1</th>\n",
              "      <td>Berries</td>\n",
              "      <td>1.510638</td>\n",
              "    </tr>\n",
              "    <tr>\n",
              "      <th>2</th>\n",
              "      <td>Chocolate</td>\n",
              "      <td>1.309524</td>\n",
              "    </tr>\n",
              "    <tr>\n",
              "      <th>3</th>\n",
              "      <td>Coffee</td>\n",
              "      <td>1.108108</td>\n",
              "    </tr>\n",
              "    <tr>\n",
              "      <th>4</th>\n",
              "      <td>Fruity</td>\n",
              "      <td>1.400000</td>\n",
              "    </tr>\n",
              "    <tr>\n",
              "      <th>5</th>\n",
              "      <td>Pina Colada</td>\n",
              "      <td>1.742857</td>\n",
              "    </tr>\n",
              "  </tbody>\n",
              "</table>\n",
              "</div>"
            ],
            "text/plain": [
              "        Flavor  average_sentiment\n",
              "0       Banana           1.300000\n",
              "1      Berries           1.510638\n",
              "2    Chocolate           1.309524\n",
              "3       Coffee           1.108108\n",
              "4       Fruity           1.400000\n",
              "5  Pina Colada           1.742857"
            ]
          },
          "execution_count": 37,
          "metadata": {},
          "output_type": "execute_result"
        }
      ],
      "source": [
        "df1['Flavor'] = df1['Flavor'].apply(lambda x: x.split(',') if isinstance(x, str) else x)\n",
        "df1_exploded = df1.explode('Flavor')\n",
        "\n",
        "# Group by 'flavors' and calculate the average sentiment\n",
        "total_avg_sentiment = df1_exploded.groupby('Flavor')['numerical_sentiment'].mean().reset_index()\n",
        "total_avg_sentiment.columns = ['Flavor', 'average_sentiment']\n",
        "total_avg_sentiment"
      ]
    },
    {
      "cell_type": "code",
      "execution_count": null,
      "metadata": {
        "id": "qJKXsjftSbJI",
        "outputId": "6790087f-0107-43ee-b7c5-2ce7eb8a6dbe"
      },
      "outputs": [
        {
          "data": {
            "text/html": [
              "<div>\n",
              "<style scoped>\n",
              "    .dataframe tbody tr th:only-of-type {\n",
              "        vertical-align: middle;\n",
              "    }\n",
              "\n",
              "    .dataframe tbody tr th {\n",
              "        vertical-align: top;\n",
              "    }\n",
              "\n",
              "    .dataframe thead th {\n",
              "        text-align: right;\n",
              "    }\n",
              "</style>\n",
              "<table border=\"1\" class=\"dataframe\">\n",
              "  <thead>\n",
              "    <tr style=\"text-align: right;\">\n",
              "      <th></th>\n",
              "      <th>Location</th>\n",
              "      <th>Flavor</th>\n",
              "      <th>Predicted_Sweetness</th>\n",
              "      <th>Predicted_Viscosity</th>\n",
              "      <th>Predicted_Price</th>\n",
              "      <th>Predicted_Texture</th>\n",
              "      <th>average_sentiment</th>\n",
              "    </tr>\n",
              "  </thead>\n",
              "  <tbody>\n",
              "    <tr>\n",
              "      <th>0</th>\n",
              "      <td>Ahmedabad</td>\n",
              "      <td>Coffee</td>\n",
              "      <td>5.0</td>\n",
              "      <td>1</td>\n",
              "      <td>275.0</td>\n",
              "      <td>Grainy</td>\n",
              "      <td>1.108108</td>\n",
              "    </tr>\n",
              "    <tr>\n",
              "      <th>1</th>\n",
              "      <td>Surat</td>\n",
              "      <td>Fruity</td>\n",
              "      <td>5.0</td>\n",
              "      <td>1</td>\n",
              "      <td>275.0</td>\n",
              "      <td>Gummy</td>\n",
              "      <td>1.400000</td>\n",
              "    </tr>\n",
              "    <tr>\n",
              "      <th>2</th>\n",
              "      <td>Baroda</td>\n",
              "      <td>Pina Colada</td>\n",
              "      <td>5.0</td>\n",
              "      <td>1</td>\n",
              "      <td>275.0</td>\n",
              "      <td>Gummy</td>\n",
              "      <td>1.742857</td>\n",
              "    </tr>\n",
              "  </tbody>\n",
              "</table>\n",
              "</div>"
            ],
            "text/plain": [
              "    Location       Flavor  Predicted_Sweetness  Predicted_Viscosity  \\\n",
              "0  Ahmedabad       Coffee                  5.0                    1   \n",
              "1      Surat       Fruity                  5.0                    1   \n",
              "2     Baroda  Pina Colada                  5.0                    1   \n",
              "\n",
              "   Predicted_Price Predicted_Texture  average_sentiment  \n",
              "0            275.0            Grainy           1.108108  \n",
              "1            275.0             Gummy           1.400000  \n",
              "2            275.0             Gummy           1.742857  "
            ]
          },
          "execution_count": 38,
          "metadata": {},
          "output_type": "execute_result"
        }
      ],
      "source": [
        "final_outcome = pd.merge(df_predictions, total_avg_sentiment, on='Flavor', how='left')\n",
        "\n",
        "final_outcome"
      ]
    },
    {
      "cell_type": "markdown",
      "metadata": {
        "id": "pVxW35lgVT0A"
      },
      "source": [
        "The above outcome states the preferred attributes(sweetness, viscosity, texture) of the people for the cities in Gujarat(for example) that were recorded in the survey are predicted based on the most picked/preferred flavor of smoothie for that city.\n",
        "The average_sentiment is found from the sentiment analysis from reviews of similar kind of products sold on e-commerce. Their reviews were extracted and its sentiments were analysed using Stanza.\n",
        "\n",
        "For these surveyed cities, the model has already predicted the preferred attributes for the product. But just this prediction is not enough to completely rely on. This is where the avg sentiment analysis of these reviews comes handy to verify and understand the customer preference on ground level.\n",
        "\n",
        "Both- the predictions and average_sentiment analysis are working here as a team to help the company the strategise their launch of the Flavors that will help them stand out in the market and assist them in get maximum sales of the products.\n",
        "\n"
      ]
    },
    {
      "cell_type": "code",
      "execution_count": null,
      "metadata": {
        "id": "MSZitZqeHydW",
        "outputId": "7da7ed28-a8e1-4e4e-fe55-ca2cb25ef39b"
      },
      "outputs": [
        {
          "data": {
            "text/html": [
              "<div>\n",
              "<style scoped>\n",
              "    .dataframe tbody tr th:only-of-type {\n",
              "        vertical-align: middle;\n",
              "    }\n",
              "\n",
              "    .dataframe tbody tr th {\n",
              "        vertical-align: top;\n",
              "    }\n",
              "\n",
              "    .dataframe thead th {\n",
              "        text-align: right;\n",
              "    }\n",
              "</style>\n",
              "<table border=\"1\" class=\"dataframe\">\n",
              "  <thead>\n",
              "    <tr style=\"text-align: right;\">\n",
              "      <th></th>\n",
              "      <th>Location</th>\n",
              "      <th>Review</th>\n",
              "      <th>Flavor</th>\n",
              "      <th>sentiments</th>\n",
              "      <th>average_sentiment</th>\n",
              "      <th>numerical_sentiment</th>\n",
              "      <th>sentiment_label</th>\n",
              "    </tr>\n",
              "  </thead>\n",
              "  <tbody>\n",
              "    <tr>\n",
              "      <th>0</th>\n",
              "      <td>India</td>\n",
              "      <td>I'm so glad I ordered these. They taste great!...</td>\n",
              "      <td>[Berries]</td>\n",
              "      <td>[2, 2, 2, 2, 1, 2, 1, 1, 2]</td>\n",
              "      <td>1.666667</td>\n",
              "      <td>2</td>\n",
              "      <td>Positive</td>\n",
              "    </tr>\n",
              "    <tr>\n",
              "      <th>1</th>\n",
              "      <td>India</td>\n",
              "      <td>Nice flavour &amp; easy to prepare</td>\n",
              "      <td>[Berries]</td>\n",
              "      <td>[2]</td>\n",
              "      <td>2.000000</td>\n",
              "      <td>2</td>\n",
              "      <td>Positive</td>\n",
              "    </tr>\n",
              "    <tr>\n",
              "      <th>2</th>\n",
              "      <td>India</td>\n",
              "      <td>Very nice product. Easy to make. Healthy and t...</td>\n",
              "      <td>[Berries]</td>\n",
              "      <td>[2, 1, 2, 2, 2, 1]</td>\n",
              "      <td>1.666667</td>\n",
              "      <td>2</td>\n",
              "      <td>Positive</td>\n",
              "    </tr>\n",
              "    <tr>\n",
              "      <th>3</th>\n",
              "      <td>India</td>\n",
              "      <td>My rating would be -\\nBerry&gt;Orange&gt;chocolate&gt;i...</td>\n",
              "      <td>[Berries]</td>\n",
              "      <td>[1, 2, 2, 1, 1, 1]</td>\n",
              "      <td>1.333333</td>\n",
              "      <td>1</td>\n",
              "      <td>Neutral</td>\n",
              "    </tr>\n",
              "    <tr>\n",
              "      <th>4</th>\n",
              "      <td>India</td>\n",
              "      <td>I found them on Instagram and had a chat but I...</td>\n",
              "      <td>[Berries]</td>\n",
              "      <td>[0, 1, 0, 2, 2, 1, 1, 2]</td>\n",
              "      <td>1.125000</td>\n",
              "      <td>1</td>\n",
              "      <td>Neutral</td>\n",
              "    </tr>\n",
              "    <tr>\n",
              "      <th>5</th>\n",
              "      <td>India</td>\n",
              "      <td>Oats are raw, taste is not good</td>\n",
              "      <td>[Berries]</td>\n",
              "      <td>[0]</td>\n",
              "      <td>0.000000</td>\n",
              "      <td>0</td>\n",
              "      <td>Negative</td>\n",
              "    </tr>\n",
              "    <tr>\n",
              "      <th>6</th>\n",
              "      <td>India</td>\n",
              "      <td>My first time trying Smart'O bite smoothie mix...</td>\n",
              "      <td>[Berries]</td>\n",
              "      <td>[2, 2, 1]</td>\n",
              "      <td>1.666667</td>\n",
              "      <td>2</td>\n",
              "      <td>Positive</td>\n",
              "    </tr>\n",
              "    <tr>\n",
              "      <th>7</th>\n",
              "      <td>India</td>\n",
              "      <td>I liked the taste, but when gone through ingre...</td>\n",
              "      <td>[Berries]</td>\n",
              "      <td>[2, 0]</td>\n",
              "      <td>1.000000</td>\n",
              "      <td>1</td>\n",
              "      <td>Neutral</td>\n",
              "    </tr>\n",
              "    <tr>\n",
              "      <th>8</th>\n",
              "      <td>India</td>\n",
              "      <td>They are quite perfect and I love them...</td>\n",
              "      <td>[Berries]</td>\n",
              "      <td>[2]</td>\n",
              "      <td>2.000000</td>\n",
              "      <td>2</td>\n",
              "      <td>Positive</td>\n",
              "    </tr>\n",
              "    <tr>\n",
              "      <th>9</th>\n",
              "      <td>India</td>\n",
              "      <td>Very good flavours are usually mix this with m...</td>\n",
              "      <td>[Berries]</td>\n",
              "      <td>[2]</td>\n",
              "      <td>2.000000</td>\n",
              "      <td>2</td>\n",
              "      <td>Positive</td>\n",
              "    </tr>\n",
              "    <tr>\n",
              "      <th>10</th>\n",
              "      <td>India</td>\n",
              "      <td>I was looking for a healthy breakfast and snac...</td>\n",
              "      <td>[Berries]</td>\n",
              "      <td>[1, 2, 2]</td>\n",
              "      <td>1.666667</td>\n",
              "      <td>2</td>\n",
              "      <td>Positive</td>\n",
              "    </tr>\n",
              "    <tr>\n",
              "      <th>11</th>\n",
              "      <td>India</td>\n",
              "      <td>I personally liked the berries and basil flavo...</td>\n",
              "      <td>[Berries]</td>\n",
              "      <td>[2, 1]</td>\n",
              "      <td>1.500000</td>\n",
              "      <td>2</td>\n",
              "      <td>Positive</td>\n",
              "    </tr>\n",
              "    <tr>\n",
              "      <th>12</th>\n",
              "      <td>India</td>\n",
              "      <td>The Smoothies are great. They taste excellent ...</td>\n",
              "      <td>[Berries]</td>\n",
              "      <td>[2, 2, 1, 2, 2, 2]</td>\n",
              "      <td>1.833333</td>\n",
              "      <td>2</td>\n",
              "      <td>Positive</td>\n",
              "    </tr>\n",
              "    <tr>\n",
              "      <th>13</th>\n",
              "      <td>India</td>\n",
              "      <td>Tried for first time on a recommendation from ...</td>\n",
              "      <td>[Berries]</td>\n",
              "      <td>[2, 2, 0, 1, 2]</td>\n",
              "      <td>1.400000</td>\n",
              "      <td>1</td>\n",
              "      <td>Neutral</td>\n",
              "    </tr>\n",
              "    <tr>\n",
              "      <th>14</th>\n",
              "      <td>India</td>\n",
              "      <td>Tasty concept of oats smoothie. It's quite hea...</td>\n",
              "      <td>[Berries]</td>\n",
              "      <td>[2, 0, 2, 0]</td>\n",
              "      <td>1.000000</td>\n",
              "      <td>1</td>\n",
              "      <td>Neutral</td>\n",
              "    </tr>\n",
              "    <tr>\n",
              "      <th>15</th>\n",
              "      <td>India</td>\n",
              "      <td>Worth it! Keeps your stomach full. Reduces ur ...</td>\n",
              "      <td>[Berries]</td>\n",
              "      <td>[2, 1, 1, 1, 1]</td>\n",
              "      <td>1.200000</td>\n",
              "      <td>1</td>\n",
              "      <td>Neutral</td>\n",
              "    </tr>\n",
              "    <tr>\n",
              "      <th>16</th>\n",
              "      <td>India</td>\n",
              "      <td>A good late night healthy drink for student. E...</td>\n",
              "      <td>[Berries]</td>\n",
              "      <td>[2, 2, 1]</td>\n",
              "      <td>1.666667</td>\n",
              "      <td>2</td>\n",
              "      <td>Positive</td>\n",
              "    </tr>\n",
              "    <tr>\n",
              "      <th>17</th>\n",
              "      <td>India</td>\n",
              "      <td>As much as the packaging is cute, the taste is...</td>\n",
              "      <td>[Berries]</td>\n",
              "      <td>[2, 1, 2]</td>\n",
              "      <td>1.666667</td>\n",
              "      <td>2</td>\n",
              "      <td>Positive</td>\n",
              "    </tr>\n",
              "    <tr>\n",
              "      <th>18</th>\n",
              "      <td>India</td>\n",
              "      <td>Very delicious recipe for instant smoothie!\\nI...</td>\n",
              "      <td>[Berries]</td>\n",
              "      <td>[2, 2]</td>\n",
              "      <td>2.000000</td>\n",
              "      <td>2</td>\n",
              "      <td>Positive</td>\n",
              "    </tr>\n",
              "    <tr>\n",
              "      <th>19</th>\n",
              "      <td>India</td>\n",
              "      <td>It tastes really good and Best for breakfast o...</td>\n",
              "      <td>[Berries]</td>\n",
              "      <td>[2]</td>\n",
              "      <td>2.000000</td>\n",
              "      <td>2</td>\n",
              "      <td>Positive</td>\n",
              "    </tr>\n",
              "  </tbody>\n",
              "</table>\n",
              "</div>"
            ],
            "text/plain": [
              "   Location                                             Review     Flavor  \\\n",
              "0     India  I'm so glad I ordered these. They taste great!...  [Berries]   \n",
              "1     India                     Nice flavour & easy to prepare  [Berries]   \n",
              "2     India  Very nice product. Easy to make. Healthy and t...  [Berries]   \n",
              "3     India  My rating would be -\\nBerry>Orange>chocolate>i...  [Berries]   \n",
              "4     India  I found them on Instagram and had a chat but I...  [Berries]   \n",
              "5     India                    Oats are raw, taste is not good  [Berries]   \n",
              "6     India  My first time trying Smart'O bite smoothie mix...  [Berries]   \n",
              "7     India  I liked the taste, but when gone through ingre...  [Berries]   \n",
              "8     India          They are quite perfect and I love them...  [Berries]   \n",
              "9     India  Very good flavours are usually mix this with m...  [Berries]   \n",
              "10    India  I was looking for a healthy breakfast and snac...  [Berries]   \n",
              "11    India  I personally liked the berries and basil flavo...  [Berries]   \n",
              "12    India  The Smoothies are great. They taste excellent ...  [Berries]   \n",
              "13    India  Tried for first time on a recommendation from ...  [Berries]   \n",
              "14    India  Tasty concept of oats smoothie. It's quite hea...  [Berries]   \n",
              "15    India  Worth it! Keeps your stomach full. Reduces ur ...  [Berries]   \n",
              "16    India  A good late night healthy drink for student. E...  [Berries]   \n",
              "17    India  As much as the packaging is cute, the taste is...  [Berries]   \n",
              "18    India  Very delicious recipe for instant smoothie!\\nI...  [Berries]   \n",
              "19    India  It tastes really good and Best for breakfast o...  [Berries]   \n",
              "\n",
              "                     sentiments  average_sentiment  numerical_sentiment  \\\n",
              "0   [2, 2, 2, 2, 1, 2, 1, 1, 2]           1.666667                    2   \n",
              "1                           [2]           2.000000                    2   \n",
              "2            [2, 1, 2, 2, 2, 1]           1.666667                    2   \n",
              "3            [1, 2, 2, 1, 1, 1]           1.333333                    1   \n",
              "4      [0, 1, 0, 2, 2, 1, 1, 2]           1.125000                    1   \n",
              "5                           [0]           0.000000                    0   \n",
              "6                     [2, 2, 1]           1.666667                    2   \n",
              "7                        [2, 0]           1.000000                    1   \n",
              "8                           [2]           2.000000                    2   \n",
              "9                           [2]           2.000000                    2   \n",
              "10                    [1, 2, 2]           1.666667                    2   \n",
              "11                       [2, 1]           1.500000                    2   \n",
              "12           [2, 2, 1, 2, 2, 2]           1.833333                    2   \n",
              "13              [2, 2, 0, 1, 2]           1.400000                    1   \n",
              "14                 [2, 0, 2, 0]           1.000000                    1   \n",
              "15              [2, 1, 1, 1, 1]           1.200000                    1   \n",
              "16                    [2, 2, 1]           1.666667                    2   \n",
              "17                    [2, 1, 2]           1.666667                    2   \n",
              "18                       [2, 2]           2.000000                    2   \n",
              "19                          [2]           2.000000                    2   \n",
              "\n",
              "   sentiment_label  \n",
              "0         Positive  \n",
              "1         Positive  \n",
              "2         Positive  \n",
              "3          Neutral  \n",
              "4          Neutral  \n",
              "5         Negative  \n",
              "6         Positive  \n",
              "7          Neutral  \n",
              "8         Positive  \n",
              "9         Positive  \n",
              "10        Positive  \n",
              "11        Positive  \n",
              "12        Positive  \n",
              "13         Neutral  \n",
              "14         Neutral  \n",
              "15         Neutral  \n",
              "16        Positive  \n",
              "17        Positive  \n",
              "18        Positive  \n",
              "19        Positive  "
            ]
          },
          "execution_count": 39,
          "metadata": {},
          "output_type": "execute_result"
        }
      ],
      "source": [
        "df1.head(20)"
      ]
    },
    {
      "cell_type": "code",
      "execution_count": null,
      "metadata": {
        "id": "uX8IkjXiXj_R"
      },
      "outputs": [],
      "source": [
        "#!pip install xgboost"
      ]
    },
    {
      "cell_type": "markdown",
      "metadata": {
        "id": "V3zhDxnMXj_R"
      },
      "source": [
        "### XGBoost"
      ]
    },
    {
      "cell_type": "code",
      "execution_count": null,
      "metadata": {
        "id": "eQXnCg_VXj_R",
        "outputId": "ded6436a-d54d-4235-da09-6100408c514f"
      },
      "outputs": [
        {
          "data": {
            "text/html": [
              "<div>\n",
              "<style scoped>\n",
              "    .dataframe tbody tr th:only-of-type {\n",
              "        vertical-align: middle;\n",
              "    }\n",
              "\n",
              "    .dataframe tbody tr th {\n",
              "        vertical-align: top;\n",
              "    }\n",
              "\n",
              "    .dataframe thead th {\n",
              "        text-align: right;\n",
              "    }\n",
              "</style>\n",
              "<table border=\"1\" class=\"dataframe\">\n",
              "  <thead>\n",
              "    <tr style=\"text-align: right;\">\n",
              "      <th></th>\n",
              "      <th>Age</th>\n",
              "      <th>Location</th>\n",
              "      <th>Taste</th>\n",
              "      <th>Savoury_pref</th>\n",
              "      <th>Sweetness</th>\n",
              "      <th>Spicy</th>\n",
              "      <th>Texture</th>\n",
              "      <th>Viscosity</th>\n",
              "      <th>Flavor</th>\n",
              "      <th>Price</th>\n",
              "      <th>New_likelihood</th>\n",
              "    </tr>\n",
              "  </thead>\n",
              "  <tbody>\n",
              "    <tr>\n",
              "      <th>0</th>\n",
              "      <td>18-25</td>\n",
              "      <td>Pune</td>\n",
              "      <td>Sweet</td>\n",
              "      <td>3</td>\n",
              "      <td>6</td>\n",
              "      <td>1</td>\n",
              "      <td>0</td>\n",
              "      <td>3</td>\n",
              "      <td>Fruity</td>\n",
              "      <td>225.0</td>\n",
              "      <td>Likely</td>\n",
              "    </tr>\n",
              "    <tr>\n",
              "      <th>0</th>\n",
              "      <td>18-25</td>\n",
              "      <td>Pune</td>\n",
              "      <td>Sweet</td>\n",
              "      <td>3</td>\n",
              "      <td>6</td>\n",
              "      <td>1</td>\n",
              "      <td>0</td>\n",
              "      <td>3</td>\n",
              "      <td>Berries</td>\n",
              "      <td>225.0</td>\n",
              "      <td>Likely</td>\n",
              "    </tr>\n",
              "    <tr>\n",
              "      <th>0</th>\n",
              "      <td>18-25</td>\n",
              "      <td>Pune</td>\n",
              "      <td>Sweet</td>\n",
              "      <td>3</td>\n",
              "      <td>6</td>\n",
              "      <td>1</td>\n",
              "      <td>0</td>\n",
              "      <td>3</td>\n",
              "      <td>Chocolate</td>\n",
              "      <td>225.0</td>\n",
              "      <td>Likely</td>\n",
              "    </tr>\n",
              "    <tr>\n",
              "      <th>0</th>\n",
              "      <td>18-25</td>\n",
              "      <td>Pune</td>\n",
              "      <td>Sweet</td>\n",
              "      <td>3</td>\n",
              "      <td>6</td>\n",
              "      <td>1</td>\n",
              "      <td>0</td>\n",
              "      <td>3</td>\n",
              "      <td>Pina Colada</td>\n",
              "      <td>225.0</td>\n",
              "      <td>Likely</td>\n",
              "    </tr>\n",
              "    <tr>\n",
              "      <th>0</th>\n",
              "      <td>18-25</td>\n",
              "      <td>Pune</td>\n",
              "      <td>Sweet</td>\n",
              "      <td>3</td>\n",
              "      <td>6</td>\n",
              "      <td>1</td>\n",
              "      <td>0</td>\n",
              "      <td>3</td>\n",
              "      <td>Green veggies</td>\n",
              "      <td>225.0</td>\n",
              "      <td>Likely</td>\n",
              "    </tr>\n",
              "    <tr>\n",
              "      <th>1</th>\n",
              "      <td>18-25</td>\n",
              "      <td>Pune</td>\n",
              "      <td>Sweet</td>\n",
              "      <td>1</td>\n",
              "      <td>5</td>\n",
              "      <td>1</td>\n",
              "      <td>6</td>\n",
              "      <td>2</td>\n",
              "      <td>Fruity</td>\n",
              "      <td>225.0</td>\n",
              "      <td>Neutral</td>\n",
              "    </tr>\n",
              "    <tr>\n",
              "      <th>1</th>\n",
              "      <td>18-25</td>\n",
              "      <td>Pune</td>\n",
              "      <td>Sweet</td>\n",
              "      <td>1</td>\n",
              "      <td>5</td>\n",
              "      <td>1</td>\n",
              "      <td>6</td>\n",
              "      <td>2</td>\n",
              "      <td>Berries</td>\n",
              "      <td>225.0</td>\n",
              "      <td>Neutral</td>\n",
              "    </tr>\n",
              "    <tr>\n",
              "      <th>1</th>\n",
              "      <td>18-25</td>\n",
              "      <td>Pune</td>\n",
              "      <td>Sweet</td>\n",
              "      <td>1</td>\n",
              "      <td>5</td>\n",
              "      <td>1</td>\n",
              "      <td>6</td>\n",
              "      <td>2</td>\n",
              "      <td>Chocolate</td>\n",
              "      <td>225.0</td>\n",
              "      <td>Neutral</td>\n",
              "    </tr>\n",
              "    <tr>\n",
              "      <th>2</th>\n",
              "      <td>18-25</td>\n",
              "      <td>Trivandrum</td>\n",
              "      <td>Sweet</td>\n",
              "      <td>2</td>\n",
              "      <td>5</td>\n",
              "      <td>5</td>\n",
              "      <td>5</td>\n",
              "      <td>2</td>\n",
              "      <td>Berries</td>\n",
              "      <td>175.0</td>\n",
              "      <td>Likely</td>\n",
              "    </tr>\n",
              "    <tr>\n",
              "      <th>2</th>\n",
              "      <td>18-25</td>\n",
              "      <td>Trivandrum</td>\n",
              "      <td>Sweet</td>\n",
              "      <td>2</td>\n",
              "      <td>5</td>\n",
              "      <td>5</td>\n",
              "      <td>5</td>\n",
              "      <td>2</td>\n",
              "      <td>Chocolate</td>\n",
              "      <td>175.0</td>\n",
              "      <td>Likely</td>\n",
              "    </tr>\n",
              "  </tbody>\n",
              "</table>\n",
              "</div>"
            ],
            "text/plain": [
              "     Age    Location  Taste  Savoury_pref  Sweetness  Spicy  Texture  \\\n",
              "0  18-25        Pune  Sweet             3          6      1        0   \n",
              "0  18-25        Pune  Sweet             3          6      1        0   \n",
              "0  18-25        Pune  Sweet             3          6      1        0   \n",
              "0  18-25        Pune  Sweet             3          6      1        0   \n",
              "0  18-25        Pune  Sweet             3          6      1        0   \n",
              "1  18-25        Pune  Sweet             1          5      1        6   \n",
              "1  18-25        Pune  Sweet             1          5      1        6   \n",
              "1  18-25        Pune  Sweet             1          5      1        6   \n",
              "2  18-25  Trivandrum  Sweet             2          5      5        5   \n",
              "2  18-25  Trivandrum  Sweet             2          5      5        5   \n",
              "\n",
              "   Viscosity         Flavor  Price New_likelihood  \n",
              "0          3         Fruity  225.0         Likely  \n",
              "0          3        Berries  225.0         Likely  \n",
              "0          3      Chocolate  225.0         Likely  \n",
              "0          3    Pina Colada  225.0         Likely  \n",
              "0          3  Green veggies  225.0         Likely  \n",
              "1          2         Fruity  225.0        Neutral  \n",
              "1          2        Berries  225.0        Neutral  \n",
              "1          2      Chocolate  225.0        Neutral  \n",
              "2          2        Berries  175.0         Likely  \n",
              "2          2      Chocolate  175.0         Likely  "
            ]
          },
          "execution_count": 12,
          "metadata": {},
          "output_type": "execute_result"
        }
      ],
      "source": [
        "import pandas as pd\n",
        "import xgboost as xgb\n",
        "from sklearn.metrics import accuracy_score, mean_squared_error\n",
        "from sklearn.model_selection import train_test_split\n",
        "from sklearn.preprocessing import LabelEncoder, OneHotEncoder\n",
        "\n",
        "# Assuming df is your DataFrame loaded with the provided data\n",
        "\n",
        "# Label encoding for 'Texture'\n",
        "label_encoder_texture = LabelEncoder()\n",
        "df['Texture'] = label_encoder_texture.fit_transform(df['Texture'])\n",
        "\n",
        "# Label encoding for 'Viscosity'\n",
        "#label_encoder_viscosity = LabelEncoder()\n",
        "#df['Viscosity'] = label_encoder_viscosity.fit_transform(df['Viscosity'])\n",
        "\n",
        "df.head(10)\n"
      ]
    },
    {
      "cell_type": "code",
      "execution_count": null,
      "metadata": {
        "scrolled": false,
        "id": "KMgmFhnlXj_R",
        "outputId": "51df4869-accb-42ac-e31e-f4f5195a2f3d"
      },
      "outputs": [
        {
          "name": "stdout",
          "output_type": "stream",
          "text": [
            "Sweetness Model Accuracy: 1.0\n",
            "Viscosity Model Accuracy: 0.750814332247557\n",
            "Price Model Mean Squared Error: 1.6184384154962795e-09\n",
            "Texture Model Accuracy: 0.7312703583061889\n"
          ]
        }
      ],
      "source": [
        "# One-hot encoding for categorical features\n",
        "categorical_features = [ 'Location','Flavor']\n",
        "encoder = OneHotEncoder(sparse=False, drop='first')\n",
        "encoded_features = encoder.fit_transform(df[categorical_features])\n",
        "encoded_features_df = pd.DataFrame(encoded_features, columns=encoder.get_feature_names_out(categorical_features))\n",
        "\n",
        "# Combine encoded categorical data with numerical data\n",
        "numerical_features = ['Sweetness','Price']\n",
        "X = pd.concat([encoded_features_df, df[numerical_features].reset_index(drop=True)], axis=1)\n",
        "\n",
        "# Define the target variables\n",
        "y_sweetness = df['Sweetness']\n",
        "y_price = df['Price']\n",
        "y_viscosity = df['Viscosity']\n",
        "y_texture = df['Texture']\n",
        "\n",
        "# Ensure target variables start from 0 without negative values\n",
        "y_sweetness -= y_sweetness.min()\n",
        "y_viscosity -= y_viscosity.min()\n",
        "y_texture -= y_texture.min()\n",
        "\n",
        "# Splitting the data for each target variable\n",
        "X_train_sweetness, X_test_sweetness, y_train_sweetness, y_test_sweetness = train_test_split(X, y_sweetness, test_size=0.2, random_state=42)\n",
        "X_train_price, X_test_price, y_train_price, y_test_price = train_test_split(X, y_price, test_size=0.2, random_state=42)\n",
        "X_train_viscosity, X_test_viscosity, y_train_viscosity, y_test_viscosity = train_test_split(X, y_viscosity, test_size=0.2, random_state=42)\n",
        "X_train_texture, X_test_texture, y_train_texture, y_test_texture = train_test_split(X, y_texture, test_size=0.2, random_state=42)\n",
        "\n",
        "# Defining XGBoost models\n",
        "xgb_classifier = xgb.XGBClassifier(random_state=42)\n",
        "xgb_regressor = xgb.XGBRegressor(random_state=42)\n",
        "\n",
        "# Train the sweetness model (classification)\n",
        "xgb_classifier.fit(X_train_sweetness, y_train_sweetness)\n",
        "sweetness_predictions = xgb_classifier.predict(X_test_sweetness)\n",
        "print(\"Sweetness Model Accuracy:\", accuracy_score(y_test_sweetness, sweetness_predictions))\n",
        "\n",
        "# Train the viscosity model (classification)\n",
        "xgb_classifier.fit(X_train_viscosity, y_train_viscosity)\n",
        "viscosity_predictions = xgb_classifier.predict(X_test_viscosity)\n",
        "print(\"Viscosity Model Accuracy:\", accuracy_score(y_test_viscosity, viscosity_predictions))\n",
        "\n",
        "# Train the price model (regression)\n",
        "xgb_regressor.fit(X_train_price, y_train_price)\n",
        "price_predictions = xgb_regressor.predict(X_test_price)\n",
        "print(\"Price Model Mean Squared Error:\", mean_squared_error(y_test_price, price_predictions))\n",
        "\n",
        "# Train the texture model (classification)\n",
        "xgb_classifier.fit(X_train_texture, y_train_texture)\n",
        "texture_predictions = xgb_classifier.predict(X_test_texture)\n",
        "print(\"Texture Model Accuracy:\", accuracy_score(y_test_texture, texture_predictions))\n",
        "\n"
      ]
    },
    {
      "cell_type": "code",
      "execution_count": null,
      "metadata": {
        "id": "TWzPh721Xj_V",
        "outputId": "e568e77b-4528-47ef-c13f-db056b61b0c2"
      },
      "outputs": [
        {
          "name": "stdout",
          "output_type": "stream",
          "text": [
            "Location: 0        Indore\n",
            "1          Pune\n",
            "2         Kochi\n",
            "3         Surat\n",
            "4    Chandigarh\n",
            "Name: Location, dtype: object\n",
            "FLavour: 0    Chocolate\n",
            "1       Coffee\n",
            "2      Berries\n",
            "3       Fruity\n",
            "4        Mango\n",
            "Name: Flavor, dtype: object\n",
            "New Sweetness Predictions: [6 6 4 6 6]\n",
            "New Viscosity Predictions: [6 6 4 6 6]\n",
            "New Price Predictions: [225.00002 225.00002 374.99994 225.00002 175.00006]\n",
            "New Texture Predictions: [6 6 4 6 6]\n"
          ]
        }
      ],
      "source": [
        "# New data for prediction\n",
        "new_data = pd.DataFrame({\n",
        "    'Location': ['Indore','Pune','Kochi','Surat','Chandigarh'],\n",
        "    'Taste': ['Savoury','Sweet','Sweet','Savoury','Sweet'],\n",
        "    'Flavor': ['Chocolate','Coffee','Berries','Fruity','Mango'],\n",
        "    'Savoury_pref': [4,7,3,1,8],\n",
        "    'Sweetness': [8,1,3,2,1,],\n",
        "    'Spicy': [1,2,3,4,2],\n",
        "    'Price': [250,240,765,236,123]\n",
        "})\n",
        "\n",
        "# Encode the new data using the same encoders\n",
        "encoded_new_data = encoder.transform(new_data[categorical_features])\n",
        "encoded_new_data_df = pd.DataFrame(encoded_new_data, columns=encoder.get_feature_names_out(categorical_features))\n",
        "\n",
        "# Combine encoded categorical data with numerical data\n",
        "new_data_combined = pd.concat([encoded_new_data_df, new_data[numerical_features].reset_index(drop=True)], axis=1)\n",
        "\n",
        "# Ensure new data has the same columns as the training data\n",
        "missing_cols = set(X.columns) - set(new_data_combined.columns)\n",
        "for col in missing_cols:\n",
        "    new_data_combined[col] = 0\n",
        "new_data_combined = new_data_combined[X.columns]\n",
        "\n",
        "# Predictions for the new data\n",
        "new_sweetness_predictions = xgb_classifier.predict(new_data_combined)\n",
        "new_viscosity_predictions = xgb_classifier.predict(new_data_combined)\n",
        "new_price_predictions = xgb_regressor.predict(new_data_combined)\n",
        "new_texture_predictions = xgb_classifier.predict(new_data_combined)\n",
        "\n",
        "print(\"Location:\",new_data['Location'])\n",
        "print(\"FLavour:\",new_data['Flavor'])\n",
        "print(\"New Sweetness Predictions:\", new_sweetness_predictions)\n",
        "print(\"New Viscosity Predictions:\", new_viscosity_predictions)\n",
        "print(\"New Price Predictions:\", new_price_predictions)\n",
        "print(\"New Texture Predictions:\", new_texture_predictions)\n"
      ]
    },
    {
      "cell_type": "code",
      "execution_count": null,
      "metadata": {
        "id": "Wt0eon71Xj_W",
        "outputId": "da3568a6-ead8-4d39-e9a0-0b7ed9fce7ac"
      },
      "outputs": [
        {
          "name": "stdout",
          "output_type": "stream",
          "text": [
            "     Location    Taste     Flavor  Savoury_pref  Sweetness  Spicy  Price  \\\n",
            "0      Indore  Savoury  Chocolate             4          8      1    250   \n",
            "1        Pune    Sweet     Coffee             7          1      2    240   \n",
            "2       Kochi    Sweet    Berries             3          3      3    765   \n",
            "3       Surat  Savoury     Fruity             1          2      4    236   \n",
            "4  Chandigarh    Sweet      Mango             8          1      2    123   \n",
            "\n",
            "         Lat        Lon  \n",
            "0  22.720362  75.868200  \n",
            "1  18.521374  73.854507  \n",
            "2   9.967428  76.245444  \n",
            "3  21.209489  72.831706  \n",
            "4  30.729844  76.784146  \n"
          ]
        }
      ],
      "source": [
        "from geopy.geocoders import Nominatim\n",
        "import time\n",
        "# Initialize geolocator\n",
        "geolocator = Nominatim(user_agent=\"geoapiExercises\")\n",
        "\n",
        "# Function to get latitude and longitude\n",
        "def get_lat_long(city):\n",
        "    try:\n",
        "        location = geolocator.geocode(city + \", India\")\n",
        "        if location:\n",
        "            return location.latitude, location.longitude\n",
        "        else:\n",
        "            return None, None\n",
        "    except Exception as e:\n",
        "        return None, None\n",
        "\n",
        "# Create columns for Latitude and Longitude for 'Location' in new_data\n",
        "new_data['Lat'], new_data['Lon'] = zip(*new_data['Location'].apply(get_lat_long))\n",
        "\n",
        "# Display the data with Lat and Lon\n",
        "print(new_data)\n",
        "\n",
        "# Sleep between requests to avoid overloading the service\n",
        "time.sleep(1)\n"
      ]
    },
    {
      "cell_type": "code",
      "execution_count": null,
      "metadata": {
        "id": "fe4K40TsXj_W",
        "outputId": "9ba7a2e1-c870-4864-a352-04bb87a20c1e"
      },
      "outputs": [
        {
          "data": {
            "application/vnd.plotly.v1+json": {
              "config": {
                "plotlyServerURL": "https://plot.ly"
              },
              "data": [
                {
                  "customdata": [
                    [
                      "Chocolate"
                    ]
                  ],
                  "hovertemplate": "<b>%{hovertext}</b><br><br>Flavor=%{customdata[0]}<br>Lat=%{lat}<br>Lon=%{lon}<extra></extra>",
                  "hovertext": [
                    "Indore"
                  ],
                  "lat": [
                    22.7203616
                  ],
                  "legendgroup": "Chocolate",
                  "lon": [
                    75.8681996
                  ],
                  "marker": {
                    "color": "#636efa"
                  },
                  "mode": "markers",
                  "name": "Chocolate",
                  "showlegend": true,
                  "subplot": "mapbox",
                  "type": "scattermapbox"
                },
                {
                  "customdata": [
                    [
                      "Coffee"
                    ]
                  ],
                  "hovertemplate": "<b>%{hovertext}</b><br><br>Flavor=%{customdata[0]}<br>Lat=%{lat}<br>Lon=%{lon}<extra></extra>",
                  "hovertext": [
                    "Pune"
                  ],
                  "lat": [
                    18.5213738
                  ],
                  "legendgroup": "Coffee",
                  "lon": [
                    73.8545071
                  ],
                  "marker": {
                    "color": "#EF553B"
                  },
                  "mode": "markers",
                  "name": "Coffee",
                  "showlegend": true,
                  "subplot": "mapbox",
                  "type": "scattermapbox"
                },
                {
                  "customdata": [
                    [
                      "Berries"
                    ]
                  ],
                  "hovertemplate": "<b>%{hovertext}</b><br><br>Flavor=%{customdata[0]}<br>Lat=%{lat}<br>Lon=%{lon}<extra></extra>",
                  "hovertext": [
                    "Kochi"
                  ],
                  "lat": [
                    9.9674277
                  ],
                  "legendgroup": "Berries",
                  "lon": [
                    76.2454436
                  ],
                  "marker": {
                    "color": "#00cc96"
                  },
                  "mode": "markers",
                  "name": "Berries",
                  "showlegend": true,
                  "subplot": "mapbox",
                  "type": "scattermapbox"
                },
                {
                  "customdata": [
                    [
                      "Fruity"
                    ]
                  ],
                  "hovertemplate": "<b>%{hovertext}</b><br><br>Flavor=%{customdata[0]}<br>Lat=%{lat}<br>Lon=%{lon}<extra></extra>",
                  "hovertext": [
                    "Surat"
                  ],
                  "lat": [
                    21.2094892
                  ],
                  "legendgroup": "Fruity",
                  "lon": [
                    72.8317058
                  ],
                  "marker": {
                    "color": "#ab63fa"
                  },
                  "mode": "markers",
                  "name": "Fruity",
                  "showlegend": true,
                  "subplot": "mapbox",
                  "type": "scattermapbox"
                },
                {
                  "customdata": [
                    [
                      "Mango"
                    ]
                  ],
                  "hovertemplate": "<b>%{hovertext}</b><br><br>Flavor=%{customdata[0]}<br>Lat=%{lat}<br>Lon=%{lon}<extra></extra>",
                  "hovertext": [
                    "Chandigarh"
                  ],
                  "lat": [
                    30.72984395
                  ],
                  "legendgroup": "Mango",
                  "lon": [
                    76.78414567016054
                  ],
                  "marker": {
                    "color": "#FFA15A"
                  },
                  "mode": "markers",
                  "name": "Mango",
                  "showlegend": true,
                  "subplot": "mapbox",
                  "type": "scattermapbox"
                }
              ],
              "layout": {
                "legend": {
                  "title": {
                    "text": "Flavor"
                  },
                  "tracegroupgap": 0
                },
                "mapbox": {
                  "center": {
                    "lat": 20.5937,
                    "lon": 78.9629
                  },
                  "domain": {
                    "x": [
                      0,
                      1
                    ],
                    "y": [
                      0,
                      1
                    ]
                  },
                  "style": "carto-positron",
                  "zoom": 4
                },
                "margin": {
                  "t": 60
                },
                "template": {
                  "data": {
                    "bar": [
                      {
                        "error_x": {
                          "color": "#2a3f5f"
                        },
                        "error_y": {
                          "color": "#2a3f5f"
                        },
                        "marker": {
                          "line": {
                            "color": "#E5ECF6",
                            "width": 0.5
                          },
                          "pattern": {
                            "fillmode": "overlay",
                            "size": 10,
                            "solidity": 0.2
                          }
                        },
                        "type": "bar"
                      }
                    ],
                    "barpolar": [
                      {
                        "marker": {
                          "line": {
                            "color": "#E5ECF6",
                            "width": 0.5
                          },
                          "pattern": {
                            "fillmode": "overlay",
                            "size": 10,
                            "solidity": 0.2
                          }
                        },
                        "type": "barpolar"
                      }
                    ],
                    "carpet": [
                      {
                        "aaxis": {
                          "endlinecolor": "#2a3f5f",
                          "gridcolor": "white",
                          "linecolor": "white",
                          "minorgridcolor": "white",
                          "startlinecolor": "#2a3f5f"
                        },
                        "baxis": {
                          "endlinecolor": "#2a3f5f",
                          "gridcolor": "white",
                          "linecolor": "white",
                          "minorgridcolor": "white",
                          "startlinecolor": "#2a3f5f"
                        },
                        "type": "carpet"
                      }
                    ],
                    "choropleth": [
                      {
                        "colorbar": {
                          "outlinewidth": 0,
                          "ticks": ""
                        },
                        "type": "choropleth"
                      }
                    ],
                    "contour": [
                      {
                        "colorbar": {
                          "outlinewidth": 0,
                          "ticks": ""
                        },
                        "colorscale": [
                          [
                            0,
                            "#0d0887"
                          ],
                          [
                            0.1111111111111111,
                            "#46039f"
                          ],
                          [
                            0.2222222222222222,
                            "#7201a8"
                          ],
                          [
                            0.3333333333333333,
                            "#9c179e"
                          ],
                          [
                            0.4444444444444444,
                            "#bd3786"
                          ],
                          [
                            0.5555555555555556,
                            "#d8576b"
                          ],
                          [
                            0.6666666666666666,
                            "#ed7953"
                          ],
                          [
                            0.7777777777777778,
                            "#fb9f3a"
                          ],
                          [
                            0.8888888888888888,
                            "#fdca26"
                          ],
                          [
                            1,
                            "#f0f921"
                          ]
                        ],
                        "type": "contour"
                      }
                    ],
                    "contourcarpet": [
                      {
                        "colorbar": {
                          "outlinewidth": 0,
                          "ticks": ""
                        },
                        "type": "contourcarpet"
                      }
                    ],
                    "heatmap": [
                      {
                        "colorbar": {
                          "outlinewidth": 0,
                          "ticks": ""
                        },
                        "colorscale": [
                          [
                            0,
                            "#0d0887"
                          ],
                          [
                            0.1111111111111111,
                            "#46039f"
                          ],
                          [
                            0.2222222222222222,
                            "#7201a8"
                          ],
                          [
                            0.3333333333333333,
                            "#9c179e"
                          ],
                          [
                            0.4444444444444444,
                            "#bd3786"
                          ],
                          [
                            0.5555555555555556,
                            "#d8576b"
                          ],
                          [
                            0.6666666666666666,
                            "#ed7953"
                          ],
                          [
                            0.7777777777777778,
                            "#fb9f3a"
                          ],
                          [
                            0.8888888888888888,
                            "#fdca26"
                          ],
                          [
                            1,
                            "#f0f921"
                          ]
                        ],
                        "type": "heatmap"
                      }
                    ],
                    "heatmapgl": [
                      {
                        "colorbar": {
                          "outlinewidth": 0,
                          "ticks": ""
                        },
                        "colorscale": [
                          [
                            0,
                            "#0d0887"
                          ],
                          [
                            0.1111111111111111,
                            "#46039f"
                          ],
                          [
                            0.2222222222222222,
                            "#7201a8"
                          ],
                          [
                            0.3333333333333333,
                            "#9c179e"
                          ],
                          [
                            0.4444444444444444,
                            "#bd3786"
                          ],
                          [
                            0.5555555555555556,
                            "#d8576b"
                          ],
                          [
                            0.6666666666666666,
                            "#ed7953"
                          ],
                          [
                            0.7777777777777778,
                            "#fb9f3a"
                          ],
                          [
                            0.8888888888888888,
                            "#fdca26"
                          ],
                          [
                            1,
                            "#f0f921"
                          ]
                        ],
                        "type": "heatmapgl"
                      }
                    ],
                    "histogram": [
                      {
                        "marker": {
                          "pattern": {
                            "fillmode": "overlay",
                            "size": 10,
                            "solidity": 0.2
                          }
                        },
                        "type": "histogram"
                      }
                    ],
                    "histogram2d": [
                      {
                        "colorbar": {
                          "outlinewidth": 0,
                          "ticks": ""
                        },
                        "colorscale": [
                          [
                            0,
                            "#0d0887"
                          ],
                          [
                            0.1111111111111111,
                            "#46039f"
                          ],
                          [
                            0.2222222222222222,
                            "#7201a8"
                          ],
                          [
                            0.3333333333333333,
                            "#9c179e"
                          ],
                          [
                            0.4444444444444444,
                            "#bd3786"
                          ],
                          [
                            0.5555555555555556,
                            "#d8576b"
                          ],
                          [
                            0.6666666666666666,
                            "#ed7953"
                          ],
                          [
                            0.7777777777777778,
                            "#fb9f3a"
                          ],
                          [
                            0.8888888888888888,
                            "#fdca26"
                          ],
                          [
                            1,
                            "#f0f921"
                          ]
                        ],
                        "type": "histogram2d"
                      }
                    ],
                    "histogram2dcontour": [
                      {
                        "colorbar": {
                          "outlinewidth": 0,
                          "ticks": ""
                        },
                        "colorscale": [
                          [
                            0,
                            "#0d0887"
                          ],
                          [
                            0.1111111111111111,
                            "#46039f"
                          ],
                          [
                            0.2222222222222222,
                            "#7201a8"
                          ],
                          [
                            0.3333333333333333,
                            "#9c179e"
                          ],
                          [
                            0.4444444444444444,
                            "#bd3786"
                          ],
                          [
                            0.5555555555555556,
                            "#d8576b"
                          ],
                          [
                            0.6666666666666666,
                            "#ed7953"
                          ],
                          [
                            0.7777777777777778,
                            "#fb9f3a"
                          ],
                          [
                            0.8888888888888888,
                            "#fdca26"
                          ],
                          [
                            1,
                            "#f0f921"
                          ]
                        ],
                        "type": "histogram2dcontour"
                      }
                    ],
                    "mesh3d": [
                      {
                        "colorbar": {
                          "outlinewidth": 0,
                          "ticks": ""
                        },
                        "type": "mesh3d"
                      }
                    ],
                    "parcoords": [
                      {
                        "line": {
                          "colorbar": {
                            "outlinewidth": 0,
                            "ticks": ""
                          }
                        },
                        "type": "parcoords"
                      }
                    ],
                    "pie": [
                      {
                        "automargin": true,
                        "type": "pie"
                      }
                    ],
                    "scatter": [
                      {
                        "marker": {
                          "colorbar": {
                            "outlinewidth": 0,
                            "ticks": ""
                          }
                        },
                        "type": "scatter"
                      }
                    ],
                    "scatter3d": [
                      {
                        "line": {
                          "colorbar": {
                            "outlinewidth": 0,
                            "ticks": ""
                          }
                        },
                        "marker": {
                          "colorbar": {
                            "outlinewidth": 0,
                            "ticks": ""
                          }
                        },
                        "type": "scatter3d"
                      }
                    ],
                    "scattercarpet": [
                      {
                        "marker": {
                          "colorbar": {
                            "outlinewidth": 0,
                            "ticks": ""
                          }
                        },
                        "type": "scattercarpet"
                      }
                    ],
                    "scattergeo": [
                      {
                        "marker": {
                          "colorbar": {
                            "outlinewidth": 0,
                            "ticks": ""
                          }
                        },
                        "type": "scattergeo"
                      }
                    ],
                    "scattergl": [
                      {
                        "marker": {
                          "colorbar": {
                            "outlinewidth": 0,
                            "ticks": ""
                          }
                        },
                        "type": "scattergl"
                      }
                    ],
                    "scattermapbox": [
                      {
                        "marker": {
                          "colorbar": {
                            "outlinewidth": 0,
                            "ticks": ""
                          }
                        },
                        "type": "scattermapbox"
                      }
                    ],
                    "scatterpolar": [
                      {
                        "marker": {
                          "colorbar": {
                            "outlinewidth": 0,
                            "ticks": ""
                          }
                        },
                        "type": "scatterpolar"
                      }
                    ],
                    "scatterpolargl": [
                      {
                        "marker": {
                          "colorbar": {
                            "outlinewidth": 0,
                            "ticks": ""
                          }
                        },
                        "type": "scatterpolargl"
                      }
                    ],
                    "scatterternary": [
                      {
                        "marker": {
                          "colorbar": {
                            "outlinewidth": 0,
                            "ticks": ""
                          }
                        },
                        "type": "scatterternary"
                      }
                    ],
                    "surface": [
                      {
                        "colorbar": {
                          "outlinewidth": 0,
                          "ticks": ""
                        },
                        "colorscale": [
                          [
                            0,
                            "#0d0887"
                          ],
                          [
                            0.1111111111111111,
                            "#46039f"
                          ],
                          [
                            0.2222222222222222,
                            "#7201a8"
                          ],
                          [
                            0.3333333333333333,
                            "#9c179e"
                          ],
                          [
                            0.4444444444444444,
                            "#bd3786"
                          ],
                          [
                            0.5555555555555556,
                            "#d8576b"
                          ],
                          [
                            0.6666666666666666,
                            "#ed7953"
                          ],
                          [
                            0.7777777777777778,
                            "#fb9f3a"
                          ],
                          [
                            0.8888888888888888,
                            "#fdca26"
                          ],
                          [
                            1,
                            "#f0f921"
                          ]
                        ],
                        "type": "surface"
                      }
                    ],
                    "table": [
                      {
                        "cells": {
                          "fill": {
                            "color": "#EBF0F8"
                          },
                          "line": {
                            "color": "white"
                          }
                        },
                        "header": {
                          "fill": {
                            "color": "#C8D4E3"
                          },
                          "line": {
                            "color": "white"
                          }
                        },
                        "type": "table"
                      }
                    ]
                  },
                  "layout": {
                    "annotationdefaults": {
                      "arrowcolor": "#2a3f5f",
                      "arrowhead": 0,
                      "arrowwidth": 1
                    },
                    "autotypenumbers": "strict",
                    "coloraxis": {
                      "colorbar": {
                        "outlinewidth": 0,
                        "ticks": ""
                      }
                    },
                    "colorscale": {
                      "diverging": [
                        [
                          0,
                          "#8e0152"
                        ],
                        [
                          0.1,
                          "#c51b7d"
                        ],
                        [
                          0.2,
                          "#de77ae"
                        ],
                        [
                          0.3,
                          "#f1b6da"
                        ],
                        [
                          0.4,
                          "#fde0ef"
                        ],
                        [
                          0.5,
                          "#f7f7f7"
                        ],
                        [
                          0.6,
                          "#e6f5d0"
                        ],
                        [
                          0.7,
                          "#b8e186"
                        ],
                        [
                          0.8,
                          "#7fbc41"
                        ],
                        [
                          0.9,
                          "#4d9221"
                        ],
                        [
                          1,
                          "#276419"
                        ]
                      ],
                      "sequential": [
                        [
                          0,
                          "#0d0887"
                        ],
                        [
                          0.1111111111111111,
                          "#46039f"
                        ],
                        [
                          0.2222222222222222,
                          "#7201a8"
                        ],
                        [
                          0.3333333333333333,
                          "#9c179e"
                        ],
                        [
                          0.4444444444444444,
                          "#bd3786"
                        ],
                        [
                          0.5555555555555556,
                          "#d8576b"
                        ],
                        [
                          0.6666666666666666,
                          "#ed7953"
                        ],
                        [
                          0.7777777777777778,
                          "#fb9f3a"
                        ],
                        [
                          0.8888888888888888,
                          "#fdca26"
                        ],
                        [
                          1,
                          "#f0f921"
                        ]
                      ],
                      "sequentialminus": [
                        [
                          0,
                          "#0d0887"
                        ],
                        [
                          0.1111111111111111,
                          "#46039f"
                        ],
                        [
                          0.2222222222222222,
                          "#7201a8"
                        ],
                        [
                          0.3333333333333333,
                          "#9c179e"
                        ],
                        [
                          0.4444444444444444,
                          "#bd3786"
                        ],
                        [
                          0.5555555555555556,
                          "#d8576b"
                        ],
                        [
                          0.6666666666666666,
                          "#ed7953"
                        ],
                        [
                          0.7777777777777778,
                          "#fb9f3a"
                        ],
                        [
                          0.8888888888888888,
                          "#fdca26"
                        ],
                        [
                          1,
                          "#f0f921"
                        ]
                      ]
                    },
                    "colorway": [
                      "#636efa",
                      "#EF553B",
                      "#00cc96",
                      "#ab63fa",
                      "#FFA15A",
                      "#19d3f3",
                      "#FF6692",
                      "#B6E880",
                      "#FF97FF",
                      "#FECB52"
                    ],
                    "font": {
                      "color": "#2a3f5f"
                    },
                    "geo": {
                      "bgcolor": "white",
                      "lakecolor": "white",
                      "landcolor": "#E5ECF6",
                      "showlakes": true,
                      "showland": true,
                      "subunitcolor": "white"
                    },
                    "hoverlabel": {
                      "align": "left"
                    },
                    "hovermode": "closest",
                    "mapbox": {
                      "style": "light"
                    },
                    "paper_bgcolor": "white",
                    "plot_bgcolor": "#E5ECF6",
                    "polar": {
                      "angularaxis": {
                        "gridcolor": "white",
                        "linecolor": "white",
                        "ticks": ""
                      },
                      "bgcolor": "#E5ECF6",
                      "radialaxis": {
                        "gridcolor": "white",
                        "linecolor": "white",
                        "ticks": ""
                      }
                    },
                    "scene": {
                      "xaxis": {
                        "backgroundcolor": "#E5ECF6",
                        "gridcolor": "white",
                        "gridwidth": 2,
                        "linecolor": "white",
                        "showbackground": true,
                        "ticks": "",
                        "zerolinecolor": "white"
                      },
                      "yaxis": {
                        "backgroundcolor": "#E5ECF6",
                        "gridcolor": "white",
                        "gridwidth": 2,
                        "linecolor": "white",
                        "showbackground": true,
                        "ticks": "",
                        "zerolinecolor": "white"
                      },
                      "zaxis": {
                        "backgroundcolor": "#E5ECF6",
                        "gridcolor": "white",
                        "gridwidth": 2,
                        "linecolor": "white",
                        "showbackground": true,
                        "ticks": "",
                        "zerolinecolor": "white"
                      }
                    },
                    "shapedefaults": {
                      "line": {
                        "color": "#2a3f5f"
                      }
                    },
                    "ternary": {
                      "aaxis": {
                        "gridcolor": "white",
                        "linecolor": "white",
                        "ticks": ""
                      },
                      "baxis": {
                        "gridcolor": "white",
                        "linecolor": "white",
                        "ticks": ""
                      },
                      "bgcolor": "#E5ECF6",
                      "caxis": {
                        "gridcolor": "white",
                        "linecolor": "white",
                        "ticks": ""
                      }
                    },
                    "title": {
                      "x": 0.05
                    },
                    "xaxis": {
                      "automargin": true,
                      "gridcolor": "white",
                      "linecolor": "white",
                      "ticks": "",
                      "title": {
                        "standoff": 15
                      },
                      "zerolinecolor": "white",
                      "zerolinewidth": 2
                    },
                    "yaxis": {
                      "automargin": true,
                      "gridcolor": "white",
                      "linecolor": "white",
                      "ticks": "",
                      "title": {
                        "standoff": 15
                      },
                      "zerolinecolor": "white",
                      "zerolinewidth": 2
                    }
                  }
                },
                "title": {
                  "text": "Dominant Flavors in Different Locations"
                },
                "updatemenus": [
                  {
                    "buttons": [
                      {
                        "args": [
                          {
                            "visible": [
                              true,
                              false,
                              false,
                              false,
                              false
                            ]
                          }
                        ],
                        "label": "Chocolate",
                        "method": "update"
                      },
                      {
                        "args": [
                          {
                            "visible": [
                              false,
                              true,
                              false,
                              false,
                              false
                            ]
                          }
                        ],
                        "label": "Coffee",
                        "method": "update"
                      },
                      {
                        "args": [
                          {
                            "visible": [
                              false,
                              false,
                              true,
                              false,
                              false
                            ]
                          }
                        ],
                        "label": "Berries",
                        "method": "update"
                      },
                      {
                        "args": [
                          {
                            "visible": [
                              false,
                              false,
                              false,
                              true,
                              false
                            ]
                          }
                        ],
                        "label": "Fruity",
                        "method": "update"
                      },
                      {
                        "args": [
                          {
                            "visible": [
                              false,
                              false,
                              false,
                              false,
                              true
                            ]
                          }
                        ],
                        "label": "Mango",
                        "method": "update"
                      }
                    ],
                    "direction": "down",
                    "showactive": true,
                    "x": 0.17,
                    "xanchor": "left",
                    "y": 1.1,
                    "yanchor": "top"
                  }
                ]
              }
            },
            "text/html": [
              "<div>                            <div id=\"434478dd-9ba4-45c5-bbf5-d03d04346659\" class=\"plotly-graph-div\" style=\"height:525px; width:100%;\"></div>            <script type=\"text/javascript\">                require([\"plotly\"], function(Plotly) {                    window.PLOTLYENV=window.PLOTLYENV || {};                                    if (document.getElementById(\"434478dd-9ba4-45c5-bbf5-d03d04346659\")) {                    Plotly.newPlot(                        \"434478dd-9ba4-45c5-bbf5-d03d04346659\",                        [{\"customdata\":[[\"Chocolate\"]],\"hovertemplate\":\"<b>%{hovertext}</b><br><br>Flavor=%{customdata[0]}<br>Lat=%{lat}<br>Lon=%{lon}<extra></extra>\",\"hovertext\":[\"Indore\"],\"lat\":[22.7203616],\"legendgroup\":\"Chocolate\",\"lon\":[75.8681996],\"marker\":{\"color\":\"#636efa\"},\"mode\":\"markers\",\"name\":\"Chocolate\",\"showlegend\":true,\"subplot\":\"mapbox\",\"type\":\"scattermapbox\"},{\"customdata\":[[\"Coffee\"]],\"hovertemplate\":\"<b>%{hovertext}</b><br><br>Flavor=%{customdata[0]}<br>Lat=%{lat}<br>Lon=%{lon}<extra></extra>\",\"hovertext\":[\"Pune\"],\"lat\":[18.5213738],\"legendgroup\":\"Coffee\",\"lon\":[73.8545071],\"marker\":{\"color\":\"#EF553B\"},\"mode\":\"markers\",\"name\":\"Coffee\",\"showlegend\":true,\"subplot\":\"mapbox\",\"type\":\"scattermapbox\"},{\"customdata\":[[\"Berries\"]],\"hovertemplate\":\"<b>%{hovertext}</b><br><br>Flavor=%{customdata[0]}<br>Lat=%{lat}<br>Lon=%{lon}<extra></extra>\",\"hovertext\":[\"Kochi\"],\"lat\":[9.9674277],\"legendgroup\":\"Berries\",\"lon\":[76.2454436],\"marker\":{\"color\":\"#00cc96\"},\"mode\":\"markers\",\"name\":\"Berries\",\"showlegend\":true,\"subplot\":\"mapbox\",\"type\":\"scattermapbox\"},{\"customdata\":[[\"Fruity\"]],\"hovertemplate\":\"<b>%{hovertext}</b><br><br>Flavor=%{customdata[0]}<br>Lat=%{lat}<br>Lon=%{lon}<extra></extra>\",\"hovertext\":[\"Surat\"],\"lat\":[21.2094892],\"legendgroup\":\"Fruity\",\"lon\":[72.8317058],\"marker\":{\"color\":\"#ab63fa\"},\"mode\":\"markers\",\"name\":\"Fruity\",\"showlegend\":true,\"subplot\":\"mapbox\",\"type\":\"scattermapbox\"},{\"customdata\":[[\"Mango\"]],\"hovertemplate\":\"<b>%{hovertext}</b><br><br>Flavor=%{customdata[0]}<br>Lat=%{lat}<br>Lon=%{lon}<extra></extra>\",\"hovertext\":[\"Chandigarh\"],\"lat\":[30.72984395],\"legendgroup\":\"Mango\",\"lon\":[76.78414567016054],\"marker\":{\"color\":\"#FFA15A\"},\"mode\":\"markers\",\"name\":\"Mango\",\"showlegend\":true,\"subplot\":\"mapbox\",\"type\":\"scattermapbox\"}],                        {\"template\":{\"data\":{\"bar\":[{\"error_x\":{\"color\":\"#2a3f5f\"},\"error_y\":{\"color\":\"#2a3f5f\"},\"marker\":{\"line\":{\"color\":\"#E5ECF6\",\"width\":0.5},\"pattern\":{\"fillmode\":\"overlay\",\"size\":10,\"solidity\":0.2}},\"type\":\"bar\"}],\"barpolar\":[{\"marker\":{\"line\":{\"color\":\"#E5ECF6\",\"width\":0.5},\"pattern\":{\"fillmode\":\"overlay\",\"size\":10,\"solidity\":0.2}},\"type\":\"barpolar\"}],\"carpet\":[{\"aaxis\":{\"endlinecolor\":\"#2a3f5f\",\"gridcolor\":\"white\",\"linecolor\":\"white\",\"minorgridcolor\":\"white\",\"startlinecolor\":\"#2a3f5f\"},\"baxis\":{\"endlinecolor\":\"#2a3f5f\",\"gridcolor\":\"white\",\"linecolor\":\"white\",\"minorgridcolor\":\"white\",\"startlinecolor\":\"#2a3f5f\"},\"type\":\"carpet\"}],\"choropleth\":[{\"colorbar\":{\"outlinewidth\":0,\"ticks\":\"\"},\"type\":\"choropleth\"}],\"contour\":[{\"colorbar\":{\"outlinewidth\":0,\"ticks\":\"\"},\"colorscale\":[[0.0,\"#0d0887\"],[0.1111111111111111,\"#46039f\"],[0.2222222222222222,\"#7201a8\"],[0.3333333333333333,\"#9c179e\"],[0.4444444444444444,\"#bd3786\"],[0.5555555555555556,\"#d8576b\"],[0.6666666666666666,\"#ed7953\"],[0.7777777777777778,\"#fb9f3a\"],[0.8888888888888888,\"#fdca26\"],[1.0,\"#f0f921\"]],\"type\":\"contour\"}],\"contourcarpet\":[{\"colorbar\":{\"outlinewidth\":0,\"ticks\":\"\"},\"type\":\"contourcarpet\"}],\"heatmap\":[{\"colorbar\":{\"outlinewidth\":0,\"ticks\":\"\"},\"colorscale\":[[0.0,\"#0d0887\"],[0.1111111111111111,\"#46039f\"],[0.2222222222222222,\"#7201a8\"],[0.3333333333333333,\"#9c179e\"],[0.4444444444444444,\"#bd3786\"],[0.5555555555555556,\"#d8576b\"],[0.6666666666666666,\"#ed7953\"],[0.7777777777777778,\"#fb9f3a\"],[0.8888888888888888,\"#fdca26\"],[1.0,\"#f0f921\"]],\"type\":\"heatmap\"}],\"heatmapgl\":[{\"colorbar\":{\"outlinewidth\":0,\"ticks\":\"\"},\"colorscale\":[[0.0,\"#0d0887\"],[0.1111111111111111,\"#46039f\"],[0.2222222222222222,\"#7201a8\"],[0.3333333333333333,\"#9c179e\"],[0.4444444444444444,\"#bd3786\"],[0.5555555555555556,\"#d8576b\"],[0.6666666666666666,\"#ed7953\"],[0.7777777777777778,\"#fb9f3a\"],[0.8888888888888888,\"#fdca26\"],[1.0,\"#f0f921\"]],\"type\":\"heatmapgl\"}],\"histogram\":[{\"marker\":{\"pattern\":{\"fillmode\":\"overlay\",\"size\":10,\"solidity\":0.2}},\"type\":\"histogram\"}],\"histogram2d\":[{\"colorbar\":{\"outlinewidth\":0,\"ticks\":\"\"},\"colorscale\":[[0.0,\"#0d0887\"],[0.1111111111111111,\"#46039f\"],[0.2222222222222222,\"#7201a8\"],[0.3333333333333333,\"#9c179e\"],[0.4444444444444444,\"#bd3786\"],[0.5555555555555556,\"#d8576b\"],[0.6666666666666666,\"#ed7953\"],[0.7777777777777778,\"#fb9f3a\"],[0.8888888888888888,\"#fdca26\"],[1.0,\"#f0f921\"]],\"type\":\"histogram2d\"}],\"histogram2dcontour\":[{\"colorbar\":{\"outlinewidth\":0,\"ticks\":\"\"},\"colorscale\":[[0.0,\"#0d0887\"],[0.1111111111111111,\"#46039f\"],[0.2222222222222222,\"#7201a8\"],[0.3333333333333333,\"#9c179e\"],[0.4444444444444444,\"#bd3786\"],[0.5555555555555556,\"#d8576b\"],[0.6666666666666666,\"#ed7953\"],[0.7777777777777778,\"#fb9f3a\"],[0.8888888888888888,\"#fdca26\"],[1.0,\"#f0f921\"]],\"type\":\"histogram2dcontour\"}],\"mesh3d\":[{\"colorbar\":{\"outlinewidth\":0,\"ticks\":\"\"},\"type\":\"mesh3d\"}],\"parcoords\":[{\"line\":{\"colorbar\":{\"outlinewidth\":0,\"ticks\":\"\"}},\"type\":\"parcoords\"}],\"pie\":[{\"automargin\":true,\"type\":\"pie\"}],\"scatter\":[{\"marker\":{\"colorbar\":{\"outlinewidth\":0,\"ticks\":\"\"}},\"type\":\"scatter\"}],\"scatter3d\":[{\"line\":{\"colorbar\":{\"outlinewidth\":0,\"ticks\":\"\"}},\"marker\":{\"colorbar\":{\"outlinewidth\":0,\"ticks\":\"\"}},\"type\":\"scatter3d\"}],\"scattercarpet\":[{\"marker\":{\"colorbar\":{\"outlinewidth\":0,\"ticks\":\"\"}},\"type\":\"scattercarpet\"}],\"scattergeo\":[{\"marker\":{\"colorbar\":{\"outlinewidth\":0,\"ticks\":\"\"}},\"type\":\"scattergeo\"}],\"scattergl\":[{\"marker\":{\"colorbar\":{\"outlinewidth\":0,\"ticks\":\"\"}},\"type\":\"scattergl\"}],\"scattermapbox\":[{\"marker\":{\"colorbar\":{\"outlinewidth\":0,\"ticks\":\"\"}},\"type\":\"scattermapbox\"}],\"scatterpolar\":[{\"marker\":{\"colorbar\":{\"outlinewidth\":0,\"ticks\":\"\"}},\"type\":\"scatterpolar\"}],\"scatterpolargl\":[{\"marker\":{\"colorbar\":{\"outlinewidth\":0,\"ticks\":\"\"}},\"type\":\"scatterpolargl\"}],\"scatterternary\":[{\"marker\":{\"colorbar\":{\"outlinewidth\":0,\"ticks\":\"\"}},\"type\":\"scatterternary\"}],\"surface\":[{\"colorbar\":{\"outlinewidth\":0,\"ticks\":\"\"},\"colorscale\":[[0.0,\"#0d0887\"],[0.1111111111111111,\"#46039f\"],[0.2222222222222222,\"#7201a8\"],[0.3333333333333333,\"#9c179e\"],[0.4444444444444444,\"#bd3786\"],[0.5555555555555556,\"#d8576b\"],[0.6666666666666666,\"#ed7953\"],[0.7777777777777778,\"#fb9f3a\"],[0.8888888888888888,\"#fdca26\"],[1.0,\"#f0f921\"]],\"type\":\"surface\"}],\"table\":[{\"cells\":{\"fill\":{\"color\":\"#EBF0F8\"},\"line\":{\"color\":\"white\"}},\"header\":{\"fill\":{\"color\":\"#C8D4E3\"},\"line\":{\"color\":\"white\"}},\"type\":\"table\"}]},\"layout\":{\"annotationdefaults\":{\"arrowcolor\":\"#2a3f5f\",\"arrowhead\":0,\"arrowwidth\":1},\"autotypenumbers\":\"strict\",\"coloraxis\":{\"colorbar\":{\"outlinewidth\":0,\"ticks\":\"\"}},\"colorscale\":{\"diverging\":[[0,\"#8e0152\"],[0.1,\"#c51b7d\"],[0.2,\"#de77ae\"],[0.3,\"#f1b6da\"],[0.4,\"#fde0ef\"],[0.5,\"#f7f7f7\"],[0.6,\"#e6f5d0\"],[0.7,\"#b8e186\"],[0.8,\"#7fbc41\"],[0.9,\"#4d9221\"],[1,\"#276419\"]],\"sequential\":[[0.0,\"#0d0887\"],[0.1111111111111111,\"#46039f\"],[0.2222222222222222,\"#7201a8\"],[0.3333333333333333,\"#9c179e\"],[0.4444444444444444,\"#bd3786\"],[0.5555555555555556,\"#d8576b\"],[0.6666666666666666,\"#ed7953\"],[0.7777777777777778,\"#fb9f3a\"],[0.8888888888888888,\"#fdca26\"],[1.0,\"#f0f921\"]],\"sequentialminus\":[[0.0,\"#0d0887\"],[0.1111111111111111,\"#46039f\"],[0.2222222222222222,\"#7201a8\"],[0.3333333333333333,\"#9c179e\"],[0.4444444444444444,\"#bd3786\"],[0.5555555555555556,\"#d8576b\"],[0.6666666666666666,\"#ed7953\"],[0.7777777777777778,\"#fb9f3a\"],[0.8888888888888888,\"#fdca26\"],[1.0,\"#f0f921\"]]},\"colorway\":[\"#636efa\",\"#EF553B\",\"#00cc96\",\"#ab63fa\",\"#FFA15A\",\"#19d3f3\",\"#FF6692\",\"#B6E880\",\"#FF97FF\",\"#FECB52\"],\"font\":{\"color\":\"#2a3f5f\"},\"geo\":{\"bgcolor\":\"white\",\"lakecolor\":\"white\",\"landcolor\":\"#E5ECF6\",\"showlakes\":true,\"showland\":true,\"subunitcolor\":\"white\"},\"hoverlabel\":{\"align\":\"left\"},\"hovermode\":\"closest\",\"mapbox\":{\"style\":\"light\"},\"paper_bgcolor\":\"white\",\"plot_bgcolor\":\"#E5ECF6\",\"polar\":{\"angularaxis\":{\"gridcolor\":\"white\",\"linecolor\":\"white\",\"ticks\":\"\"},\"bgcolor\":\"#E5ECF6\",\"radialaxis\":{\"gridcolor\":\"white\",\"linecolor\":\"white\",\"ticks\":\"\"}},\"scene\":{\"xaxis\":{\"backgroundcolor\":\"#E5ECF6\",\"gridcolor\":\"white\",\"gridwidth\":2,\"linecolor\":\"white\",\"showbackground\":true,\"ticks\":\"\",\"zerolinecolor\":\"white\"},\"yaxis\":{\"backgroundcolor\":\"#E5ECF6\",\"gridcolor\":\"white\",\"gridwidth\":2,\"linecolor\":\"white\",\"showbackground\":true,\"ticks\":\"\",\"zerolinecolor\":\"white\"},\"zaxis\":{\"backgroundcolor\":\"#E5ECF6\",\"gridcolor\":\"white\",\"gridwidth\":2,\"linecolor\":\"white\",\"showbackground\":true,\"ticks\":\"\",\"zerolinecolor\":\"white\"}},\"shapedefaults\":{\"line\":{\"color\":\"#2a3f5f\"}},\"ternary\":{\"aaxis\":{\"gridcolor\":\"white\",\"linecolor\":\"white\",\"ticks\":\"\"},\"baxis\":{\"gridcolor\":\"white\",\"linecolor\":\"white\",\"ticks\":\"\"},\"bgcolor\":\"#E5ECF6\",\"caxis\":{\"gridcolor\":\"white\",\"linecolor\":\"white\",\"ticks\":\"\"}},\"title\":{\"x\":0.05},\"xaxis\":{\"automargin\":true,\"gridcolor\":\"white\",\"linecolor\":\"white\",\"ticks\":\"\",\"title\":{\"standoff\":15},\"zerolinecolor\":\"white\",\"zerolinewidth\":2},\"yaxis\":{\"automargin\":true,\"gridcolor\":\"white\",\"linecolor\":\"white\",\"ticks\":\"\",\"title\":{\"standoff\":15},\"zerolinecolor\":\"white\",\"zerolinewidth\":2}}},\"mapbox\":{\"domain\":{\"x\":[0.0,1.0],\"y\":[0.0,1.0]},\"center\":{\"lat\":20.5937,\"lon\":78.9629},\"zoom\":4,\"style\":\"carto-positron\"},\"legend\":{\"title\":{\"text\":\"Flavor\"},\"tracegroupgap\":0},\"margin\":{\"t\":60},\"title\":{\"text\":\"Dominant Flavors in Different Locations\"},\"updatemenus\":[{\"buttons\":[{\"args\":[{\"visible\":[true,false,false,false,false]}],\"label\":\"Chocolate\",\"method\":\"update\"},{\"args\":[{\"visible\":[false,true,false,false,false]}],\"label\":\"Coffee\",\"method\":\"update\"},{\"args\":[{\"visible\":[false,false,true,false,false]}],\"label\":\"Berries\",\"method\":\"update\"},{\"args\":[{\"visible\":[false,false,false,true,false]}],\"label\":\"Fruity\",\"method\":\"update\"},{\"args\":[{\"visible\":[false,false,false,false,true]}],\"label\":\"Mango\",\"method\":\"update\"}],\"direction\":\"down\",\"showactive\":true,\"x\":0.17,\"xanchor\":\"left\",\"y\":1.1,\"yanchor\":\"top\"}]},                        {\"responsive\": true}                    ).then(function(){\n",
              "                            \n",
              "var gd = document.getElementById('434478dd-9ba4-45c5-bbf5-d03d04346659');\n",
              "var x = new MutationObserver(function (mutations, observer) {{\n",
              "        var display = window.getComputedStyle(gd).display;\n",
              "        if (!display || display === 'none') {{\n",
              "            console.log([gd, 'removed!']);\n",
              "            Plotly.purge(gd);\n",
              "            observer.disconnect();\n",
              "        }}\n",
              "}});\n",
              "\n",
              "// Listen for the removal of the full notebook cells\n",
              "var notebookContainer = gd.closest('#notebook-container');\n",
              "if (notebookContainer) {{\n",
              "    x.observe(notebookContainer, {childList: true});\n",
              "}}\n",
              "\n",
              "// Listen for the clearing of the current output cell\n",
              "var outputEl = gd.closest('.output');\n",
              "if (outputEl) {{\n",
              "    x.observe(outputEl, {childList: true});\n",
              "}}\n",
              "\n",
              "                        })                };                });            </script>        </div>"
            ]
          },
          "metadata": {},
          "output_type": "display_data"
        }
      ],
      "source": [
        "import plotly.express as px\n",
        "# Create an interactive map with a dropdown for Flavors\n",
        "fig = px.scatter_mapbox(\n",
        "    new_data,\n",
        "    lat='Lat',\n",
        "    lon='Lon',\n",
        "    hover_name='Location',\n",
        "    hover_data={'Flavor': True},\n",
        "    color='Flavor',  # Color by Flavor to visually differentiate them\n",
        "    zoom=4,\n",
        "    mapbox_style=\"carto-positron\"\n",
        ")\n",
        "\n",
        "# Update layout with dropdown for Flavor\n",
        "flavors = new_data['Flavor'].unique()\n",
        "dropdown_buttons = [\n",
        "    {'label': flavor, 'method': 'update',\n",
        "     'args': [{'visible': new_data['Flavor'] == flavor}]}\n",
        "    for flavor in flavors\n",
        "]\n",
        "\n",
        "fig.update_layout(\n",
        "    mapbox=dict(\n",
        "        center=dict(lat=20.5937, lon=78.9629),  # Center the map around India\n",
        "        zoom=4\n",
        "    ),\n",
        "    title=\"Dominant Flavors in Different Locations\",\n",
        "    updatemenus=[{\n",
        "        'buttons': dropdown_buttons,\n",
        "        'direction': 'down',\n",
        "        'showactive': True,\n",
        "        'x': 0.17,\n",
        "        'xanchor': 'left',\n",
        "        'y': 1.1,\n",
        "        'yanchor': 'top',\n",
        "    }]\n",
        ")\n",
        "\n",
        "# Show the map\n",
        "fig.show()"
      ]
    },
    {
      "cell_type": "code",
      "execution_count": null,
      "metadata": {
        "id": "8mEatphVXj_X",
        "outputId": "80df02f4-fd15-4c51-cac7-e44d30faa72c"
      },
      "outputs": [
        {
          "name": "stdout",
          "output_type": "stream",
          "text": [
            "RF Accuracy: 0.7508\n",
            "RF Precision: 0.7075\n",
            "RF Recall: 0.7171\n",
            "RF F1 Score: 0.7093\n"
          ]
        },
        {
          "data": {
            "application/vnd.plotly.v1+json": {
              "config": {
                "plotlyServerURL": "https://plot.ly"
              },
              "data": [
                {
                  "marker": {
                    "color": "royalblue"
                  },
                  "text": [
                    0.7508,
                    0.7075,
                    0.7171,
                    0.7093
                  ],
                  "textposition": "auto",
                  "type": "bar",
                  "x": [
                    "Accuracy",
                    "Precision",
                    "Recall",
                    "F1-Score"
                  ],
                  "y": [
                    0.750814332247557,
                    0.7074601564151342,
                    0.7170707395292903,
                    0.7093056512589904
                  ]
                }
              ],
              "layout": {
                "bargap": 0.2,
                "template": {
                  "data": {
                    "bar": [
                      {
                        "error_x": {
                          "color": "#2a3f5f"
                        },
                        "error_y": {
                          "color": "#2a3f5f"
                        },
                        "marker": {
                          "line": {
                            "color": "#E5ECF6",
                            "width": 0.5
                          },
                          "pattern": {
                            "fillmode": "overlay",
                            "size": 10,
                            "solidity": 0.2
                          }
                        },
                        "type": "bar"
                      }
                    ],
                    "barpolar": [
                      {
                        "marker": {
                          "line": {
                            "color": "#E5ECF6",
                            "width": 0.5
                          },
                          "pattern": {
                            "fillmode": "overlay",
                            "size": 10,
                            "solidity": 0.2
                          }
                        },
                        "type": "barpolar"
                      }
                    ],
                    "carpet": [
                      {
                        "aaxis": {
                          "endlinecolor": "#2a3f5f",
                          "gridcolor": "white",
                          "linecolor": "white",
                          "minorgridcolor": "white",
                          "startlinecolor": "#2a3f5f"
                        },
                        "baxis": {
                          "endlinecolor": "#2a3f5f",
                          "gridcolor": "white",
                          "linecolor": "white",
                          "minorgridcolor": "white",
                          "startlinecolor": "#2a3f5f"
                        },
                        "type": "carpet"
                      }
                    ],
                    "choropleth": [
                      {
                        "colorbar": {
                          "outlinewidth": 0,
                          "ticks": ""
                        },
                        "type": "choropleth"
                      }
                    ],
                    "contour": [
                      {
                        "colorbar": {
                          "outlinewidth": 0,
                          "ticks": ""
                        },
                        "colorscale": [
                          [
                            0,
                            "#0d0887"
                          ],
                          [
                            0.1111111111111111,
                            "#46039f"
                          ],
                          [
                            0.2222222222222222,
                            "#7201a8"
                          ],
                          [
                            0.3333333333333333,
                            "#9c179e"
                          ],
                          [
                            0.4444444444444444,
                            "#bd3786"
                          ],
                          [
                            0.5555555555555556,
                            "#d8576b"
                          ],
                          [
                            0.6666666666666666,
                            "#ed7953"
                          ],
                          [
                            0.7777777777777778,
                            "#fb9f3a"
                          ],
                          [
                            0.8888888888888888,
                            "#fdca26"
                          ],
                          [
                            1,
                            "#f0f921"
                          ]
                        ],
                        "type": "contour"
                      }
                    ],
                    "contourcarpet": [
                      {
                        "colorbar": {
                          "outlinewidth": 0,
                          "ticks": ""
                        },
                        "type": "contourcarpet"
                      }
                    ],
                    "heatmap": [
                      {
                        "colorbar": {
                          "outlinewidth": 0,
                          "ticks": ""
                        },
                        "colorscale": [
                          [
                            0,
                            "#0d0887"
                          ],
                          [
                            0.1111111111111111,
                            "#46039f"
                          ],
                          [
                            0.2222222222222222,
                            "#7201a8"
                          ],
                          [
                            0.3333333333333333,
                            "#9c179e"
                          ],
                          [
                            0.4444444444444444,
                            "#bd3786"
                          ],
                          [
                            0.5555555555555556,
                            "#d8576b"
                          ],
                          [
                            0.6666666666666666,
                            "#ed7953"
                          ],
                          [
                            0.7777777777777778,
                            "#fb9f3a"
                          ],
                          [
                            0.8888888888888888,
                            "#fdca26"
                          ],
                          [
                            1,
                            "#f0f921"
                          ]
                        ],
                        "type": "heatmap"
                      }
                    ],
                    "heatmapgl": [
                      {
                        "colorbar": {
                          "outlinewidth": 0,
                          "ticks": ""
                        },
                        "colorscale": [
                          [
                            0,
                            "#0d0887"
                          ],
                          [
                            0.1111111111111111,
                            "#46039f"
                          ],
                          [
                            0.2222222222222222,
                            "#7201a8"
                          ],
                          [
                            0.3333333333333333,
                            "#9c179e"
                          ],
                          [
                            0.4444444444444444,
                            "#bd3786"
                          ],
                          [
                            0.5555555555555556,
                            "#d8576b"
                          ],
                          [
                            0.6666666666666666,
                            "#ed7953"
                          ],
                          [
                            0.7777777777777778,
                            "#fb9f3a"
                          ],
                          [
                            0.8888888888888888,
                            "#fdca26"
                          ],
                          [
                            1,
                            "#f0f921"
                          ]
                        ],
                        "type": "heatmapgl"
                      }
                    ],
                    "histogram": [
                      {
                        "marker": {
                          "pattern": {
                            "fillmode": "overlay",
                            "size": 10,
                            "solidity": 0.2
                          }
                        },
                        "type": "histogram"
                      }
                    ],
                    "histogram2d": [
                      {
                        "colorbar": {
                          "outlinewidth": 0,
                          "ticks": ""
                        },
                        "colorscale": [
                          [
                            0,
                            "#0d0887"
                          ],
                          [
                            0.1111111111111111,
                            "#46039f"
                          ],
                          [
                            0.2222222222222222,
                            "#7201a8"
                          ],
                          [
                            0.3333333333333333,
                            "#9c179e"
                          ],
                          [
                            0.4444444444444444,
                            "#bd3786"
                          ],
                          [
                            0.5555555555555556,
                            "#d8576b"
                          ],
                          [
                            0.6666666666666666,
                            "#ed7953"
                          ],
                          [
                            0.7777777777777778,
                            "#fb9f3a"
                          ],
                          [
                            0.8888888888888888,
                            "#fdca26"
                          ],
                          [
                            1,
                            "#f0f921"
                          ]
                        ],
                        "type": "histogram2d"
                      }
                    ],
                    "histogram2dcontour": [
                      {
                        "colorbar": {
                          "outlinewidth": 0,
                          "ticks": ""
                        },
                        "colorscale": [
                          [
                            0,
                            "#0d0887"
                          ],
                          [
                            0.1111111111111111,
                            "#46039f"
                          ],
                          [
                            0.2222222222222222,
                            "#7201a8"
                          ],
                          [
                            0.3333333333333333,
                            "#9c179e"
                          ],
                          [
                            0.4444444444444444,
                            "#bd3786"
                          ],
                          [
                            0.5555555555555556,
                            "#d8576b"
                          ],
                          [
                            0.6666666666666666,
                            "#ed7953"
                          ],
                          [
                            0.7777777777777778,
                            "#fb9f3a"
                          ],
                          [
                            0.8888888888888888,
                            "#fdca26"
                          ],
                          [
                            1,
                            "#f0f921"
                          ]
                        ],
                        "type": "histogram2dcontour"
                      }
                    ],
                    "mesh3d": [
                      {
                        "colorbar": {
                          "outlinewidth": 0,
                          "ticks": ""
                        },
                        "type": "mesh3d"
                      }
                    ],
                    "parcoords": [
                      {
                        "line": {
                          "colorbar": {
                            "outlinewidth": 0,
                            "ticks": ""
                          }
                        },
                        "type": "parcoords"
                      }
                    ],
                    "pie": [
                      {
                        "automargin": true,
                        "type": "pie"
                      }
                    ],
                    "scatter": [
                      {
                        "marker": {
                          "colorbar": {
                            "outlinewidth": 0,
                            "ticks": ""
                          }
                        },
                        "type": "scatter"
                      }
                    ],
                    "scatter3d": [
                      {
                        "line": {
                          "colorbar": {
                            "outlinewidth": 0,
                            "ticks": ""
                          }
                        },
                        "marker": {
                          "colorbar": {
                            "outlinewidth": 0,
                            "ticks": ""
                          }
                        },
                        "type": "scatter3d"
                      }
                    ],
                    "scattercarpet": [
                      {
                        "marker": {
                          "colorbar": {
                            "outlinewidth": 0,
                            "ticks": ""
                          }
                        },
                        "type": "scattercarpet"
                      }
                    ],
                    "scattergeo": [
                      {
                        "marker": {
                          "colorbar": {
                            "outlinewidth": 0,
                            "ticks": ""
                          }
                        },
                        "type": "scattergeo"
                      }
                    ],
                    "scattergl": [
                      {
                        "marker": {
                          "colorbar": {
                            "outlinewidth": 0,
                            "ticks": ""
                          }
                        },
                        "type": "scattergl"
                      }
                    ],
                    "scattermapbox": [
                      {
                        "marker": {
                          "colorbar": {
                            "outlinewidth": 0,
                            "ticks": ""
                          }
                        },
                        "type": "scattermapbox"
                      }
                    ],
                    "scatterpolar": [
                      {
                        "marker": {
                          "colorbar": {
                            "outlinewidth": 0,
                            "ticks": ""
                          }
                        },
                        "type": "scatterpolar"
                      }
                    ],
                    "scatterpolargl": [
                      {
                        "marker": {
                          "colorbar": {
                            "outlinewidth": 0,
                            "ticks": ""
                          }
                        },
                        "type": "scatterpolargl"
                      }
                    ],
                    "scatterternary": [
                      {
                        "marker": {
                          "colorbar": {
                            "outlinewidth": 0,
                            "ticks": ""
                          }
                        },
                        "type": "scatterternary"
                      }
                    ],
                    "surface": [
                      {
                        "colorbar": {
                          "outlinewidth": 0,
                          "ticks": ""
                        },
                        "colorscale": [
                          [
                            0,
                            "#0d0887"
                          ],
                          [
                            0.1111111111111111,
                            "#46039f"
                          ],
                          [
                            0.2222222222222222,
                            "#7201a8"
                          ],
                          [
                            0.3333333333333333,
                            "#9c179e"
                          ],
                          [
                            0.4444444444444444,
                            "#bd3786"
                          ],
                          [
                            0.5555555555555556,
                            "#d8576b"
                          ],
                          [
                            0.6666666666666666,
                            "#ed7953"
                          ],
                          [
                            0.7777777777777778,
                            "#fb9f3a"
                          ],
                          [
                            0.8888888888888888,
                            "#fdca26"
                          ],
                          [
                            1,
                            "#f0f921"
                          ]
                        ],
                        "type": "surface"
                      }
                    ],
                    "table": [
                      {
                        "cells": {
                          "fill": {
                            "color": "#EBF0F8"
                          },
                          "line": {
                            "color": "white"
                          }
                        },
                        "header": {
                          "fill": {
                            "color": "#C8D4E3"
                          },
                          "line": {
                            "color": "white"
                          }
                        },
                        "type": "table"
                      }
                    ]
                  },
                  "layout": {
                    "annotationdefaults": {
                      "arrowcolor": "#2a3f5f",
                      "arrowhead": 0,
                      "arrowwidth": 1
                    },
                    "autotypenumbers": "strict",
                    "coloraxis": {
                      "colorbar": {
                        "outlinewidth": 0,
                        "ticks": ""
                      }
                    },
                    "colorscale": {
                      "diverging": [
                        [
                          0,
                          "#8e0152"
                        ],
                        [
                          0.1,
                          "#c51b7d"
                        ],
                        [
                          0.2,
                          "#de77ae"
                        ],
                        [
                          0.3,
                          "#f1b6da"
                        ],
                        [
                          0.4,
                          "#fde0ef"
                        ],
                        [
                          0.5,
                          "#f7f7f7"
                        ],
                        [
                          0.6,
                          "#e6f5d0"
                        ],
                        [
                          0.7,
                          "#b8e186"
                        ],
                        [
                          0.8,
                          "#7fbc41"
                        ],
                        [
                          0.9,
                          "#4d9221"
                        ],
                        [
                          1,
                          "#276419"
                        ]
                      ],
                      "sequential": [
                        [
                          0,
                          "#0d0887"
                        ],
                        [
                          0.1111111111111111,
                          "#46039f"
                        ],
                        [
                          0.2222222222222222,
                          "#7201a8"
                        ],
                        [
                          0.3333333333333333,
                          "#9c179e"
                        ],
                        [
                          0.4444444444444444,
                          "#bd3786"
                        ],
                        [
                          0.5555555555555556,
                          "#d8576b"
                        ],
                        [
                          0.6666666666666666,
                          "#ed7953"
                        ],
                        [
                          0.7777777777777778,
                          "#fb9f3a"
                        ],
                        [
                          0.8888888888888888,
                          "#fdca26"
                        ],
                        [
                          1,
                          "#f0f921"
                        ]
                      ],
                      "sequentialminus": [
                        [
                          0,
                          "#0d0887"
                        ],
                        [
                          0.1111111111111111,
                          "#46039f"
                        ],
                        [
                          0.2222222222222222,
                          "#7201a8"
                        ],
                        [
                          0.3333333333333333,
                          "#9c179e"
                        ],
                        [
                          0.4444444444444444,
                          "#bd3786"
                        ],
                        [
                          0.5555555555555556,
                          "#d8576b"
                        ],
                        [
                          0.6666666666666666,
                          "#ed7953"
                        ],
                        [
                          0.7777777777777778,
                          "#fb9f3a"
                        ],
                        [
                          0.8888888888888888,
                          "#fdca26"
                        ],
                        [
                          1,
                          "#f0f921"
                        ]
                      ]
                    },
                    "colorway": [
                      "#636efa",
                      "#EF553B",
                      "#00cc96",
                      "#ab63fa",
                      "#FFA15A",
                      "#19d3f3",
                      "#FF6692",
                      "#B6E880",
                      "#FF97FF",
                      "#FECB52"
                    ],
                    "font": {
                      "color": "#2a3f5f"
                    },
                    "geo": {
                      "bgcolor": "white",
                      "lakecolor": "white",
                      "landcolor": "#E5ECF6",
                      "showlakes": true,
                      "showland": true,
                      "subunitcolor": "white"
                    },
                    "hoverlabel": {
                      "align": "left"
                    },
                    "hovermode": "closest",
                    "mapbox": {
                      "style": "light"
                    },
                    "paper_bgcolor": "white",
                    "plot_bgcolor": "#E5ECF6",
                    "polar": {
                      "angularaxis": {
                        "gridcolor": "white",
                        "linecolor": "white",
                        "ticks": ""
                      },
                      "bgcolor": "#E5ECF6",
                      "radialaxis": {
                        "gridcolor": "white",
                        "linecolor": "white",
                        "ticks": ""
                      }
                    },
                    "scene": {
                      "xaxis": {
                        "backgroundcolor": "#E5ECF6",
                        "gridcolor": "white",
                        "gridwidth": 2,
                        "linecolor": "white",
                        "showbackground": true,
                        "ticks": "",
                        "zerolinecolor": "white"
                      },
                      "yaxis": {
                        "backgroundcolor": "#E5ECF6",
                        "gridcolor": "white",
                        "gridwidth": 2,
                        "linecolor": "white",
                        "showbackground": true,
                        "ticks": "",
                        "zerolinecolor": "white"
                      },
                      "zaxis": {
                        "backgroundcolor": "#E5ECF6",
                        "gridcolor": "white",
                        "gridwidth": 2,
                        "linecolor": "white",
                        "showbackground": true,
                        "ticks": "",
                        "zerolinecolor": "white"
                      }
                    },
                    "shapedefaults": {
                      "line": {
                        "color": "#2a3f5f"
                      }
                    },
                    "ternary": {
                      "aaxis": {
                        "gridcolor": "white",
                        "linecolor": "white",
                        "ticks": ""
                      },
                      "baxis": {
                        "gridcolor": "white",
                        "linecolor": "white",
                        "ticks": ""
                      },
                      "bgcolor": "#E5ECF6",
                      "caxis": {
                        "gridcolor": "white",
                        "linecolor": "white",
                        "ticks": ""
                      }
                    },
                    "title": {
                      "x": 0.05
                    },
                    "xaxis": {
                      "automargin": true,
                      "gridcolor": "white",
                      "linecolor": "white",
                      "ticks": "",
                      "title": {
                        "standoff": 15
                      },
                      "zerolinecolor": "white",
                      "zerolinewidth": 2
                    },
                    "yaxis": {
                      "automargin": true,
                      "gridcolor": "white",
                      "linecolor": "white",
                      "ticks": "",
                      "title": {
                        "standoff": 15
                      },
                      "zerolinecolor": "white",
                      "zerolinewidth": 2
                    }
                  }
                },
                "title": {
                  "text": "Evaluation Metrics for Viscosity using XGBoost"
                },
                "xaxis": {
                  "title": {
                    "text": "Metrics"
                  }
                },
                "yaxis": {
                  "range": [
                    0,
                    1
                  ],
                  "title": {
                    "text": "Scores"
                  }
                }
              }
            },
            "text/html": [
              "<div>                            <div id=\"9ba2498e-1d95-462c-a1f3-cfa0398a8abb\" class=\"plotly-graph-div\" style=\"height:525px; width:100%;\"></div>            <script type=\"text/javascript\">                require([\"plotly\"], function(Plotly) {                    window.PLOTLYENV=window.PLOTLYENV || {};                                    if (document.getElementById(\"9ba2498e-1d95-462c-a1f3-cfa0398a8abb\")) {                    Plotly.newPlot(                        \"9ba2498e-1d95-462c-a1f3-cfa0398a8abb\",                        [{\"marker\":{\"color\":\"royalblue\"},\"text\":[0.7508,0.7075,0.7171,0.7093],\"textposition\":\"auto\",\"x\":[\"Accuracy\",\"Precision\",\"Recall\",\"F1-Score\"],\"y\":[0.750814332247557,0.7074601564151342,0.7170707395292903,0.7093056512589904],\"type\":\"bar\"}],                        {\"template\":{\"data\":{\"bar\":[{\"error_x\":{\"color\":\"#2a3f5f\"},\"error_y\":{\"color\":\"#2a3f5f\"},\"marker\":{\"line\":{\"color\":\"#E5ECF6\",\"width\":0.5},\"pattern\":{\"fillmode\":\"overlay\",\"size\":10,\"solidity\":0.2}},\"type\":\"bar\"}],\"barpolar\":[{\"marker\":{\"line\":{\"color\":\"#E5ECF6\",\"width\":0.5},\"pattern\":{\"fillmode\":\"overlay\",\"size\":10,\"solidity\":0.2}},\"type\":\"barpolar\"}],\"carpet\":[{\"aaxis\":{\"endlinecolor\":\"#2a3f5f\",\"gridcolor\":\"white\",\"linecolor\":\"white\",\"minorgridcolor\":\"white\",\"startlinecolor\":\"#2a3f5f\"},\"baxis\":{\"endlinecolor\":\"#2a3f5f\",\"gridcolor\":\"white\",\"linecolor\":\"white\",\"minorgridcolor\":\"white\",\"startlinecolor\":\"#2a3f5f\"},\"type\":\"carpet\"}],\"choropleth\":[{\"colorbar\":{\"outlinewidth\":0,\"ticks\":\"\"},\"type\":\"choropleth\"}],\"contour\":[{\"colorbar\":{\"outlinewidth\":0,\"ticks\":\"\"},\"colorscale\":[[0.0,\"#0d0887\"],[0.1111111111111111,\"#46039f\"],[0.2222222222222222,\"#7201a8\"],[0.3333333333333333,\"#9c179e\"],[0.4444444444444444,\"#bd3786\"],[0.5555555555555556,\"#d8576b\"],[0.6666666666666666,\"#ed7953\"],[0.7777777777777778,\"#fb9f3a\"],[0.8888888888888888,\"#fdca26\"],[1.0,\"#f0f921\"]],\"type\":\"contour\"}],\"contourcarpet\":[{\"colorbar\":{\"outlinewidth\":0,\"ticks\":\"\"},\"type\":\"contourcarpet\"}],\"heatmap\":[{\"colorbar\":{\"outlinewidth\":0,\"ticks\":\"\"},\"colorscale\":[[0.0,\"#0d0887\"],[0.1111111111111111,\"#46039f\"],[0.2222222222222222,\"#7201a8\"],[0.3333333333333333,\"#9c179e\"],[0.4444444444444444,\"#bd3786\"],[0.5555555555555556,\"#d8576b\"],[0.6666666666666666,\"#ed7953\"],[0.7777777777777778,\"#fb9f3a\"],[0.8888888888888888,\"#fdca26\"],[1.0,\"#f0f921\"]],\"type\":\"heatmap\"}],\"heatmapgl\":[{\"colorbar\":{\"outlinewidth\":0,\"ticks\":\"\"},\"colorscale\":[[0.0,\"#0d0887\"],[0.1111111111111111,\"#46039f\"],[0.2222222222222222,\"#7201a8\"],[0.3333333333333333,\"#9c179e\"],[0.4444444444444444,\"#bd3786\"],[0.5555555555555556,\"#d8576b\"],[0.6666666666666666,\"#ed7953\"],[0.7777777777777778,\"#fb9f3a\"],[0.8888888888888888,\"#fdca26\"],[1.0,\"#f0f921\"]],\"type\":\"heatmapgl\"}],\"histogram\":[{\"marker\":{\"pattern\":{\"fillmode\":\"overlay\",\"size\":10,\"solidity\":0.2}},\"type\":\"histogram\"}],\"histogram2d\":[{\"colorbar\":{\"outlinewidth\":0,\"ticks\":\"\"},\"colorscale\":[[0.0,\"#0d0887\"],[0.1111111111111111,\"#46039f\"],[0.2222222222222222,\"#7201a8\"],[0.3333333333333333,\"#9c179e\"],[0.4444444444444444,\"#bd3786\"],[0.5555555555555556,\"#d8576b\"],[0.6666666666666666,\"#ed7953\"],[0.7777777777777778,\"#fb9f3a\"],[0.8888888888888888,\"#fdca26\"],[1.0,\"#f0f921\"]],\"type\":\"histogram2d\"}],\"histogram2dcontour\":[{\"colorbar\":{\"outlinewidth\":0,\"ticks\":\"\"},\"colorscale\":[[0.0,\"#0d0887\"],[0.1111111111111111,\"#46039f\"],[0.2222222222222222,\"#7201a8\"],[0.3333333333333333,\"#9c179e\"],[0.4444444444444444,\"#bd3786\"],[0.5555555555555556,\"#d8576b\"],[0.6666666666666666,\"#ed7953\"],[0.7777777777777778,\"#fb9f3a\"],[0.8888888888888888,\"#fdca26\"],[1.0,\"#f0f921\"]],\"type\":\"histogram2dcontour\"}],\"mesh3d\":[{\"colorbar\":{\"outlinewidth\":0,\"ticks\":\"\"},\"type\":\"mesh3d\"}],\"parcoords\":[{\"line\":{\"colorbar\":{\"outlinewidth\":0,\"ticks\":\"\"}},\"type\":\"parcoords\"}],\"pie\":[{\"automargin\":true,\"type\":\"pie\"}],\"scatter\":[{\"marker\":{\"colorbar\":{\"outlinewidth\":0,\"ticks\":\"\"}},\"type\":\"scatter\"}],\"scatter3d\":[{\"line\":{\"colorbar\":{\"outlinewidth\":0,\"ticks\":\"\"}},\"marker\":{\"colorbar\":{\"outlinewidth\":0,\"ticks\":\"\"}},\"type\":\"scatter3d\"}],\"scattercarpet\":[{\"marker\":{\"colorbar\":{\"outlinewidth\":0,\"ticks\":\"\"}},\"type\":\"scattercarpet\"}],\"scattergeo\":[{\"marker\":{\"colorbar\":{\"outlinewidth\":0,\"ticks\":\"\"}},\"type\":\"scattergeo\"}],\"scattergl\":[{\"marker\":{\"colorbar\":{\"outlinewidth\":0,\"ticks\":\"\"}},\"type\":\"scattergl\"}],\"scattermapbox\":[{\"marker\":{\"colorbar\":{\"outlinewidth\":0,\"ticks\":\"\"}},\"type\":\"scattermapbox\"}],\"scatterpolar\":[{\"marker\":{\"colorbar\":{\"outlinewidth\":0,\"ticks\":\"\"}},\"type\":\"scatterpolar\"}],\"scatterpolargl\":[{\"marker\":{\"colorbar\":{\"outlinewidth\":0,\"ticks\":\"\"}},\"type\":\"scatterpolargl\"}],\"scatterternary\":[{\"marker\":{\"colorbar\":{\"outlinewidth\":0,\"ticks\":\"\"}},\"type\":\"scatterternary\"}],\"surface\":[{\"colorbar\":{\"outlinewidth\":0,\"ticks\":\"\"},\"colorscale\":[[0.0,\"#0d0887\"],[0.1111111111111111,\"#46039f\"],[0.2222222222222222,\"#7201a8\"],[0.3333333333333333,\"#9c179e\"],[0.4444444444444444,\"#bd3786\"],[0.5555555555555556,\"#d8576b\"],[0.6666666666666666,\"#ed7953\"],[0.7777777777777778,\"#fb9f3a\"],[0.8888888888888888,\"#fdca26\"],[1.0,\"#f0f921\"]],\"type\":\"surface\"}],\"table\":[{\"cells\":{\"fill\":{\"color\":\"#EBF0F8\"},\"line\":{\"color\":\"white\"}},\"header\":{\"fill\":{\"color\":\"#C8D4E3\"},\"line\":{\"color\":\"white\"}},\"type\":\"table\"}]},\"layout\":{\"annotationdefaults\":{\"arrowcolor\":\"#2a3f5f\",\"arrowhead\":0,\"arrowwidth\":1},\"autotypenumbers\":\"strict\",\"coloraxis\":{\"colorbar\":{\"outlinewidth\":0,\"ticks\":\"\"}},\"colorscale\":{\"diverging\":[[0,\"#8e0152\"],[0.1,\"#c51b7d\"],[0.2,\"#de77ae\"],[0.3,\"#f1b6da\"],[0.4,\"#fde0ef\"],[0.5,\"#f7f7f7\"],[0.6,\"#e6f5d0\"],[0.7,\"#b8e186\"],[0.8,\"#7fbc41\"],[0.9,\"#4d9221\"],[1,\"#276419\"]],\"sequential\":[[0.0,\"#0d0887\"],[0.1111111111111111,\"#46039f\"],[0.2222222222222222,\"#7201a8\"],[0.3333333333333333,\"#9c179e\"],[0.4444444444444444,\"#bd3786\"],[0.5555555555555556,\"#d8576b\"],[0.6666666666666666,\"#ed7953\"],[0.7777777777777778,\"#fb9f3a\"],[0.8888888888888888,\"#fdca26\"],[1.0,\"#f0f921\"]],\"sequentialminus\":[[0.0,\"#0d0887\"],[0.1111111111111111,\"#46039f\"],[0.2222222222222222,\"#7201a8\"],[0.3333333333333333,\"#9c179e\"],[0.4444444444444444,\"#bd3786\"],[0.5555555555555556,\"#d8576b\"],[0.6666666666666666,\"#ed7953\"],[0.7777777777777778,\"#fb9f3a\"],[0.8888888888888888,\"#fdca26\"],[1.0,\"#f0f921\"]]},\"colorway\":[\"#636efa\",\"#EF553B\",\"#00cc96\",\"#ab63fa\",\"#FFA15A\",\"#19d3f3\",\"#FF6692\",\"#B6E880\",\"#FF97FF\",\"#FECB52\"],\"font\":{\"color\":\"#2a3f5f\"},\"geo\":{\"bgcolor\":\"white\",\"lakecolor\":\"white\",\"landcolor\":\"#E5ECF6\",\"showlakes\":true,\"showland\":true,\"subunitcolor\":\"white\"},\"hoverlabel\":{\"align\":\"left\"},\"hovermode\":\"closest\",\"mapbox\":{\"style\":\"light\"},\"paper_bgcolor\":\"white\",\"plot_bgcolor\":\"#E5ECF6\",\"polar\":{\"angularaxis\":{\"gridcolor\":\"white\",\"linecolor\":\"white\",\"ticks\":\"\"},\"bgcolor\":\"#E5ECF6\",\"radialaxis\":{\"gridcolor\":\"white\",\"linecolor\":\"white\",\"ticks\":\"\"}},\"scene\":{\"xaxis\":{\"backgroundcolor\":\"#E5ECF6\",\"gridcolor\":\"white\",\"gridwidth\":2,\"linecolor\":\"white\",\"showbackground\":true,\"ticks\":\"\",\"zerolinecolor\":\"white\"},\"yaxis\":{\"backgroundcolor\":\"#E5ECF6\",\"gridcolor\":\"white\",\"gridwidth\":2,\"linecolor\":\"white\",\"showbackground\":true,\"ticks\":\"\",\"zerolinecolor\":\"white\"},\"zaxis\":{\"backgroundcolor\":\"#E5ECF6\",\"gridcolor\":\"white\",\"gridwidth\":2,\"linecolor\":\"white\",\"showbackground\":true,\"ticks\":\"\",\"zerolinecolor\":\"white\"}},\"shapedefaults\":{\"line\":{\"color\":\"#2a3f5f\"}},\"ternary\":{\"aaxis\":{\"gridcolor\":\"white\",\"linecolor\":\"white\",\"ticks\":\"\"},\"baxis\":{\"gridcolor\":\"white\",\"linecolor\":\"white\",\"ticks\":\"\"},\"bgcolor\":\"#E5ECF6\",\"caxis\":{\"gridcolor\":\"white\",\"linecolor\":\"white\",\"ticks\":\"\"}},\"title\":{\"x\":0.05},\"xaxis\":{\"automargin\":true,\"gridcolor\":\"white\",\"linecolor\":\"white\",\"ticks\":\"\",\"title\":{\"standoff\":15},\"zerolinecolor\":\"white\",\"zerolinewidth\":2},\"yaxis\":{\"automargin\":true,\"gridcolor\":\"white\",\"linecolor\":\"white\",\"ticks\":\"\",\"title\":{\"standoff\":15},\"zerolinecolor\":\"white\",\"zerolinewidth\":2}}},\"yaxis\":{\"title\":{\"text\":\"Scores\"},\"range\":[0,1]},\"title\":{\"text\":\"Evaluation Metrics for Viscosity using XGBoost\"},\"xaxis\":{\"title\":{\"text\":\"Metrics\"}},\"bargap\":0.2},                        {\"responsive\": true}                    ).then(function(){\n",
              "                            \n",
              "var gd = document.getElementById('9ba2498e-1d95-462c-a1f3-cfa0398a8abb');\n",
              "var x = new MutationObserver(function (mutations, observer) {{\n",
              "        var display = window.getComputedStyle(gd).display;\n",
              "        if (!display || display === 'none') {{\n",
              "            console.log([gd, 'removed!']);\n",
              "            Plotly.purge(gd);\n",
              "            observer.disconnect();\n",
              "        }}\n",
              "}});\n",
              "\n",
              "// Listen for the removal of the full notebook cells\n",
              "var notebookContainer = gd.closest('#notebook-container');\n",
              "if (notebookContainer) {{\n",
              "    x.observe(notebookContainer, {childList: true});\n",
              "}}\n",
              "\n",
              "// Listen for the clearing of the current output cell\n",
              "var outputEl = gd.closest('.output');\n",
              "if (outputEl) {{\n",
              "    x.observe(outputEl, {childList: true});\n",
              "}}\n",
              "\n",
              "                        })                };                });            </script>        </div>"
            ]
          },
          "metadata": {},
          "output_type": "display_data"
        }
      ],
      "source": [
        "import plotly.graph_objects as go\n",
        "import pandas as pd\n",
        "from sklearn.metrics import accuracy_score, precision_score, recall_score, f1_score\n",
        "\n",
        "# Calculate the metrics\n",
        "accuracy1 = accuracy_score(y_test_viscosity, viscosity_predictions)\n",
        "print(f\"RF Accuracy: {accuracy1:.4f}\")\n",
        "precision1 = precision_score(y_test_viscosity, viscosity_predictions, average='macro')\n",
        "print(f\"RF Precision: {precision1:.4f}\")\n",
        "recall1 = recall_score(y_test_viscosity, viscosity_predictions, average='macro')\n",
        "print(f\"RF Recall: {recall1:.4f}\")\n",
        "f11 = f1_score(y_test_viscosity, viscosity_predictions, average='macro')\n",
        "print(f\"RF F1 Score: {f11:.4f}\")\n",
        "\n",
        "# Create a DataFrame to hold the metrics\n",
        "metrics = {\n",
        "    'Metric': ['Accuracy', 'Precision', 'Recall', 'F1-Score'],\n",
        "    'Score': [accuracy1, precision1, recall1, f11]\n",
        "}\n",
        "metrics_df1 = pd.DataFrame(metrics)\n",
        "\n",
        "# Create a bar graph using Plotly\n",
        "fig = go.Figure()\n",
        "fig.add_trace(go.Bar(\n",
        "    x=metrics_df1['Metric'],\n",
        "    y=metrics_df1['Score'],\n",
        "    text=metrics_df1['Score'].round(4),\n",
        "    textposition='auto',\n",
        "    marker=dict(color='royalblue'),\n",
        "))\n",
        "\n",
        "# Customize layout\n",
        "fig.update_layout(\n",
        "    title='Evaluation Metrics for Viscosity using XGBoost',\n",
        "    xaxis_title='Metrics',\n",
        "    yaxis_title='Scores',\n",
        "    yaxis_range=[0, 1],  # Set y-axis limits from 0 to 1\n",
        "    bargap=0.2)\n",
        "fig.show()\n"
      ]
    },
    {
      "cell_type": "code",
      "execution_count": null,
      "metadata": {
        "id": "0y4pKsO1Xj_X",
        "outputId": "ceb95e05-64d0-4751-cd8f-1b3b09663e56"
      },
      "outputs": [
        {
          "name": "stdout",
          "output_type": "stream",
          "text": [
            "RF Accuracy: 1.0000\n",
            "RF Precision: 1.0000\n",
            "RF Recall: 1.0000\n",
            "RF F1 Score: 1.0000\n"
          ]
        },
        {
          "data": {
            "application/vnd.plotly.v1+json": {
              "config": {
                "plotlyServerURL": "https://plot.ly"
              },
              "data": [
                {
                  "marker": {
                    "color": "pink"
                  },
                  "text": [
                    1,
                    1,
                    1,
                    1
                  ],
                  "textposition": "auto",
                  "type": "bar",
                  "x": [
                    "Accuracy",
                    "Precision",
                    "Recall",
                    "F1-Score"
                  ],
                  "y": [
                    1,
                    1,
                    1,
                    1
                  ]
                }
              ],
              "layout": {
                "bargap": 0.2,
                "template": {
                  "data": {
                    "bar": [
                      {
                        "error_x": {
                          "color": "#2a3f5f"
                        },
                        "error_y": {
                          "color": "#2a3f5f"
                        },
                        "marker": {
                          "line": {
                            "color": "#E5ECF6",
                            "width": 0.5
                          },
                          "pattern": {
                            "fillmode": "overlay",
                            "size": 10,
                            "solidity": 0.2
                          }
                        },
                        "type": "bar"
                      }
                    ],
                    "barpolar": [
                      {
                        "marker": {
                          "line": {
                            "color": "#E5ECF6",
                            "width": 0.5
                          },
                          "pattern": {
                            "fillmode": "overlay",
                            "size": 10,
                            "solidity": 0.2
                          }
                        },
                        "type": "barpolar"
                      }
                    ],
                    "carpet": [
                      {
                        "aaxis": {
                          "endlinecolor": "#2a3f5f",
                          "gridcolor": "white",
                          "linecolor": "white",
                          "minorgridcolor": "white",
                          "startlinecolor": "#2a3f5f"
                        },
                        "baxis": {
                          "endlinecolor": "#2a3f5f",
                          "gridcolor": "white",
                          "linecolor": "white",
                          "minorgridcolor": "white",
                          "startlinecolor": "#2a3f5f"
                        },
                        "type": "carpet"
                      }
                    ],
                    "choropleth": [
                      {
                        "colorbar": {
                          "outlinewidth": 0,
                          "ticks": ""
                        },
                        "type": "choropleth"
                      }
                    ],
                    "contour": [
                      {
                        "colorbar": {
                          "outlinewidth": 0,
                          "ticks": ""
                        },
                        "colorscale": [
                          [
                            0,
                            "#0d0887"
                          ],
                          [
                            0.1111111111111111,
                            "#46039f"
                          ],
                          [
                            0.2222222222222222,
                            "#7201a8"
                          ],
                          [
                            0.3333333333333333,
                            "#9c179e"
                          ],
                          [
                            0.4444444444444444,
                            "#bd3786"
                          ],
                          [
                            0.5555555555555556,
                            "#d8576b"
                          ],
                          [
                            0.6666666666666666,
                            "#ed7953"
                          ],
                          [
                            0.7777777777777778,
                            "#fb9f3a"
                          ],
                          [
                            0.8888888888888888,
                            "#fdca26"
                          ],
                          [
                            1,
                            "#f0f921"
                          ]
                        ],
                        "type": "contour"
                      }
                    ],
                    "contourcarpet": [
                      {
                        "colorbar": {
                          "outlinewidth": 0,
                          "ticks": ""
                        },
                        "type": "contourcarpet"
                      }
                    ],
                    "heatmap": [
                      {
                        "colorbar": {
                          "outlinewidth": 0,
                          "ticks": ""
                        },
                        "colorscale": [
                          [
                            0,
                            "#0d0887"
                          ],
                          [
                            0.1111111111111111,
                            "#46039f"
                          ],
                          [
                            0.2222222222222222,
                            "#7201a8"
                          ],
                          [
                            0.3333333333333333,
                            "#9c179e"
                          ],
                          [
                            0.4444444444444444,
                            "#bd3786"
                          ],
                          [
                            0.5555555555555556,
                            "#d8576b"
                          ],
                          [
                            0.6666666666666666,
                            "#ed7953"
                          ],
                          [
                            0.7777777777777778,
                            "#fb9f3a"
                          ],
                          [
                            0.8888888888888888,
                            "#fdca26"
                          ],
                          [
                            1,
                            "#f0f921"
                          ]
                        ],
                        "type": "heatmap"
                      }
                    ],
                    "heatmapgl": [
                      {
                        "colorbar": {
                          "outlinewidth": 0,
                          "ticks": ""
                        },
                        "colorscale": [
                          [
                            0,
                            "#0d0887"
                          ],
                          [
                            0.1111111111111111,
                            "#46039f"
                          ],
                          [
                            0.2222222222222222,
                            "#7201a8"
                          ],
                          [
                            0.3333333333333333,
                            "#9c179e"
                          ],
                          [
                            0.4444444444444444,
                            "#bd3786"
                          ],
                          [
                            0.5555555555555556,
                            "#d8576b"
                          ],
                          [
                            0.6666666666666666,
                            "#ed7953"
                          ],
                          [
                            0.7777777777777778,
                            "#fb9f3a"
                          ],
                          [
                            0.8888888888888888,
                            "#fdca26"
                          ],
                          [
                            1,
                            "#f0f921"
                          ]
                        ],
                        "type": "heatmapgl"
                      }
                    ],
                    "histogram": [
                      {
                        "marker": {
                          "pattern": {
                            "fillmode": "overlay",
                            "size": 10,
                            "solidity": 0.2
                          }
                        },
                        "type": "histogram"
                      }
                    ],
                    "histogram2d": [
                      {
                        "colorbar": {
                          "outlinewidth": 0,
                          "ticks": ""
                        },
                        "colorscale": [
                          [
                            0,
                            "#0d0887"
                          ],
                          [
                            0.1111111111111111,
                            "#46039f"
                          ],
                          [
                            0.2222222222222222,
                            "#7201a8"
                          ],
                          [
                            0.3333333333333333,
                            "#9c179e"
                          ],
                          [
                            0.4444444444444444,
                            "#bd3786"
                          ],
                          [
                            0.5555555555555556,
                            "#d8576b"
                          ],
                          [
                            0.6666666666666666,
                            "#ed7953"
                          ],
                          [
                            0.7777777777777778,
                            "#fb9f3a"
                          ],
                          [
                            0.8888888888888888,
                            "#fdca26"
                          ],
                          [
                            1,
                            "#f0f921"
                          ]
                        ],
                        "type": "histogram2d"
                      }
                    ],
                    "histogram2dcontour": [
                      {
                        "colorbar": {
                          "outlinewidth": 0,
                          "ticks": ""
                        },
                        "colorscale": [
                          [
                            0,
                            "#0d0887"
                          ],
                          [
                            0.1111111111111111,
                            "#46039f"
                          ],
                          [
                            0.2222222222222222,
                            "#7201a8"
                          ],
                          [
                            0.3333333333333333,
                            "#9c179e"
                          ],
                          [
                            0.4444444444444444,
                            "#bd3786"
                          ],
                          [
                            0.5555555555555556,
                            "#d8576b"
                          ],
                          [
                            0.6666666666666666,
                            "#ed7953"
                          ],
                          [
                            0.7777777777777778,
                            "#fb9f3a"
                          ],
                          [
                            0.8888888888888888,
                            "#fdca26"
                          ],
                          [
                            1,
                            "#f0f921"
                          ]
                        ],
                        "type": "histogram2dcontour"
                      }
                    ],
                    "mesh3d": [
                      {
                        "colorbar": {
                          "outlinewidth": 0,
                          "ticks": ""
                        },
                        "type": "mesh3d"
                      }
                    ],
                    "parcoords": [
                      {
                        "line": {
                          "colorbar": {
                            "outlinewidth": 0,
                            "ticks": ""
                          }
                        },
                        "type": "parcoords"
                      }
                    ],
                    "pie": [
                      {
                        "automargin": true,
                        "type": "pie"
                      }
                    ],
                    "scatter": [
                      {
                        "marker": {
                          "colorbar": {
                            "outlinewidth": 0,
                            "ticks": ""
                          }
                        },
                        "type": "scatter"
                      }
                    ],
                    "scatter3d": [
                      {
                        "line": {
                          "colorbar": {
                            "outlinewidth": 0,
                            "ticks": ""
                          }
                        },
                        "marker": {
                          "colorbar": {
                            "outlinewidth": 0,
                            "ticks": ""
                          }
                        },
                        "type": "scatter3d"
                      }
                    ],
                    "scattercarpet": [
                      {
                        "marker": {
                          "colorbar": {
                            "outlinewidth": 0,
                            "ticks": ""
                          }
                        },
                        "type": "scattercarpet"
                      }
                    ],
                    "scattergeo": [
                      {
                        "marker": {
                          "colorbar": {
                            "outlinewidth": 0,
                            "ticks": ""
                          }
                        },
                        "type": "scattergeo"
                      }
                    ],
                    "scattergl": [
                      {
                        "marker": {
                          "colorbar": {
                            "outlinewidth": 0,
                            "ticks": ""
                          }
                        },
                        "type": "scattergl"
                      }
                    ],
                    "scattermapbox": [
                      {
                        "marker": {
                          "colorbar": {
                            "outlinewidth": 0,
                            "ticks": ""
                          }
                        },
                        "type": "scattermapbox"
                      }
                    ],
                    "scatterpolar": [
                      {
                        "marker": {
                          "colorbar": {
                            "outlinewidth": 0,
                            "ticks": ""
                          }
                        },
                        "type": "scatterpolar"
                      }
                    ],
                    "scatterpolargl": [
                      {
                        "marker": {
                          "colorbar": {
                            "outlinewidth": 0,
                            "ticks": ""
                          }
                        },
                        "type": "scatterpolargl"
                      }
                    ],
                    "scatterternary": [
                      {
                        "marker": {
                          "colorbar": {
                            "outlinewidth": 0,
                            "ticks": ""
                          }
                        },
                        "type": "scatterternary"
                      }
                    ],
                    "surface": [
                      {
                        "colorbar": {
                          "outlinewidth": 0,
                          "ticks": ""
                        },
                        "colorscale": [
                          [
                            0,
                            "#0d0887"
                          ],
                          [
                            0.1111111111111111,
                            "#46039f"
                          ],
                          [
                            0.2222222222222222,
                            "#7201a8"
                          ],
                          [
                            0.3333333333333333,
                            "#9c179e"
                          ],
                          [
                            0.4444444444444444,
                            "#bd3786"
                          ],
                          [
                            0.5555555555555556,
                            "#d8576b"
                          ],
                          [
                            0.6666666666666666,
                            "#ed7953"
                          ],
                          [
                            0.7777777777777778,
                            "#fb9f3a"
                          ],
                          [
                            0.8888888888888888,
                            "#fdca26"
                          ],
                          [
                            1,
                            "#f0f921"
                          ]
                        ],
                        "type": "surface"
                      }
                    ],
                    "table": [
                      {
                        "cells": {
                          "fill": {
                            "color": "#EBF0F8"
                          },
                          "line": {
                            "color": "white"
                          }
                        },
                        "header": {
                          "fill": {
                            "color": "#C8D4E3"
                          },
                          "line": {
                            "color": "white"
                          }
                        },
                        "type": "table"
                      }
                    ]
                  },
                  "layout": {
                    "annotationdefaults": {
                      "arrowcolor": "#2a3f5f",
                      "arrowhead": 0,
                      "arrowwidth": 1
                    },
                    "autotypenumbers": "strict",
                    "coloraxis": {
                      "colorbar": {
                        "outlinewidth": 0,
                        "ticks": ""
                      }
                    },
                    "colorscale": {
                      "diverging": [
                        [
                          0,
                          "#8e0152"
                        ],
                        [
                          0.1,
                          "#c51b7d"
                        ],
                        [
                          0.2,
                          "#de77ae"
                        ],
                        [
                          0.3,
                          "#f1b6da"
                        ],
                        [
                          0.4,
                          "#fde0ef"
                        ],
                        [
                          0.5,
                          "#f7f7f7"
                        ],
                        [
                          0.6,
                          "#e6f5d0"
                        ],
                        [
                          0.7,
                          "#b8e186"
                        ],
                        [
                          0.8,
                          "#7fbc41"
                        ],
                        [
                          0.9,
                          "#4d9221"
                        ],
                        [
                          1,
                          "#276419"
                        ]
                      ],
                      "sequential": [
                        [
                          0,
                          "#0d0887"
                        ],
                        [
                          0.1111111111111111,
                          "#46039f"
                        ],
                        [
                          0.2222222222222222,
                          "#7201a8"
                        ],
                        [
                          0.3333333333333333,
                          "#9c179e"
                        ],
                        [
                          0.4444444444444444,
                          "#bd3786"
                        ],
                        [
                          0.5555555555555556,
                          "#d8576b"
                        ],
                        [
                          0.6666666666666666,
                          "#ed7953"
                        ],
                        [
                          0.7777777777777778,
                          "#fb9f3a"
                        ],
                        [
                          0.8888888888888888,
                          "#fdca26"
                        ],
                        [
                          1,
                          "#f0f921"
                        ]
                      ],
                      "sequentialminus": [
                        [
                          0,
                          "#0d0887"
                        ],
                        [
                          0.1111111111111111,
                          "#46039f"
                        ],
                        [
                          0.2222222222222222,
                          "#7201a8"
                        ],
                        [
                          0.3333333333333333,
                          "#9c179e"
                        ],
                        [
                          0.4444444444444444,
                          "#bd3786"
                        ],
                        [
                          0.5555555555555556,
                          "#d8576b"
                        ],
                        [
                          0.6666666666666666,
                          "#ed7953"
                        ],
                        [
                          0.7777777777777778,
                          "#fb9f3a"
                        ],
                        [
                          0.8888888888888888,
                          "#fdca26"
                        ],
                        [
                          1,
                          "#f0f921"
                        ]
                      ]
                    },
                    "colorway": [
                      "#636efa",
                      "#EF553B",
                      "#00cc96",
                      "#ab63fa",
                      "#FFA15A",
                      "#19d3f3",
                      "#FF6692",
                      "#B6E880",
                      "#FF97FF",
                      "#FECB52"
                    ],
                    "font": {
                      "color": "#2a3f5f"
                    },
                    "geo": {
                      "bgcolor": "white",
                      "lakecolor": "white",
                      "landcolor": "#E5ECF6",
                      "showlakes": true,
                      "showland": true,
                      "subunitcolor": "white"
                    },
                    "hoverlabel": {
                      "align": "left"
                    },
                    "hovermode": "closest",
                    "mapbox": {
                      "style": "light"
                    },
                    "paper_bgcolor": "white",
                    "plot_bgcolor": "#E5ECF6",
                    "polar": {
                      "angularaxis": {
                        "gridcolor": "white",
                        "linecolor": "white",
                        "ticks": ""
                      },
                      "bgcolor": "#E5ECF6",
                      "radialaxis": {
                        "gridcolor": "white",
                        "linecolor": "white",
                        "ticks": ""
                      }
                    },
                    "scene": {
                      "xaxis": {
                        "backgroundcolor": "#E5ECF6",
                        "gridcolor": "white",
                        "gridwidth": 2,
                        "linecolor": "white",
                        "showbackground": true,
                        "ticks": "",
                        "zerolinecolor": "white"
                      },
                      "yaxis": {
                        "backgroundcolor": "#E5ECF6",
                        "gridcolor": "white",
                        "gridwidth": 2,
                        "linecolor": "white",
                        "showbackground": true,
                        "ticks": "",
                        "zerolinecolor": "white"
                      },
                      "zaxis": {
                        "backgroundcolor": "#E5ECF6",
                        "gridcolor": "white",
                        "gridwidth": 2,
                        "linecolor": "white",
                        "showbackground": true,
                        "ticks": "",
                        "zerolinecolor": "white"
                      }
                    },
                    "shapedefaults": {
                      "line": {
                        "color": "#2a3f5f"
                      }
                    },
                    "ternary": {
                      "aaxis": {
                        "gridcolor": "white",
                        "linecolor": "white",
                        "ticks": ""
                      },
                      "baxis": {
                        "gridcolor": "white",
                        "linecolor": "white",
                        "ticks": ""
                      },
                      "bgcolor": "#E5ECF6",
                      "caxis": {
                        "gridcolor": "white",
                        "linecolor": "white",
                        "ticks": ""
                      }
                    },
                    "title": {
                      "x": 0.05
                    },
                    "xaxis": {
                      "automargin": true,
                      "gridcolor": "white",
                      "linecolor": "white",
                      "ticks": "",
                      "title": {
                        "standoff": 15
                      },
                      "zerolinecolor": "white",
                      "zerolinewidth": 2
                    },
                    "yaxis": {
                      "automargin": true,
                      "gridcolor": "white",
                      "linecolor": "white",
                      "ticks": "",
                      "title": {
                        "standoff": 15
                      },
                      "zerolinecolor": "white",
                      "zerolinewidth": 2
                    }
                  }
                },
                "title": {
                  "text": "Evaluation Metrics for Sweetness using XGBoost"
                },
                "xaxis": {
                  "title": {
                    "text": "Metrics"
                  }
                },
                "yaxis": {
                  "range": [
                    0,
                    1
                  ],
                  "title": {
                    "text": "Scores"
                  }
                }
              }
            },
            "text/html": [
              "<div>                            <div id=\"9590858d-e42b-48bc-9c82-abe9b3a73acc\" class=\"plotly-graph-div\" style=\"height:525px; width:100%;\"></div>            <script type=\"text/javascript\">                require([\"plotly\"], function(Plotly) {                    window.PLOTLYENV=window.PLOTLYENV || {};                                    if (document.getElementById(\"9590858d-e42b-48bc-9c82-abe9b3a73acc\")) {                    Plotly.newPlot(                        \"9590858d-e42b-48bc-9c82-abe9b3a73acc\",                        [{\"marker\":{\"color\":\"pink\"},\"text\":[1.0,1.0,1.0,1.0],\"textposition\":\"auto\",\"x\":[\"Accuracy\",\"Precision\",\"Recall\",\"F1-Score\"],\"y\":[1.0,1.0,1.0,1.0],\"type\":\"bar\"}],                        {\"template\":{\"data\":{\"bar\":[{\"error_x\":{\"color\":\"#2a3f5f\"},\"error_y\":{\"color\":\"#2a3f5f\"},\"marker\":{\"line\":{\"color\":\"#E5ECF6\",\"width\":0.5},\"pattern\":{\"fillmode\":\"overlay\",\"size\":10,\"solidity\":0.2}},\"type\":\"bar\"}],\"barpolar\":[{\"marker\":{\"line\":{\"color\":\"#E5ECF6\",\"width\":0.5},\"pattern\":{\"fillmode\":\"overlay\",\"size\":10,\"solidity\":0.2}},\"type\":\"barpolar\"}],\"carpet\":[{\"aaxis\":{\"endlinecolor\":\"#2a3f5f\",\"gridcolor\":\"white\",\"linecolor\":\"white\",\"minorgridcolor\":\"white\",\"startlinecolor\":\"#2a3f5f\"},\"baxis\":{\"endlinecolor\":\"#2a3f5f\",\"gridcolor\":\"white\",\"linecolor\":\"white\",\"minorgridcolor\":\"white\",\"startlinecolor\":\"#2a3f5f\"},\"type\":\"carpet\"}],\"choropleth\":[{\"colorbar\":{\"outlinewidth\":0,\"ticks\":\"\"},\"type\":\"choropleth\"}],\"contour\":[{\"colorbar\":{\"outlinewidth\":0,\"ticks\":\"\"},\"colorscale\":[[0.0,\"#0d0887\"],[0.1111111111111111,\"#46039f\"],[0.2222222222222222,\"#7201a8\"],[0.3333333333333333,\"#9c179e\"],[0.4444444444444444,\"#bd3786\"],[0.5555555555555556,\"#d8576b\"],[0.6666666666666666,\"#ed7953\"],[0.7777777777777778,\"#fb9f3a\"],[0.8888888888888888,\"#fdca26\"],[1.0,\"#f0f921\"]],\"type\":\"contour\"}],\"contourcarpet\":[{\"colorbar\":{\"outlinewidth\":0,\"ticks\":\"\"},\"type\":\"contourcarpet\"}],\"heatmap\":[{\"colorbar\":{\"outlinewidth\":0,\"ticks\":\"\"},\"colorscale\":[[0.0,\"#0d0887\"],[0.1111111111111111,\"#46039f\"],[0.2222222222222222,\"#7201a8\"],[0.3333333333333333,\"#9c179e\"],[0.4444444444444444,\"#bd3786\"],[0.5555555555555556,\"#d8576b\"],[0.6666666666666666,\"#ed7953\"],[0.7777777777777778,\"#fb9f3a\"],[0.8888888888888888,\"#fdca26\"],[1.0,\"#f0f921\"]],\"type\":\"heatmap\"}],\"heatmapgl\":[{\"colorbar\":{\"outlinewidth\":0,\"ticks\":\"\"},\"colorscale\":[[0.0,\"#0d0887\"],[0.1111111111111111,\"#46039f\"],[0.2222222222222222,\"#7201a8\"],[0.3333333333333333,\"#9c179e\"],[0.4444444444444444,\"#bd3786\"],[0.5555555555555556,\"#d8576b\"],[0.6666666666666666,\"#ed7953\"],[0.7777777777777778,\"#fb9f3a\"],[0.8888888888888888,\"#fdca26\"],[1.0,\"#f0f921\"]],\"type\":\"heatmapgl\"}],\"histogram\":[{\"marker\":{\"pattern\":{\"fillmode\":\"overlay\",\"size\":10,\"solidity\":0.2}},\"type\":\"histogram\"}],\"histogram2d\":[{\"colorbar\":{\"outlinewidth\":0,\"ticks\":\"\"},\"colorscale\":[[0.0,\"#0d0887\"],[0.1111111111111111,\"#46039f\"],[0.2222222222222222,\"#7201a8\"],[0.3333333333333333,\"#9c179e\"],[0.4444444444444444,\"#bd3786\"],[0.5555555555555556,\"#d8576b\"],[0.6666666666666666,\"#ed7953\"],[0.7777777777777778,\"#fb9f3a\"],[0.8888888888888888,\"#fdca26\"],[1.0,\"#f0f921\"]],\"type\":\"histogram2d\"}],\"histogram2dcontour\":[{\"colorbar\":{\"outlinewidth\":0,\"ticks\":\"\"},\"colorscale\":[[0.0,\"#0d0887\"],[0.1111111111111111,\"#46039f\"],[0.2222222222222222,\"#7201a8\"],[0.3333333333333333,\"#9c179e\"],[0.4444444444444444,\"#bd3786\"],[0.5555555555555556,\"#d8576b\"],[0.6666666666666666,\"#ed7953\"],[0.7777777777777778,\"#fb9f3a\"],[0.8888888888888888,\"#fdca26\"],[1.0,\"#f0f921\"]],\"type\":\"histogram2dcontour\"}],\"mesh3d\":[{\"colorbar\":{\"outlinewidth\":0,\"ticks\":\"\"},\"type\":\"mesh3d\"}],\"parcoords\":[{\"line\":{\"colorbar\":{\"outlinewidth\":0,\"ticks\":\"\"}},\"type\":\"parcoords\"}],\"pie\":[{\"automargin\":true,\"type\":\"pie\"}],\"scatter\":[{\"marker\":{\"colorbar\":{\"outlinewidth\":0,\"ticks\":\"\"}},\"type\":\"scatter\"}],\"scatter3d\":[{\"line\":{\"colorbar\":{\"outlinewidth\":0,\"ticks\":\"\"}},\"marker\":{\"colorbar\":{\"outlinewidth\":0,\"ticks\":\"\"}},\"type\":\"scatter3d\"}],\"scattercarpet\":[{\"marker\":{\"colorbar\":{\"outlinewidth\":0,\"ticks\":\"\"}},\"type\":\"scattercarpet\"}],\"scattergeo\":[{\"marker\":{\"colorbar\":{\"outlinewidth\":0,\"ticks\":\"\"}},\"type\":\"scattergeo\"}],\"scattergl\":[{\"marker\":{\"colorbar\":{\"outlinewidth\":0,\"ticks\":\"\"}},\"type\":\"scattergl\"}],\"scattermapbox\":[{\"marker\":{\"colorbar\":{\"outlinewidth\":0,\"ticks\":\"\"}},\"type\":\"scattermapbox\"}],\"scatterpolar\":[{\"marker\":{\"colorbar\":{\"outlinewidth\":0,\"ticks\":\"\"}},\"type\":\"scatterpolar\"}],\"scatterpolargl\":[{\"marker\":{\"colorbar\":{\"outlinewidth\":0,\"ticks\":\"\"}},\"type\":\"scatterpolargl\"}],\"scatterternary\":[{\"marker\":{\"colorbar\":{\"outlinewidth\":0,\"ticks\":\"\"}},\"type\":\"scatterternary\"}],\"surface\":[{\"colorbar\":{\"outlinewidth\":0,\"ticks\":\"\"},\"colorscale\":[[0.0,\"#0d0887\"],[0.1111111111111111,\"#46039f\"],[0.2222222222222222,\"#7201a8\"],[0.3333333333333333,\"#9c179e\"],[0.4444444444444444,\"#bd3786\"],[0.5555555555555556,\"#d8576b\"],[0.6666666666666666,\"#ed7953\"],[0.7777777777777778,\"#fb9f3a\"],[0.8888888888888888,\"#fdca26\"],[1.0,\"#f0f921\"]],\"type\":\"surface\"}],\"table\":[{\"cells\":{\"fill\":{\"color\":\"#EBF0F8\"},\"line\":{\"color\":\"white\"}},\"header\":{\"fill\":{\"color\":\"#C8D4E3\"},\"line\":{\"color\":\"white\"}},\"type\":\"table\"}]},\"layout\":{\"annotationdefaults\":{\"arrowcolor\":\"#2a3f5f\",\"arrowhead\":0,\"arrowwidth\":1},\"autotypenumbers\":\"strict\",\"coloraxis\":{\"colorbar\":{\"outlinewidth\":0,\"ticks\":\"\"}},\"colorscale\":{\"diverging\":[[0,\"#8e0152\"],[0.1,\"#c51b7d\"],[0.2,\"#de77ae\"],[0.3,\"#f1b6da\"],[0.4,\"#fde0ef\"],[0.5,\"#f7f7f7\"],[0.6,\"#e6f5d0\"],[0.7,\"#b8e186\"],[0.8,\"#7fbc41\"],[0.9,\"#4d9221\"],[1,\"#276419\"]],\"sequential\":[[0.0,\"#0d0887\"],[0.1111111111111111,\"#46039f\"],[0.2222222222222222,\"#7201a8\"],[0.3333333333333333,\"#9c179e\"],[0.4444444444444444,\"#bd3786\"],[0.5555555555555556,\"#d8576b\"],[0.6666666666666666,\"#ed7953\"],[0.7777777777777778,\"#fb9f3a\"],[0.8888888888888888,\"#fdca26\"],[1.0,\"#f0f921\"]],\"sequentialminus\":[[0.0,\"#0d0887\"],[0.1111111111111111,\"#46039f\"],[0.2222222222222222,\"#7201a8\"],[0.3333333333333333,\"#9c179e\"],[0.4444444444444444,\"#bd3786\"],[0.5555555555555556,\"#d8576b\"],[0.6666666666666666,\"#ed7953\"],[0.7777777777777778,\"#fb9f3a\"],[0.8888888888888888,\"#fdca26\"],[1.0,\"#f0f921\"]]},\"colorway\":[\"#636efa\",\"#EF553B\",\"#00cc96\",\"#ab63fa\",\"#FFA15A\",\"#19d3f3\",\"#FF6692\",\"#B6E880\",\"#FF97FF\",\"#FECB52\"],\"font\":{\"color\":\"#2a3f5f\"},\"geo\":{\"bgcolor\":\"white\",\"lakecolor\":\"white\",\"landcolor\":\"#E5ECF6\",\"showlakes\":true,\"showland\":true,\"subunitcolor\":\"white\"},\"hoverlabel\":{\"align\":\"left\"},\"hovermode\":\"closest\",\"mapbox\":{\"style\":\"light\"},\"paper_bgcolor\":\"white\",\"plot_bgcolor\":\"#E5ECF6\",\"polar\":{\"angularaxis\":{\"gridcolor\":\"white\",\"linecolor\":\"white\",\"ticks\":\"\"},\"bgcolor\":\"#E5ECF6\",\"radialaxis\":{\"gridcolor\":\"white\",\"linecolor\":\"white\",\"ticks\":\"\"}},\"scene\":{\"xaxis\":{\"backgroundcolor\":\"#E5ECF6\",\"gridcolor\":\"white\",\"gridwidth\":2,\"linecolor\":\"white\",\"showbackground\":true,\"ticks\":\"\",\"zerolinecolor\":\"white\"},\"yaxis\":{\"backgroundcolor\":\"#E5ECF6\",\"gridcolor\":\"white\",\"gridwidth\":2,\"linecolor\":\"white\",\"showbackground\":true,\"ticks\":\"\",\"zerolinecolor\":\"white\"},\"zaxis\":{\"backgroundcolor\":\"#E5ECF6\",\"gridcolor\":\"white\",\"gridwidth\":2,\"linecolor\":\"white\",\"showbackground\":true,\"ticks\":\"\",\"zerolinecolor\":\"white\"}},\"shapedefaults\":{\"line\":{\"color\":\"#2a3f5f\"}},\"ternary\":{\"aaxis\":{\"gridcolor\":\"white\",\"linecolor\":\"white\",\"ticks\":\"\"},\"baxis\":{\"gridcolor\":\"white\",\"linecolor\":\"white\",\"ticks\":\"\"},\"bgcolor\":\"#E5ECF6\",\"caxis\":{\"gridcolor\":\"white\",\"linecolor\":\"white\",\"ticks\":\"\"}},\"title\":{\"x\":0.05},\"xaxis\":{\"automargin\":true,\"gridcolor\":\"white\",\"linecolor\":\"white\",\"ticks\":\"\",\"title\":{\"standoff\":15},\"zerolinecolor\":\"white\",\"zerolinewidth\":2},\"yaxis\":{\"automargin\":true,\"gridcolor\":\"white\",\"linecolor\":\"white\",\"ticks\":\"\",\"title\":{\"standoff\":15},\"zerolinecolor\":\"white\",\"zerolinewidth\":2}}},\"yaxis\":{\"title\":{\"text\":\"Scores\"},\"range\":[0,1]},\"title\":{\"text\":\"Evaluation Metrics for Sweetness using XGBoost\"},\"xaxis\":{\"title\":{\"text\":\"Metrics\"}},\"bargap\":0.2},                        {\"responsive\": true}                    ).then(function(){\n",
              "                            \n",
              "var gd = document.getElementById('9590858d-e42b-48bc-9c82-abe9b3a73acc');\n",
              "var x = new MutationObserver(function (mutations, observer) {{\n",
              "        var display = window.getComputedStyle(gd).display;\n",
              "        if (!display || display === 'none') {{\n",
              "            console.log([gd, 'removed!']);\n",
              "            Plotly.purge(gd);\n",
              "            observer.disconnect();\n",
              "        }}\n",
              "}});\n",
              "\n",
              "// Listen for the removal of the full notebook cells\n",
              "var notebookContainer = gd.closest('#notebook-container');\n",
              "if (notebookContainer) {{\n",
              "    x.observe(notebookContainer, {childList: true});\n",
              "}}\n",
              "\n",
              "// Listen for the clearing of the current output cell\n",
              "var outputEl = gd.closest('.output');\n",
              "if (outputEl) {{\n",
              "    x.observe(outputEl, {childList: true});\n",
              "}}\n",
              "\n",
              "                        })                };                });            </script>        </div>"
            ]
          },
          "metadata": {},
          "output_type": "display_data"
        }
      ],
      "source": [
        "import plotly.graph_objects as go\n",
        "import pandas as pd\n",
        "from sklearn.metrics import accuracy_score, precision_score, recall_score, f1_score\n",
        "\n",
        "# Calculate the metrics\n",
        "accuracy1 = accuracy_score(y_test_sweetness, sweetness_predictions)\n",
        "print(f\"RF Accuracy: {accuracy1:.4f}\")\n",
        "precision1 = precision_score(y_test_sweetness, sweetness_predictions, average='macro')\n",
        "print(f\"RF Precision: {precision1:.4f}\")\n",
        "recall1 = recall_score(y_test_sweetness, sweetness_predictions, average='macro')\n",
        "print(f\"RF Recall: {recall1:.4f}\")\n",
        "f11 = f1_score(y_test_sweetness, sweetness_predictions, average='macro')\n",
        "print(f\"RF F1 Score: {f11:.4f}\")\n",
        "\n",
        "# Create a DataFrame to hold the metrics\n",
        "metrics = {\n",
        "    'Metric': ['Accuracy', 'Precision', 'Recall', 'F1-Score'],\n",
        "    'Score': [accuracy1, precision1, recall1, f11]\n",
        "}\n",
        "metrics_df1 = pd.DataFrame(metrics)\n",
        "\n",
        "# Create a bar graph using Plotly\n",
        "fig = go.Figure()\n",
        "fig.add_trace(go.Bar(\n",
        "    x=metrics_df1['Metric'],\n",
        "    y=metrics_df1['Score'],\n",
        "    text=metrics_df1['Score'].round(4),\n",
        "    textposition='auto',\n",
        "    marker=dict(color='pink'),\n",
        "))\n",
        "\n",
        "# Customize layout\n",
        "fig.update_layout(\n",
        "    title='Evaluation Metrics for Sweetness using XGBoost',\n",
        "    xaxis_title='Metrics',\n",
        "    yaxis_title='Scores',\n",
        "    yaxis_range=[0, 1],  # Set y-axis limits from 0 to 1\n",
        "    bargap=0.2)\n",
        "fig.show()\n"
      ]
    },
    {
      "cell_type": "code",
      "execution_count": null,
      "metadata": {
        "id": "vpbCJQA7Xj_X",
        "outputId": "b277732f-f173-4175-c256-48595ffdd26b"
      },
      "outputs": [
        {
          "name": "stdout",
          "output_type": "stream",
          "text": [
            "RF Accuracy: 0.7313\n",
            "RF Precision: 0.5621\n",
            "RF Recall: 0.5586\n",
            "RF F1 Score: 0.5601\n"
          ]
        },
        {
          "name": "stderr",
          "output_type": "stream",
          "text": [
            "C:\\Users\\smruti dighe\\Documents\\Anaconda\\lib\\site-packages\\sklearn\\metrics\\_classification.py:1318: UndefinedMetricWarning:\n",
            "\n",
            "Precision is ill-defined and being set to 0.0 in labels with no predicted samples. Use `zero_division` parameter to control this behavior.\n",
            "\n",
            "C:\\Users\\smruti dighe\\Documents\\Anaconda\\lib\\site-packages\\sklearn\\metrics\\_classification.py:1318: UndefinedMetricWarning:\n",
            "\n",
            "Recall is ill-defined and being set to 0.0 in labels with no true samples. Use `zero_division` parameter to control this behavior.\n",
            "\n"
          ]
        },
        {
          "data": {
            "application/vnd.plotly.v1+json": {
              "config": {
                "plotlyServerURL": "https://plot.ly"
              },
              "data": [
                {
                  "marker": {
                    "color": "yellow"
                  },
                  "text": [
                    0.7313,
                    0.5621,
                    0.5586,
                    0.5601
                  ],
                  "textposition": "auto",
                  "type": "bar",
                  "x": [
                    "Accuracy",
                    "Precision",
                    "Recall",
                    "F1-Score"
                  ],
                  "y": [
                    0.7312703583061889,
                    0.5621164339707386,
                    0.5586192987422136,
                    0.5600717088294728
                  ]
                }
              ],
              "layout": {
                "bargap": 0.2,
                "template": {
                  "data": {
                    "bar": [
                      {
                        "error_x": {
                          "color": "#2a3f5f"
                        },
                        "error_y": {
                          "color": "#2a3f5f"
                        },
                        "marker": {
                          "line": {
                            "color": "#E5ECF6",
                            "width": 0.5
                          },
                          "pattern": {
                            "fillmode": "overlay",
                            "size": 10,
                            "solidity": 0.2
                          }
                        },
                        "type": "bar"
                      }
                    ],
                    "barpolar": [
                      {
                        "marker": {
                          "line": {
                            "color": "#E5ECF6",
                            "width": 0.5
                          },
                          "pattern": {
                            "fillmode": "overlay",
                            "size": 10,
                            "solidity": 0.2
                          }
                        },
                        "type": "barpolar"
                      }
                    ],
                    "carpet": [
                      {
                        "aaxis": {
                          "endlinecolor": "#2a3f5f",
                          "gridcolor": "white",
                          "linecolor": "white",
                          "minorgridcolor": "white",
                          "startlinecolor": "#2a3f5f"
                        },
                        "baxis": {
                          "endlinecolor": "#2a3f5f",
                          "gridcolor": "white",
                          "linecolor": "white",
                          "minorgridcolor": "white",
                          "startlinecolor": "#2a3f5f"
                        },
                        "type": "carpet"
                      }
                    ],
                    "choropleth": [
                      {
                        "colorbar": {
                          "outlinewidth": 0,
                          "ticks": ""
                        },
                        "type": "choropleth"
                      }
                    ],
                    "contour": [
                      {
                        "colorbar": {
                          "outlinewidth": 0,
                          "ticks": ""
                        },
                        "colorscale": [
                          [
                            0,
                            "#0d0887"
                          ],
                          [
                            0.1111111111111111,
                            "#46039f"
                          ],
                          [
                            0.2222222222222222,
                            "#7201a8"
                          ],
                          [
                            0.3333333333333333,
                            "#9c179e"
                          ],
                          [
                            0.4444444444444444,
                            "#bd3786"
                          ],
                          [
                            0.5555555555555556,
                            "#d8576b"
                          ],
                          [
                            0.6666666666666666,
                            "#ed7953"
                          ],
                          [
                            0.7777777777777778,
                            "#fb9f3a"
                          ],
                          [
                            0.8888888888888888,
                            "#fdca26"
                          ],
                          [
                            1,
                            "#f0f921"
                          ]
                        ],
                        "type": "contour"
                      }
                    ],
                    "contourcarpet": [
                      {
                        "colorbar": {
                          "outlinewidth": 0,
                          "ticks": ""
                        },
                        "type": "contourcarpet"
                      }
                    ],
                    "heatmap": [
                      {
                        "colorbar": {
                          "outlinewidth": 0,
                          "ticks": ""
                        },
                        "colorscale": [
                          [
                            0,
                            "#0d0887"
                          ],
                          [
                            0.1111111111111111,
                            "#46039f"
                          ],
                          [
                            0.2222222222222222,
                            "#7201a8"
                          ],
                          [
                            0.3333333333333333,
                            "#9c179e"
                          ],
                          [
                            0.4444444444444444,
                            "#bd3786"
                          ],
                          [
                            0.5555555555555556,
                            "#d8576b"
                          ],
                          [
                            0.6666666666666666,
                            "#ed7953"
                          ],
                          [
                            0.7777777777777778,
                            "#fb9f3a"
                          ],
                          [
                            0.8888888888888888,
                            "#fdca26"
                          ],
                          [
                            1,
                            "#f0f921"
                          ]
                        ],
                        "type": "heatmap"
                      }
                    ],
                    "heatmapgl": [
                      {
                        "colorbar": {
                          "outlinewidth": 0,
                          "ticks": ""
                        },
                        "colorscale": [
                          [
                            0,
                            "#0d0887"
                          ],
                          [
                            0.1111111111111111,
                            "#46039f"
                          ],
                          [
                            0.2222222222222222,
                            "#7201a8"
                          ],
                          [
                            0.3333333333333333,
                            "#9c179e"
                          ],
                          [
                            0.4444444444444444,
                            "#bd3786"
                          ],
                          [
                            0.5555555555555556,
                            "#d8576b"
                          ],
                          [
                            0.6666666666666666,
                            "#ed7953"
                          ],
                          [
                            0.7777777777777778,
                            "#fb9f3a"
                          ],
                          [
                            0.8888888888888888,
                            "#fdca26"
                          ],
                          [
                            1,
                            "#f0f921"
                          ]
                        ],
                        "type": "heatmapgl"
                      }
                    ],
                    "histogram": [
                      {
                        "marker": {
                          "pattern": {
                            "fillmode": "overlay",
                            "size": 10,
                            "solidity": 0.2
                          }
                        },
                        "type": "histogram"
                      }
                    ],
                    "histogram2d": [
                      {
                        "colorbar": {
                          "outlinewidth": 0,
                          "ticks": ""
                        },
                        "colorscale": [
                          [
                            0,
                            "#0d0887"
                          ],
                          [
                            0.1111111111111111,
                            "#46039f"
                          ],
                          [
                            0.2222222222222222,
                            "#7201a8"
                          ],
                          [
                            0.3333333333333333,
                            "#9c179e"
                          ],
                          [
                            0.4444444444444444,
                            "#bd3786"
                          ],
                          [
                            0.5555555555555556,
                            "#d8576b"
                          ],
                          [
                            0.6666666666666666,
                            "#ed7953"
                          ],
                          [
                            0.7777777777777778,
                            "#fb9f3a"
                          ],
                          [
                            0.8888888888888888,
                            "#fdca26"
                          ],
                          [
                            1,
                            "#f0f921"
                          ]
                        ],
                        "type": "histogram2d"
                      }
                    ],
                    "histogram2dcontour": [
                      {
                        "colorbar": {
                          "outlinewidth": 0,
                          "ticks": ""
                        },
                        "colorscale": [
                          [
                            0,
                            "#0d0887"
                          ],
                          [
                            0.1111111111111111,
                            "#46039f"
                          ],
                          [
                            0.2222222222222222,
                            "#7201a8"
                          ],
                          [
                            0.3333333333333333,
                            "#9c179e"
                          ],
                          [
                            0.4444444444444444,
                            "#bd3786"
                          ],
                          [
                            0.5555555555555556,
                            "#d8576b"
                          ],
                          [
                            0.6666666666666666,
                            "#ed7953"
                          ],
                          [
                            0.7777777777777778,
                            "#fb9f3a"
                          ],
                          [
                            0.8888888888888888,
                            "#fdca26"
                          ],
                          [
                            1,
                            "#f0f921"
                          ]
                        ],
                        "type": "histogram2dcontour"
                      }
                    ],
                    "mesh3d": [
                      {
                        "colorbar": {
                          "outlinewidth": 0,
                          "ticks": ""
                        },
                        "type": "mesh3d"
                      }
                    ],
                    "parcoords": [
                      {
                        "line": {
                          "colorbar": {
                            "outlinewidth": 0,
                            "ticks": ""
                          }
                        },
                        "type": "parcoords"
                      }
                    ],
                    "pie": [
                      {
                        "automargin": true,
                        "type": "pie"
                      }
                    ],
                    "scatter": [
                      {
                        "marker": {
                          "colorbar": {
                            "outlinewidth": 0,
                            "ticks": ""
                          }
                        },
                        "type": "scatter"
                      }
                    ],
                    "scatter3d": [
                      {
                        "line": {
                          "colorbar": {
                            "outlinewidth": 0,
                            "ticks": ""
                          }
                        },
                        "marker": {
                          "colorbar": {
                            "outlinewidth": 0,
                            "ticks": ""
                          }
                        },
                        "type": "scatter3d"
                      }
                    ],
                    "scattercarpet": [
                      {
                        "marker": {
                          "colorbar": {
                            "outlinewidth": 0,
                            "ticks": ""
                          }
                        },
                        "type": "scattercarpet"
                      }
                    ],
                    "scattergeo": [
                      {
                        "marker": {
                          "colorbar": {
                            "outlinewidth": 0,
                            "ticks": ""
                          }
                        },
                        "type": "scattergeo"
                      }
                    ],
                    "scattergl": [
                      {
                        "marker": {
                          "colorbar": {
                            "outlinewidth": 0,
                            "ticks": ""
                          }
                        },
                        "type": "scattergl"
                      }
                    ],
                    "scattermapbox": [
                      {
                        "marker": {
                          "colorbar": {
                            "outlinewidth": 0,
                            "ticks": ""
                          }
                        },
                        "type": "scattermapbox"
                      }
                    ],
                    "scatterpolar": [
                      {
                        "marker": {
                          "colorbar": {
                            "outlinewidth": 0,
                            "ticks": ""
                          }
                        },
                        "type": "scatterpolar"
                      }
                    ],
                    "scatterpolargl": [
                      {
                        "marker": {
                          "colorbar": {
                            "outlinewidth": 0,
                            "ticks": ""
                          }
                        },
                        "type": "scatterpolargl"
                      }
                    ],
                    "scatterternary": [
                      {
                        "marker": {
                          "colorbar": {
                            "outlinewidth": 0,
                            "ticks": ""
                          }
                        },
                        "type": "scatterternary"
                      }
                    ],
                    "surface": [
                      {
                        "colorbar": {
                          "outlinewidth": 0,
                          "ticks": ""
                        },
                        "colorscale": [
                          [
                            0,
                            "#0d0887"
                          ],
                          [
                            0.1111111111111111,
                            "#46039f"
                          ],
                          [
                            0.2222222222222222,
                            "#7201a8"
                          ],
                          [
                            0.3333333333333333,
                            "#9c179e"
                          ],
                          [
                            0.4444444444444444,
                            "#bd3786"
                          ],
                          [
                            0.5555555555555556,
                            "#d8576b"
                          ],
                          [
                            0.6666666666666666,
                            "#ed7953"
                          ],
                          [
                            0.7777777777777778,
                            "#fb9f3a"
                          ],
                          [
                            0.8888888888888888,
                            "#fdca26"
                          ],
                          [
                            1,
                            "#f0f921"
                          ]
                        ],
                        "type": "surface"
                      }
                    ],
                    "table": [
                      {
                        "cells": {
                          "fill": {
                            "color": "#EBF0F8"
                          },
                          "line": {
                            "color": "white"
                          }
                        },
                        "header": {
                          "fill": {
                            "color": "#C8D4E3"
                          },
                          "line": {
                            "color": "white"
                          }
                        },
                        "type": "table"
                      }
                    ]
                  },
                  "layout": {
                    "annotationdefaults": {
                      "arrowcolor": "#2a3f5f",
                      "arrowhead": 0,
                      "arrowwidth": 1
                    },
                    "autotypenumbers": "strict",
                    "coloraxis": {
                      "colorbar": {
                        "outlinewidth": 0,
                        "ticks": ""
                      }
                    },
                    "colorscale": {
                      "diverging": [
                        [
                          0,
                          "#8e0152"
                        ],
                        [
                          0.1,
                          "#c51b7d"
                        ],
                        [
                          0.2,
                          "#de77ae"
                        ],
                        [
                          0.3,
                          "#f1b6da"
                        ],
                        [
                          0.4,
                          "#fde0ef"
                        ],
                        [
                          0.5,
                          "#f7f7f7"
                        ],
                        [
                          0.6,
                          "#e6f5d0"
                        ],
                        [
                          0.7,
                          "#b8e186"
                        ],
                        [
                          0.8,
                          "#7fbc41"
                        ],
                        [
                          0.9,
                          "#4d9221"
                        ],
                        [
                          1,
                          "#276419"
                        ]
                      ],
                      "sequential": [
                        [
                          0,
                          "#0d0887"
                        ],
                        [
                          0.1111111111111111,
                          "#46039f"
                        ],
                        [
                          0.2222222222222222,
                          "#7201a8"
                        ],
                        [
                          0.3333333333333333,
                          "#9c179e"
                        ],
                        [
                          0.4444444444444444,
                          "#bd3786"
                        ],
                        [
                          0.5555555555555556,
                          "#d8576b"
                        ],
                        [
                          0.6666666666666666,
                          "#ed7953"
                        ],
                        [
                          0.7777777777777778,
                          "#fb9f3a"
                        ],
                        [
                          0.8888888888888888,
                          "#fdca26"
                        ],
                        [
                          1,
                          "#f0f921"
                        ]
                      ],
                      "sequentialminus": [
                        [
                          0,
                          "#0d0887"
                        ],
                        [
                          0.1111111111111111,
                          "#46039f"
                        ],
                        [
                          0.2222222222222222,
                          "#7201a8"
                        ],
                        [
                          0.3333333333333333,
                          "#9c179e"
                        ],
                        [
                          0.4444444444444444,
                          "#bd3786"
                        ],
                        [
                          0.5555555555555556,
                          "#d8576b"
                        ],
                        [
                          0.6666666666666666,
                          "#ed7953"
                        ],
                        [
                          0.7777777777777778,
                          "#fb9f3a"
                        ],
                        [
                          0.8888888888888888,
                          "#fdca26"
                        ],
                        [
                          1,
                          "#f0f921"
                        ]
                      ]
                    },
                    "colorway": [
                      "#636efa",
                      "#EF553B",
                      "#00cc96",
                      "#ab63fa",
                      "#FFA15A",
                      "#19d3f3",
                      "#FF6692",
                      "#B6E880",
                      "#FF97FF",
                      "#FECB52"
                    ],
                    "font": {
                      "color": "#2a3f5f"
                    },
                    "geo": {
                      "bgcolor": "white",
                      "lakecolor": "white",
                      "landcolor": "#E5ECF6",
                      "showlakes": true,
                      "showland": true,
                      "subunitcolor": "white"
                    },
                    "hoverlabel": {
                      "align": "left"
                    },
                    "hovermode": "closest",
                    "mapbox": {
                      "style": "light"
                    },
                    "paper_bgcolor": "white",
                    "plot_bgcolor": "#E5ECF6",
                    "polar": {
                      "angularaxis": {
                        "gridcolor": "white",
                        "linecolor": "white",
                        "ticks": ""
                      },
                      "bgcolor": "#E5ECF6",
                      "radialaxis": {
                        "gridcolor": "white",
                        "linecolor": "white",
                        "ticks": ""
                      }
                    },
                    "scene": {
                      "xaxis": {
                        "backgroundcolor": "#E5ECF6",
                        "gridcolor": "white",
                        "gridwidth": 2,
                        "linecolor": "white",
                        "showbackground": true,
                        "ticks": "",
                        "zerolinecolor": "white"
                      },
                      "yaxis": {
                        "backgroundcolor": "#E5ECF6",
                        "gridcolor": "white",
                        "gridwidth": 2,
                        "linecolor": "white",
                        "showbackground": true,
                        "ticks": "",
                        "zerolinecolor": "white"
                      },
                      "zaxis": {
                        "backgroundcolor": "#E5ECF6",
                        "gridcolor": "white",
                        "gridwidth": 2,
                        "linecolor": "white",
                        "showbackground": true,
                        "ticks": "",
                        "zerolinecolor": "white"
                      }
                    },
                    "shapedefaults": {
                      "line": {
                        "color": "#2a3f5f"
                      }
                    },
                    "ternary": {
                      "aaxis": {
                        "gridcolor": "white",
                        "linecolor": "white",
                        "ticks": ""
                      },
                      "baxis": {
                        "gridcolor": "white",
                        "linecolor": "white",
                        "ticks": ""
                      },
                      "bgcolor": "#E5ECF6",
                      "caxis": {
                        "gridcolor": "white",
                        "linecolor": "white",
                        "ticks": ""
                      }
                    },
                    "title": {
                      "x": 0.05
                    },
                    "xaxis": {
                      "automargin": true,
                      "gridcolor": "white",
                      "linecolor": "white",
                      "ticks": "",
                      "title": {
                        "standoff": 15
                      },
                      "zerolinecolor": "white",
                      "zerolinewidth": 2
                    },
                    "yaxis": {
                      "automargin": true,
                      "gridcolor": "white",
                      "linecolor": "white",
                      "ticks": "",
                      "title": {
                        "standoff": 15
                      },
                      "zerolinecolor": "white",
                      "zerolinewidth": 2
                    }
                  }
                },
                "title": {
                  "text": "Evaluation Metrics for Texture using XGBoost"
                },
                "xaxis": {
                  "title": {
                    "text": "Metrics"
                  }
                },
                "yaxis": {
                  "range": [
                    0,
                    1
                  ],
                  "title": {
                    "text": "Scores"
                  }
                }
              }
            },
            "text/html": [
              "<div>                            <div id=\"fb4d811b-f9ae-4091-8410-9b382c3716a8\" class=\"plotly-graph-div\" style=\"height:525px; width:100%;\"></div>            <script type=\"text/javascript\">                require([\"plotly\"], function(Plotly) {                    window.PLOTLYENV=window.PLOTLYENV || {};                                    if (document.getElementById(\"fb4d811b-f9ae-4091-8410-9b382c3716a8\")) {                    Plotly.newPlot(                        \"fb4d811b-f9ae-4091-8410-9b382c3716a8\",                        [{\"marker\":{\"color\":\"yellow\"},\"text\":[0.7313,0.5621,0.5586,0.5601],\"textposition\":\"auto\",\"x\":[\"Accuracy\",\"Precision\",\"Recall\",\"F1-Score\"],\"y\":[0.7312703583061889,0.5621164339707386,0.5586192987422136,0.5600717088294728],\"type\":\"bar\"}],                        {\"template\":{\"data\":{\"bar\":[{\"error_x\":{\"color\":\"#2a3f5f\"},\"error_y\":{\"color\":\"#2a3f5f\"},\"marker\":{\"line\":{\"color\":\"#E5ECF6\",\"width\":0.5},\"pattern\":{\"fillmode\":\"overlay\",\"size\":10,\"solidity\":0.2}},\"type\":\"bar\"}],\"barpolar\":[{\"marker\":{\"line\":{\"color\":\"#E5ECF6\",\"width\":0.5},\"pattern\":{\"fillmode\":\"overlay\",\"size\":10,\"solidity\":0.2}},\"type\":\"barpolar\"}],\"carpet\":[{\"aaxis\":{\"endlinecolor\":\"#2a3f5f\",\"gridcolor\":\"white\",\"linecolor\":\"white\",\"minorgridcolor\":\"white\",\"startlinecolor\":\"#2a3f5f\"},\"baxis\":{\"endlinecolor\":\"#2a3f5f\",\"gridcolor\":\"white\",\"linecolor\":\"white\",\"minorgridcolor\":\"white\",\"startlinecolor\":\"#2a3f5f\"},\"type\":\"carpet\"}],\"choropleth\":[{\"colorbar\":{\"outlinewidth\":0,\"ticks\":\"\"},\"type\":\"choropleth\"}],\"contour\":[{\"colorbar\":{\"outlinewidth\":0,\"ticks\":\"\"},\"colorscale\":[[0.0,\"#0d0887\"],[0.1111111111111111,\"#46039f\"],[0.2222222222222222,\"#7201a8\"],[0.3333333333333333,\"#9c179e\"],[0.4444444444444444,\"#bd3786\"],[0.5555555555555556,\"#d8576b\"],[0.6666666666666666,\"#ed7953\"],[0.7777777777777778,\"#fb9f3a\"],[0.8888888888888888,\"#fdca26\"],[1.0,\"#f0f921\"]],\"type\":\"contour\"}],\"contourcarpet\":[{\"colorbar\":{\"outlinewidth\":0,\"ticks\":\"\"},\"type\":\"contourcarpet\"}],\"heatmap\":[{\"colorbar\":{\"outlinewidth\":0,\"ticks\":\"\"},\"colorscale\":[[0.0,\"#0d0887\"],[0.1111111111111111,\"#46039f\"],[0.2222222222222222,\"#7201a8\"],[0.3333333333333333,\"#9c179e\"],[0.4444444444444444,\"#bd3786\"],[0.5555555555555556,\"#d8576b\"],[0.6666666666666666,\"#ed7953\"],[0.7777777777777778,\"#fb9f3a\"],[0.8888888888888888,\"#fdca26\"],[1.0,\"#f0f921\"]],\"type\":\"heatmap\"}],\"heatmapgl\":[{\"colorbar\":{\"outlinewidth\":0,\"ticks\":\"\"},\"colorscale\":[[0.0,\"#0d0887\"],[0.1111111111111111,\"#46039f\"],[0.2222222222222222,\"#7201a8\"],[0.3333333333333333,\"#9c179e\"],[0.4444444444444444,\"#bd3786\"],[0.5555555555555556,\"#d8576b\"],[0.6666666666666666,\"#ed7953\"],[0.7777777777777778,\"#fb9f3a\"],[0.8888888888888888,\"#fdca26\"],[1.0,\"#f0f921\"]],\"type\":\"heatmapgl\"}],\"histogram\":[{\"marker\":{\"pattern\":{\"fillmode\":\"overlay\",\"size\":10,\"solidity\":0.2}},\"type\":\"histogram\"}],\"histogram2d\":[{\"colorbar\":{\"outlinewidth\":0,\"ticks\":\"\"},\"colorscale\":[[0.0,\"#0d0887\"],[0.1111111111111111,\"#46039f\"],[0.2222222222222222,\"#7201a8\"],[0.3333333333333333,\"#9c179e\"],[0.4444444444444444,\"#bd3786\"],[0.5555555555555556,\"#d8576b\"],[0.6666666666666666,\"#ed7953\"],[0.7777777777777778,\"#fb9f3a\"],[0.8888888888888888,\"#fdca26\"],[1.0,\"#f0f921\"]],\"type\":\"histogram2d\"}],\"histogram2dcontour\":[{\"colorbar\":{\"outlinewidth\":0,\"ticks\":\"\"},\"colorscale\":[[0.0,\"#0d0887\"],[0.1111111111111111,\"#46039f\"],[0.2222222222222222,\"#7201a8\"],[0.3333333333333333,\"#9c179e\"],[0.4444444444444444,\"#bd3786\"],[0.5555555555555556,\"#d8576b\"],[0.6666666666666666,\"#ed7953\"],[0.7777777777777778,\"#fb9f3a\"],[0.8888888888888888,\"#fdca26\"],[1.0,\"#f0f921\"]],\"type\":\"histogram2dcontour\"}],\"mesh3d\":[{\"colorbar\":{\"outlinewidth\":0,\"ticks\":\"\"},\"type\":\"mesh3d\"}],\"parcoords\":[{\"line\":{\"colorbar\":{\"outlinewidth\":0,\"ticks\":\"\"}},\"type\":\"parcoords\"}],\"pie\":[{\"automargin\":true,\"type\":\"pie\"}],\"scatter\":[{\"marker\":{\"colorbar\":{\"outlinewidth\":0,\"ticks\":\"\"}},\"type\":\"scatter\"}],\"scatter3d\":[{\"line\":{\"colorbar\":{\"outlinewidth\":0,\"ticks\":\"\"}},\"marker\":{\"colorbar\":{\"outlinewidth\":0,\"ticks\":\"\"}},\"type\":\"scatter3d\"}],\"scattercarpet\":[{\"marker\":{\"colorbar\":{\"outlinewidth\":0,\"ticks\":\"\"}},\"type\":\"scattercarpet\"}],\"scattergeo\":[{\"marker\":{\"colorbar\":{\"outlinewidth\":0,\"ticks\":\"\"}},\"type\":\"scattergeo\"}],\"scattergl\":[{\"marker\":{\"colorbar\":{\"outlinewidth\":0,\"ticks\":\"\"}},\"type\":\"scattergl\"}],\"scattermapbox\":[{\"marker\":{\"colorbar\":{\"outlinewidth\":0,\"ticks\":\"\"}},\"type\":\"scattermapbox\"}],\"scatterpolar\":[{\"marker\":{\"colorbar\":{\"outlinewidth\":0,\"ticks\":\"\"}},\"type\":\"scatterpolar\"}],\"scatterpolargl\":[{\"marker\":{\"colorbar\":{\"outlinewidth\":0,\"ticks\":\"\"}},\"type\":\"scatterpolargl\"}],\"scatterternary\":[{\"marker\":{\"colorbar\":{\"outlinewidth\":0,\"ticks\":\"\"}},\"type\":\"scatterternary\"}],\"surface\":[{\"colorbar\":{\"outlinewidth\":0,\"ticks\":\"\"},\"colorscale\":[[0.0,\"#0d0887\"],[0.1111111111111111,\"#46039f\"],[0.2222222222222222,\"#7201a8\"],[0.3333333333333333,\"#9c179e\"],[0.4444444444444444,\"#bd3786\"],[0.5555555555555556,\"#d8576b\"],[0.6666666666666666,\"#ed7953\"],[0.7777777777777778,\"#fb9f3a\"],[0.8888888888888888,\"#fdca26\"],[1.0,\"#f0f921\"]],\"type\":\"surface\"}],\"table\":[{\"cells\":{\"fill\":{\"color\":\"#EBF0F8\"},\"line\":{\"color\":\"white\"}},\"header\":{\"fill\":{\"color\":\"#C8D4E3\"},\"line\":{\"color\":\"white\"}},\"type\":\"table\"}]},\"layout\":{\"annotationdefaults\":{\"arrowcolor\":\"#2a3f5f\",\"arrowhead\":0,\"arrowwidth\":1},\"autotypenumbers\":\"strict\",\"coloraxis\":{\"colorbar\":{\"outlinewidth\":0,\"ticks\":\"\"}},\"colorscale\":{\"diverging\":[[0,\"#8e0152\"],[0.1,\"#c51b7d\"],[0.2,\"#de77ae\"],[0.3,\"#f1b6da\"],[0.4,\"#fde0ef\"],[0.5,\"#f7f7f7\"],[0.6,\"#e6f5d0\"],[0.7,\"#b8e186\"],[0.8,\"#7fbc41\"],[0.9,\"#4d9221\"],[1,\"#276419\"]],\"sequential\":[[0.0,\"#0d0887\"],[0.1111111111111111,\"#46039f\"],[0.2222222222222222,\"#7201a8\"],[0.3333333333333333,\"#9c179e\"],[0.4444444444444444,\"#bd3786\"],[0.5555555555555556,\"#d8576b\"],[0.6666666666666666,\"#ed7953\"],[0.7777777777777778,\"#fb9f3a\"],[0.8888888888888888,\"#fdca26\"],[1.0,\"#f0f921\"]],\"sequentialminus\":[[0.0,\"#0d0887\"],[0.1111111111111111,\"#46039f\"],[0.2222222222222222,\"#7201a8\"],[0.3333333333333333,\"#9c179e\"],[0.4444444444444444,\"#bd3786\"],[0.5555555555555556,\"#d8576b\"],[0.6666666666666666,\"#ed7953\"],[0.7777777777777778,\"#fb9f3a\"],[0.8888888888888888,\"#fdca26\"],[1.0,\"#f0f921\"]]},\"colorway\":[\"#636efa\",\"#EF553B\",\"#00cc96\",\"#ab63fa\",\"#FFA15A\",\"#19d3f3\",\"#FF6692\",\"#B6E880\",\"#FF97FF\",\"#FECB52\"],\"font\":{\"color\":\"#2a3f5f\"},\"geo\":{\"bgcolor\":\"white\",\"lakecolor\":\"white\",\"landcolor\":\"#E5ECF6\",\"showlakes\":true,\"showland\":true,\"subunitcolor\":\"white\"},\"hoverlabel\":{\"align\":\"left\"},\"hovermode\":\"closest\",\"mapbox\":{\"style\":\"light\"},\"paper_bgcolor\":\"white\",\"plot_bgcolor\":\"#E5ECF6\",\"polar\":{\"angularaxis\":{\"gridcolor\":\"white\",\"linecolor\":\"white\",\"ticks\":\"\"},\"bgcolor\":\"#E5ECF6\",\"radialaxis\":{\"gridcolor\":\"white\",\"linecolor\":\"white\",\"ticks\":\"\"}},\"scene\":{\"xaxis\":{\"backgroundcolor\":\"#E5ECF6\",\"gridcolor\":\"white\",\"gridwidth\":2,\"linecolor\":\"white\",\"showbackground\":true,\"ticks\":\"\",\"zerolinecolor\":\"white\"},\"yaxis\":{\"backgroundcolor\":\"#E5ECF6\",\"gridcolor\":\"white\",\"gridwidth\":2,\"linecolor\":\"white\",\"showbackground\":true,\"ticks\":\"\",\"zerolinecolor\":\"white\"},\"zaxis\":{\"backgroundcolor\":\"#E5ECF6\",\"gridcolor\":\"white\",\"gridwidth\":2,\"linecolor\":\"white\",\"showbackground\":true,\"ticks\":\"\",\"zerolinecolor\":\"white\"}},\"shapedefaults\":{\"line\":{\"color\":\"#2a3f5f\"}},\"ternary\":{\"aaxis\":{\"gridcolor\":\"white\",\"linecolor\":\"white\",\"ticks\":\"\"},\"baxis\":{\"gridcolor\":\"white\",\"linecolor\":\"white\",\"ticks\":\"\"},\"bgcolor\":\"#E5ECF6\",\"caxis\":{\"gridcolor\":\"white\",\"linecolor\":\"white\",\"ticks\":\"\"}},\"title\":{\"x\":0.05},\"xaxis\":{\"automargin\":true,\"gridcolor\":\"white\",\"linecolor\":\"white\",\"ticks\":\"\",\"title\":{\"standoff\":15},\"zerolinecolor\":\"white\",\"zerolinewidth\":2},\"yaxis\":{\"automargin\":true,\"gridcolor\":\"white\",\"linecolor\":\"white\",\"ticks\":\"\",\"title\":{\"standoff\":15},\"zerolinecolor\":\"white\",\"zerolinewidth\":2}}},\"yaxis\":{\"title\":{\"text\":\"Scores\"},\"range\":[0,1]},\"title\":{\"text\":\"Evaluation Metrics for Texture using XGBoost\"},\"xaxis\":{\"title\":{\"text\":\"Metrics\"}},\"bargap\":0.2},                        {\"responsive\": true}                    ).then(function(){\n",
              "                            \n",
              "var gd = document.getElementById('fb4d811b-f9ae-4091-8410-9b382c3716a8');\n",
              "var x = new MutationObserver(function (mutations, observer) {{\n",
              "        var display = window.getComputedStyle(gd).display;\n",
              "        if (!display || display === 'none') {{\n",
              "            console.log([gd, 'removed!']);\n",
              "            Plotly.purge(gd);\n",
              "            observer.disconnect();\n",
              "        }}\n",
              "}});\n",
              "\n",
              "// Listen for the removal of the full notebook cells\n",
              "var notebookContainer = gd.closest('#notebook-container');\n",
              "if (notebookContainer) {{\n",
              "    x.observe(notebookContainer, {childList: true});\n",
              "}}\n",
              "\n",
              "// Listen for the clearing of the current output cell\n",
              "var outputEl = gd.closest('.output');\n",
              "if (outputEl) {{\n",
              "    x.observe(outputEl, {childList: true});\n",
              "}}\n",
              "\n",
              "                        })                };                });            </script>        </div>"
            ]
          },
          "metadata": {},
          "output_type": "display_data"
        }
      ],
      "source": [
        "import plotly.graph_objects as go\n",
        "import pandas as pd\n",
        "from sklearn.metrics import accuracy_score, precision_score, recall_score, f1_score\n",
        "\n",
        "# Calculate the metrics\n",
        "accuracy1 = accuracy_score(y_test_texture, texture_predictions)\n",
        "print(f\"RF Accuracy: {accuracy1:.4f}\")\n",
        "precision1 = precision_score(y_test_texture, texture_predictions, average='macro')\n",
        "print(f\"RF Precision: {precision1:.4f}\")\n",
        "recall1 = recall_score(y_test_texture, texture_predictions, average='macro')\n",
        "print(f\"RF Recall: {recall1:.4f}\")\n",
        "f11 = f1_score(y_test_texture, texture_predictions, average='macro')\n",
        "print(f\"RF F1 Score: {f11:.4f}\")\n",
        "\n",
        "# Create a DataFrame to hold the metrics\n",
        "metrics = {\n",
        "    'Metric': ['Accuracy', 'Precision', 'Recall', 'F1-Score'],\n",
        "    'Score': [accuracy1, precision1, recall1, f11]\n",
        "}\n",
        "metrics_df1 = pd.DataFrame(metrics)\n",
        "\n",
        "# Create a bar graph using Plotly\n",
        "fig = go.Figure()\n",
        "fig.add_trace(go.Bar(\n",
        "    x=metrics_df1['Metric'],\n",
        "    y=metrics_df1['Score'],\n",
        "    text=metrics_df1['Score'].round(4),\n",
        "    textposition='auto',\n",
        "    marker=dict(color='yellow'),\n",
        "))\n",
        "\n",
        "# Customize layout\n",
        "fig.update_layout(\n",
        "    title='Evaluation Metrics for Texture using XGBoost',\n",
        "    xaxis_title='Metrics',\n",
        "    yaxis_title='Scores',\n",
        "    yaxis_range=[0, 1],  # Set y-axis limits from 0 to 1\n",
        "    bargap=0.2)\n",
        "fig.show()\n"
      ]
    },
    {
      "cell_type": "code",
      "execution_count": null,
      "metadata": {
        "scrolled": false,
        "id": "4_NPIG_vXj_Y",
        "outputId": "9c17569e-f718-4c49-9af1-36a2a36ecfeb"
      },
      "outputs": [
        {
          "name": "stdout",
          "output_type": "stream",
          "text": [
            "MSE: 1.6184384154962795e-09\n"
          ]
        },
        {
          "data": {
            "image/png": "[encoded data removed]",
            "text/plain": [
              "<Figure size 432x288 with 1 Axes>"
            ]
          },
          "metadata": {
            "needs_background": "light"
          },
          "output_type": "display_data"
        }
      ],
      "source": [
        "from sklearn.metrics import mean_squared_error\n",
        "# Assuming y_true are the actual prices and y_pred are the predicted prices\n",
        "mse = mean_squared_error(y_test_price,price_predictions)\n",
        "print(f'MSE: {mse}')\n",
        "\n",
        "plt.scatter(y_test_price,price_predictions, alpha=0.5)\n",
        "plt.xlabel(\"Actual Prices\")\n",
        "plt.ylabel(\"Predicted Prices\")\n",
        "plt.title(\"Actual vs Predicted Prices\")\n",
        "plt.show()"
      ]
    },
    {
      "cell_type": "code",
      "execution_count": null,
      "metadata": {
        "id": "CxtzoTJuXj_Y",
        "outputId": "db608ddd-91f4-423d-c7ef-a8c8cd9fa8a1"
      },
      "outputs": [
        {
          "data": {
            "image/png": "[encoded data removed]",
            "text/plain": [
              "<Figure size 576x432 with 2 Axes>"
            ]
          },
          "metadata": {
            "needs_background": "light"
          },
          "output_type": "display_data"
        },
        {
          "data": {
            "image/png": "[encoded data removed]",
            "text/plain": [
              "<Figure size 576x432 with 2 Axes>"
            ]
          },
          "metadata": {
            "needs_background": "light"
          },
          "output_type": "display_data"
        },
        {
          "data": {
            "image/png": "[encoded data removed]",
            "text/plain": [
              "<Figure size 576x432 with 1 Axes>"
            ]
          },
          "metadata": {
            "needs_background": "light"
          },
          "output_type": "display_data"
        }
      ],
      "source": [
        "# Plotting Confusion Matrix\n",
        "from sklearn.metrics import confusion_matrix\n",
        "import seaborn as sns\n",
        "\n",
        "#Viscosity\n",
        "conf_matrix = confusion_matrix(y_test_viscosity, viscosity_predictions)\n",
        "plt.figure(figsize=(8, 6))\n",
        "sns.heatmap(conf_matrix, annot=True, fmt='d', cmap='Blues')\n",
        "plt.xlabel('Predicted Labels')\n",
        "plt.ylabel('True Labels')\n",
        "plt.title('Confusion Matrix for Viscosity Prediction using XGB')\n",
        "plt.show()\n",
        "\n",
        "#Sweetness\n",
        "conf_matrix = confusion_matrix(y_test_sweetness, sweetness_predictions)\n",
        "plt.figure(figsize=(8, 6))\n",
        "sns.heatmap(conf_matrix, annot=True, fmt='d', cmap='Reds')\n",
        "plt.xlabel('Predicted Labels')\n",
        "plt.ylabel('True Labels')\n",
        "plt.title('Confusion Matrix for Sweetness Prediction using XGB')\n",
        "plt.show()\n",
        "\n",
        "#Texture\n",
        "conf_matrix = confusion_matrix(y_test_texture, texture_predictions)\n",
        "plt.figure(figsize=(8, 6))\n",
        "sns.heatmap(conf_matrix, annot=True, fmt='d', cmap='Greens', cbar=False)\n",
        "plt.xlabel('Predicted Labels')\n",
        "plt.ylabel('True Labels')\n",
        "plt.title('Confusion Matrix for Texture Prediction using XGB')\n",
        "plt.show()"
      ]
    },
    {
      "cell_type": "code",
      "execution_count": null,
      "metadata": {
        "id": "Z8zKmI8LXj_Y",
        "outputId": "ea310503-408f-40c3-c2d6-92a03ad32e48"
      },
      "outputs": [
        {
          "data": {
            "text/html": [
              "<div>\n",
              "<style scoped>\n",
              "    .dataframe tbody tr th:only-of-type {\n",
              "        vertical-align: middle;\n",
              "    }\n",
              "\n",
              "    .dataframe tbody tr th {\n",
              "        vertical-align: top;\n",
              "    }\n",
              "\n",
              "    .dataframe thead th {\n",
              "        text-align: right;\n",
              "    }\n",
              "</style>\n",
              "<table border=\"1\" class=\"dataframe\">\n",
              "  <thead>\n",
              "    <tr style=\"text-align: right;\">\n",
              "      <th></th>\n",
              "      <th>Location</th>\n",
              "      <th>Flavor</th>\n",
              "      <th>Predicted_Sweetness</th>\n",
              "      <th>Predicted_Viscosity</th>\n",
              "      <th>Predicted_Price</th>\n",
              "      <th>Predicted_Texture</th>\n",
              "    </tr>\n",
              "  </thead>\n",
              "  <tbody>\n",
              "    <tr>\n",
              "      <th>0</th>\n",
              "      <td>Indore</td>\n",
              "      <td>Chocolate</td>\n",
              "      <td>6</td>\n",
              "      <td>6</td>\n",
              "      <td>225.000015</td>\n",
              "      <td>6</td>\n",
              "    </tr>\n",
              "    <tr>\n",
              "      <th>1</th>\n",
              "      <td>Pune</td>\n",
              "      <td>Coffee</td>\n",
              "      <td>6</td>\n",
              "      <td>6</td>\n",
              "      <td>225.000015</td>\n",
              "      <td>6</td>\n",
              "    </tr>\n",
              "    <tr>\n",
              "      <th>2</th>\n",
              "      <td>Kochi</td>\n",
              "      <td>Berries</td>\n",
              "      <td>4</td>\n",
              "      <td>4</td>\n",
              "      <td>374.999939</td>\n",
              "      <td>4</td>\n",
              "    </tr>\n",
              "    <tr>\n",
              "      <th>3</th>\n",
              "      <td>Surat</td>\n",
              "      <td>Fruity</td>\n",
              "      <td>6</td>\n",
              "      <td>6</td>\n",
              "      <td>225.000015</td>\n",
              "      <td>6</td>\n",
              "    </tr>\n",
              "    <tr>\n",
              "      <th>4</th>\n",
              "      <td>Chandigarh</td>\n",
              "      <td>Mango</td>\n",
              "      <td>6</td>\n",
              "      <td>6</td>\n",
              "      <td>175.000061</td>\n",
              "      <td>6</td>\n",
              "    </tr>\n",
              "  </tbody>\n",
              "</table>\n",
              "</div>"
            ],
            "text/plain": [
              "     Location     Flavor  Predicted_Sweetness  Predicted_Viscosity  \\\n",
              "0      Indore  Chocolate                    6                    6   \n",
              "1        Pune     Coffee                    6                    6   \n",
              "2       Kochi    Berries                    4                    4   \n",
              "3       Surat     Fruity                    6                    6   \n",
              "4  Chandigarh      Mango                    6                    6   \n",
              "\n",
              "   Predicted_Price  Predicted_Texture  \n",
              "0       225.000015                  6  \n",
              "1       225.000015                  6  \n",
              "2       374.999939                  4  \n",
              "3       225.000015                  6  \n",
              "4       175.000061                  6  "
            ]
          },
          "execution_count": 50,
          "metadata": {},
          "output_type": "execute_result"
        }
      ],
      "source": [
        "df_predictions = pd.DataFrame({\n",
        "    'Location': new_data['Location'],\n",
        "    'Flavor': new_data['Flavor'],\n",
        "    'Predicted_Sweetness': new_sweetness_predictions,\n",
        "    'Predicted_Viscosity': new_viscosity_predictions,\n",
        "    'Predicted_Price': new_price_predictions,\n",
        "    'Predicted_Texture': new_texture_predictions\n",
        "})\n",
        "\n",
        "df_predictions"
      ]
    },
    {
      "cell_type": "code",
      "execution_count": null,
      "metadata": {
        "id": "WV7zR2MIXj_Y",
        "outputId": "c59081b7-07bf-4d44-9201-5cadb1d75ae7"
      },
      "outputs": [
        {
          "name": "stdout",
          "output_type": "stream",
          "text": [
            "Random Forest Classifier (Sweetness) Training Time: 0.33 seconds\n",
            "XGBoost Classifier (Sweetness) Training Time: 0.26 seconds\n",
            "Random Forest Classifier (Texture) Training Time: 0.43 seconds\n",
            "XGBoost Classifier (Texture) Training Time: 0.40 seconds\n",
            "Random Forest Classifier (Visocsity) Training Time: 0.41 seconds\n",
            "XGBoost Classifier (Viscosity) Training Time: 0.34 seconds\n",
            "Random Forest Regressor (Price) Training Time: 0.27 seconds\n",
            "XGBoost Regressor (Price) Training Time: 0.09 seconds\n"
          ]
        }
      ],
      "source": [
        "import time\n",
        "# Define the Random Forest models\n",
        "rf_classifier = RandomForestClassifier(random_state=42)\n",
        "rf_regressor = RandomForestRegressor(random_state=42)\n",
        "\n",
        "xgb_classifier = xgb.XGBClassifier(random_state=42)\n",
        "xgb_regressor = xgb.XGBRegressor(random_state=42)\n",
        "\n",
        "# Measure Random Forest Classifier (Sweetness) training time\n",
        "start_time = time.time()\n",
        "rf_classifier.fit(X_train_sweetness, y_train_sweetness)\n",
        "end_time = time.time()\n",
        "training_time = end_time - start_time\n",
        "print(f\"Random Forest Classifier (Sweetness) Training Time: {training_time:.2f} seconds\")\n",
        "\n",
        "# Measure XGBoost Classifier (Sweetness) training time\n",
        "start_time = time.time()\n",
        "xgb_classifier.fit(X_train_sweetness, y_train_sweetness)\n",
        "end_time = time.time()\n",
        "training_time = end_time - start_time\n",
        "print(f\"XGBoost Classifier (Sweetness) Training Time: {training_time:.2f} seconds\")\n",
        "\n",
        "# Measure Random Forest Classifier (Texture) training time\n",
        "start_time = time.time()\n",
        "rf_classifier.fit(X_train_texture, y_train_texture)\n",
        "end_time = time.time()\n",
        "training_time = end_time - start_time\n",
        "print(f\"Random Forest Classifier (Texture) Training Time: {training_time:.2f} seconds\")\n",
        "\n",
        "# Measure XGBoost Classifier (Texture) training time\n",
        "start_time = time.time()\n",
        "xgb_classifier.fit(X_train_texture, y_train_texture)\n",
        "end_time = time.time()\n",
        "training_time = end_time - start_time\n",
        "print(f\"XGBoost Classifier (Texture) Training Time: {training_time:.2f} seconds\")\n",
        "\n",
        "# Measure Random Forest Classifier (Viscosity) training time\n",
        "start_time = time.time()\n",
        "rf_classifier.fit(X_train_viscosity, y_train_viscosity)\n",
        "end_time = time.time()\n",
        "training_time = end_time - start_time\n",
        "print(f\"Random Forest Classifier (Visocsity) Training Time: {training_time:.2f} seconds\")\n",
        "\n",
        "# Measure XGBoost Classifier (Viscosity) training time\n",
        "start_time = time.time()\n",
        "xgb_classifier.fit(X_train_viscosity, y_train_viscosity)\n",
        "end_time = time.time()\n",
        "training_time = end_time - start_time\n",
        "print(f\"XGBoost Classifier (Viscosity) Training Time: {training_time:.2f} seconds\")\n",
        "\n",
        "# Measure Random Forest Regressor (Price) training time\n",
        "start_time = time.time()\n",
        "rf_regressor.fit(X_train_price, y_train_price)\n",
        "end_time = time.time()\n",
        "training_time = end_time - start_time\n",
        "print(f\"Random Forest Regressor (Price) Training Time: {training_time:.2f} seconds\")\n",
        "\n",
        "# Measure XGBoost Regressor (Price) training time\n",
        "start_time = time.time()\n",
        "xgb_regressor.fit(X_train_price, y_train_price)\n",
        "end_time = time.time()\n",
        "training_time = end_time - start_time\n",
        "print(f\"XGBoost Regressor (Price) Training Time: {training_time:.2f} seconds\")\n",
        "\n",
        "# You can do this for other models like Viscosity and Texture as well.\n"
      ]
    }
  ],
  "metadata": {
    "colab": {
      "provenance": []
    },
    "kernelspec": {
      "display_name": "Python 3 (ipykernel)",
      "language": "python",
      "name": "python3"
    },
    "language_info": {
      "codemirror_mode": {
        "name": "ipython",
        "version": 3
      },
      "file_extension": ".py",
      "mimetype": "text/x-python",
      "name": "python",
      "nbconvert_exporter": "python",
      "pygments_lexer": "ipython3",
      "version": "3.9.12"
    }
  },
  "nbformat": 4,
  "nbformat_minor": 0
}